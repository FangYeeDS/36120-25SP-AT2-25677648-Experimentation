{
 "cells": [
  {
   "cell_type": "markdown",
   "metadata": {
    "id": "uQ6wc2HE0pke"
   },
   "source": [
    "# **Experiment Notebook**\n",
    "\n"
   ]
  },
  {
   "cell_type": "code",
   "execution_count": 2,
   "metadata": {
    "id": "qNOA146K2c6f"
   },
   "outputs": [],
   "source": [
    "# Do not modify this code\n",
    "!pip install -q utstd\n",
    "\n",
    "from utstd.ipyrenders import *"
   ]
  },
  {
   "cell_type": "code",
   "execution_count": 3,
   "metadata": {
    "id": "6FneOmBfka9G"
   },
   "outputs": [],
   "source": [
    "# Do not modify this code\n",
    "import warnings\n",
    "warnings.simplefilter(action='ignore')"
   ]
  },
  {
   "cell_type": "markdown",
   "metadata": {
    "id": "mXFKfa2tp1ch"
   },
   "source": [
    "## 0. Import Packages"
   ]
  },
  {
   "cell_type": "code",
   "execution_count": 4,
   "metadata": {},
   "outputs": [],
   "source": [
    "import pandas as pd\n",
    "import seaborn as sns\n",
    "import matplotlib.pyplot as plt\n",
    "import numpy as np\n",
    "import altair as alt"
   ]
  },
  {
   "cell_type": "markdown",
   "metadata": {
    "id": "tQgxLRrvjiJb"
   },
   "source": [
    "---\n",
    "## A. Project Description\n"
   ]
  },
  {
   "cell_type": "code",
   "execution_count": 5,
   "metadata": {
    "id": "Je1EzzfFD5hj"
   },
   "outputs": [],
   "source": [
    "student_name = \"Fang Yee Tan\"\n",
    "student_id = \"25677648\""
   ]
  },
  {
   "cell_type": "code",
   "execution_count": 6,
   "metadata": {
    "id": "pdKiYvFWD5my"
   },
   "outputs": [
    {
     "data": {
      "text/html": [
       "<p style=\"color:grey\">student_name</p><h1 font-size: 3em>Fang Yee Tan</h1>"
      ],
      "text/plain": [
       "<IPython.core.display.HTML object>"
      ]
     },
     "metadata": {},
     "output_type": "display_data"
    }
   ],
   "source": [
    "# Do not modify this code\n",
    "print_tile(size=\"h1\", key='student_name', value=student_name)"
   ]
  },
  {
   "cell_type": "code",
   "execution_count": 7,
   "metadata": {
    "id": "9KTEbRjqD5o_"
   },
   "outputs": [
    {
     "data": {
      "text/html": [
       "<p style=\"color:grey\">student_id</p><h1 font-size: 3em>25677648</h1>"
      ],
      "text/plain": [
       "<IPython.core.display.HTML object>"
      ]
     },
     "metadata": {},
     "output_type": "display_data"
    }
   ],
   "source": [
    "# Do not modify this code\n",
    "print_tile(size=\"h1\", key='student_id', value=student_id)"
   ]
  },
  {
   "cell_type": "markdown",
   "metadata": {},
   "source": [
    "---\n",
    "## C. Data Understanding"
   ]
  },
  {
   "cell_type": "markdown",
   "metadata": {
    "id": "sGMWhKSbUl63"
   },
   "source": [
    "### C.1   Load Datasets\n"
   ]
  },
  {
   "cell_type": "code",
   "execution_count": 8,
   "metadata": {
    "id": "NKgOzSn-w0eq"
   },
   "outputs": [],
   "source": [
    "from pathlib import Path\n",
    "file_path = Path.home() / \"Desktop\" / \"36120\" / \"Assignment2\"\n",
    "\n",
    "X_train = pd.read_csv(file_path / \"X_train.csv\")\n",
    "X_val = pd.read_csv(file_path / \"X_val.csv\")\n",
    "X_test = pd.read_csv(file_path / \"X_test.csv\")\n",
    "y_train = pd.read_csv(file_path / \"y_train.csv\").squeeze()\n",
    "y_val = pd.read_csv(file_path / \"y_val.csv\").squeeze()\n",
    "y_test = pd.read_csv(file_path / \"y_test.csv\").squeeze()"
   ]
  },
  {
   "cell_type": "markdown",
   "metadata": {},
   "source": [
    "---\n",
    "## D. Feature Selection"
   ]
  },
  {
   "cell_type": "markdown",
   "metadata": {},
   "source": [
    "### D.1 Approach \"Feature Importance\""
   ]
  },
  {
   "cell_type": "code",
   "execution_count": 9,
   "metadata": {},
   "outputs": [
    {
     "data": {
      "text/plain": [
       "Index(['relative_humidity_2m_mean', 'cloud_cover_mean', 'cloud_cover_max',\n",
       "       'cloud_cover_min', 'wind_gusts_10m_mean', 'wind_speed_10m_mean',\n",
       "       'dew_point_2m_mean', 'wet_bulb_temperature_2m_mean',\n",
       "       'pressure_msl_mean', 'vapour_pressure_deficit_max',\n",
       "       'shortwave_radiation_sum', 'precipitation_hours', 'temperature_2m_mean',\n",
       "       'wind_gusts_10m_max', 'wind_speed_10m_max',\n",
       "       'et0_fao_evapotranspiration', 'temperature_range', 'pressure_range',\n",
       "       'wind_direction_sin', 'wind_direction_cos', 'rain_occurred',\n",
       "       'rain_occurred_lag_1', 'rain_occurred_lag_2', 'rain_occurred_lag_3',\n",
       "       'weather_code_0.0', 'weather_code_1.0', 'weather_code_2.0',\n",
       "       'weather_code_3.0', 'weather_code_51.0', 'weather_code_53.0',\n",
       "       'weather_code_55.0', 'weather_code_61.0', 'weather_code_63.0',\n",
       "       'weather_code_65.0', 'month_1', 'month_2', 'month_3', 'month_4',\n",
       "       'month_5', 'month_6', 'month_7', 'month_8', 'month_9', 'month_10',\n",
       "       'month_11', 'month_12'],\n",
       "      dtype='object')"
      ]
     },
     "execution_count": 9,
     "metadata": {},
     "output_type": "execute_result"
    }
   ],
   "source": [
    "X_train.columns"
   ]
  },
  {
   "cell_type": "code",
   "execution_count": 10,
   "metadata": {},
   "outputs": [],
   "source": [
    "selected_features = ['relative_humidity_2m_mean', 'cloud_cover_mean', 'cloud_cover_max',\n",
    "       'cloud_cover_min', 'wind_gusts_10m_mean', 'wind_speed_10m_mean',\n",
    "       'dew_point_2m_mean', 'wet_bulb_temperature_2m_mean',\n",
    "       'pressure_msl_mean', 'vapour_pressure_deficit_max',\n",
    "       'shortwave_radiation_sum', 'precipitation_hours', 'temperature_2m_mean',\n",
    "       'wind_gusts_10m_max', 'wind_speed_10m_max',\n",
    "       'et0_fao_evapotranspiration', 'temperature_range', 'pressure_range',\n",
    "       'wind_direction_sin', 'wind_direction_cos', 'rain_occurred',\n",
    "       'rain_occurred_lag_1', 'rain_occurred_lag_2', 'rain_occurred_lag_3']\n",
    "\n",
    "X_train = X_train[selected_features]\n",
    "X_val = X_val[selected_features]\n",
    "X_test = X_test[selected_features]"
   ]
  },
  {
   "cell_type": "code",
   "execution_count": 15,
   "metadata": {},
   "outputs": [],
   "source": [
    "feature_selection_1_insights = \"\"\"From the previous experiments, month and weather code features show little predictive value and are therefore removed to simplify the model and reduce noise.\"\"\" "
   ]
  },
  {
   "cell_type": "code",
   "execution_count": 16,
   "metadata": {},
   "outputs": [
    {
     "data": {
      "text/html": [
       "<p style=\"color:grey\">feature_selection_1_insights</p><h3 font-size: 3em>From the previous experiments, month and weather code features show little predictive value and are therefore removed to simplify the model and reduce noise.</h3>"
      ],
      "text/plain": [
       "<IPython.core.display.HTML object>"
      ]
     },
     "metadata": {},
     "output_type": "display_data"
    }
   ],
   "source": [
    "# Do not modify this code\n",
    "print_tile(size=\"h3\", key='feature_selection_1_insights', value=feature_selection_1_insights)"
   ]
  },
  {
   "cell_type": "markdown",
   "metadata": {
    "id": "RtLjr7niHpNZ"
   },
   "source": [
    "---\n",
    "## I. Selection of Performance Metrics\n",
    "\n",
    "> Provide some explanations on why you believe the performance metrics you chose is appropriate\n"
   ]
  },
  {
   "cell_type": "code",
   "execution_count": 17,
   "metadata": {
    "id": "KV_pxLAiHxKW"
   },
   "outputs": [],
   "source": [
    "from sklearn.metrics import accuracy_score, f1_score, precision_score, recall_score, confusion_matrix, classification_report, ConfusionMatrixDisplay"
   ]
  },
  {
   "cell_type": "code",
   "execution_count": 18,
   "metadata": {},
   "outputs": [],
   "source": [
    "# Critical Success Index (CSI)\n",
    "def critical_success_index(y_true, y_pred):\n",
    "    tn, fp, fn, tp = confusion_matrix(y_true, y_pred).ravel()\n",
    "    csi = tp / (tp + fp + fn)\n",
    "    return csi"
   ]
  },
  {
   "cell_type": "code",
   "execution_count": 19,
   "metadata": {
    "id": "kC949nluHR5s"
   },
   "outputs": [],
   "source": [
    "performance_metrics_explanations = \"\"\"Accuracy measures how well the model correctly predicts both rain and no-rain cases, providing an overall view of performance. However, due to the dataset’s imbalance, precision, recall, and F1-score offer more meaningful insights. In this project, the F1-score is the primary metric because it balances precision and recall, which is essential when both false positives and false negatives have significant impacts. The confusion matrix further breaks down prediction results into true positives, true negatives, false positives, and false negatives, giving a clearer picture of the model’s strengths and weaknesses. Additionally, the Critical Success Index (CSI) is introduced to assess forecast skill specifically in meteorological contexts. Together, these metrics provide a comprehensive evaluation of model effectiveness.\"\"\""
   ]
  },
  {
   "cell_type": "code",
   "execution_count": 20,
   "metadata": {
    "id": "wABRzU2sHR8j"
   },
   "outputs": [
    {
     "data": {
      "text/html": [
       "<p style=\"color:grey\">performance_metrics_explanations</p><h3 font-size: 3em>Accuracy measures how well the model correctly predicts both rain and no-rain cases, providing an overall view of performance. However, due to the dataset’s imbalance, precision, recall, and F1-score offer more meaningful insights. In this project, the F1-score is the primary metric because it balances precision and recall, which is essential when both false positives and false negatives have significant impacts. The confusion matrix further breaks down prediction results into true positives, true negatives, false positives, and false negatives, giving a clearer picture of the model’s strengths and weaknesses. Additionally, the Critical Success Index (CSI) is introduced to assess forecast skill specifically in meteorological contexts. Together, these metrics provide a comprehensive evaluation of model effectiveness.</h3>"
      ],
      "text/plain": [
       "<IPython.core.display.HTML object>"
      ]
     },
     "metadata": {},
     "output_type": "display_data"
    }
   ],
   "source": [
    "# Do not modify this code\n",
    "print_tile(size=\"h3\", key='performance_metrics_explanations', value=performance_metrics_explanations)"
   ]
  },
  {
   "cell_type": "markdown",
   "metadata": {
    "id": "ZpxjwSDYIJy6"
   },
   "source": [
    "## J. Train Machine Learning Model"
   ]
  },
  {
   "cell_type": "markdown",
   "metadata": {},
   "source": [
    "Null hypothesis: The performance of this Logistic Regression model is not significantly better than that of the baseline Logistic Regression model.\n",
    "\n",
    "Alternative hypothesis: This Logistic Regression model demonstrates statistically significant improvement in performance compared to the baseline Logistic Regression model."
   ]
  },
  {
   "cell_type": "markdown",
   "metadata": {
    "id": "_XBy7-9PIVcU"
   },
   "source": [
    "### J.1 Import Algorithm"
   ]
  },
  {
   "cell_type": "code",
   "execution_count": 21,
   "metadata": {
    "id": "diUB08xMIOuS"
   },
   "outputs": [],
   "source": [
    "from sklearn.linear_model import LogisticRegression"
   ]
  },
  {
   "cell_type": "code",
   "execution_count": 22,
   "metadata": {
    "id": "GIWOpv6CGUTE"
   },
   "outputs": [],
   "source": [
    "algorithm_selection_explanations = \"\"\"Logistic Regression serves as an effective baseline model for predicting rainfall occurrence due to its simplicity and interpretability. Additionally, it trains quickly and requires minimal computational resources, making it ideal for initial experimentation and a strong baseline. Establishing this baseline helps set a performance standard that more complex models must exceed, ensuring that further model development delivers meaningful improvements.\"\"\""
   ]
  },
  {
   "cell_type": "code",
   "execution_count": 23,
   "metadata": {
    "id": "N4yogQ9aGUVe"
   },
   "outputs": [
    {
     "data": {
      "text/html": [
       "<p style=\"color:grey\">algorithm_selection_explanations</p><h3 font-size: 3em>Logistic Regression serves as an effective baseline model for predicting rainfall occurrence due to its simplicity and interpretability. Additionally, it trains quickly and requires minimal computational resources, making it ideal for initial experimentation and a strong baseline. Establishing this baseline helps set a performance standard that more complex models must exceed, ensuring that further model development delivers meaningful improvements.</h3>"
      ],
      "text/plain": [
       "<IPython.core.display.HTML object>"
      ]
     },
     "metadata": {},
     "output_type": "display_data"
    }
   ],
   "source": [
    "# Do not modify this code\n",
    "print_tile(size=\"h3\", key='algorithm_selection_explanations', value=algorithm_selection_explanations)"
   ]
  },
  {
   "cell_type": "markdown",
   "metadata": {
    "id": "0ks_MmM2mCfm"
   },
   "source": [
    "### J.2 Set Hyperparameters"
   ]
  },
  {
   "cell_type": "code",
   "execution_count": 38,
   "metadata": {},
   "outputs": [],
   "source": [
    "from sklearn.model_selection import GridSearchCV, TimeSeriesSplit"
   ]
  },
  {
   "cell_type": "code",
   "execution_count": 39,
   "metadata": {},
   "outputs": [],
   "source": [
    "# Define parameter grid\n",
    "param_grid = {\n",
    "    'C': [0.0001, 0.001, 0.01, 0.1, 1.0, 10.0],\n",
    "    'penalty': ['l1', 'l2'],\n",
    "    'solver': ['liblinear'],  # Required for l1 penalty\n",
    "    'class_weight': [\n",
    "        'balanced',                   \n",
    "        {0: 1.0, 1: 2.0},            \n",
    "        {0: 1.0, 1: 2.38},            \n",
    "    ]\n",
    "}"
   ]
  },
  {
   "cell_type": "code",
   "execution_count": 40,
   "metadata": {},
   "outputs": [
    {
     "name": "stdout",
     "output_type": "stream",
     "text": [
      "\n",
      "Best parameters: {'C': 0.001, 'class_weight': 'balanced', 'penalty': 'l2', 'solver': 'liblinear'}\n",
      "Best cross-validation F1 score: 0.4465\n"
     ]
    }
   ],
   "source": [
    "# Time series cross validation\n",
    "tscv = TimeSeriesSplit(n_splits=5)\n",
    "\n",
    "# Grid search\n",
    "grid_search = GridSearchCV(\n",
    "    estimator=LogisticRegression(random_state=34, max_iter=2000),\n",
    "    param_grid=param_grid,\n",
    "    cv=tscv,\n",
    "    scoring='f1', \n",
    "    n_jobs=-1,     \n",
    ")\n",
    "\n",
    "# Fit grid search\n",
    "grid_search.fit(X_train, y_train)\n",
    "\n",
    "# Best parameters\n",
    "print(f\"\\nBest parameters: {grid_search.best_params_}\")\n",
    "print(f\"Best cross-validation F1 score: {grid_search.best_score_:.4f}\")"
   ]
  },
  {
   "cell_type": "code",
   "execution_count": 27,
   "metadata": {
    "id": "crG_Bm72HfL-"
   },
   "outputs": [],
   "source": [
    "hyperparameters_selection_explanations = \"\"\"The hyperparameters C, penalty and class_weight are tuned to optimise the logistic regression model for an imbalanced dataset. The parameter C controls the strength of regularisation, where smaller values impose stronger regularisation to reduce overfitting, and larger values allow the model to capture more complex patterns. There are two types of penalty: L1 and L2. L1 regularisation shrinks less important feature coefficients to zero, effectively performing feature selection, while L2 regularisation reduces coefficients without eliminating them. Given the dataset’s imbalance, adjusting class_weight helps assign greater importance to the minority class, improving the model’s ability to predict rare rain events.\"\"\""
   ]
  },
  {
   "cell_type": "code",
   "execution_count": 28,
   "metadata": {
    "id": "k0uqlRCVHfQI"
   },
   "outputs": [
    {
     "data": {
      "text/html": [
       "<p style=\"color:grey\">hyperparameters_selection_explanations</p><h3 font-size: 3em>The hyperparameters C, penalty and class_weight are tuned to optimise the logistic regression model for an imbalanced dataset. The parameter C controls the strength of regularisation, where smaller values impose stronger regularisation to reduce overfitting, and larger values allow the model to capture more complex patterns. There are two types of penalty: L1 and L2. L1 regularisation shrinks less important feature coefficients to zero, effectively performing feature selection, while L2 regularisation reduces coefficients without eliminating them. Given the dataset’s imbalance, adjusting class_weight helps assign greater importance to the minority class, improving the model’s ability to predict rare rain events.</h3>"
      ],
      "text/plain": [
       "<IPython.core.display.HTML object>"
      ]
     },
     "metadata": {},
     "output_type": "display_data"
    }
   ],
   "source": [
    "# Do not modify this code\n",
    "print_tile(size=\"h3\", key='hyperparameters_selection_explanations', value=hyperparameters_selection_explanations)"
   ]
  },
  {
   "cell_type": "markdown",
   "metadata": {
    "id": "VDjdjQjFmkLe"
   },
   "source": [
    "### J.3 Fit Model"
   ]
  },
  {
   "cell_type": "code",
   "execution_count": 41,
   "metadata": {},
   "outputs": [],
   "source": [
    "best_model = grid_search.best_estimator_"
   ]
  },
  {
   "cell_type": "markdown",
   "metadata": {
    "id": "q43YtqpdeniY"
   },
   "source": [
    "### J.4 Model Technical Performance\n",
    "\n",
    "> Provide some explanations on model performance\n"
   ]
  },
  {
   "cell_type": "code",
   "execution_count": 42,
   "metadata": {
    "id": "x1Q3oxoNhez5"
   },
   "outputs": [],
   "source": [
    "# Predictions on validation dataset\n",
    "y_val_pred = best_model.predict(X_val)"
   ]
  },
  {
   "cell_type": "code",
   "execution_count": 43,
   "metadata": {},
   "outputs": [
    {
     "name": "stdout",
     "output_type": "stream",
     "text": [
      "Accuracy: 0.61\n",
      "Precision: 0.43\n",
      "Recall: 0.69\n",
      "F1 Score: 0.53\n",
      "Critical Success Index (CSI): 0.36\n",
      "\n",
      "Confusion Matrix:\n",
      "[[140 107]\n",
      " [ 37  81]]\n"
     ]
    }
   ],
   "source": [
    "accuracy = accuracy_score(y_val, y_val_pred)\n",
    "precision = precision_score(y_val, y_val_pred)\n",
    "recall = recall_score(y_val, y_val_pred)\n",
    "f1 = f1_score(y_val, y_val_pred)\n",
    "csi_score = critical_success_index(y_val, y_val_pred)\n",
    "\n",
    "print(f\"Accuracy: {accuracy:.2f}\")\n",
    "print(f\"Precision: {precision:.2f}\")\n",
    "print(f\"Recall: {recall:.2f}\")\n",
    "print(f\"F1 Score: {f1:.2f}\")\n",
    "print(f\"Critical Success Index (CSI): {csi_score:.2f}\")\n",
    "\n",
    "# Confusion Matrix\n",
    "print(\"\\nConfusion Matrix:\")\n",
    "print(confusion_matrix(y_val, y_val_pred))"
   ]
  },
  {
   "cell_type": "code",
   "execution_count": 44,
   "metadata": {},
   "outputs": [],
   "source": [
    "# Predictions on testing dataset\n",
    "y_test_pred = best_model.predict(X_test)"
   ]
  },
  {
   "cell_type": "code",
   "execution_count": 45,
   "metadata": {},
   "outputs": [
    {
     "name": "stdout",
     "output_type": "stream",
     "text": [
      "Accuracy: 0.52\n",
      "Precision: 0.40\n",
      "Recall: 0.67\n",
      "F1 Score: 0.50\n",
      "Critical Success Index (CSI): 0.33\n",
      "\n",
      "Confusion Matrix:\n",
      "[[ 98 131]\n",
      " [ 42  87]]\n"
     ]
    }
   ],
   "source": [
    "accuracy = accuracy_score(y_test, y_test_pred)\n",
    "precision = precision_score(y_test, y_test_pred)\n",
    "recall = recall_score(y_test, y_test_pred)\n",
    "f1 = f1_score(y_test, y_test_pred)\n",
    "csi_score = critical_success_index(y_test, y_test_pred)\n",
    "\n",
    "print(f\"Accuracy: {accuracy:.2f}\")\n",
    "print(f\"Precision: {precision:.2f}\")\n",
    "print(f\"Recall: {recall:.2f}\")\n",
    "print(f\"F1 Score: {f1:.2f}\")\n",
    "print(f\"Critical Success Index (CSI): {csi_score:.2f}\")\n",
    "\n",
    "# Confusion Matrix\n",
    "print(\"\\nConfusion Matrix:\")\n",
    "print(confusion_matrix(y_test, y_test_pred))"
   ]
  },
  {
   "cell_type": "code",
   "execution_count": 46,
   "metadata": {},
   "outputs": [
    {
     "data": {
      "image/png": "[encoded data removed]",
      "text/plain": [
       "<Figure size 640x480 with 2 Axes>"
      ]
     },
     "metadata": {},
     "output_type": "display_data"
    }
   ],
   "source": [
    "# Confusion Matrix\n",
    "conf_matrix = confusion_matrix(y_test, y_test_pred)\n",
    "\n",
    "plt.figure()\n",
    "sns.heatmap(conf_matrix, annot = True, cmap = 'Blues', fmt = 'd')\n",
    "\n",
    "plt.title('Logistic Regression Confusion Matrix')\n",
    "plt.xlabel('Predicted')\n",
    "plt.ylabel('Actual')\n",
    "\n",
    "# Show the plot\n",
    "plt.tight_layout()\n",
    "plt.show()"
   ]
  },
  {
   "cell_type": "code",
   "execution_count": 49,
   "metadata": {
    "id": "_YbQldshHk_3"
   },
   "outputs": [],
   "source": [
    "model_performance_explanations = \"\"\"With logistic regression, the issue of overfitting appears to be minor. The accuracy decreases from 0.61 on the validation dataset to 0.52 on the test dataset, which can be attributed to the class imbalance present in the dataset. However, the F1 scores remain relatively stable at 0.53 for validation and 0.50 for testing, indicating consistent performance across datasets. The model achieves a recall of 0.67 and a precision of 0.40. The relatively high recall suggests that the model is effective in identifying most rain events, which is important for the business objective. However, this comes at the expense of lower precision, as a significant number of non-rain days are incorrectly classified as rain. This trade-off reflects the common challenge of balancing false positives and false negatives, particularly when dealing with imbalanced datasets.\"\"\""
   ]
  },
  {
   "cell_type": "code",
   "execution_count": 50,
   "metadata": {
    "id": "-MkLnLzVHlDO"
   },
   "outputs": [
    {
     "data": {
      "text/html": [
       "<p style=\"color:grey\">model_performance_explanations</p><h3 font-size: 3em>With logistic regression, the issue of overfitting appears to be minor. The accuracy decreases from 0.61 on the validation dataset to 0.52 on the test dataset, which can be attributed to the class imbalance present in the dataset. However, the F1 scores remain relatively stable at 0.53 for validation and 0.50 for testing, indicating consistent performance across datasets. The model achieves a recall of 0.67 and a precision of 0.40. The relatively high recall suggests that the model is effective in identifying most rain events, which is important for the business objective. However, this comes at the expense of lower precision, as a significant number of non-rain days are incorrectly classified as rain. This trade-off reflects the common challenge of balancing false positives and false negatives, particularly when dealing with imbalanced datasets.</h3>"
      ],
      "text/plain": [
       "<IPython.core.display.HTML object>"
      ]
     },
     "metadata": {},
     "output_type": "display_data"
    }
   ],
   "source": [
    "# Do not modify this code\n",
    "print_tile(size=\"h3\", key='model_performance_explanations', value=model_performance_explanations)"
   ]
  },
  {
   "cell_type": "markdown",
   "metadata": {
    "id": "W1HgZMPcmtu7"
   },
   "source": [
    "### J.5 Business Impact from Current Model Performance\n",
    "\n",
    "> Provide some analysis on the model impacts from the business point of view\n"
   ]
  },
  {
   "cell_type": "code",
   "execution_count": 51,
   "metadata": {
    "id": "7bcCHiP-Hozj"
   },
   "outputs": [],
   "source": [
    "business_impacts_explanations = \"\"\"The model demonstrates strong recall but relatively low precision, indicating that it successfully identifies most rain events but also predicts rain when it does not occur. While this may lead to unnecessary precautions and increased operational costs due to false positives, the consequences of false negatives, failing to predict actual rain, are more severe. These can include safety hazards, service disruptions, or financial losses. Therefore, prioritising recall is justified and aligns with the overarching business objective of ensuring adequate preparedness for adverse weather conditions.\"\"\""
   ]
  },
  {
   "cell_type": "code",
   "execution_count": 52,
   "metadata": {
    "id": "RQ3lJGAnHo3O"
   },
   "outputs": [
    {
     "data": {
      "text/html": [
       "<p style=\"color:grey\">business_impacts_explanations</p><h3 font-size: 3em>The model demonstrates strong recall but relatively low precision, indicating that it successfully identifies most rain events but also predicts rain when it does not occur. While this may lead to unnecessary precautions and increased operational costs due to false positives, the consequences of false negatives, failing to predict actual rain, are more severe. These can include safety hazards, service disruptions, or financial losses. Therefore, prioritising recall is justified and aligns with the overarching business objective of ensuring adequate preparedness for adverse weather conditions.</h3>"
      ],
      "text/plain": [
       "<IPython.core.display.HTML object>"
      ]
     },
     "metadata": {},
     "output_type": "display_data"
    }
   ],
   "source": [
    "# Do not modify this code\n",
    "print_tile(size=\"h3\", key='business_impacts_explanations', value=business_impacts_explanations)"
   ]
  },
  {
   "cell_type": "markdown",
   "metadata": {
    "id": "mp1Ie9o8nDl1"
   },
   "source": [
    "## H. Project Outcomes"
   ]
  },
  {
   "cell_type": "code",
   "execution_count": 53,
   "metadata": {
    "id": "AvFNheh1HtPb"
   },
   "outputs": [],
   "source": [
    "experiment_outcome = \"\"\"Null Hypothesis Rejected\"\"\""
   ]
  },
  {
   "cell_type": "code",
   "execution_count": 54,
   "metadata": {
    "id": "23bFWNIVHtTU"
   },
   "outputs": [
    {
     "data": {
      "text/html": [
       "<p style=\"color:grey\">experiment_outcomes_explanations</p><h2 font-size: 3em>Null Hypothesis Rejected</h2>"
      ],
      "text/plain": [
       "<IPython.core.display.HTML object>"
      ]
     },
     "metadata": {},
     "output_type": "display_data"
    }
   ],
   "source": [
    "# Do not modify this code\n",
    "print_tile(size=\"h2\", key='experiment_outcomes_explanations', value=experiment_outcome)"
   ]
  },
  {
   "cell_type": "code",
   "execution_count": 56,
   "metadata": {
    "id": "iFF8wsz6HteA"
   },
   "outputs": [],
   "source": [
    "experiment_results_explanations = \"\"\"The null hypothesis is rejected, as this model outperforms the baseline logistic regression model, although the improvement is minimal. While recall and F1 score are better than those achieved by the Random Forest and XGBoost models, the low precision remains a significant concern, as it can lead to inconvenience and unnecessary costs for stakeholders. Given the limited performance gains and persistent issues such as high false positive rates and some false negatives, this project is considered a dead end in its current form. To achieve meaningful improvement, more advanced weather-related models should be explored, alongside domain-specific feature engineering informed by relevant research. Due to its inability to reliably balance precision and recall, this model is not suitable for production deployment, as it poses the risk of both missed rain events and frequent false alarms, which could have serious consequences for stakeholders.\n",
    "\"\"\""
   ]
  },
  {
   "cell_type": "code",
   "execution_count": 57,
   "metadata": {
    "id": "QpWzEhX2HthW"
   },
   "outputs": [
    {
     "data": {
      "text/html": [
       "<p style=\"color:grey\">experiment_results_explanations</p><h2 font-size: 3em>The null hypothesis is rejected, as this model outperforms the baseline logistic regression model, although the improvement is minimal. While recall and F1 score are better than those achieved by the Random Forest and XGBoost models, the low precision remains a significant concern, as it can lead to inconvenience and unnecessary costs for stakeholders. Given the limited performance gains and persistent issues such as high false positive rates and some false negatives, this project is considered a dead end in its current form. To achieve meaningful improvement, more advanced weather-related models should be explored, alongside domain-specific feature engineering informed by relevant research. Due to its inability to reliably balance precision and recall, this model is not suitable for production deployment, as it poses the risk of both missed rain events and frequent false alarms, which could have serious consequences for stakeholders.\n",
       "</h2>"
      ],
      "text/plain": [
       "<IPython.core.display.HTML object>"
      ]
     },
     "metadata": {},
     "output_type": "display_data"
    }
   ],
   "source": [
    "# Do not modify this code\n",
    "print_tile(size=\"h2\", key='experiment_results_explanations', value=experiment_results_explanations)"
   ]
  },
  {
   "cell_type": "code",
   "execution_count": null,
   "metadata": {},
   "outputs": [],
   "source": []
  }
 ],
 "metadata": {
  "colab": {
   "provenance": [
    {
     "file_id": "13MHsQlFmfLuY1rWjvW73WSaDUaRPENW4",
     "timestamp": 1680399055727
    }
   ],
   "toc_visible": true
  },
  "kernelspec": {
   "display_name": "Python 3 (ipykernel)",
   "language": "python",
   "name": "python3"
  },
  "language_info": {
   "codemirror_mode": {
    "name": "ipython",
    "version": 3
   },
   "file_extension": ".py",
   "mimetype": "text/x-python",
   "name": "python",
   "nbconvert_exporter": "python",
   "pygments_lexer": "ipython3",
   "version": "3.11.4"
  }
 },
 "nbformat": 4,
 "nbformat_minor": 4
}
