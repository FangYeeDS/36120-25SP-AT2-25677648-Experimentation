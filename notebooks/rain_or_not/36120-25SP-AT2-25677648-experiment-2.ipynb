{
 "cells": [
  {
   "cell_type": "markdown",
   "metadata": {
    "id": "uQ6wc2HE0pke"
   },
   "source": [
    "# **Experiment Notebook**\n",
    "\n"
   ]
  },
  {
   "cell_type": "code",
   "execution_count": 81,
   "metadata": {
    "id": "qNOA146K2c6f"
   },
   "outputs": [],
   "source": [
    "# Do not modify this code\n",
    "!pip install -q utstd\n",
    "\n",
    "from utstd.ipyrenders import *"
   ]
  },
  {
   "cell_type": "code",
   "execution_count": 82,
   "metadata": {
    "id": "6FneOmBfka9G"
   },
   "outputs": [],
   "source": [
    "# Do not modify this code\n",
    "import warnings\n",
    "warnings.simplefilter(action='ignore')"
   ]
  },
  {
   "cell_type": "markdown",
   "metadata": {
    "id": "mXFKfa2tp1ch"
   },
   "source": [
    "## 0. Import Packages"
   ]
  },
  {
   "cell_type": "code",
   "execution_count": 83,
   "metadata": {
    "id": "GBEAwdncnlAx"
   },
   "outputs": [],
   "source": [
    "import pandas as pd\n",
    "import seaborn as sns\n",
    "import matplotlib.pyplot as plt\n",
    "import numpy as np\n",
    "import altair as alt"
   ]
  },
  {
   "cell_type": "markdown",
   "metadata": {
    "id": "tQgxLRrvjiJb"
   },
   "source": [
    "---\n",
    "## A. Project Description\n"
   ]
  },
  {
   "cell_type": "code",
   "execution_count": 84,
   "metadata": {
    "id": "Je1EzzfFD5hj"
   },
   "outputs": [],
   "source": [
    "student_name = \"Fang Yee Tan\"\n",
    "student_id = \"25677648\""
   ]
  },
  {
   "cell_type": "code",
   "execution_count": 85,
   "metadata": {
    "id": "pdKiYvFWD5my"
   },
   "outputs": [
    {
     "data": {
      "text/html": [
       "<p style=\"color:grey\">student_name</p><h1 font-size: 3em>Fang Yee Tan</h1>"
      ],
      "text/plain": [
       "<IPython.core.display.HTML object>"
      ]
     },
     "metadata": {},
     "output_type": "display_data"
    }
   ],
   "source": [
    "# Do not modify this code\n",
    "print_tile(size=\"h1\", key='student_name', value=student_name)"
   ]
  },
  {
   "cell_type": "code",
   "execution_count": 86,
   "metadata": {
    "id": "9KTEbRjqD5o_"
   },
   "outputs": [
    {
     "data": {
      "text/html": [
       "<p style=\"color:grey\">student_id</p><h1 font-size: 3em>25677648</h1>"
      ],
      "text/plain": [
       "<IPython.core.display.HTML object>"
      ]
     },
     "metadata": {},
     "output_type": "display_data"
    }
   ],
   "source": [
    "# Do not modify this code\n",
    "print_tile(size=\"h1\", key='student_id', value=student_id)"
   ]
  },
  {
   "cell_type": "markdown",
   "metadata": {
    "id": "P0zsEPshwy1K"
   },
   "source": [
    "---\n",
    "## C. Data Understanding"
   ]
  },
  {
   "cell_type": "markdown",
   "metadata": {
    "id": "sGMWhKSbUl63"
   },
   "source": [
    "### C.1   Load Datasets\n"
   ]
  },
  {
   "cell_type": "code",
   "execution_count": 87,
   "metadata": {
    "id": "NKgOzSn-w0eq"
   },
   "outputs": [],
   "source": [
    "from pathlib import Path\n",
    "file_path = Path.home() / \"Desktop\" / \"36120\" / \"Assignment2\"\n",
    "\n",
    "X_train = pd.read_csv(file_path / \"X_train.csv\")\n",
    "X_val = pd.read_csv(file_path / \"X_val.csv\")\n",
    "X_test = pd.read_csv(file_path / \"X_test.csv\")\n",
    "y_train = pd.read_csv(file_path / \"y_train.csv\").squeeze()\n",
    "y_val = pd.read_csv(file_path / \"y_val.csv\").squeeze()\n",
    "y_test = pd.read_csv(file_path / \"y_test.csv\").squeeze()"
   ]
  },
  {
   "cell_type": "markdown",
   "metadata": {
    "id": "RtLjr7niHpNZ"
   },
   "source": [
    "---\n",
    "## I. Selection of Performance Metrics\n",
    "\n",
    "> Provide some explanations on why you believe the performance metrics you chose is appropriate\n"
   ]
  },
  {
   "cell_type": "code",
   "execution_count": 88,
   "metadata": {
    "id": "KV_pxLAiHxKW"
   },
   "outputs": [],
   "source": [
    "from sklearn.metrics import accuracy_score, f1_score, precision_score, recall_score, confusion_matrix, classification_report"
   ]
  },
  {
   "cell_type": "code",
   "execution_count": 89,
   "metadata": {},
   "outputs": [],
   "source": [
    "# Critical Success Index (CSI)\n",
    "def critical_success_index(y_true, y_pred):\n",
    "    tn, fp, fn, tp = confusion_matrix(y_true, y_pred).ravel()\n",
    "    csi = tp / (tp + fp + fn)\n",
    "    return csi"
   ]
  },
  {
   "cell_type": "code",
   "execution_count": 90,
   "metadata": {
    "id": "kC949nluHR5s"
   },
   "outputs": [],
   "source": [
    "performance_metrics_explanations = \"\"\"Accuracy measures how well the model correctly predicts both rain and no-rain cases, providing an overall view of performance. However, due to the dataset’s imbalance, precision, recall, and F1-score offer more meaningful insights. In this project, the F1-score is the primary metric because it balances precision and recall, which is essential when both false positives and false negatives have significant impacts. The confusion matrix further breaks down prediction results into true positives, true negatives, false positives, and false negatives, giving a clearer picture of the model’s strengths and weaknesses. Additionally, the Critical Success Index (CSI) is introduced to assess forecast skill specifically in meteorological contexts. Together, these metrics provide a comprehensive evaluation of model effectiveness.\"\"\""
   ]
  },
  {
   "cell_type": "code",
   "execution_count": 91,
   "metadata": {
    "id": "wABRzU2sHR8j"
   },
   "outputs": [
    {
     "data": {
      "text/html": [
       "<p style=\"color:grey\">performance_metrics_explanations</p><h3 font-size: 3em>Accuracy measures how well the model correctly predicts both rain and no-rain cases, providing an overall view of performance. However, due to the dataset’s imbalance, precision, recall, and F1-score offer more meaningful insights. In this project, the F1-score is the primary metric because it balances precision and recall, which is essential when both false positives and false negatives have significant impacts. The confusion matrix further breaks down prediction results into true positives, true negatives, false positives, and false negatives, giving a clearer picture of the model’s strengths and weaknesses. Additionally, the Critical Success Index (CSI) is introduced to assess forecast skill specifically in meteorological contexts. Together, these metrics provide a comprehensive evaluation of model effectiveness.</h3>"
      ],
      "text/plain": [
       "<IPython.core.display.HTML object>"
      ]
     },
     "metadata": {},
     "output_type": "display_data"
    }
   ],
   "source": [
    "# Do not modify this code\n",
    "print_tile(size=\"h3\", key='performance_metrics_explanations', value=performance_metrics_explanations)"
   ]
  },
  {
   "cell_type": "markdown",
   "metadata": {
    "id": "ZpxjwSDYIJy6"
   },
   "source": [
    "## J. Train Machine Learning Model"
   ]
  },
  {
   "cell_type": "markdown",
   "metadata": {},
   "source": [
    "Null hypothesis: The performance of the Random Forest model is not significantly better than that of the baseline Logistic Regression model.\n",
    "\n",
    "Alternative hypothesis: The Random Forest model demonstrates statistically significant improvement in performance compared to the baseline Logistic Regression model."
   ]
  },
  {
   "cell_type": "markdown",
   "metadata": {
    "id": "_XBy7-9PIVcU"
   },
   "source": [
    "### J.1 Import Algorithm\n",
    "\n",
    "> Provide some explanations on why you believe this algorithm is a good fit\n"
   ]
  },
  {
   "cell_type": "code",
   "execution_count": 92,
   "metadata": {
    "id": "diUB08xMIOuS"
   },
   "outputs": [],
   "source": [
    "from sklearn.ensemble import RandomForestClassifier"
   ]
  },
  {
   "cell_type": "code",
   "execution_count": 93,
   "metadata": {
    "id": "GIWOpv6CGUTE"
   },
   "outputs": [],
   "source": [
    "algorithm_selection_explanations = \"\"\"Random Forest is selected for this task because of its capability to model complex and non-linear relationships between the input features and the target variable, which logistic regression may not capture effectively. It functions by constructing an ensemble of decision trees, each trained on a random subset of the data, and then aggregates their predictions to improve overall accuracy and reduce model variance. This ensemble approach contributes to increased robustness and improved generalisation to unseen data, helping to minimise overfitting. In addition, Random Forest provides interpretable feature importance scores, which offer valuable insights into the relative contribution of each variable in predicting rainfall.\"\"\""
   ]
  },
  {
   "cell_type": "code",
   "execution_count": 94,
   "metadata": {
    "id": "N4yogQ9aGUVe"
   },
   "outputs": [
    {
     "data": {
      "text/html": [
       "<p style=\"color:grey\">algorithm_selection_explanations</p><h3 font-size: 3em>Random Forest is selected for this task because of its capability to model complex and non-linear relationships between the input features and the target variable, which logistic regression may not capture effectively. It functions by constructing an ensemble of decision trees, each trained on a random subset of the data, and then aggregates their predictions to improve overall accuracy and reduce model variance. This ensemble approach contributes to increased robustness and improved generalisation to unseen data, helping to minimise overfitting. In addition, Random Forest provides interpretable feature importance scores, which offer valuable insights into the relative contribution of each variable in predicting rainfall.</h3>"
      ],
      "text/plain": [
       "<IPython.core.display.HTML object>"
      ]
     },
     "metadata": {},
     "output_type": "display_data"
    }
   ],
   "source": [
    "# Do not modify this code\n",
    "print_tile(size=\"h3\", key='algorithm_selection_explanations', value=algorithm_selection_explanations)"
   ]
  },
  {
   "cell_type": "markdown",
   "metadata": {
    "id": "0ks_MmM2mCfm"
   },
   "source": [
    "### J.2 Set Hyperparameters\n",
    "\n",
    "> Provide some explanations on why you believe this algorithm is a good fit\n"
   ]
  },
  {
   "cell_type": "code",
   "execution_count": 95,
   "metadata": {},
   "outputs": [],
   "source": [
    "from sklearn.model_selection import GridSearchCV, TimeSeriesSplit"
   ]
  },
  {
   "cell_type": "code",
   "execution_count": 96,
   "metadata": {
    "id": "NUswpGVLmDXl"
   },
   "outputs": [],
   "source": [
    "# Set up the parameter grid\n",
    "param_grid = {\n",
    "    'class_weight': ['balanced'],\n",
    "    'n_estimators': [200],\n",
    "    'max_depth': [2],\n",
    "    'min_samples_split': [2],\n",
    "    'min_samples_leaf': [4],\n",
    "    'max_features': ['log2']\n",
    "}"
   ]
  },
  {
   "cell_type": "code",
   "execution_count": 97,
   "metadata": {},
   "outputs": [
    {
     "name": "stdout",
     "output_type": "stream",
     "text": [
      "\n",
      "Best parameters: {'class_weight': 'balanced', 'max_depth': 2, 'max_features': 'log2', 'min_samples_leaf': 4, 'min_samples_split': 2, 'n_estimators': 200}\n",
      "Best cross-validation F1 score: 0.4227\n"
     ]
    }
   ],
   "source": [
    "# Time series cross validation\n",
    "tscv = TimeSeriesSplit(n_splits=5)\n",
    "\n",
    "# Grid search\n",
    "grid_search = GridSearchCV(\n",
    "    estimator=RandomForestClassifier(random_state=34),\n",
    "    param_grid=param_grid,\n",
    "    cv=tscv,\n",
    "    scoring='f1', \n",
    "    n_jobs=-1,     \n",
    ")\n",
    "\n",
    "# Fit grid search\n",
    "grid_search.fit(X_train, y_train)\n",
    "\n",
    "# Best parameters\n",
    "print(f\"\\nBest parameters: {grid_search.best_params_}\")\n",
    "print(f\"Best cross-validation F1 score: {grid_search.best_score_:.4f}\")"
   ]
  },
  {
   "cell_type": "code",
   "execution_count": 98,
   "metadata": {
    "id": "crG_Bm72HfL-"
   },
   "outputs": [],
   "source": [
    "hyperparameters_selection_explanations = \"\"\"Class weight is calibrated to address class imbalance by assigning greater importance to minority classes, thereby enhancing the model’s ability to detect infrequent events. The number of estimators defines the size of the ensemble, striking a balance between predictive performance and computational efficiency. Maximum depth constrains the complexity of individual trees, serving as a regularisation mechanism to mitigate overfitting. The minimum samples required for node splitting and leaf formation regulate tree growth, promoting model smoothness and improving generalisation to unseen data. Lastly, the maximum features parameter introduces randomness in feature selection at each split, reducing correlation between trees and increasing the robustness of the ensemble.\"\"\""
   ]
  },
  {
   "cell_type": "code",
   "execution_count": 99,
   "metadata": {
    "id": "k0uqlRCVHfQI"
   },
   "outputs": [
    {
     "data": {
      "text/html": [
       "<p style=\"color:grey\">hyperparameters_selection_explanations</p><h3 font-size: 3em>Class weight is calibrated to address class imbalance by assigning greater importance to minority classes, thereby enhancing the model’s ability to detect infrequent events. The number of estimators defines the size of the ensemble, striking a balance between predictive performance and computational efficiency. Maximum depth constrains the complexity of individual trees, serving as a regularisation mechanism to mitigate overfitting. The minimum samples required for node splitting and leaf formation regulate tree growth, promoting model smoothness and improving generalisation to unseen data. Lastly, the maximum features parameter introduces randomness in feature selection at each split, reducing correlation between trees and increasing the robustness of the ensemble.</h3>"
      ],
      "text/plain": [
       "<IPython.core.display.HTML object>"
      ]
     },
     "metadata": {},
     "output_type": "display_data"
    }
   ],
   "source": [
    "# Do not modify this code\n",
    "print_tile(size=\"h3\", key='hyperparameters_selection_explanations', value=hyperparameters_selection_explanations)"
   ]
  },
  {
   "cell_type": "markdown",
   "metadata": {
    "id": "VDjdjQjFmkLe"
   },
   "source": [
    "### J.3 Fit Model"
   ]
  },
  {
   "cell_type": "code",
   "execution_count": 113,
   "metadata": {
    "id": "0Ub3Nrdgmm2N"
   },
   "outputs": [],
   "source": [
    "best_rf = grid_search.best_estimator_"
   ]
  },
  {
   "cell_type": "markdown",
   "metadata": {
    "id": "q43YtqpdeniY"
   },
   "source": [
    "### J.4 Model Technical Performance\n",
    "\n",
    "> Provide some explanations on model performance\n"
   ]
  },
  {
   "cell_type": "code",
   "execution_count": 114,
   "metadata": {
    "id": "x1Q3oxoNhez5"
   },
   "outputs": [],
   "source": [
    "# Predictions on validation dataset\n",
    "y_val_pred = best_rf.predict(X_val)"
   ]
  },
  {
   "cell_type": "code",
   "execution_count": 115,
   "metadata": {},
   "outputs": [
    {
     "name": "stdout",
     "output_type": "stream",
     "text": [
      "Accuracy: 0.62\n",
      "Precision: 0.44\n",
      "Recall: 0.59\n",
      "F1 Score: 0.51\n",
      "Critical Success Index (CSI): 0.34\n",
      "\n",
      "Confusion Matrix:\n",
      "[[158  89]\n",
      " [ 48  70]]\n"
     ]
    }
   ],
   "source": [
    "accuracy = accuracy_score(y_val, y_val_pred)\n",
    "precision = precision_score(y_val, y_val_pred)\n",
    "recall = recall_score(y_val, y_val_pred)\n",
    "f1 = f1_score(y_val, y_val_pred)\n",
    "csi_score = critical_success_index(y_val, y_val_pred)\n",
    "\n",
    "print(f\"Accuracy: {accuracy:.2f}\")\n",
    "print(f\"Precision: {precision:.2f}\")\n",
    "print(f\"Recall: {recall:.2f}\")\n",
    "print(f\"F1 Score: {f1:.2f}\")\n",
    "print(f\"Critical Success Index (CSI): {csi_score:.2f}\")\n",
    "\n",
    "# Confusion Matrix\n",
    "print(\"\\nConfusion Matrix:\")\n",
    "print(confusion_matrix(y_val, y_val_pred))"
   ]
  },
  {
   "cell_type": "code",
   "execution_count": 116,
   "metadata": {},
   "outputs": [],
   "source": [
    "# Predictions on testing dataset\n",
    "y_test_pred = best_rf.predict(X_test)"
   ]
  },
  {
   "cell_type": "code",
   "execution_count": 117,
   "metadata": {},
   "outputs": [
    {
     "name": "stdout",
     "output_type": "stream",
     "text": [
      "Accuracy: 0.55\n",
      "Precision: 0.40\n",
      "Recall: 0.50\n",
      "F1 Score: 0.44\n",
      "Critical Success Index (CSI): 0.29\n",
      "\n",
      "Confusion Matrix:\n",
      "[[134  95]\n",
      " [ 65  64]]\n"
     ]
    }
   ],
   "source": [
    "accuracy = accuracy_score(y_test, y_test_pred)\n",
    "precision = precision_score(y_test, y_test_pred)\n",
    "recall = recall_score(y_test, y_test_pred)\n",
    "f1 = f1_score(y_test, y_test_pred)\n",
    "csi_score = critical_success_index(y_test, y_test_pred)\n",
    "\n",
    "print(f\"Accuracy: {accuracy:.2f}\")\n",
    "print(f\"Precision: {precision:.2f}\")\n",
    "print(f\"Recall: {recall:.2f}\")\n",
    "print(f\"F1 Score: {f1:.2f}\")\n",
    "print(f\"Critical Success Index (CSI): {csi_score:.2f}\")\n",
    "\n",
    "# Confusion Matrix\n",
    "print(\"\\nConfusion Matrix:\")\n",
    "print(confusion_matrix(y_test, y_test_pred))"
   ]
  },
  {
   "cell_type": "code",
   "execution_count": 118,
   "metadata": {},
   "outputs": [
    {
     "data": {
      "text/plain": [
       "array([0.06187462, 0.03390073, 0.02357514, 0.02011551, 0.03554064,\n",
       "       0.0188766 , 0.12897881, 0.10574731, 0.02543281, 0.0074486 ,\n",
       "       0.03256362, 0.01478148, 0.12896021, 0.03237444, 0.07982254,\n",
       "       0.02227146, 0.00848298, 0.03136408, 0.04824626, 0.02262904,\n",
       "       0.00412612, 0.01185693, 0.00193208, 0.00590561, 0.        ,\n",
       "       0.00062986, 0.        , 0.0038691 , 0.        , 0.        ,\n",
       "       0.        , 0.00134871, 0.00086206, 0.        , 0.00312824,\n",
       "       0.02936173, 0.01765249, 0.00469556, 0.00029035, 0.00030792,\n",
       "       0.01550505, 0.01115932, 0.00042903, 0.00283627, 0.        ,\n",
       "       0.00111666])"
      ]
     },
     "execution_count": 118,
     "metadata": {},
     "output_type": "execute_result"
    }
   ],
   "source": [
    "# Feature importance\n",
    "best_rf.feature_importances_"
   ]
  },
  {
   "cell_type": "code",
   "execution_count": 125,
   "metadata": {},
   "outputs": [
    {
     "data": {
      "text/html": [
       "<div>\n",
       "<style scoped>\n",
       "    .dataframe tbody tr th:only-of-type {\n",
       "        vertical-align: middle;\n",
       "    }\n",
       "\n",
       "    .dataframe tbody tr th {\n",
       "        vertical-align: top;\n",
       "    }\n",
       "\n",
       "    .dataframe thead th {\n",
       "        text-align: right;\n",
       "    }\n",
       "</style>\n",
       "<table border=\"1\" class=\"dataframe\">\n",
       "  <thead>\n",
       "    <tr style=\"text-align: right;\">\n",
       "      <th></th>\n",
       "      <th>feature</th>\n",
       "      <th>feature_importance</th>\n",
       "    </tr>\n",
       "  </thead>\n",
       "  <tbody>\n",
       "    <tr>\n",
       "      <th>0</th>\n",
       "      <td>relative_humidity_2m_mean</td>\n",
       "      <td>0.061875</td>\n",
       "    </tr>\n",
       "    <tr>\n",
       "      <th>1</th>\n",
       "      <td>cloud_cover_mean</td>\n",
       "      <td>0.033901</td>\n",
       "    </tr>\n",
       "    <tr>\n",
       "      <th>2</th>\n",
       "      <td>cloud_cover_max</td>\n",
       "      <td>0.023575</td>\n",
       "    </tr>\n",
       "    <tr>\n",
       "      <th>3</th>\n",
       "      <td>cloud_cover_min</td>\n",
       "      <td>0.020116</td>\n",
       "    </tr>\n",
       "    <tr>\n",
       "      <th>4</th>\n",
       "      <td>wind_gusts_10m_mean</td>\n",
       "      <td>0.035541</td>\n",
       "    </tr>\n",
       "    <tr>\n",
       "      <th>5</th>\n",
       "      <td>wind_speed_10m_mean</td>\n",
       "      <td>0.018877</td>\n",
       "    </tr>\n",
       "    <tr>\n",
       "      <th>6</th>\n",
       "      <td>dew_point_2m_mean</td>\n",
       "      <td>0.128979</td>\n",
       "    </tr>\n",
       "    <tr>\n",
       "      <th>7</th>\n",
       "      <td>wet_bulb_temperature_2m_mean</td>\n",
       "      <td>0.105747</td>\n",
       "    </tr>\n",
       "    <tr>\n",
       "      <th>8</th>\n",
       "      <td>pressure_msl_mean</td>\n",
       "      <td>0.025433</td>\n",
       "    </tr>\n",
       "    <tr>\n",
       "      <th>9</th>\n",
       "      <td>vapour_pressure_deficit_max</td>\n",
       "      <td>0.007449</td>\n",
       "    </tr>\n",
       "    <tr>\n",
       "      <th>10</th>\n",
       "      <td>shortwave_radiation_sum</td>\n",
       "      <td>0.032564</td>\n",
       "    </tr>\n",
       "    <tr>\n",
       "      <th>11</th>\n",
       "      <td>precipitation_hours</td>\n",
       "      <td>0.014781</td>\n",
       "    </tr>\n",
       "    <tr>\n",
       "      <th>12</th>\n",
       "      <td>temperature_2m_mean</td>\n",
       "      <td>0.128960</td>\n",
       "    </tr>\n",
       "    <tr>\n",
       "      <th>13</th>\n",
       "      <td>wind_gusts_10m_max</td>\n",
       "      <td>0.032374</td>\n",
       "    </tr>\n",
       "    <tr>\n",
       "      <th>14</th>\n",
       "      <td>wind_speed_10m_max</td>\n",
       "      <td>0.079823</td>\n",
       "    </tr>\n",
       "    <tr>\n",
       "      <th>15</th>\n",
       "      <td>et0_fao_evapotranspiration</td>\n",
       "      <td>0.022271</td>\n",
       "    </tr>\n",
       "    <tr>\n",
       "      <th>16</th>\n",
       "      <td>temperature_range</td>\n",
       "      <td>0.008483</td>\n",
       "    </tr>\n",
       "    <tr>\n",
       "      <th>17</th>\n",
       "      <td>pressure_range</td>\n",
       "      <td>0.031364</td>\n",
       "    </tr>\n",
       "    <tr>\n",
       "      <th>18</th>\n",
       "      <td>wind_direction_sin</td>\n",
       "      <td>0.048246</td>\n",
       "    </tr>\n",
       "    <tr>\n",
       "      <th>19</th>\n",
       "      <td>wind_direction_cos</td>\n",
       "      <td>0.022629</td>\n",
       "    </tr>\n",
       "    <tr>\n",
       "      <th>20</th>\n",
       "      <td>rain_occurred</td>\n",
       "      <td>0.004126</td>\n",
       "    </tr>\n",
       "    <tr>\n",
       "      <th>21</th>\n",
       "      <td>rain_occurred_lag_1</td>\n",
       "      <td>0.011857</td>\n",
       "    </tr>\n",
       "    <tr>\n",
       "      <th>22</th>\n",
       "      <td>rain_occurred_lag_2</td>\n",
       "      <td>0.001932</td>\n",
       "    </tr>\n",
       "    <tr>\n",
       "      <th>23</th>\n",
       "      <td>rain_occurred_lag_3</td>\n",
       "      <td>0.005906</td>\n",
       "    </tr>\n",
       "    <tr>\n",
       "      <th>24</th>\n",
       "      <td>weather_code_0.0</td>\n",
       "      <td>0.000000</td>\n",
       "    </tr>\n",
       "    <tr>\n",
       "      <th>25</th>\n",
       "      <td>weather_code_1.0</td>\n",
       "      <td>0.000630</td>\n",
       "    </tr>\n",
       "    <tr>\n",
       "      <th>26</th>\n",
       "      <td>weather_code_2.0</td>\n",
       "      <td>0.000000</td>\n",
       "    </tr>\n",
       "    <tr>\n",
       "      <th>27</th>\n",
       "      <td>weather_code_3.0</td>\n",
       "      <td>0.003869</td>\n",
       "    </tr>\n",
       "    <tr>\n",
       "      <th>28</th>\n",
       "      <td>weather_code_51.0</td>\n",
       "      <td>0.000000</td>\n",
       "    </tr>\n",
       "    <tr>\n",
       "      <th>29</th>\n",
       "      <td>weather_code_53.0</td>\n",
       "      <td>0.000000</td>\n",
       "    </tr>\n",
       "    <tr>\n",
       "      <th>30</th>\n",
       "      <td>weather_code_55.0</td>\n",
       "      <td>0.000000</td>\n",
       "    </tr>\n",
       "    <tr>\n",
       "      <th>31</th>\n",
       "      <td>weather_code_61.0</td>\n",
       "      <td>0.001349</td>\n",
       "    </tr>\n",
       "    <tr>\n",
       "      <th>32</th>\n",
       "      <td>weather_code_63.0</td>\n",
       "      <td>0.000862</td>\n",
       "    </tr>\n",
       "    <tr>\n",
       "      <th>33</th>\n",
       "      <td>weather_code_65.0</td>\n",
       "      <td>0.000000</td>\n",
       "    </tr>\n",
       "    <tr>\n",
       "      <th>34</th>\n",
       "      <td>month_1</td>\n",
       "      <td>0.003128</td>\n",
       "    </tr>\n",
       "    <tr>\n",
       "      <th>35</th>\n",
       "      <td>month_2</td>\n",
       "      <td>0.029362</td>\n",
       "    </tr>\n",
       "    <tr>\n",
       "      <th>36</th>\n",
       "      <td>month_3</td>\n",
       "      <td>0.017652</td>\n",
       "    </tr>\n",
       "    <tr>\n",
       "      <th>37</th>\n",
       "      <td>month_4</td>\n",
       "      <td>0.004696</td>\n",
       "    </tr>\n",
       "    <tr>\n",
       "      <th>38</th>\n",
       "      <td>month_5</td>\n",
       "      <td>0.000290</td>\n",
       "    </tr>\n",
       "    <tr>\n",
       "      <th>39</th>\n",
       "      <td>month_6</td>\n",
       "      <td>0.000308</td>\n",
       "    </tr>\n",
       "    <tr>\n",
       "      <th>40</th>\n",
       "      <td>month_7</td>\n",
       "      <td>0.015505</td>\n",
       "    </tr>\n",
       "    <tr>\n",
       "      <th>41</th>\n",
       "      <td>month_8</td>\n",
       "      <td>0.011159</td>\n",
       "    </tr>\n",
       "    <tr>\n",
       "      <th>42</th>\n",
       "      <td>month_9</td>\n",
       "      <td>0.000429</td>\n",
       "    </tr>\n",
       "    <tr>\n",
       "      <th>43</th>\n",
       "      <td>month_10</td>\n",
       "      <td>0.002836</td>\n",
       "    </tr>\n",
       "    <tr>\n",
       "      <th>44</th>\n",
       "      <td>month_11</td>\n",
       "      <td>0.000000</td>\n",
       "    </tr>\n",
       "    <tr>\n",
       "      <th>45</th>\n",
       "      <td>month_12</td>\n",
       "      <td>0.001117</td>\n",
       "    </tr>\n",
       "  </tbody>\n",
       "</table>\n",
       "</div>"
      ],
      "text/plain": [
       "                         feature  feature_importance\n",
       "0      relative_humidity_2m_mean            0.061875\n",
       "1               cloud_cover_mean            0.033901\n",
       "2                cloud_cover_max            0.023575\n",
       "3                cloud_cover_min            0.020116\n",
       "4            wind_gusts_10m_mean            0.035541\n",
       "5            wind_speed_10m_mean            0.018877\n",
       "6              dew_point_2m_mean            0.128979\n",
       "7   wet_bulb_temperature_2m_mean            0.105747\n",
       "8              pressure_msl_mean            0.025433\n",
       "9    vapour_pressure_deficit_max            0.007449\n",
       "10       shortwave_radiation_sum            0.032564\n",
       "11           precipitation_hours            0.014781\n",
       "12           temperature_2m_mean            0.128960\n",
       "13            wind_gusts_10m_max            0.032374\n",
       "14            wind_speed_10m_max            0.079823\n",
       "15    et0_fao_evapotranspiration            0.022271\n",
       "16             temperature_range            0.008483\n",
       "17                pressure_range            0.031364\n",
       "18            wind_direction_sin            0.048246\n",
       "19            wind_direction_cos            0.022629\n",
       "20                 rain_occurred            0.004126\n",
       "21           rain_occurred_lag_1            0.011857\n",
       "22           rain_occurred_lag_2            0.001932\n",
       "23           rain_occurred_lag_3            0.005906\n",
       "24              weather_code_0.0            0.000000\n",
       "25              weather_code_1.0            0.000630\n",
       "26              weather_code_2.0            0.000000\n",
       "27              weather_code_3.0            0.003869\n",
       "28             weather_code_51.0            0.000000\n",
       "29             weather_code_53.0            0.000000\n",
       "30             weather_code_55.0            0.000000\n",
       "31             weather_code_61.0            0.001349\n",
       "32             weather_code_63.0            0.000862\n",
       "33             weather_code_65.0            0.000000\n",
       "34                       month_1            0.003128\n",
       "35                       month_2            0.029362\n",
       "36                       month_3            0.017652\n",
       "37                       month_4            0.004696\n",
       "38                       month_5            0.000290\n",
       "39                       month_6            0.000308\n",
       "40                       month_7            0.015505\n",
       "41                       month_8            0.011159\n",
       "42                       month_9            0.000429\n",
       "43                      month_10            0.002836\n",
       "44                      month_11            0.000000\n",
       "45                      month_12            0.001117"
      ]
     },
     "execution_count": 125,
     "metadata": {},
     "output_type": "execute_result"
    }
   ],
   "source": [
    "feat_imp_rf_df = pd.DataFrame(\n",
    "    {\n",
    "        'feature': X_train.columns,\n",
    "        'feature_importance': best_rf.feature_importances_\n",
    "     }\n",
    ")\n",
    "feat_imp_rf_df"
   ]
  },
  {
   "cell_type": "code",
   "execution_count": 126,
   "metadata": {},
   "outputs": [
    {
     "data": {
      "text/html": [
       "\n",
       "<style>\n",
       "  #altair-viz-c4c5eff6aa184f32b02a05679e14b9e5.vega-embed {\n",
       "    width: 100%;\n",
       "    display: flex;\n",
       "  }\n",
       "\n",
       "  #altair-viz-c4c5eff6aa184f32b02a05679e14b9e5.vega-embed details,\n",
       "  #altair-viz-c4c5eff6aa184f32b02a05679e14b9e5.vega-embed details summary {\n",
       "    position: relative;\n",
       "  }\n",
       "</style>\n",
       "<div id=\"altair-viz-c4c5eff6aa184f32b02a05679e14b9e5\"></div>\n",
       "<script type=\"text/javascript\">\n",
       "  var VEGA_DEBUG = (typeof VEGA_DEBUG == \"undefined\") ? {} : VEGA_DEBUG;\n",
       "  (function(spec, embedOpt){\n",
       "    let outputDiv = document.currentScript.previousElementSibling;\n",
       "    if (outputDiv.id !== \"altair-viz-c4c5eff6aa184f32b02a05679e14b9e5\") {\n",
       "      outputDiv = document.getElementById(\"altair-viz-c4c5eff6aa184f32b02a05679e14b9e5\");\n",
       "    }\n",
       "\n",
       "    const paths = {\n",
       "      \"vega\": \"https://cdn.jsdelivr.net/npm/vega@5?noext\",\n",
       "      \"vega-lib\": \"https://cdn.jsdelivr.net/npm/vega-lib?noext\",\n",
       "      \"vega-lite\": \"https://cdn.jsdelivr.net/npm/vega-lite@5.20.1?noext\",\n",
       "      \"vega-embed\": \"https://cdn.jsdelivr.net/npm/vega-embed@6?noext\",\n",
       "    };\n",
       "\n",
       "    function maybeLoadScript(lib, version) {\n",
       "      var key = `${lib.replace(\"-\", \"\")}_version`;\n",
       "      return (VEGA_DEBUG[key] == version) ?\n",
       "        Promise.resolve(paths[lib]) :\n",
       "        new Promise(function(resolve, reject) {\n",
       "          var s = document.createElement('script');\n",
       "          document.getElementsByTagName(\"head\")[0].appendChild(s);\n",
       "          s.async = true;\n",
       "          s.onload = () => {\n",
       "            VEGA_DEBUG[key] = version;\n",
       "            return resolve(paths[lib]);\n",
       "          };\n",
       "          s.onerror = () => reject(`Error loading script: ${paths[lib]}`);\n",
       "          s.src = paths[lib];\n",
       "        });\n",
       "    }\n",
       "\n",
       "    function showError(err) {\n",
       "      outputDiv.innerHTML = `<div class=\"error\" style=\"color:red;\">${err}</div>`;\n",
       "      throw err;\n",
       "    }\n",
       "\n",
       "    function displayChart(vegaEmbed) {\n",
       "      vegaEmbed(outputDiv, spec, embedOpt)\n",
       "        .catch(err => showError(`Javascript Error: ${err.message}<br>This usually means there's a typo in your chart specification. See the javascript console for the full traceback.`));\n",
       "    }\n",
       "\n",
       "    if(typeof define === \"function\" && define.amd) {\n",
       "      requirejs.config({paths});\n",
       "      let deps = [\"vega-embed\"];\n",
       "      require(deps, displayChart, err => showError(`Error loading script: ${err.message}`));\n",
       "    } else {\n",
       "      maybeLoadScript(\"vega\", \"5\")\n",
       "        .then(() => maybeLoadScript(\"vega-lite\", \"5.20.1\"))\n",
       "        .then(() => maybeLoadScript(\"vega-embed\", \"6\"))\n",
       "        .catch(showError)\n",
       "        .then(() => displayChart(vegaEmbed));\n",
       "    }\n",
       "  })({\"config\": {\"view\": {\"continuousWidth\": 300, \"continuousHeight\": 300}}, \"data\": {\"name\": \"data-be228571e0b6c38ffde3cf281e4dab5e\"}, \"mark\": {\"type\": \"bar\"}, \"encoding\": {\"tooltip\": [{\"field\": \"feature\", \"type\": \"nominal\"}, {\"field\": \"feature_importance\", \"type\": \"quantitative\"}], \"x\": {\"field\": \"feature_importance\", \"type\": \"quantitative\"}, \"y\": {\"field\": \"feature\", \"sort\": \"-x\", \"type\": \"nominal\"}}, \"$schema\": \"https://vega.github.io/schema/vega-lite/v5.20.1.json\", \"datasets\": {\"data-be228571e0b6c38ffde3cf281e4dab5e\": [{\"feature\": \"relative_humidity_2m_mean\", \"feature_importance\": 0.06187462087589851}, {\"feature\": \"cloud_cover_mean\", \"feature_importance\": 0.033900728459394645}, {\"feature\": \"cloud_cover_max\", \"feature_importance\": 0.023575140144683666}, {\"feature\": \"cloud_cover_min\", \"feature_importance\": 0.020115508861135917}, {\"feature\": \"wind_gusts_10m_mean\", \"feature_importance\": 0.03554064021204546}, {\"feature\": \"wind_speed_10m_mean\", \"feature_importance\": 0.018876600658898797}, {\"feature\": \"dew_point_2m_mean\", \"feature_importance\": 0.12897881430856128}, {\"feature\": \"wet_bulb_temperature_2m_mean\", \"feature_importance\": 0.10574730737208747}, {\"feature\": \"pressure_msl_mean\", \"feature_importance\": 0.025432809138685224}, {\"feature\": \"vapour_pressure_deficit_max\", \"feature_importance\": 0.007448600985316724}, {\"feature\": \"shortwave_radiation_sum\", \"feature_importance\": 0.032563623717064345}, {\"feature\": \"precipitation_hours\", \"feature_importance\": 0.014781479609868973}, {\"feature\": \"temperature_2m_mean\", \"feature_importance\": 0.12896021422335963}, {\"feature\": \"wind_gusts_10m_max\", \"feature_importance\": 0.03237443660051756}, {\"feature\": \"wind_speed_10m_max\", \"feature_importance\": 0.07982254193862262}, {\"feature\": \"et0_fao_evapotranspiration\", \"feature_importance\": 0.022271461107297313}, {\"feature\": \"temperature_range\", \"feature_importance\": 0.008482979163468112}, {\"feature\": \"pressure_range\", \"feature_importance\": 0.0313640808763654}, {\"feature\": \"wind_direction_sin\", \"feature_importance\": 0.04824626188818995}, {\"feature\": \"wind_direction_cos\", \"feature_importance\": 0.022629044875821614}, {\"feature\": \"rain_occurred\", \"feature_importance\": 0.004126121521206857}, {\"feature\": \"rain_occurred_lag_1\", \"feature_importance\": 0.011856927312223372}, {\"feature\": \"rain_occurred_lag_2\", \"feature_importance\": 0.0019320832049718557}, {\"feature\": \"rain_occurred_lag_3\", \"feature_importance\": 0.005905614755503594}, {\"feature\": \"weather_code_0.0\", \"feature_importance\": 0.0}, {\"feature\": \"weather_code_1.0\", \"feature_importance\": 0.0006298572828650683}, {\"feature\": \"weather_code_2.0\", \"feature_importance\": 0.0}, {\"feature\": \"weather_code_3.0\", \"feature_importance\": 0.0038691024083886572}, {\"feature\": \"weather_code_51.0\", \"feature_importance\": 0.0}, {\"feature\": \"weather_code_53.0\", \"feature_importance\": 0.0}, {\"feature\": \"weather_code_55.0\", \"feature_importance\": 0.0}, {\"feature\": \"weather_code_61.0\", \"feature_importance\": 0.0013487121598507478}, {\"feature\": \"weather_code_63.0\", \"feature_importance\": 0.0008620555079044203}, {\"feature\": \"weather_code_65.0\", \"feature_importance\": 0.0}, {\"feature\": \"month_1\", \"feature_importance\": 0.003128237974038062}, {\"feature\": \"month_2\", \"feature_importance\": 0.029361733105035814}, {\"feature\": \"month_3\", \"feature_importance\": 0.017652488513574142}, {\"feature\": \"month_4\", \"feature_importance\": 0.004695560750719518}, {\"feature\": \"month_5\", \"feature_importance\": 0.0002903509190414973}, {\"feature\": \"month_6\", \"feature_importance\": 0.0003079245360887532}, {\"feature\": \"month_7\", \"feature_importance\": 0.015505047482900177}, {\"feature\": \"month_8\", \"feature_importance\": 0.011159319501291703}, {\"feature\": \"month_9\", \"feature_importance\": 0.0004290303496972337}, {\"feature\": \"month_10\", \"feature_importance\": 0.0028362728238557275}, {\"feature\": \"month_11\", \"feature_importance\": 0.0}, {\"feature\": \"month_12\", \"feature_importance\": 0.001116664873559908}]}}, {\"mode\": \"vega-lite\"});\n",
       "</script>"
      ],
      "text/plain": [
       "alt.Chart(...)"
      ]
     },
     "execution_count": 126,
     "metadata": {},
     "output_type": "execute_result"
    }
   ],
   "source": [
    "alt.Chart(feat_imp_rf_df).mark_bar().encode(\n",
    "    x='feature_importance',\n",
    "    y=alt.Y(\"feature\", sort='-x'),\n",
    "    tooltip=['feature','feature_importance'])"
   ]
  },
  {
   "cell_type": "code",
   "execution_count": 137,
   "metadata": {
    "id": "_YbQldshHk_3"
   },
   "outputs": [],
   "source": [
    "model_performance_explanations = \"\"\"The model appears to be overfitting, indicating poor generalisation to unseen data. Although it shows improved accuracy and precision compared to logistic regression, its recall and F1 score have dropped significantly (to 0.5 and 0.44, respectively). This suggests that while the model is better at correctly identifying non-rain events, it struggles to accurately predict rain events, leading to a performance imbalance. The decline in recall and F1 score highlights its limited effectiveness in detecting positive cases, which is critical in applications like weather prediction.\"\"\""
   ]
  },
  {
   "cell_type": "code",
   "execution_count": 138,
   "metadata": {
    "id": "-MkLnLzVHlDO"
   },
   "outputs": [
    {
     "data": {
      "text/html": [
       "<p style=\"color:grey\">model_performance_explanations</p><h3 font-size: 3em>The model appears to be overfitting, indicating poor generalisation to unseen data. Although it shows improved accuracy and precision compared to logistic regression, its recall and F1 score have dropped significantly (to 0.5 and 0.44, respectively). This suggests that while the model is better at correctly identifying non-rain events, it struggles to accurately predict rain events, leading to a performance imbalance. The decline in recall and F1 score highlights its limited effectiveness in detecting positive cases, which is critical in applications like weather prediction.</h3>"
      ],
      "text/plain": [
       "<IPython.core.display.HTML object>"
      ]
     },
     "metadata": {},
     "output_type": "display_data"
    }
   ],
   "source": [
    "# Do not modify this code\n",
    "print_tile(size=\"h3\", key='model_performance_explanations', value=model_performance_explanations)"
   ]
  },
  {
   "cell_type": "markdown",
   "metadata": {
    "id": "W1HgZMPcmtu7"
   },
   "source": [
    "### J.5 Business Impact from Current Model Performance\n",
    "\n",
    "> Provide some analysis on the model impacts from the business point of view\n"
   ]
  },
  {
   "cell_type": "code",
   "execution_count": 135,
   "metadata": {
    "id": "7bcCHiP-Hozj"
   },
   "outputs": [],
   "source": [
    "business_impacts_explanations = \"\"\"From a business perspective, accurately predicting rain events is more critical than predicting non-rainy days, as the consequences of missing a rain event can be significant, potentially leading to operational disruptions, financial losses or safety risks depending on the industry. The experimental results show that while the model improves in overall accuracy and precision compared to logistic regression, its recall and F1 score have dropped (to 0.5 and 0.44), indicating it fails to detect half of the actual rain events. This underperformance in recall is particularly concerning, as false negatives (predicting no rain when it actually rains) can have higher costs than false positives. In contrast, incorrectly predicting rain when it doesn't occur (false positives) may cause minor inconveniences or unnecessary precautions but are generally less damaging. Therefore, despite improvements in some metrics, the model's failure to reliably detect rain events undermines its value for the business objective.\"\"\""
   ]
  },
  {
   "cell_type": "code",
   "execution_count": 136,
   "metadata": {
    "id": "RQ3lJGAnHo3O"
   },
   "outputs": [
    {
     "data": {
      "text/html": [
       "<p style=\"color:grey\">business_impacts_explanations</p><h3 font-size: 3em>From a business perspective, accurately predicting rain events is more critical than predicting non-rainy days, as the consequences of missing a rain event can be significant, potentially leading to operational disruptions, financial losses or safety risks depending on the industry. The experimental results show that while the model improves in overall accuracy and precision compared to logistic regression, its recall and F1 score have dropped (to 0.5 and 0.44), indicating it fails to detect half of the actual rain events. This underperformance in recall is particularly concerning, as false negatives (predicting no rain when it actually rains) can have higher costs than false positives. In contrast, incorrectly predicting rain when it doesn't occur (false positives) may cause minor inconveniences or unnecessary precautions but are generally less damaging. Therefore, despite improvements in some metrics, the model's failure to reliably detect rain events undermines its value for the business objective.</h3>"
      ],
      "text/plain": [
       "<IPython.core.display.HTML object>"
      ]
     },
     "metadata": {},
     "output_type": "display_data"
    }
   ],
   "source": [
    "# Do not modify this code\n",
    "print_tile(size=\"h3\", key='business_impacts_explanations', value=business_impacts_explanations)"
   ]
  },
  {
   "cell_type": "markdown",
   "metadata": {
    "id": "mp1Ie9o8nDl1"
   },
   "source": [
    "## H. Project Outcomes"
   ]
  },
  {
   "cell_type": "code",
   "execution_count": 139,
   "metadata": {
    "id": "AvFNheh1HtPb"
   },
   "outputs": [],
   "source": [
    "experiment_outcome = \"\"\"Hypothesis Partially Confirmed\"\"\""
   ]
  },
  {
   "cell_type": "code",
   "execution_count": 140,
   "metadata": {
    "id": "23bFWNIVHtTU"
   },
   "outputs": [
    {
     "data": {
      "text/html": [
       "<p style=\"color:grey\">experiment_outcomes_explanations</p><h2 font-size: 3em>Hypothesis Partially Confirmed</h2>"
      ],
      "text/plain": [
       "<IPython.core.display.HTML object>"
      ]
     },
     "metadata": {},
     "output_type": "display_data"
    }
   ],
   "source": [
    "# Do not modify this code\n",
    "print_tile(size=\"h2\", key='experiment_outcomes_explanations', value=experiment_outcome)"
   ]
  },
  {
   "cell_type": "code",
   "execution_count": 143,
   "metadata": {
    "id": "iFF8wsz6HteA"
   },
   "outputs": [],
   "source": [
    "experiment_results_explanations = \"\"\"The outcome of the experiment indicates that although the model showed improvements in certain performance metrics, particularly accuracy and precision, it did not perform better across all key areas, with notable declines in recall and F1 score. As a result, the initial hypothesis is only partially confirmed. The drop in recall is especially concerning from a business standpoint, as failing to correctly predict rain events could lead to significant operational disruptions and financial losses. Additionally, signs of overfitting suggest that the model may be learning from irrelevant or non-informative features. Feature importance analysis supports this finding, revealing several variables with minimal predictive value. These features will be removed in the next experiment to reduce model complexity and enhance generalisation. Removing irrelevant features is expected to improve the model's performance compared to the current version.\"\"\""
   ]
  },
  {
   "cell_type": "code",
   "execution_count": 144,
   "metadata": {
    "id": "QpWzEhX2HthW"
   },
   "outputs": [
    {
     "data": {
      "text/html": [
       "<p style=\"color:grey\">experiment_results_explanations</p><h2 font-size: 3em>The outcome of the experiment indicates that although the model showed improvements in certain performance metrics, particularly accuracy and precision, it did not perform better across all key areas, with notable declines in recall and F1 score. As a result, the initial hypothesis is only partially confirmed. The drop in recall is especially concerning from a business standpoint, as failing to correctly predict rain events could lead to significant operational disruptions and financial losses. Additionally, signs of overfitting suggest that the model may be learning from irrelevant or non-informative features. Feature importance analysis supports this finding, revealing several variables with minimal predictive value. These features will be removed in the next experiment to reduce model complexity and enhance generalisation. Removing irrelevant features is expected to improve the model's performance compared to the current version.</h2>"
      ],
      "text/plain": [
       "<IPython.core.display.HTML object>"
      ]
     },
     "metadata": {},
     "output_type": "display_data"
    }
   ],
   "source": [
    "# Do not modify this code\n",
    "print_tile(size=\"h2\", key='experiment_results_explanations', value=experiment_results_explanations)"
   ]
  }
 ],
 "metadata": {
  "colab": {
   "provenance": [
    {
     "file_id": "13MHsQlFmfLuY1rWjvW73WSaDUaRPENW4",
     "timestamp": 1680399055727
    }
   ],
   "toc_visible": true
  },
  "kernelspec": {
   "display_name": "Python 3 (ipykernel)",
   "language": "python",
   "name": "python3"
  },
  "language_info": {
   "codemirror_mode": {
    "name": "ipython",
    "version": 3
   },
   "file_extension": ".py",
   "mimetype": "text/x-python",
   "name": "python",
   "nbconvert_exporter": "python",
   "pygments_lexer": "ipython3",
   "version": "3.11.4"
  }
 },
 "nbformat": 4,
 "nbformat_minor": 4
}
