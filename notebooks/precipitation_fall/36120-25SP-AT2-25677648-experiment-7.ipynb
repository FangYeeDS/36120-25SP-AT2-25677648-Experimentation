{
 "cells": [
  {
   "cell_type": "markdown",
   "metadata": {
    "id": "uQ6wc2HE0pke"
   },
   "source": [
    "# **Experiment Notebook**\n",
    "\n"
   ]
  },
  {
   "cell_type": "code",
   "execution_count": 1,
   "metadata": {
    "id": "qNOA146K2c6f"
   },
   "outputs": [],
   "source": [
    "# Do not modify this code\n",
    "!pip install -q utstd\n",
    "\n",
    "from utstd.ipyrenders import *"
   ]
  },
  {
   "cell_type": "code",
   "execution_count": 2,
   "metadata": {
    "id": "6FneOmBfka9G"
   },
   "outputs": [],
   "source": [
    "# Do not modify this code\n",
    "import warnings\n",
    "warnings.simplefilter(action='ignore')"
   ]
  },
  {
   "cell_type": "markdown",
   "metadata": {
    "id": "mXFKfa2tp1ch"
   },
   "source": [
    "## 0. Import Packages"
   ]
  },
  {
   "cell_type": "code",
   "execution_count": 3,
   "metadata": {},
   "outputs": [
    {
     "name": "stdout",
     "output_type": "stream",
     "text": [
      "Requirement already satisfied: openmeteo-requests in /Users/fangyeetan/Library/Caches/pypoetry/virtualenvs/adv-mlaa-at2-iHhmjgSG-py3.12/lib/python3.12/site-packages (1.7.2)\n",
      "Requirement already satisfied: niquests>=3.15.2 in /Users/fangyeetan/Library/Caches/pypoetry/virtualenvs/adv-mlaa-at2-iHhmjgSG-py3.12/lib/python3.12/site-packages (from openmeteo-requests) (3.15.2)\n",
      "Requirement already satisfied: openmeteo-sdk>=1.20.1 in /Users/fangyeetan/Library/Caches/pypoetry/virtualenvs/adv-mlaa-at2-iHhmjgSG-py3.12/lib/python3.12/site-packages (from openmeteo-requests) (1.21.0)\n",
      "Requirement already satisfied: charset-normalizer<4,>=2 in /Users/fangyeetan/Library/Caches/pypoetry/virtualenvs/adv-mlaa-at2-iHhmjgSG-py3.12/lib/python3.12/site-packages (from niquests>=3.15.2->openmeteo-requests) (3.4.3)\n",
      "Requirement already satisfied: urllib3-future<3,>=2.13.903 in /Users/fangyeetan/Library/Caches/pypoetry/virtualenvs/adv-mlaa-at2-iHhmjgSG-py3.12/lib/python3.12/site-packages (from niquests>=3.15.2->openmeteo-requests) (2.14.900)\n",
      "Requirement already satisfied: wassima<3,>=1.0.1 in /Users/fangyeetan/Library/Caches/pypoetry/virtualenvs/adv-mlaa-at2-iHhmjgSG-py3.12/lib/python3.12/site-packages (from niquests>=3.15.2->openmeteo-requests) (2.0.1)\n",
      "Requirement already satisfied: h11<1.0.0,>=0.11.0 in /Users/fangyeetan/Library/Caches/pypoetry/virtualenvs/adv-mlaa-at2-iHhmjgSG-py3.12/lib/python3.12/site-packages (from urllib3-future<3,>=2.13.903->niquests>=3.15.2->openmeteo-requests) (0.16.0)\n",
      "Requirement already satisfied: jh2<6.0.0,>=5.0.3 in /Users/fangyeetan/Library/Caches/pypoetry/virtualenvs/adv-mlaa-at2-iHhmjgSG-py3.12/lib/python3.12/site-packages (from urllib3-future<3,>=2.13.903->niquests>=3.15.2->openmeteo-requests) (5.0.9)\n",
      "Requirement already satisfied: qh3<2.0.0,>=1.5.4 in /Users/fangyeetan/Library/Caches/pypoetry/virtualenvs/adv-mlaa-at2-iHhmjgSG-py3.12/lib/python3.12/site-packages (from urllib3-future<3,>=2.13.903->niquests>=3.15.2->openmeteo-requests) (1.5.4)\n",
      "Requirement already satisfied: flatbuffers==25.2.10 in /Users/fangyeetan/Library/Caches/pypoetry/virtualenvs/adv-mlaa-at2-iHhmjgSG-py3.12/lib/python3.12/site-packages (from openmeteo-sdk>=1.20.1->openmeteo-requests) (25.2.10)\n",
      "Requirement already satisfied: requests-cache in /Users/fangyeetan/Library/Caches/pypoetry/virtualenvs/adv-mlaa-at2-iHhmjgSG-py3.12/lib/python3.12/site-packages (1.2.1)\n",
      "Requirement already satisfied: retry-requests in /Users/fangyeetan/Library/Caches/pypoetry/virtualenvs/adv-mlaa-at2-iHhmjgSG-py3.12/lib/python3.12/site-packages (2.0.0)\n",
      "Requirement already satisfied: numpy in /Users/fangyeetan/Library/Caches/pypoetry/virtualenvs/adv-mlaa-at2-iHhmjgSG-py3.12/lib/python3.12/site-packages (2.3.3)\n",
      "Requirement already satisfied: pandas in /Users/fangyeetan/Library/Caches/pypoetry/virtualenvs/adv-mlaa-at2-iHhmjgSG-py3.12/lib/python3.12/site-packages (2.2.2)\n",
      "Requirement already satisfied: attrs>=21.2 in /Users/fangyeetan/Library/Caches/pypoetry/virtualenvs/adv-mlaa-at2-iHhmjgSG-py3.12/lib/python3.12/site-packages (from requests-cache) (25.3.0)\n",
      "Requirement already satisfied: cattrs>=22.2 in /Users/fangyeetan/Library/Caches/pypoetry/virtualenvs/adv-mlaa-at2-iHhmjgSG-py3.12/lib/python3.12/site-packages (from requests-cache) (25.2.0)\n",
      "Requirement already satisfied: platformdirs>=2.5 in /Users/fangyeetan/Library/Caches/pypoetry/virtualenvs/adv-mlaa-at2-iHhmjgSG-py3.12/lib/python3.12/site-packages (from requests-cache) (4.4.0)\n",
      "Requirement already satisfied: requests>=2.22 in /Users/fangyeetan/Library/Caches/pypoetry/virtualenvs/adv-mlaa-at2-iHhmjgSG-py3.12/lib/python3.12/site-packages (from requests-cache) (2.32.5)\n",
      "Requirement already satisfied: url-normalize>=1.4 in /Users/fangyeetan/Library/Caches/pypoetry/virtualenvs/adv-mlaa-at2-iHhmjgSG-py3.12/lib/python3.12/site-packages (from requests-cache) (2.2.1)\n",
      "Requirement already satisfied: urllib3>=1.25.5 in /Users/fangyeetan/Library/Caches/pypoetry/virtualenvs/adv-mlaa-at2-iHhmjgSG-py3.12/lib/python3.12/site-packages (from requests-cache) (2.5.0)\n",
      "Requirement already satisfied: python-dateutil>=2.8.2 in /Users/fangyeetan/Library/Caches/pypoetry/virtualenvs/adv-mlaa-at2-iHhmjgSG-py3.12/lib/python3.12/site-packages (from pandas) (2.9.0.post0)\n",
      "Requirement already satisfied: pytz>=2020.1 in /Users/fangyeetan/Library/Caches/pypoetry/virtualenvs/adv-mlaa-at2-iHhmjgSG-py3.12/lib/python3.12/site-packages (from pandas) (2025.2)\n",
      "Requirement already satisfied: tzdata>=2022.7 in /Users/fangyeetan/Library/Caches/pypoetry/virtualenvs/adv-mlaa-at2-iHhmjgSG-py3.12/lib/python3.12/site-packages (from pandas) (2025.2)\n",
      "Requirement already satisfied: typing-extensions>=4.12.2 in /Users/fangyeetan/Library/Caches/pypoetry/virtualenvs/adv-mlaa-at2-iHhmjgSG-py3.12/lib/python3.12/site-packages (from cattrs>=22.2->requests-cache) (4.15.0)\n",
      "Requirement already satisfied: six>=1.5 in /Users/fangyeetan/Library/Caches/pypoetry/virtualenvs/adv-mlaa-at2-iHhmjgSG-py3.12/lib/python3.12/site-packages (from python-dateutil>=2.8.2->pandas) (1.17.0)\n",
      "Requirement already satisfied: charset_normalizer<4,>=2 in /Users/fangyeetan/Library/Caches/pypoetry/virtualenvs/adv-mlaa-at2-iHhmjgSG-py3.12/lib/python3.12/site-packages (from requests>=2.22->requests-cache) (3.4.3)\n",
      "Requirement already satisfied: idna<4,>=2.5 in /Users/fangyeetan/Library/Caches/pypoetry/virtualenvs/adv-mlaa-at2-iHhmjgSG-py3.12/lib/python3.12/site-packages (from requests>=2.22->requests-cache) (3.10)\n",
      "Requirement already satisfied: certifi>=2017.4.17 in /Users/fangyeetan/Library/Caches/pypoetry/virtualenvs/adv-mlaa-at2-iHhmjgSG-py3.12/lib/python3.12/site-packages (from requests>=2.22->requests-cache) (2025.8.3)\n"
     ]
    }
   ],
   "source": [
    "!pip install openmeteo-requests\n",
    "!pip install requests-cache retry-requests numpy pandas"
   ]
  },
  {
   "cell_type": "code",
   "execution_count": 4,
   "metadata": {},
   "outputs": [
    {
     "name": "stdout",
     "output_type": "stream",
     "text": [
      "Looking in indexes: https://test.pypi.org/simple/\n",
      "Requirement already satisfied: my_krml_25677648==2025.0.1.8 in /Users/fangyeetan/Library/Caches/pypoetry/virtualenvs/adv-mlaa-at2-iHhmjgSG-py3.12/lib/python3.12/site-packages (2025.0.1.8)\n",
      "Requirement already satisfied: pandas==2.2.2 in /Users/fangyeetan/Library/Caches/pypoetry/virtualenvs/adv-mlaa-at2-iHhmjgSG-py3.12/lib/python3.12/site-packages (from my_krml_25677648==2025.0.1.8) (2.2.2)\n",
      "Requirement already satisfied: scikit-learn==1.5.1 in /Users/fangyeetan/Library/Caches/pypoetry/virtualenvs/adv-mlaa-at2-iHhmjgSG-py3.12/lib/python3.12/site-packages (from my_krml_25677648==2025.0.1.8) (1.5.1)\n",
      "Requirement already satisfied: seaborn<0.14.0,>=0.13.2 in /Users/fangyeetan/Library/Caches/pypoetry/virtualenvs/adv-mlaa-at2-iHhmjgSG-py3.12/lib/python3.12/site-packages (from my_krml_25677648==2025.0.1.8) (0.13.2)\n",
      "Requirement already satisfied: numpy>=1.26.0 in /Users/fangyeetan/Library/Caches/pypoetry/virtualenvs/adv-mlaa-at2-iHhmjgSG-py3.12/lib/python3.12/site-packages (from pandas==2.2.2->my_krml_25677648==2025.0.1.8) (2.3.3)\n",
      "Requirement already satisfied: python-dateutil>=2.8.2 in /Users/fangyeetan/Library/Caches/pypoetry/virtualenvs/adv-mlaa-at2-iHhmjgSG-py3.12/lib/python3.12/site-packages (from pandas==2.2.2->my_krml_25677648==2025.0.1.8) (2.9.0.post0)\n",
      "Requirement already satisfied: pytz>=2020.1 in /Users/fangyeetan/Library/Caches/pypoetry/virtualenvs/adv-mlaa-at2-iHhmjgSG-py3.12/lib/python3.12/site-packages (from pandas==2.2.2->my_krml_25677648==2025.0.1.8) (2025.2)\n",
      "Requirement already satisfied: tzdata>=2022.7 in /Users/fangyeetan/Library/Caches/pypoetry/virtualenvs/adv-mlaa-at2-iHhmjgSG-py3.12/lib/python3.12/site-packages (from pandas==2.2.2->my_krml_25677648==2025.0.1.8) (2025.2)\n",
      "Requirement already satisfied: scipy>=1.6.0 in /Users/fangyeetan/Library/Caches/pypoetry/virtualenvs/adv-mlaa-at2-iHhmjgSG-py3.12/lib/python3.12/site-packages (from scikit-learn==1.5.1->my_krml_25677648==2025.0.1.8) (1.16.2)\n",
      "Requirement already satisfied: joblib>=1.2.0 in /Users/fangyeetan/Library/Caches/pypoetry/virtualenvs/adv-mlaa-at2-iHhmjgSG-py3.12/lib/python3.12/site-packages (from scikit-learn==1.5.1->my_krml_25677648==2025.0.1.8) (1.5.2)\n",
      "Requirement already satisfied: threadpoolctl>=3.1.0 in /Users/fangyeetan/Library/Caches/pypoetry/virtualenvs/adv-mlaa-at2-iHhmjgSG-py3.12/lib/python3.12/site-packages (from scikit-learn==1.5.1->my_krml_25677648==2025.0.1.8) (3.6.0)\n",
      "Requirement already satisfied: matplotlib!=3.6.1,>=3.4 in /Users/fangyeetan/Library/Caches/pypoetry/virtualenvs/adv-mlaa-at2-iHhmjgSG-py3.12/lib/python3.12/site-packages (from seaborn<0.14.0,>=0.13.2->my_krml_25677648==2025.0.1.8) (3.10.6)\n",
      "Requirement already satisfied: contourpy>=1.0.1 in /Users/fangyeetan/Library/Caches/pypoetry/virtualenvs/adv-mlaa-at2-iHhmjgSG-py3.12/lib/python3.12/site-packages (from matplotlib!=3.6.1,>=3.4->seaborn<0.14.0,>=0.13.2->my_krml_25677648==2025.0.1.8) (1.3.3)\n",
      "Requirement already satisfied: cycler>=0.10 in /Users/fangyeetan/Library/Caches/pypoetry/virtualenvs/adv-mlaa-at2-iHhmjgSG-py3.12/lib/python3.12/site-packages (from matplotlib!=3.6.1,>=3.4->seaborn<0.14.0,>=0.13.2->my_krml_25677648==2025.0.1.8) (0.12.1)\n",
      "Requirement already satisfied: fonttools>=4.22.0 in /Users/fangyeetan/Library/Caches/pypoetry/virtualenvs/adv-mlaa-at2-iHhmjgSG-py3.12/lib/python3.12/site-packages (from matplotlib!=3.6.1,>=3.4->seaborn<0.14.0,>=0.13.2->my_krml_25677648==2025.0.1.8) (4.60.0)\n",
      "Requirement already satisfied: kiwisolver>=1.3.1 in /Users/fangyeetan/Library/Caches/pypoetry/virtualenvs/adv-mlaa-at2-iHhmjgSG-py3.12/lib/python3.12/site-packages (from matplotlib!=3.6.1,>=3.4->seaborn<0.14.0,>=0.13.2->my_krml_25677648==2025.0.1.8) (1.4.9)\n",
      "Requirement already satisfied: packaging>=20.0 in /Users/fangyeetan/Library/Caches/pypoetry/virtualenvs/adv-mlaa-at2-iHhmjgSG-py3.12/lib/python3.12/site-packages (from matplotlib!=3.6.1,>=3.4->seaborn<0.14.0,>=0.13.2->my_krml_25677648==2025.0.1.8) (25.0)\n",
      "Requirement already satisfied: pillow>=8 in /Users/fangyeetan/Library/Caches/pypoetry/virtualenvs/adv-mlaa-at2-iHhmjgSG-py3.12/lib/python3.12/site-packages (from matplotlib!=3.6.1,>=3.4->seaborn<0.14.0,>=0.13.2->my_krml_25677648==2025.0.1.8) (11.3.0)\n",
      "Requirement already satisfied: pyparsing>=2.3.1 in /Users/fangyeetan/Library/Caches/pypoetry/virtualenvs/adv-mlaa-at2-iHhmjgSG-py3.12/lib/python3.12/site-packages (from matplotlib!=3.6.1,>=3.4->seaborn<0.14.0,>=0.13.2->my_krml_25677648==2025.0.1.8) (3.2.5)\n",
      "Requirement already satisfied: six>=1.5 in /Users/fangyeetan/Library/Caches/pypoetry/virtualenvs/adv-mlaa-at2-iHhmjgSG-py3.12/lib/python3.12/site-packages (from python-dateutil>=2.8.2->pandas==2.2.2->my_krml_25677648==2025.0.1.8) (1.17.0)\n",
      "Note: you may need to restart the kernel to use updated packages.\n"
     ]
    }
   ],
   "source": [
    "pip install --index-url https://test.pypi.org/simple/ my_krml_25677648==2025.0.1.8"
   ]
  },
  {
   "cell_type": "code",
   "execution_count": 5,
   "metadata": {},
   "outputs": [],
   "source": [
    "import pandas as pd\n",
    "import seaborn as sns\n",
    "import matplotlib.pyplot as plt\n",
    "import numpy as np\n",
    "import altair as alt"
   ]
  },
  {
   "cell_type": "markdown",
   "metadata": {
    "id": "tQgxLRrvjiJb"
   },
   "source": [
    "---\n",
    "## A. Project Description\n"
   ]
  },
  {
   "cell_type": "code",
   "execution_count": 6,
   "metadata": {
    "id": "Je1EzzfFD5hj"
   },
   "outputs": [],
   "source": [
    "student_name = \"Fang Yee Tan\"\n",
    "student_id = \"25677648\""
   ]
  },
  {
   "cell_type": "code",
   "execution_count": 7,
   "metadata": {
    "id": "pdKiYvFWD5my"
   },
   "outputs": [
    {
     "data": {
      "text/html": [
       "<p style=\"color:grey\">student_name</p><h1 font-size: 3em>Fang Yee Tan</h1>"
      ],
      "text/plain": [
       "<IPython.core.display.HTML object>"
      ]
     },
     "metadata": {},
     "output_type": "display_data"
    }
   ],
   "source": [
    "# Do not modify this code\n",
    "print_tile(size=\"h1\", key='student_name', value=student_name)"
   ]
  },
  {
   "cell_type": "code",
   "execution_count": 8,
   "metadata": {
    "id": "9KTEbRjqD5o_"
   },
   "outputs": [
    {
     "data": {
      "text/html": [
       "<p style=\"color:grey\">student_id</p><h1 font-size: 3em>25677648</h1>"
      ],
      "text/plain": [
       "<IPython.core.display.HTML object>"
      ]
     },
     "metadata": {},
     "output_type": "display_data"
    }
   ],
   "source": [
    "# Do not modify this code\n",
    "print_tile(size=\"h1\", key='student_id', value=student_id)"
   ]
  },
  {
   "cell_type": "markdown",
   "metadata": {
    "id": "4q1Bzcejvfpm"
   },
   "source": [
    "---\n",
    "## B. Business Understanding"
   ]
  },
  {
   "cell_type": "code",
   "execution_count": 9,
   "metadata": {
    "id": "Mmo6apC9EEv8"
   },
   "outputs": [],
   "source": [
    "business_use_case_description = \"\"\"The objective of this project is to develop a robust machine learning model capable of accurately predicting the cumulative volume of precipitation, measured in millimetres, over a three-day forecast period for Sydney, Australia. The model will be trained on an extensive dataset comprising daily historical weather observations spanning from 2014 to 2024. Several regression algorithms will be implemented and rigorously evaluated to identify the most effective predictive approach. Model performance will be assessed using appropriate statistical metrics, with the best-performing model selected for deployment as an API service. This forecasting tool aims to provide end users with timely and reliable precipitation predictions, thereby facilitating data-driven decision-making in sectors that are highly sensitive to weather variability, including agriculture, logistics and event management. By integrating machine learning-based precipitation forecasting into its service infrastructure, the project will enhance the predictive capabilities and overall value proposition of the Open Meteo platform.\"\"\""
   ]
  },
  {
   "cell_type": "code",
   "execution_count": 10,
   "metadata": {
    "id": "bgb0DkG2EE2e",
    "scrolled": true
   },
   "outputs": [
    {
     "data": {
      "text/html": [
       "<p style=\"color:grey\">business_use_case_description</p><h3 font-size: 3em>The objective of this project is to develop a robust machine learning model capable of accurately predicting the cumulative volume of precipitation, measured in millimetres, over a three-day forecast period for Sydney, Australia. The model will be trained on an extensive dataset comprising daily historical weather observations spanning from 2014 to 2024. Several regression algorithms will be implemented and rigorously evaluated to identify the most effective predictive approach. Model performance will be assessed using appropriate statistical metrics, with the best-performing model selected for deployment as an API service. This forecasting tool aims to provide end users with timely and reliable precipitation predictions, thereby facilitating data-driven decision-making in sectors that are highly sensitive to weather variability, including agriculture, logistics and event management. By integrating machine learning-based precipitation forecasting into its service infrastructure, the project will enhance the predictive capabilities and overall value proposition of the Open Meteo platform.</h3>"
      ],
      "text/plain": [
       "<IPython.core.display.HTML object>"
      ]
     },
     "metadata": {},
     "output_type": "display_data"
    }
   ],
   "source": [
    "# Do not modify this code\n",
    "print_tile(size=\"h3\", key='business_use_case_description', value=business_use_case_description)"
   ]
  },
  {
   "cell_type": "code",
   "execution_count": 11,
   "metadata": {
    "id": "29Yqk3d2EE8q"
   },
   "outputs": [],
   "source": [
    "business_objectives = \"\"\"An accurate regression model for predicting rainfall volume offers significant benefits to a broad range of stakeholders. Reliable forecasts enable more effective planning and resource allocation, particularly in weather-sensitive sectors, by helping to minimise operational disruptions, reduce unnecessary expenditures, and enhance worker safety. The ability to quantify the intensity of precipitation, from light drizzles to heavy downpours, further supports more informed and context-specific decision-making. This allows organisations to adjust their responses appropriately and avoid both overpreparation and underpreparation. Moreover, precise rainfall predictions contribute to greater public awareness and readiness, especially in situations involving sudden or severe weather events. Conversely, inaccurate forecasts can result in substantial negative consequences. Overestimations may lead to avoidable delays and financial losses, while underestimations can compromise safety and limit the effectiveness of proactive measures.\"\"\""
   ]
  },
  {
   "cell_type": "code",
   "execution_count": 12,
   "metadata": {
    "id": "sSu_8J96EFDs"
   },
   "outputs": [
    {
     "data": {
      "text/html": [
       "<p style=\"color:grey\">business_objectives</p><h3 font-size: 3em>An accurate regression model for predicting rainfall volume offers significant benefits to a broad range of stakeholders. Reliable forecasts enable more effective planning and resource allocation, particularly in weather-sensitive sectors, by helping to minimise operational disruptions, reduce unnecessary expenditures, and enhance worker safety. The ability to quantify the intensity of precipitation, from light drizzles to heavy downpours, further supports more informed and context-specific decision-making. This allows organisations to adjust their responses appropriately and avoid both overpreparation and underpreparation. Moreover, precise rainfall predictions contribute to greater public awareness and readiness, especially in situations involving sudden or severe weather events. Conversely, inaccurate forecasts can result in substantial negative consequences. Overestimations may lead to avoidable delays and financial losses, while underestimations can compromise safety and limit the effectiveness of proactive measures.</h3>"
      ],
      "text/plain": [
       "<IPython.core.display.HTML object>"
      ]
     },
     "metadata": {},
     "output_type": "display_data"
    }
   ],
   "source": [
    "# Do not modify this code\n",
    "print_tile(size=\"h3\", key='business_objectives', value=business_objectives)"
   ]
  },
  {
   "cell_type": "code",
   "execution_count": 13,
   "metadata": {
    "id": "Hf4ThY5cEF5W"
   },
   "outputs": [],
   "source": [
    "stakeholders_expectations_explanations = \"\"\"Predictions of precipitation volume will play a critical role in supporting informed decision-making across a variety of contexts. Whether the forecast indicates light drizzle or heavy rainfall, individuals and stakeholder organisations can adjust their plans accordingly. While light rain may have minimal impact, heavy rainfall can lead to significant disruptions if not anticipated and managed proactively. For instance, individuals can use the forecasts to plan their weekends and outdoor activities, while event planners and project managers can schedule or adjust tasks to minimise weather-related interruptions. Weather-dependent industries such as agriculture, logistics and event management will benefit from these predictions by optimising operations, reducing risks, and improving safety through the avoidance of outdoor work during adverse weather conditions. The users of these forecasts include the general public, industry professionals, event organisers, and others whose activities are influenced by weather variability. Ultimately, accurate precipitation forecasts will positively impact a broad range of stakeholders by enabling better planning, reducing financial losses, minimising disruptions, and enhancing overall safety.\"\"\""
   ]
  },
  {
   "cell_type": "code",
   "execution_count": 14,
   "metadata": {
    "id": "jH9a2X70EF8M"
   },
   "outputs": [
    {
     "data": {
      "text/html": [
       "<p style=\"color:grey\">stakeholders_expectations_explanations</p><h3 font-size: 3em>Predictions of precipitation volume will play a critical role in supporting informed decision-making across a variety of contexts. Whether the forecast indicates light drizzle or heavy rainfall, individuals and stakeholder organisations can adjust their plans accordingly. While light rain may have minimal impact, heavy rainfall can lead to significant disruptions if not anticipated and managed proactively. For instance, individuals can use the forecasts to plan their weekends and outdoor activities, while event planners and project managers can schedule or adjust tasks to minimise weather-related interruptions. Weather-dependent industries such as agriculture, logistics and event management will benefit from these predictions by optimising operations, reducing risks, and improving safety through the avoidance of outdoor work during adverse weather conditions. The users of these forecasts include the general public, industry professionals, event organisers, and others whose activities are influenced by weather variability. Ultimately, accurate precipitation forecasts will positively impact a broad range of stakeholders by enabling better planning, reducing financial losses, minimising disruptions, and enhancing overall safety.</h3>"
      ],
      "text/plain": [
       "<IPython.core.display.HTML object>"
      ]
     },
     "metadata": {},
     "output_type": "display_data"
    }
   ],
   "source": [
    "# Do not modify this code\n",
    "print_tile(size=\"h3\", key='stakeholders_expectations_explanations', value=stakeholders_expectations_explanations)"
   ]
  },
  {
   "cell_type": "markdown",
   "metadata": {
    "id": "P0zsEPshwy1K"
   },
   "source": [
    "---\n",
    "## C. Data Understanding"
   ]
  },
  {
   "cell_type": "markdown",
   "metadata": {
    "id": "sGMWhKSbUl63"
   },
   "source": [
    "### C.1   Load Datasets\n"
   ]
  },
  {
   "cell_type": "code",
   "execution_count": 15,
   "metadata": {
    "id": "NKgOzSn-w0eq"
   },
   "outputs": [
    {
     "name": "stdout",
     "output_type": "stream",
     "text": [
      "Coordinates: -33.84885787963867°N 151.1955108642578°E\n",
      "Elevation: 51.0 m asl\n",
      "Timezone: b'Australia/Sydney'b'GMT+10'\n",
      "Timezone difference to GMT+0: 36000s\n"
     ]
    }
   ],
   "source": [
    "import openmeteo_requests\n",
    "\n",
    "import requests_cache\n",
    "from retry_requests import retry\n",
    "\n",
    "# Setup the Open-Meteo API client with cache and retry on error\n",
    "cache_session = requests_cache.CachedSession('.cache', expire_after = -1)\n",
    "retry_session = retry(cache_session, retries = 5, backoff_factor = 0.2)\n",
    "openmeteo = openmeteo_requests.Client(session = retry_session)\n",
    "\n",
    "# Make sure all required weather variables are listed here\n",
    "# The order of variables in hourly or daily is important to assign them correctly below\n",
    "url = \"https://archive-api.open-meteo.com/v1/archive\"\n",
    "params = {\n",
    "\t\"latitude\": -33.8678,\n",
    "\t\"longitude\": 151.2073,\n",
    "\t\"start_date\": \"2014-01-01\",\n",
    "\t\"end_date\": \"2024-12-31\",\n",
    "\t\"daily\": [\"temperature_2m_mean\", \"daylight_duration\", \"sunshine_duration\", \"temperature_2m_max\", \"temperature_2m_min\", \"et0_fao_evapotranspiration_sum\", \"wind_speed_10m_mean\", \"wind_speed_10m_min\", \"relative_humidity_2m_mean\", \"relative_humidity_2m_max\", \"dew_point_2m_mean\", \"soil_moisture_0_to_7cm_mean\", \"soil_moisture_28_to_100cm_mean\", \"soil_moisture_7_to_28cm_mean\", \"dew_point_2m_min\", \"vapour_pressure_deficit_max\", \"wind_gusts_10m_mean\", \"wind_gusts_10m_min\", \"relative_humidity_2m_min\", \"wind_direction_10m_dominant\", \"wind_gusts_10m_max\", \"wind_speed_10m_max\", \"cloud_cover_mean\", \"cloud_cover_max\", \"cloud_cover_min\", \"dew_point_2m_max\", \"rain_sum\", \"pressure_msl_mean\", \"pressure_msl_max\", \"pressure_msl_min\"],\n",
    "\t\"timezone\": \"auto\",\n",
    "}\n",
    "responses = openmeteo.weather_api(url, params=params)\n",
    "\n",
    "# Process first location. Add a for-loop for multiple locations or weather models\n",
    "response = responses[0]\n",
    "print(f\"Coordinates: {response.Latitude()}°N {response.Longitude()}°E\")\n",
    "print(f\"Elevation: {response.Elevation()} m asl\")\n",
    "print(f\"Timezone: {response.Timezone()}{response.TimezoneAbbreviation()}\")\n",
    "print(f\"Timezone difference to GMT+0: {response.UtcOffsetSeconds()}s\")\n",
    "\n",
    "# Process daily data. The order of variables needs to be the same as requested.\n",
    "daily = response.Daily()\n",
    "daily_temperature_2m_mean = daily.Variables(0).ValuesAsNumpy()\n",
    "daily_daylight_duration = daily.Variables(1).ValuesAsNumpy()\n",
    "daily_sunshine_duration = daily.Variables(2).ValuesAsNumpy()\n",
    "daily_temperature_2m_max = daily.Variables(3).ValuesAsNumpy()\n",
    "daily_temperature_2m_min = daily.Variables(4).ValuesAsNumpy()\n",
    "daily_et0_fao_evapotranspiration_sum = daily.Variables(5).ValuesAsNumpy()\n",
    "daily_wind_speed_10m_mean = daily.Variables(6).ValuesAsNumpy()\n",
    "daily_wind_speed_10m_min = daily.Variables(7).ValuesAsNumpy()\n",
    "daily_relative_humidity_2m_mean = daily.Variables(8).ValuesAsNumpy()\n",
    "daily_relative_humidity_2m_max = daily.Variables(9).ValuesAsNumpy()\n",
    "daily_dew_point_2m_mean = daily.Variables(10).ValuesAsNumpy()\n",
    "daily_soil_moisture_0_to_7cm_mean = daily.Variables(11).ValuesAsNumpy()\n",
    "daily_soil_moisture_28_to_100cm_mean = daily.Variables(12).ValuesAsNumpy()\n",
    "daily_soil_moisture_7_to_28cm_mean = daily.Variables(13).ValuesAsNumpy()\n",
    "daily_dew_point_2m_min = daily.Variables(14).ValuesAsNumpy()\n",
    "daily_vapour_pressure_deficit_max = daily.Variables(15).ValuesAsNumpy()\n",
    "daily_wind_gusts_10m_mean = daily.Variables(16).ValuesAsNumpy()\n",
    "daily_wind_gusts_10m_min = daily.Variables(17).ValuesAsNumpy()\n",
    "daily_relative_humidity_2m_min = daily.Variables(18).ValuesAsNumpy()\n",
    "daily_wind_direction_10m_dominant = daily.Variables(19).ValuesAsNumpy()\n",
    "daily_wind_gusts_10m_max = daily.Variables(20).ValuesAsNumpy()\n",
    "daily_wind_speed_10m_max = daily.Variables(21).ValuesAsNumpy()\n",
    "daily_cloud_cover_mean = daily.Variables(22).ValuesAsNumpy()\n",
    "daily_cloud_cover_max = daily.Variables(23).ValuesAsNumpy()\n",
    "daily_cloud_cover_min = daily.Variables(24).ValuesAsNumpy()\n",
    "daily_dew_point_2m_max = daily.Variables(25).ValuesAsNumpy()\n",
    "daily_rain_sum = daily.Variables(26).ValuesAsNumpy()\n",
    "daily_pressure_msl_mean = daily.Variables(27).ValuesAsNumpy()\n",
    "daily_pressure_msl_max = daily.Variables(28).ValuesAsNumpy()\n",
    "daily_pressure_msl_min = daily.Variables(29).ValuesAsNumpy()\n",
    "\n",
    "daily_data = {\"date\": pd.date_range(\n",
    "\tstart = pd.to_datetime(daily.Time(), unit = \"s\", utc = True),\n",
    "\tend = pd.to_datetime(daily.TimeEnd(), unit = \"s\", utc = True),\n",
    "\tfreq = pd.Timedelta(seconds = daily.Interval()),\n",
    "\tinclusive = \"left\"\n",
    ")}\n",
    "\n",
    "daily_data[\"temperature_2m_mean\"] = daily_temperature_2m_mean\n",
    "daily_data[\"daylight_duration\"] = daily_daylight_duration\n",
    "daily_data[\"sunshine_duration\"] = daily_sunshine_duration\n",
    "daily_data[\"temperature_2m_max\"] = daily_temperature_2m_max\n",
    "daily_data[\"temperature_2m_min\"] = daily_temperature_2m_min\n",
    "daily_data[\"et0_fao_evapotranspiration_sum\"] = daily_et0_fao_evapotranspiration_sum\n",
    "daily_data[\"wind_speed_10m_mean\"] = daily_wind_speed_10m_mean\n",
    "daily_data[\"wind_speed_10m_min\"] = daily_wind_speed_10m_min\n",
    "daily_data[\"relative_humidity_2m_mean\"] = daily_relative_humidity_2m_mean\n",
    "daily_data[\"relative_humidity_2m_max\"] = daily_relative_humidity_2m_max\n",
    "daily_data[\"dew_point_2m_mean\"] = daily_dew_point_2m_mean\n",
    "daily_data[\"soil_moisture_0_to_7cm_mean\"] = daily_soil_moisture_0_to_7cm_mean\n",
    "daily_data[\"soil_moisture_28_to_100cm_mean\"] = daily_soil_moisture_28_to_100cm_mean\n",
    "daily_data[\"soil_moisture_7_to_28cm_mean\"] = daily_soil_moisture_7_to_28cm_mean\n",
    "daily_data[\"dew_point_2m_min\"] = daily_dew_point_2m_min\n",
    "daily_data[\"vapour_pressure_deficit_max\"] = daily_vapour_pressure_deficit_max\n",
    "daily_data[\"wind_gusts_10m_mean\"] = daily_wind_gusts_10m_mean\n",
    "daily_data[\"wind_gusts_10m_min\"] = daily_wind_gusts_10m_min\n",
    "daily_data[\"relative_humidity_2m_min\"] = daily_relative_humidity_2m_min\n",
    "daily_data[\"wind_direction_10m_dominant\"] = daily_wind_direction_10m_dominant\n",
    "daily_data[\"wind_gusts_10m_max\"] = daily_wind_gusts_10m_max\n",
    "daily_data[\"wind_speed_10m_max\"] = daily_wind_speed_10m_max\n",
    "daily_data[\"cloud_cover_mean\"] = daily_cloud_cover_mean\n",
    "daily_data[\"cloud_cover_max\"] = daily_cloud_cover_max\n",
    "daily_data[\"cloud_cover_min\"] = daily_cloud_cover_min\n",
    "daily_data[\"dew_point_2m_max\"] = daily_dew_point_2m_max\n",
    "daily_data[\"rain_sum\"] = daily_rain_sum\n",
    "daily_data[\"pressure_msl_mean\"] = daily_pressure_msl_mean\n",
    "daily_data[\"pressure_msl_max\"] = daily_pressure_msl_max\n",
    "daily_data[\"pressure_msl_min\"] = daily_pressure_msl_min\n",
    "\n",
    "df = pd.DataFrame(data = daily_data)"
   ]
  },
  {
   "cell_type": "code",
   "execution_count": 16,
   "metadata": {},
   "outputs": [],
   "source": [
    "from my_krml_25677648.data.sets import eda_summary"
   ]
  },
  {
   "cell_type": "code",
   "execution_count": 17,
   "metadata": {},
   "outputs": [
    {
     "name": "stdout",
     "output_type": "stream",
     "text": [
      "HEAD (First 5 Rows)\n",
      "\n",
      "                       date  temperature_2m_mean  daylight_duration  \\\n",
      "0 2013-12-31 14:00:00+00:00            22.197580       51688.320312   \n",
      "1 2014-01-01 14:00:00+00:00            24.607996       51655.121094   \n",
      "2 2014-01-02 14:00:00+00:00            21.947584       51619.085938   \n",
      "3 2014-01-03 14:00:00+00:00            21.497583       51580.242188   \n",
      "4 2014-01-04 14:00:00+00:00            22.468416       51538.632812   \n",
      "\n",
      "   sunshine_duration  temperature_2m_max  temperature_2m_min  \\\n",
      "0       36944.875000           25.870499           19.070499   \n",
      "1       23192.041016           33.320499           21.020500   \n",
      "2       27951.164062           24.570499           20.220501   \n",
      "3       48363.488281           24.270500           19.570499   \n",
      "4       48069.636719           26.370499           19.220501   \n",
      "\n",
      "   et0_fao_evapotranspiration_sum  wind_speed_10m_mean  wind_speed_10m_min  \\\n",
      "0                        5.013660             9.695022            1.938659   \n",
      "1                        4.933341            11.873059            5.191994   \n",
      "2                        3.671144             9.800845            2.276840   \n",
      "3                        5.142480            11.526123            2.036468   \n",
      "4                        5.226202            10.935773            1.800000   \n",
      "\n",
      "   relative_humidity_2m_mean  ...  wind_gusts_10m_max  wind_speed_10m_max  \\\n",
      "0                  74.283485  ...           45.000000           19.721298   \n",
      "1                  67.645233  ...           61.199997           23.141029   \n",
      "2                  77.378288  ...           38.880001           17.902534   \n",
      "3                  72.630409  ...           49.320000           18.057508   \n",
      "4                  73.512062  ...           56.880001           26.795223   \n",
      "\n",
      "   cloud_cover_mean  cloud_cover_max  cloud_cover_min  dew_point_2m_max  \\\n",
      "0         90.625000            100.0             41.0         18.920502   \n",
      "1         90.500000            100.0              1.0         19.720501   \n",
      "2         51.583332            100.0              0.0         19.870499   \n",
      "3         12.416667             69.0              0.0         18.720501   \n",
      "4         21.625000             66.0              0.0         19.320499   \n",
      "\n",
      "   rain_sum  pressure_msl_mean  pressure_msl_max  pressure_msl_min  \n",
      "0       0.4        1012.070801       1016.599976       1006.700012  \n",
      "1       0.0        1004.058289       1007.500000       1002.200012  \n",
      "2       0.9        1001.837585       1007.299988        996.799988  \n",
      "3       0.0        1002.749939       1009.099976        997.500000  \n",
      "4       0.1        1006.754150       1010.500000       1002.299988  \n",
      "\n",
      "[5 rows x 31 columns]\n",
      "\n",
      "\n",
      "--------------------------------------------------------------------------------\n",
      "TAIL (Last 5 Rows)\n",
      "\n",
      "                          date  temperature_2m_mean  daylight_duration  \\\n",
      "4013 2024-12-26 14:00:00+00:00            26.202085       51806.777344   \n",
      "4014 2024-12-27 14:00:00+00:00            21.352081       51786.785156   \n",
      "4015 2024-12-28 14:00:00+00:00            22.214584       51763.792969   \n",
      "4016 2024-12-29 14:00:00+00:00            22.462500       51737.851562   \n",
      "4017 2024-12-30 14:00:00+00:00            22.993752       51708.988281   \n",
      "\n",
      "      sunshine_duration  temperature_2m_max  temperature_2m_min  \\\n",
      "4013       33789.968750           35.187500           20.887499   \n",
      "4014       48554.492188           24.037500           18.587500   \n",
      "4015       48533.378906           27.887499           16.937500   \n",
      "4016       48509.531250           25.587500           19.737499   \n",
      "4017       42930.703125           26.487499           18.737499   \n",
      "\n",
      "      et0_fao_evapotranspiration_sum  wind_speed_10m_mean  wind_speed_10m_min  \\\n",
      "4013                        6.296452            16.679815            8.211235   \n",
      "4014                        5.180197            12.241256            7.486788   \n",
      "4015                        6.468780            10.361734            3.054701   \n",
      "4016                        5.375723            12.572087            8.936778   \n",
      "4017                        5.312834             9.582100            1.310420   \n",
      "\n",
      "      relative_humidity_2m_mean  ...  wind_gusts_10m_max  wind_speed_10m_max  \\\n",
      "4013                  57.966953  ...           56.880001           24.012972   \n",
      "4014                  70.346695  ...           48.239998           20.170443   \n",
      "4015                  63.680096  ...           45.360001           17.727943   \n",
      "4016                  70.827507  ...           42.839996           18.252037   \n",
      "4017                  74.040428  ...           40.320000           14.934577   \n",
      "\n",
      "      cloud_cover_mean  cloud_cover_max  cloud_cover_min  dew_point_2m_max  \\\n",
      "4013         43.500000            100.0              0.0         19.487499   \n",
      "4014         33.875000             96.0              0.0         17.037500   \n",
      "4015          7.166667             44.0              0.0         17.387499   \n",
      "4016         41.833332            100.0              6.0         18.387499   \n",
      "4017         60.375000            100.0              0.0         18.937500   \n",
      "\n",
      "      rain_sum  pressure_msl_mean  pressure_msl_max  pressure_msl_min  \n",
      "4013       0.8        1003.516663       1007.299988       1000.500000  \n",
      "4014       0.9        1009.345947       1011.400024       1007.200012  \n",
      "4015       0.0        1014.200012       1018.500000       1011.000000  \n",
      "4016       0.3        1017.649963       1020.500000       1015.099976  \n",
      "4017       0.0        1014.466614       1015.700012       1013.099976  \n",
      "\n",
      "[5 rows x 31 columns]\n",
      "\n",
      "\n",
      "--------------------------------------------------------------------------------\n",
      "SHAPE\n",
      "\n",
      "Rows: 4018  |  Columns: 31\n",
      "\n",
      "\n",
      "--------------------------------------------------------------------------------\n",
      "INFO\n",
      "\n",
      "<class 'pandas.core.frame.DataFrame'>\n",
      "RangeIndex: 4018 entries, 0 to 4017\n",
      "Data columns (total 31 columns):\n",
      " #   Column                          Non-Null Count  Dtype              \n",
      "---  ------                          --------------  -----              \n",
      " 0   date                            4018 non-null   datetime64[ns, UTC]\n",
      " 1   temperature_2m_mean             4018 non-null   float32            \n",
      " 2   daylight_duration               4018 non-null   float32            \n",
      " 3   sunshine_duration               4018 non-null   float32            \n",
      " 4   temperature_2m_max              4018 non-null   float32            \n",
      " 5   temperature_2m_min              4018 non-null   float32            \n",
      " 6   et0_fao_evapotranspiration_sum  4018 non-null   float32            \n",
      " 7   wind_speed_10m_mean             4018 non-null   float32            \n",
      " 8   wind_speed_10m_min              4018 non-null   float32            \n",
      " 9   relative_humidity_2m_mean       4018 non-null   float32            \n",
      " 10  relative_humidity_2m_max        4018 non-null   float32            \n",
      " 11  dew_point_2m_mean               4018 non-null   float32            \n",
      " 12  soil_moisture_0_to_7cm_mean     4018 non-null   float32            \n",
      " 13  soil_moisture_28_to_100cm_mean  4018 non-null   float32            \n",
      " 14  soil_moisture_7_to_28cm_mean    4018 non-null   float32            \n",
      " 15  dew_point_2m_min                4018 non-null   float32            \n",
      " 16  vapour_pressure_deficit_max     4018 non-null   float32            \n",
      " 17  wind_gusts_10m_mean             4018 non-null   float32            \n",
      " 18  wind_gusts_10m_min              4018 non-null   float32            \n",
      " 19  relative_humidity_2m_min        4018 non-null   float32            \n",
      " 20  wind_direction_10m_dominant     4018 non-null   float32            \n",
      " 21  wind_gusts_10m_max              4018 non-null   float32            \n",
      " 22  wind_speed_10m_max              4018 non-null   float32            \n",
      " 23  cloud_cover_mean                4018 non-null   float32            \n",
      " 24  cloud_cover_max                 4018 non-null   float32            \n",
      " 25  cloud_cover_min                 4018 non-null   float32            \n",
      " 26  dew_point_2m_max                4018 non-null   float32            \n",
      " 27  rain_sum                        4018 non-null   float32            \n",
      " 28  pressure_msl_mean               4018 non-null   float32            \n",
      " 29  pressure_msl_max                4018 non-null   float32            \n",
      " 30  pressure_msl_min                4018 non-null   float32            \n",
      "dtypes: datetime64[ns, UTC](1), float32(30)\n",
      "memory usage: 502.4 KB\n",
      "\n",
      "\n",
      "--------------------------------------------------------------------------------\n",
      "DESCRIBE (Summary Statistics)\n",
      "\n",
      "                            date  temperature_2m_mean  daylight_duration  \\\n",
      "count                       4018          4018.000000        4018.000000   \n",
      "mean   2019-07-02 02:00:00+00:00            17.507696       43585.648438   \n",
      "min    2013-12-31 14:00:00+00:00             7.439583       35633.425781   \n",
      "25%    2016-09-30 20:00:00+00:00            13.769270       38141.320312   \n",
      "50%    2019-07-02 02:00:00+00:00            17.664583       43437.113281   \n",
      "75%    2022-04-01 08:00:00+00:00            20.984895       49003.876953   \n",
      "max    2024-12-30 14:00:00+00:00            30.516668       51863.394531   \n",
      "std                          NaN             4.293919        5589.992188   \n",
      "\n",
      "       sunshine_duration  temperature_2m_max  temperature_2m_min  \\\n",
      "count        4018.000000         4018.000000         4018.000000   \n",
      "mean        34040.156250           21.717781           13.699521   \n",
      "min             0.000000            9.787499            0.937500   \n",
      "25%         31278.400879           18.070499            9.887500   \n",
      "50%         35695.857422           21.520500           13.737499   \n",
      "75%         41841.047852           24.712251           17.720501   \n",
      "max         48622.777344           41.837502           26.887499   \n",
      "std         11132.912109            4.620245            4.628247   \n",
      "\n",
      "       et0_fao_evapotranspiration_sum  wind_speed_10m_mean  \\\n",
      "count                     4018.000000          4018.000000   \n",
      "mean                         3.347528            12.490362   \n",
      "min                          0.336328             3.419965   \n",
      "25%                          2.179374             9.038444   \n",
      "50%                          3.157820            11.515219   \n",
      "75%                          4.379623            15.053186   \n",
      "max                          9.410537            37.387234   \n",
      "std                          1.493192             4.699646   \n",
      "\n",
      "       wind_speed_10m_min  relative_humidity_2m_mean  ...  wind_gusts_10m_max  \\\n",
      "count         4018.000000                4018.000000  ...         4018.000000   \n",
      "mean             5.377821                  73.043045  ...           41.553837   \n",
      "min              0.000000                  23.854151  ...           12.599999   \n",
      "25%              2.811690                  66.642004  ...           32.399998   \n",
      "50%              4.610250                  74.894196  ...           40.320000   \n",
      "75%              6.877790                  81.199348  ...           48.959999   \n",
      "max             29.620802                  95.974464  ...          102.239998   \n",
      "std              3.724684                  11.020697  ...           12.683429   \n",
      "\n",
      "       wind_speed_10m_max  cloud_cover_mean  cloud_cover_max  cloud_cover_min  \\\n",
      "count         4018.000000       4018.000000      4018.000000      4018.000000   \n",
      "mean            20.037930         48.284573        87.069939        12.738178   \n",
      "min              5.116561          0.000000         0.000000         0.000000   \n",
      "25%             15.141414         24.541666        89.000000         0.000000   \n",
      "50%             19.336390         47.354166       100.000000         0.000000   \n",
      "75%             24.216522         71.697918       100.000000        15.000000   \n",
      "max             48.782322        100.000000       100.000000       100.000000   \n",
      "std              6.622091         29.236443        25.269085        23.385220   \n",
      "\n",
      "       dew_point_2m_max     rain_sum  pressure_msl_mean  pressure_msl_max  \\\n",
      "count       4018.000000  4018.000000        4018.000000       4018.000000   \n",
      "mean          14.407514     2.585092        1017.192139       1020.048767   \n",
      "min            0.137500     0.000000         992.712463        997.099976   \n",
      "25%           10.937500     0.000000        1012.552063       1015.700012   \n",
      "50%           14.737499     0.200000        1017.233429       1020.099976   \n",
      "75%           18.283250     1.900000        1022.006241       1024.400024   \n",
      "max           27.187500   138.400009        1037.358276       1039.000000   \n",
      "std            4.740194     7.088373           6.793247          6.343843   \n",
      "\n",
      "       pressure_msl_min  \n",
      "count       4018.000000  \n",
      "mean        1014.532898  \n",
      "min          986.700012  \n",
      "25%         1009.524994  \n",
      "50%         1014.649994  \n",
      "75%         1019.599976  \n",
      "max         1036.099976  \n",
      "std            7.306068  \n",
      "\n",
      "[8 rows x 31 columns]\n",
      "\n",
      "\n",
      "--------------------------------------------------------------------------------\n",
      "COUNT OF NULLS PER COLUMN\n",
      "\n",
      "date                              0\n",
      "temperature_2m_mean               0\n",
      "daylight_duration                 0\n",
      "sunshine_duration                 0\n",
      "temperature_2m_max                0\n",
      "temperature_2m_min                0\n",
      "et0_fao_evapotranspiration_sum    0\n",
      "wind_speed_10m_mean               0\n",
      "wind_speed_10m_min                0\n",
      "relative_humidity_2m_mean         0\n",
      "relative_humidity_2m_max          0\n",
      "dew_point_2m_mean                 0\n",
      "soil_moisture_0_to_7cm_mean       0\n",
      "soil_moisture_28_to_100cm_mean    0\n",
      "soil_moisture_7_to_28cm_mean      0\n",
      "dew_point_2m_min                  0\n",
      "vapour_pressure_deficit_max       0\n",
      "wind_gusts_10m_mean               0\n",
      "wind_gusts_10m_min                0\n",
      "relative_humidity_2m_min          0\n",
      "wind_direction_10m_dominant       0\n",
      "wind_gusts_10m_max                0\n",
      "wind_speed_10m_max                0\n",
      "cloud_cover_mean                  0\n",
      "cloud_cover_max                   0\n",
      "cloud_cover_min                   0\n",
      "dew_point_2m_max                  0\n",
      "rain_sum                          0\n",
      "pressure_msl_mean                 0\n",
      "pressure_msl_max                  0\n",
      "pressure_msl_min                  0\n",
      "dtype: int64\n",
      "\n",
      "\n",
      "--------------------------------------------------------------------------------\n",
      "COUNT OF DUPLICATE ROWS\n",
      "\n",
      "0\n",
      "\n",
      "\n",
      "================================================================================\n"
     ]
    }
   ],
   "source": [
    "# Explore df\n",
    "eda_summary(df)"
   ]
  },
  {
   "cell_type": "markdown",
   "metadata": {
    "id": "tpG_mos_EXrY"
   },
   "source": [
    "### C.2 Define Target variable"
   ]
  },
  {
   "cell_type": "code",
   "execution_count": 18,
   "metadata": {},
   "outputs": [],
   "source": [
    "# Create the target variable: Cumulated volume of precipitation fall in mm within the next 3 days time in Sydney\n",
    "df['precipitation_fall'] = df['rain_sum'].shift(-1) + df['rain_sum'].shift(-2) + df['rain_sum'].shift(-3)"
   ]
  },
  {
   "cell_type": "code",
   "execution_count": 19,
   "metadata": {},
   "outputs": [
    {
     "data": {
      "text/html": [
       "<div>\n",
       "<style scoped>\n",
       "    .dataframe tbody tr th:only-of-type {\n",
       "        vertical-align: middle;\n",
       "    }\n",
       "\n",
       "    .dataframe tbody tr th {\n",
       "        vertical-align: top;\n",
       "    }\n",
       "\n",
       "    .dataframe thead th {\n",
       "        text-align: right;\n",
       "    }\n",
       "</style>\n",
       "<table border=\"1\" class=\"dataframe\">\n",
       "  <thead>\n",
       "    <tr style=\"text-align: right;\">\n",
       "      <th></th>\n",
       "      <th>date</th>\n",
       "      <th>temperature_2m_mean</th>\n",
       "      <th>daylight_duration</th>\n",
       "      <th>sunshine_duration</th>\n",
       "      <th>temperature_2m_max</th>\n",
       "      <th>temperature_2m_min</th>\n",
       "      <th>et0_fao_evapotranspiration_sum</th>\n",
       "      <th>wind_speed_10m_mean</th>\n",
       "      <th>wind_speed_10m_min</th>\n",
       "      <th>relative_humidity_2m_mean</th>\n",
       "      <th>...</th>\n",
       "      <th>wind_speed_10m_max</th>\n",
       "      <th>cloud_cover_mean</th>\n",
       "      <th>cloud_cover_max</th>\n",
       "      <th>cloud_cover_min</th>\n",
       "      <th>dew_point_2m_max</th>\n",
       "      <th>rain_sum</th>\n",
       "      <th>pressure_msl_mean</th>\n",
       "      <th>pressure_msl_max</th>\n",
       "      <th>pressure_msl_min</th>\n",
       "      <th>precipitation_fall</th>\n",
       "    </tr>\n",
       "  </thead>\n",
       "  <tbody>\n",
       "    <tr>\n",
       "      <th>4008</th>\n",
       "      <td>2024-12-21 14:00:00+00:00</td>\n",
       "      <td>22.035416</td>\n",
       "      <td>51860.664062</td>\n",
       "      <td>29436.945312</td>\n",
       "      <td>24.887499</td>\n",
       "      <td>19.837500</td>\n",
       "      <td>4.289347</td>\n",
       "      <td>11.684125</td>\n",
       "      <td>1.835647</td>\n",
       "      <td>72.921722</td>\n",
       "      <td>...</td>\n",
       "      <td>22.609177</td>\n",
       "      <td>63.791668</td>\n",
       "      <td>100.0</td>\n",
       "      <td>3.0</td>\n",
       "      <td>20.887499</td>\n",
       "      <td>0.2</td>\n",
       "      <td>1006.137451</td>\n",
       "      <td>1010.299988</td>\n",
       "      <td>1001.200012</td>\n",
       "      <td>0.0</td>\n",
       "    </tr>\n",
       "    <tr>\n",
       "      <th>4009</th>\n",
       "      <td>2024-12-22 14:00:00+00:00</td>\n",
       "      <td>22.908333</td>\n",
       "      <td>51856.140625</td>\n",
       "      <td>48617.746094</td>\n",
       "      <td>28.937500</td>\n",
       "      <td>18.287500</td>\n",
       "      <td>6.802649</td>\n",
       "      <td>11.640549</td>\n",
       "      <td>2.167487</td>\n",
       "      <td>58.926105</td>\n",
       "      <td>...</td>\n",
       "      <td>21.791153</td>\n",
       "      <td>34.000000</td>\n",
       "      <td>100.0</td>\n",
       "      <td>0.0</td>\n",
       "      <td>20.887499</td>\n",
       "      <td>0.0</td>\n",
       "      <td>1001.937500</td>\n",
       "      <td>1008.099976</td>\n",
       "      <td>998.299988</td>\n",
       "      <td>0.0</td>\n",
       "    </tr>\n",
       "    <tr>\n",
       "      <th>4010</th>\n",
       "      <td>2024-12-23 14:00:00+00:00</td>\n",
       "      <td>19.808332</td>\n",
       "      <td>51848.464844</td>\n",
       "      <td>48610.832031</td>\n",
       "      <td>22.537500</td>\n",
       "      <td>15.837500</td>\n",
       "      <td>6.487644</td>\n",
       "      <td>12.891021</td>\n",
       "      <td>5.983477</td>\n",
       "      <td>47.542118</td>\n",
       "      <td>...</td>\n",
       "      <td>22.732082</td>\n",
       "      <td>5.791667</td>\n",
       "      <td>89.0</td>\n",
       "      <td>0.0</td>\n",
       "      <td>12.937500</td>\n",
       "      <td>0.0</td>\n",
       "      <td>1011.550049</td>\n",
       "      <td>1015.700012</td>\n",
       "      <td>1007.700012</td>\n",
       "      <td>0.8</td>\n",
       "    </tr>\n",
       "    <tr>\n",
       "      <th>4011</th>\n",
       "      <td>2024-12-24 14:00:00+00:00</td>\n",
       "      <td>21.368750</td>\n",
       "      <td>51837.652344</td>\n",
       "      <td>48601.023438</td>\n",
       "      <td>27.187500</td>\n",
       "      <td>16.137499</td>\n",
       "      <td>6.146514</td>\n",
       "      <td>9.999595</td>\n",
       "      <td>1.988165</td>\n",
       "      <td>64.223015</td>\n",
       "      <td>...</td>\n",
       "      <td>20.690605</td>\n",
       "      <td>0.916667</td>\n",
       "      <td>8.0</td>\n",
       "      <td>0.0</td>\n",
       "      <td>17.687500</td>\n",
       "      <td>0.0</td>\n",
       "      <td>1015.845886</td>\n",
       "      <td>1017.700012</td>\n",
       "      <td>1014.200012</td>\n",
       "      <td>1.7</td>\n",
       "    </tr>\n",
       "    <tr>\n",
       "      <th>4012</th>\n",
       "      <td>2024-12-25 14:00:00+00:00</td>\n",
       "      <td>22.552084</td>\n",
       "      <td>51823.750000</td>\n",
       "      <td>48000.613281</td>\n",
       "      <td>27.037500</td>\n",
       "      <td>16.837500</td>\n",
       "      <td>6.264203</td>\n",
       "      <td>15.707917</td>\n",
       "      <td>2.052316</td>\n",
       "      <td>74.374580</td>\n",
       "      <td>...</td>\n",
       "      <td>28.227304</td>\n",
       "      <td>13.125000</td>\n",
       "      <td>99.0</td>\n",
       "      <td>0.0</td>\n",
       "      <td>18.787500</td>\n",
       "      <td>0.0</td>\n",
       "      <td>1011.941711</td>\n",
       "      <td>1016.299988</td>\n",
       "      <td>1007.099976</td>\n",
       "      <td>1.7</td>\n",
       "    </tr>\n",
       "    <tr>\n",
       "      <th>4013</th>\n",
       "      <td>2024-12-26 14:00:00+00:00</td>\n",
       "      <td>26.202085</td>\n",
       "      <td>51806.777344</td>\n",
       "      <td>33789.968750</td>\n",
       "      <td>35.187500</td>\n",
       "      <td>20.887499</td>\n",
       "      <td>6.296452</td>\n",
       "      <td>16.679815</td>\n",
       "      <td>8.211235</td>\n",
       "      <td>57.966953</td>\n",
       "      <td>...</td>\n",
       "      <td>24.012972</td>\n",
       "      <td>43.500000</td>\n",
       "      <td>100.0</td>\n",
       "      <td>0.0</td>\n",
       "      <td>19.487499</td>\n",
       "      <td>0.8</td>\n",
       "      <td>1003.516663</td>\n",
       "      <td>1007.299988</td>\n",
       "      <td>1000.500000</td>\n",
       "      <td>1.2</td>\n",
       "    </tr>\n",
       "    <tr>\n",
       "      <th>4014</th>\n",
       "      <td>2024-12-27 14:00:00+00:00</td>\n",
       "      <td>21.352081</td>\n",
       "      <td>51786.785156</td>\n",
       "      <td>48554.492188</td>\n",
       "      <td>24.037500</td>\n",
       "      <td>18.587500</td>\n",
       "      <td>5.180197</td>\n",
       "      <td>12.241256</td>\n",
       "      <td>7.486788</td>\n",
       "      <td>70.346695</td>\n",
       "      <td>...</td>\n",
       "      <td>20.170443</td>\n",
       "      <td>33.875000</td>\n",
       "      <td>96.0</td>\n",
       "      <td>0.0</td>\n",
       "      <td>17.037500</td>\n",
       "      <td>0.9</td>\n",
       "      <td>1009.345947</td>\n",
       "      <td>1011.400024</td>\n",
       "      <td>1007.200012</td>\n",
       "      <td>0.3</td>\n",
       "    </tr>\n",
       "    <tr>\n",
       "      <th>4015</th>\n",
       "      <td>2024-12-28 14:00:00+00:00</td>\n",
       "      <td>22.214584</td>\n",
       "      <td>51763.792969</td>\n",
       "      <td>48533.378906</td>\n",
       "      <td>27.887499</td>\n",
       "      <td>16.937500</td>\n",
       "      <td>6.468780</td>\n",
       "      <td>10.361734</td>\n",
       "      <td>3.054701</td>\n",
       "      <td>63.680096</td>\n",
       "      <td>...</td>\n",
       "      <td>17.727943</td>\n",
       "      <td>7.166667</td>\n",
       "      <td>44.0</td>\n",
       "      <td>0.0</td>\n",
       "      <td>17.387499</td>\n",
       "      <td>0.0</td>\n",
       "      <td>1014.200012</td>\n",
       "      <td>1018.500000</td>\n",
       "      <td>1011.000000</td>\n",
       "      <td>NaN</td>\n",
       "    </tr>\n",
       "    <tr>\n",
       "      <th>4016</th>\n",
       "      <td>2024-12-29 14:00:00+00:00</td>\n",
       "      <td>22.462500</td>\n",
       "      <td>51737.851562</td>\n",
       "      <td>48509.531250</td>\n",
       "      <td>25.587500</td>\n",
       "      <td>19.737499</td>\n",
       "      <td>5.375723</td>\n",
       "      <td>12.572087</td>\n",
       "      <td>8.936778</td>\n",
       "      <td>70.827507</td>\n",
       "      <td>...</td>\n",
       "      <td>18.252037</td>\n",
       "      <td>41.833332</td>\n",
       "      <td>100.0</td>\n",
       "      <td>6.0</td>\n",
       "      <td>18.387499</td>\n",
       "      <td>0.3</td>\n",
       "      <td>1017.649963</td>\n",
       "      <td>1020.500000</td>\n",
       "      <td>1015.099976</td>\n",
       "      <td>NaN</td>\n",
       "    </tr>\n",
       "    <tr>\n",
       "      <th>4017</th>\n",
       "      <td>2024-12-30 14:00:00+00:00</td>\n",
       "      <td>22.993752</td>\n",
       "      <td>51708.988281</td>\n",
       "      <td>42930.703125</td>\n",
       "      <td>26.487499</td>\n",
       "      <td>18.737499</td>\n",
       "      <td>5.312834</td>\n",
       "      <td>9.582100</td>\n",
       "      <td>1.310420</td>\n",
       "      <td>74.040428</td>\n",
       "      <td>...</td>\n",
       "      <td>14.934577</td>\n",
       "      <td>60.375000</td>\n",
       "      <td>100.0</td>\n",
       "      <td>0.0</td>\n",
       "      <td>18.937500</td>\n",
       "      <td>0.0</td>\n",
       "      <td>1014.466614</td>\n",
       "      <td>1015.700012</td>\n",
       "      <td>1013.099976</td>\n",
       "      <td>NaN</td>\n",
       "    </tr>\n",
       "  </tbody>\n",
       "</table>\n",
       "<p>10 rows × 32 columns</p>\n",
       "</div>"
      ],
      "text/plain": [
       "                          date  temperature_2m_mean  daylight_duration  \\\n",
       "4008 2024-12-21 14:00:00+00:00            22.035416       51860.664062   \n",
       "4009 2024-12-22 14:00:00+00:00            22.908333       51856.140625   \n",
       "4010 2024-12-23 14:00:00+00:00            19.808332       51848.464844   \n",
       "4011 2024-12-24 14:00:00+00:00            21.368750       51837.652344   \n",
       "4012 2024-12-25 14:00:00+00:00            22.552084       51823.750000   \n",
       "4013 2024-12-26 14:00:00+00:00            26.202085       51806.777344   \n",
       "4014 2024-12-27 14:00:00+00:00            21.352081       51786.785156   \n",
       "4015 2024-12-28 14:00:00+00:00            22.214584       51763.792969   \n",
       "4016 2024-12-29 14:00:00+00:00            22.462500       51737.851562   \n",
       "4017 2024-12-30 14:00:00+00:00            22.993752       51708.988281   \n",
       "\n",
       "      sunshine_duration  temperature_2m_max  temperature_2m_min  \\\n",
       "4008       29436.945312           24.887499           19.837500   \n",
       "4009       48617.746094           28.937500           18.287500   \n",
       "4010       48610.832031           22.537500           15.837500   \n",
       "4011       48601.023438           27.187500           16.137499   \n",
       "4012       48000.613281           27.037500           16.837500   \n",
       "4013       33789.968750           35.187500           20.887499   \n",
       "4014       48554.492188           24.037500           18.587500   \n",
       "4015       48533.378906           27.887499           16.937500   \n",
       "4016       48509.531250           25.587500           19.737499   \n",
       "4017       42930.703125           26.487499           18.737499   \n",
       "\n",
       "      et0_fao_evapotranspiration_sum  wind_speed_10m_mean  wind_speed_10m_min  \\\n",
       "4008                        4.289347            11.684125            1.835647   \n",
       "4009                        6.802649            11.640549            2.167487   \n",
       "4010                        6.487644            12.891021            5.983477   \n",
       "4011                        6.146514             9.999595            1.988165   \n",
       "4012                        6.264203            15.707917            2.052316   \n",
       "4013                        6.296452            16.679815            8.211235   \n",
       "4014                        5.180197            12.241256            7.486788   \n",
       "4015                        6.468780            10.361734            3.054701   \n",
       "4016                        5.375723            12.572087            8.936778   \n",
       "4017                        5.312834             9.582100            1.310420   \n",
       "\n",
       "      relative_humidity_2m_mean  ...  wind_speed_10m_max  cloud_cover_mean  \\\n",
       "4008                  72.921722  ...           22.609177         63.791668   \n",
       "4009                  58.926105  ...           21.791153         34.000000   \n",
       "4010                  47.542118  ...           22.732082          5.791667   \n",
       "4011                  64.223015  ...           20.690605          0.916667   \n",
       "4012                  74.374580  ...           28.227304         13.125000   \n",
       "4013                  57.966953  ...           24.012972         43.500000   \n",
       "4014                  70.346695  ...           20.170443         33.875000   \n",
       "4015                  63.680096  ...           17.727943          7.166667   \n",
       "4016                  70.827507  ...           18.252037         41.833332   \n",
       "4017                  74.040428  ...           14.934577         60.375000   \n",
       "\n",
       "      cloud_cover_max  cloud_cover_min  dew_point_2m_max  rain_sum  \\\n",
       "4008            100.0              3.0         20.887499       0.2   \n",
       "4009            100.0              0.0         20.887499       0.0   \n",
       "4010             89.0              0.0         12.937500       0.0   \n",
       "4011              8.0              0.0         17.687500       0.0   \n",
       "4012             99.0              0.0         18.787500       0.0   \n",
       "4013            100.0              0.0         19.487499       0.8   \n",
       "4014             96.0              0.0         17.037500       0.9   \n",
       "4015             44.0              0.0         17.387499       0.0   \n",
       "4016            100.0              6.0         18.387499       0.3   \n",
       "4017            100.0              0.0         18.937500       0.0   \n",
       "\n",
       "      pressure_msl_mean  pressure_msl_max  pressure_msl_min  \\\n",
       "4008        1006.137451       1010.299988       1001.200012   \n",
       "4009        1001.937500       1008.099976        998.299988   \n",
       "4010        1011.550049       1015.700012       1007.700012   \n",
       "4011        1015.845886       1017.700012       1014.200012   \n",
       "4012        1011.941711       1016.299988       1007.099976   \n",
       "4013        1003.516663       1007.299988       1000.500000   \n",
       "4014        1009.345947       1011.400024       1007.200012   \n",
       "4015        1014.200012       1018.500000       1011.000000   \n",
       "4016        1017.649963       1020.500000       1015.099976   \n",
       "4017        1014.466614       1015.700012       1013.099976   \n",
       "\n",
       "      precipitation_fall  \n",
       "4008                 0.0  \n",
       "4009                 0.0  \n",
       "4010                 0.8  \n",
       "4011                 1.7  \n",
       "4012                 1.7  \n",
       "4013                 1.2  \n",
       "4014                 0.3  \n",
       "4015                 NaN  \n",
       "4016                 NaN  \n",
       "4017                 NaN  \n",
       "\n",
       "[10 rows x 32 columns]"
      ]
     },
     "execution_count": 19,
     "metadata": {},
     "output_type": "execute_result"
    }
   ],
   "source": [
    "# Last 10 rows of df\n",
    "df.tail(10)"
   ]
  },
  {
   "cell_type": "code",
   "execution_count": 20,
   "metadata": {},
   "outputs": [],
   "source": [
    "# Drop rows where 'precipitation_fall' is null\n",
    "df.dropna(subset=['precipitation_fall'], inplace=True)"
   ]
  },
  {
   "cell_type": "code",
   "execution_count": 21,
   "metadata": {},
   "outputs": [
    {
     "data": {
      "text/html": [
       "<div>\n",
       "<style scoped>\n",
       "    .dataframe tbody tr th:only-of-type {\n",
       "        vertical-align: middle;\n",
       "    }\n",
       "\n",
       "    .dataframe tbody tr th {\n",
       "        vertical-align: top;\n",
       "    }\n",
       "\n",
       "    .dataframe thead th {\n",
       "        text-align: right;\n",
       "    }\n",
       "</style>\n",
       "<table border=\"1\" class=\"dataframe\">\n",
       "  <thead>\n",
       "    <tr style=\"text-align: right;\">\n",
       "      <th></th>\n",
       "      <th>date</th>\n",
       "      <th>temperature_2m_mean</th>\n",
       "      <th>daylight_duration</th>\n",
       "      <th>sunshine_duration</th>\n",
       "      <th>temperature_2m_max</th>\n",
       "      <th>temperature_2m_min</th>\n",
       "      <th>et0_fao_evapotranspiration_sum</th>\n",
       "      <th>wind_speed_10m_mean</th>\n",
       "      <th>wind_speed_10m_min</th>\n",
       "      <th>relative_humidity_2m_mean</th>\n",
       "      <th>...</th>\n",
       "      <th>wind_speed_10m_max</th>\n",
       "      <th>cloud_cover_mean</th>\n",
       "      <th>cloud_cover_max</th>\n",
       "      <th>cloud_cover_min</th>\n",
       "      <th>dew_point_2m_max</th>\n",
       "      <th>rain_sum</th>\n",
       "      <th>pressure_msl_mean</th>\n",
       "      <th>pressure_msl_max</th>\n",
       "      <th>pressure_msl_min</th>\n",
       "      <th>precipitation_fall</th>\n",
       "    </tr>\n",
       "  </thead>\n",
       "  <tbody>\n",
       "    <tr>\n",
       "      <th>4005</th>\n",
       "      <td>2024-12-18 14:00:00+00:00</td>\n",
       "      <td>20.035418</td>\n",
       "      <td>51854.968750</td>\n",
       "      <td>48615.898438</td>\n",
       "      <td>22.687500</td>\n",
       "      <td>17.787500</td>\n",
       "      <td>5.528263</td>\n",
       "      <td>15.245507</td>\n",
       "      <td>9.224011</td>\n",
       "      <td>60.617496</td>\n",
       "      <td>...</td>\n",
       "      <td>20.696869</td>\n",
       "      <td>47.625000</td>\n",
       "      <td>99.0</td>\n",
       "      <td>5.0</td>\n",
       "      <td>13.737499</td>\n",
       "      <td>0.2</td>\n",
       "      <td>1017.699951</td>\n",
       "      <td>1019.400024</td>\n",
       "      <td>1016.099976</td>\n",
       "      <td>0.7</td>\n",
       "    </tr>\n",
       "    <tr>\n",
       "      <th>4006</th>\n",
       "      <td>2024-12-19 14:00:00+00:00</td>\n",
       "      <td>19.704168</td>\n",
       "      <td>51860.105469</td>\n",
       "      <td>48620.832031</td>\n",
       "      <td>23.187500</td>\n",
       "      <td>15.387500</td>\n",
       "      <td>5.755971</td>\n",
       "      <td>9.855006</td>\n",
       "      <td>1.808978</td>\n",
       "      <td>65.657463</td>\n",
       "      <td>...</td>\n",
       "      <td>15.227830</td>\n",
       "      <td>13.125000</td>\n",
       "      <td>71.0</td>\n",
       "      <td>0.0</td>\n",
       "      <td>16.037500</td>\n",
       "      <td>0.0</td>\n",
       "      <td>1012.229187</td>\n",
       "      <td>1015.799988</td>\n",
       "      <td>1009.099976</td>\n",
       "      <td>0.7</td>\n",
       "    </tr>\n",
       "    <tr>\n",
       "      <th>4007</th>\n",
       "      <td>2024-12-20 14:00:00+00:00</td>\n",
       "      <td>21.762499</td>\n",
       "      <td>51861.992188</td>\n",
       "      <td>48622.777344</td>\n",
       "      <td>29.037500</td>\n",
       "      <td>15.837500</td>\n",
       "      <td>5.834490</td>\n",
       "      <td>9.155691</td>\n",
       "      <td>3.107282</td>\n",
       "      <td>70.268272</td>\n",
       "      <td>...</td>\n",
       "      <td>16.856689</td>\n",
       "      <td>19.916666</td>\n",
       "      <td>100.0</td>\n",
       "      <td>0.0</td>\n",
       "      <td>17.687500</td>\n",
       "      <td>0.5</td>\n",
       "      <td>1008.329102</td>\n",
       "      <td>1010.900024</td>\n",
       "      <td>1006.200012</td>\n",
       "      <td>0.2</td>\n",
       "    </tr>\n",
       "    <tr>\n",
       "      <th>4008</th>\n",
       "      <td>2024-12-21 14:00:00+00:00</td>\n",
       "      <td>22.035416</td>\n",
       "      <td>51860.664062</td>\n",
       "      <td>29436.945312</td>\n",
       "      <td>24.887499</td>\n",
       "      <td>19.837500</td>\n",
       "      <td>4.289347</td>\n",
       "      <td>11.684125</td>\n",
       "      <td>1.835647</td>\n",
       "      <td>72.921722</td>\n",
       "      <td>...</td>\n",
       "      <td>22.609177</td>\n",
       "      <td>63.791668</td>\n",
       "      <td>100.0</td>\n",
       "      <td>3.0</td>\n",
       "      <td>20.887499</td>\n",
       "      <td>0.2</td>\n",
       "      <td>1006.137451</td>\n",
       "      <td>1010.299988</td>\n",
       "      <td>1001.200012</td>\n",
       "      <td>0.0</td>\n",
       "    </tr>\n",
       "    <tr>\n",
       "      <th>4009</th>\n",
       "      <td>2024-12-22 14:00:00+00:00</td>\n",
       "      <td>22.908333</td>\n",
       "      <td>51856.140625</td>\n",
       "      <td>48617.746094</td>\n",
       "      <td>28.937500</td>\n",
       "      <td>18.287500</td>\n",
       "      <td>6.802649</td>\n",
       "      <td>11.640549</td>\n",
       "      <td>2.167487</td>\n",
       "      <td>58.926105</td>\n",
       "      <td>...</td>\n",
       "      <td>21.791153</td>\n",
       "      <td>34.000000</td>\n",
       "      <td>100.0</td>\n",
       "      <td>0.0</td>\n",
       "      <td>20.887499</td>\n",
       "      <td>0.0</td>\n",
       "      <td>1001.937500</td>\n",
       "      <td>1008.099976</td>\n",
       "      <td>998.299988</td>\n",
       "      <td>0.0</td>\n",
       "    </tr>\n",
       "    <tr>\n",
       "      <th>4010</th>\n",
       "      <td>2024-12-23 14:00:00+00:00</td>\n",
       "      <td>19.808332</td>\n",
       "      <td>51848.464844</td>\n",
       "      <td>48610.832031</td>\n",
       "      <td>22.537500</td>\n",
       "      <td>15.837500</td>\n",
       "      <td>6.487644</td>\n",
       "      <td>12.891021</td>\n",
       "      <td>5.983477</td>\n",
       "      <td>47.542118</td>\n",
       "      <td>...</td>\n",
       "      <td>22.732082</td>\n",
       "      <td>5.791667</td>\n",
       "      <td>89.0</td>\n",
       "      <td>0.0</td>\n",
       "      <td>12.937500</td>\n",
       "      <td>0.0</td>\n",
       "      <td>1011.550049</td>\n",
       "      <td>1015.700012</td>\n",
       "      <td>1007.700012</td>\n",
       "      <td>0.8</td>\n",
       "    </tr>\n",
       "    <tr>\n",
       "      <th>4011</th>\n",
       "      <td>2024-12-24 14:00:00+00:00</td>\n",
       "      <td>21.368750</td>\n",
       "      <td>51837.652344</td>\n",
       "      <td>48601.023438</td>\n",
       "      <td>27.187500</td>\n",
       "      <td>16.137499</td>\n",
       "      <td>6.146514</td>\n",
       "      <td>9.999595</td>\n",
       "      <td>1.988165</td>\n",
       "      <td>64.223015</td>\n",
       "      <td>...</td>\n",
       "      <td>20.690605</td>\n",
       "      <td>0.916667</td>\n",
       "      <td>8.0</td>\n",
       "      <td>0.0</td>\n",
       "      <td>17.687500</td>\n",
       "      <td>0.0</td>\n",
       "      <td>1015.845886</td>\n",
       "      <td>1017.700012</td>\n",
       "      <td>1014.200012</td>\n",
       "      <td>1.7</td>\n",
       "    </tr>\n",
       "    <tr>\n",
       "      <th>4012</th>\n",
       "      <td>2024-12-25 14:00:00+00:00</td>\n",
       "      <td>22.552084</td>\n",
       "      <td>51823.750000</td>\n",
       "      <td>48000.613281</td>\n",
       "      <td>27.037500</td>\n",
       "      <td>16.837500</td>\n",
       "      <td>6.264203</td>\n",
       "      <td>15.707917</td>\n",
       "      <td>2.052316</td>\n",
       "      <td>74.374580</td>\n",
       "      <td>...</td>\n",
       "      <td>28.227304</td>\n",
       "      <td>13.125000</td>\n",
       "      <td>99.0</td>\n",
       "      <td>0.0</td>\n",
       "      <td>18.787500</td>\n",
       "      <td>0.0</td>\n",
       "      <td>1011.941711</td>\n",
       "      <td>1016.299988</td>\n",
       "      <td>1007.099976</td>\n",
       "      <td>1.7</td>\n",
       "    </tr>\n",
       "    <tr>\n",
       "      <th>4013</th>\n",
       "      <td>2024-12-26 14:00:00+00:00</td>\n",
       "      <td>26.202085</td>\n",
       "      <td>51806.777344</td>\n",
       "      <td>33789.968750</td>\n",
       "      <td>35.187500</td>\n",
       "      <td>20.887499</td>\n",
       "      <td>6.296452</td>\n",
       "      <td>16.679815</td>\n",
       "      <td>8.211235</td>\n",
       "      <td>57.966953</td>\n",
       "      <td>...</td>\n",
       "      <td>24.012972</td>\n",
       "      <td>43.500000</td>\n",
       "      <td>100.0</td>\n",
       "      <td>0.0</td>\n",
       "      <td>19.487499</td>\n",
       "      <td>0.8</td>\n",
       "      <td>1003.516663</td>\n",
       "      <td>1007.299988</td>\n",
       "      <td>1000.500000</td>\n",
       "      <td>1.2</td>\n",
       "    </tr>\n",
       "    <tr>\n",
       "      <th>4014</th>\n",
       "      <td>2024-12-27 14:00:00+00:00</td>\n",
       "      <td>21.352081</td>\n",
       "      <td>51786.785156</td>\n",
       "      <td>48554.492188</td>\n",
       "      <td>24.037500</td>\n",
       "      <td>18.587500</td>\n",
       "      <td>5.180197</td>\n",
       "      <td>12.241256</td>\n",
       "      <td>7.486788</td>\n",
       "      <td>70.346695</td>\n",
       "      <td>...</td>\n",
       "      <td>20.170443</td>\n",
       "      <td>33.875000</td>\n",
       "      <td>96.0</td>\n",
       "      <td>0.0</td>\n",
       "      <td>17.037500</td>\n",
       "      <td>0.9</td>\n",
       "      <td>1009.345947</td>\n",
       "      <td>1011.400024</td>\n",
       "      <td>1007.200012</td>\n",
       "      <td>0.3</td>\n",
       "    </tr>\n",
       "  </tbody>\n",
       "</table>\n",
       "<p>10 rows × 32 columns</p>\n",
       "</div>"
      ],
      "text/plain": [
       "                          date  temperature_2m_mean  daylight_duration  \\\n",
       "4005 2024-12-18 14:00:00+00:00            20.035418       51854.968750   \n",
       "4006 2024-12-19 14:00:00+00:00            19.704168       51860.105469   \n",
       "4007 2024-12-20 14:00:00+00:00            21.762499       51861.992188   \n",
       "4008 2024-12-21 14:00:00+00:00            22.035416       51860.664062   \n",
       "4009 2024-12-22 14:00:00+00:00            22.908333       51856.140625   \n",
       "4010 2024-12-23 14:00:00+00:00            19.808332       51848.464844   \n",
       "4011 2024-12-24 14:00:00+00:00            21.368750       51837.652344   \n",
       "4012 2024-12-25 14:00:00+00:00            22.552084       51823.750000   \n",
       "4013 2024-12-26 14:00:00+00:00            26.202085       51806.777344   \n",
       "4014 2024-12-27 14:00:00+00:00            21.352081       51786.785156   \n",
       "\n",
       "      sunshine_duration  temperature_2m_max  temperature_2m_min  \\\n",
       "4005       48615.898438           22.687500           17.787500   \n",
       "4006       48620.832031           23.187500           15.387500   \n",
       "4007       48622.777344           29.037500           15.837500   \n",
       "4008       29436.945312           24.887499           19.837500   \n",
       "4009       48617.746094           28.937500           18.287500   \n",
       "4010       48610.832031           22.537500           15.837500   \n",
       "4011       48601.023438           27.187500           16.137499   \n",
       "4012       48000.613281           27.037500           16.837500   \n",
       "4013       33789.968750           35.187500           20.887499   \n",
       "4014       48554.492188           24.037500           18.587500   \n",
       "\n",
       "      et0_fao_evapotranspiration_sum  wind_speed_10m_mean  wind_speed_10m_min  \\\n",
       "4005                        5.528263            15.245507            9.224011   \n",
       "4006                        5.755971             9.855006            1.808978   \n",
       "4007                        5.834490             9.155691            3.107282   \n",
       "4008                        4.289347            11.684125            1.835647   \n",
       "4009                        6.802649            11.640549            2.167487   \n",
       "4010                        6.487644            12.891021            5.983477   \n",
       "4011                        6.146514             9.999595            1.988165   \n",
       "4012                        6.264203            15.707917            2.052316   \n",
       "4013                        6.296452            16.679815            8.211235   \n",
       "4014                        5.180197            12.241256            7.486788   \n",
       "\n",
       "      relative_humidity_2m_mean  ...  wind_speed_10m_max  cloud_cover_mean  \\\n",
       "4005                  60.617496  ...           20.696869         47.625000   \n",
       "4006                  65.657463  ...           15.227830         13.125000   \n",
       "4007                  70.268272  ...           16.856689         19.916666   \n",
       "4008                  72.921722  ...           22.609177         63.791668   \n",
       "4009                  58.926105  ...           21.791153         34.000000   \n",
       "4010                  47.542118  ...           22.732082          5.791667   \n",
       "4011                  64.223015  ...           20.690605          0.916667   \n",
       "4012                  74.374580  ...           28.227304         13.125000   \n",
       "4013                  57.966953  ...           24.012972         43.500000   \n",
       "4014                  70.346695  ...           20.170443         33.875000   \n",
       "\n",
       "      cloud_cover_max  cloud_cover_min  dew_point_2m_max  rain_sum  \\\n",
       "4005             99.0              5.0         13.737499       0.2   \n",
       "4006             71.0              0.0         16.037500       0.0   \n",
       "4007            100.0              0.0         17.687500       0.5   \n",
       "4008            100.0              3.0         20.887499       0.2   \n",
       "4009            100.0              0.0         20.887499       0.0   \n",
       "4010             89.0              0.0         12.937500       0.0   \n",
       "4011              8.0              0.0         17.687500       0.0   \n",
       "4012             99.0              0.0         18.787500       0.0   \n",
       "4013            100.0              0.0         19.487499       0.8   \n",
       "4014             96.0              0.0         17.037500       0.9   \n",
       "\n",
       "      pressure_msl_mean  pressure_msl_max  pressure_msl_min  \\\n",
       "4005        1017.699951       1019.400024       1016.099976   \n",
       "4006        1012.229187       1015.799988       1009.099976   \n",
       "4007        1008.329102       1010.900024       1006.200012   \n",
       "4008        1006.137451       1010.299988       1001.200012   \n",
       "4009        1001.937500       1008.099976        998.299988   \n",
       "4010        1011.550049       1015.700012       1007.700012   \n",
       "4011        1015.845886       1017.700012       1014.200012   \n",
       "4012        1011.941711       1016.299988       1007.099976   \n",
       "4013        1003.516663       1007.299988       1000.500000   \n",
       "4014        1009.345947       1011.400024       1007.200012   \n",
       "\n",
       "      precipitation_fall  \n",
       "4005                 0.7  \n",
       "4006                 0.7  \n",
       "4007                 0.2  \n",
       "4008                 0.0  \n",
       "4009                 0.0  \n",
       "4010                 0.8  \n",
       "4011                 1.7  \n",
       "4012                 1.7  \n",
       "4013                 1.2  \n",
       "4014                 0.3  \n",
       "\n",
       "[10 rows x 32 columns]"
      ]
     },
     "execution_count": 21,
     "metadata": {},
     "output_type": "execute_result"
    }
   ],
   "source": [
    "# Last 10 rows of df\n",
    "df.tail(10)"
   ]
  },
  {
   "cell_type": "code",
   "execution_count": 22,
   "metadata": {
    "id": "RiqBkEQ-EjIZ"
   },
   "outputs": [],
   "source": [
    "target_definition_explanations = \"\"\"This project aims to develop a predictive model to estimate the cumulative volume of precipitation in millimetres over a three-day forecast horizon. To support this objective, a new target variable, precipitation_fall, is constructed to represent the total amount of precipitation expected over the three days following each observation date. This target serves as the output for a regression model trained on historical weather data.\n",
    "\"\"\""
   ]
  },
  {
   "cell_type": "code",
   "execution_count": 23,
   "metadata": {
    "id": "qdeiAKiIElvG"
   },
   "outputs": [
    {
     "data": {
      "text/html": [
       "<p style=\"color:grey\">target_definition_explanations</p><h3 font-size: 3em>This project aims to develop a predictive model to estimate the cumulative volume of precipitation in millimetres over a three-day forecast horizon. To support this objective, a new target variable, precipitation_fall, is constructed to represent the total amount of precipitation expected over the three days following each observation date. This target serves as the output for a regression model trained on historical weather data.\n",
       "</h3>"
      ],
      "text/plain": [
       "<IPython.core.display.HTML object>"
      ]
     },
     "metadata": {},
     "output_type": "display_data"
    }
   ],
   "source": [
    "# Do not modify this code\n",
    "print_tile(size=\"h3\", key='target_definition_explanations', value=target_definition_explanations)"
   ]
  },
  {
   "cell_type": "markdown",
   "metadata": {
    "id": "CtIfwnLmEn51"
   },
   "source": [
    "### C.3 Create Target variable"
   ]
  },
  {
   "cell_type": "code",
   "execution_count": 24,
   "metadata": {
    "id": "XV8dRa59EpLG"
   },
   "outputs": [],
   "source": [
    "target_name = 'precipitation_fall'"
   ]
  },
  {
   "cell_type": "markdown",
   "metadata": {
    "id": "dmSKLrSBFAN5"
   },
   "source": [
    "### C.4 Explore Target variable"
   ]
  },
  {
   "cell_type": "code",
   "execution_count": 25,
   "metadata": {},
   "outputs": [],
   "source": [
    "from my_krml_25677648.data.sets import explore_feature_summary"
   ]
  },
  {
   "cell_type": "code",
   "execution_count": 26,
   "metadata": {},
   "outputs": [
    {
     "data": {
      "text/plain": [
       "{'Missing values': np.int64(0),\n",
       " 'Duplicate values': np.int64(3160),\n",
       " 'Unique values count': 855,\n",
       " 'Unique values (sample)': array([0.90000004, 1.        , 0.2       , 0.8       , 2.6000001 ,\n",
       "        3.        , 4.        , 2.1       , 1.5999999 , 0.        ],\n",
       "       dtype=float32)}"
      ]
     },
     "execution_count": 26,
     "metadata": {},
     "output_type": "execute_result"
    }
   ],
   "source": [
    "# Missing values, duplicates and unique values\n",
    "explore_feature_summary('precipitation_fall', df)"
   ]
  },
  {
   "cell_type": "code",
   "execution_count": 27,
   "metadata": {},
   "outputs": [
    {
     "data": {
      "text/plain": [
       "count    4015.000000\n",
       "mean        7.760473\n",
       "std        15.653054\n",
       "min         0.000000\n",
       "25%         0.200000\n",
       "50%         2.100000\n",
       "75%         8.100000\n",
       "max       203.700012\n",
       "Name: precipitation_fall, dtype: float64"
      ]
     },
     "execution_count": 27,
     "metadata": {},
     "output_type": "execute_result"
    }
   ],
   "source": [
    "# Summary statistics of precipitation_fall\n",
    "df['precipitation_fall'].describe()"
   ]
  },
  {
   "cell_type": "code",
   "execution_count": 29,
   "metadata": {},
   "outputs": [
    {
     "data": {
      "image/png": "[encoded data removed]",
      "text/plain": [
       "<Figure size 800x600 with 1 Axes>"
      ]
     },
     "metadata": {},
     "output_type": "display_data"
    }
   ],
   "source": [
    "plt.figure(figsize=(8, 6)) \n",
    "\n",
    "sns.histplot(\n",
    "    df['precipitation_fall'], \n",
    "    bins=20,                  \n",
    "    kde=True, \n",
    "    color='skyblue',         \n",
    "    stat='density',           \n",
    "    alpha=0.7,              \n",
    ")\n",
    "\n",
    "# KDE styling\n",
    "sns.kdeplot(\n",
    "    df['precipitation_fall'], \n",
    "    color='darkblue', \n",
    "    linewidth=2\n",
    ")\n",
    "\n",
    "plt.title('Distribution of Cumulative Precipitation Volume (mm) Over Next 3 Days')\n",
    "plt.xlabel('Cumulative Precipitation (mm)')\n",
    "plt.ylabel('Density')\n",
    "plt.show()"
   ]
  },
  {
   "cell_type": "code",
   "execution_count": 30,
   "metadata": {},
   "outputs": [
    {
     "name": "stdout",
     "output_type": "stream",
     "text": [
      "   Precipitation Range (mm)  Count  Percentage (%)\n",
      "0          (-0.204, 10.185]   3166       78.854296\n",
      "1           (10.185, 20.37]    422       10.510585\n",
      "2           (20.37, 30.555]    202        5.031133\n",
      "3           (30.555, 40.74]     84        2.092154\n",
      "4           (40.74, 50.925]     43        1.070984\n",
      "5           (50.925, 61.11]     25        0.622665\n",
      "6           (61.11, 71.295]     20        0.498132\n",
      "7           (71.295, 81.48]     21        0.523039\n",
      "8           (81.48, 91.665]      5        0.124533\n",
      "9          (91.665, 101.85]      5        0.124533\n",
      "10        (101.85, 112.035]      6        0.149440\n",
      "11        (112.035, 122.22]      3        0.074720\n",
      "12        (122.22, 132.405]      6        0.149440\n",
      "13        (132.405, 142.59]      2        0.049813\n",
      "14        (142.59, 152.775]      0        0.000000\n",
      "15        (152.775, 162.96]      1        0.024907\n",
      "16        (162.96, 173.145]      1        0.024907\n",
      "17        (173.145, 183.33]      0        0.000000\n",
      "18        (183.33, 193.515]      2        0.049813\n",
      "19         (193.515, 203.7]      1        0.024907\n"
     ]
    }
   ],
   "source": [
    "# Create bins\n",
    "bins = pd.cut(df['precipitation_fall'], bins=20)\n",
    "\n",
    "# Create a frequency table by counting how many fall into each bin\n",
    "freq_table = bins.value_counts().sort_index().reset_index()\n",
    "freq_table.columns = ['Precipitation Range (mm)', 'Count']\n",
    "\n",
    "# Calculate percentage of total for each bin\n",
    "freq_table['Percentage (%)'] = (freq_table['Count'] / freq_table['Count'].sum()) * 100\n",
    "\n",
    "print(freq_table)"
   ]
  },
  {
   "cell_type": "code",
   "execution_count": 33,
   "metadata": {
    "id": "5I9ccv-UEr5o"
   },
   "outputs": [],
   "source": [
    "target_distribution_explanations = \"\"\"Based on the summary statistics, about 75% of the observations show a cumulative precipitation fall of up to 8.1 mm over the three-day period. Additionally, approximately 80% of the data records precipitation volumes within the 0–10 mm range. This strong concentration of data points in the lower precipitation values indicates a significant class imbalance and a right-skewed distribution. As a result, the predictive model may struggle to accurately estimate higher precipitation volumes due to the limited number of samples representing these less frequent, heavier rainfall events.\n",
    "\"\"\""
   ]
  },
  {
   "cell_type": "code",
   "execution_count": 34,
   "metadata": {
    "id": "i45S7xA9EtEV"
   },
   "outputs": [
    {
     "data": {
      "text/html": [
       "<p style=\"color:grey\">target_distribution_explanations</p><h3 font-size: 3em>Based on the summary statistics, about 75% of the observations show a cumulative precipitation fall of up to 8.1 mm over the three-day period. Additionally, approximately 80% of the data records precipitation volumes within the 0–10 mm range. This strong concentration of data points in the lower precipitation values indicates a significant class imbalance and a right-skewed distribution. As a result, the predictive model may struggle to accurately estimate higher precipitation volumes due to the limited number of samples representing these less frequent, heavier rainfall events.\n",
       "</h3>"
      ],
      "text/plain": [
       "<IPython.core.display.HTML object>"
      ]
     },
     "metadata": {},
     "output_type": "display_data"
    }
   ],
   "source": [
    "# Do not modify this code\n",
    "print_tile(size=\"h3\", key='target_distribution_explanations', value=target_distribution_explanations)"
   ]
  },
  {
   "cell_type": "markdown",
   "metadata": {
    "id": "37ubEa7SFWXo"
   },
   "source": [
    "### C.5 Explore Feature of Interest `temperature_2m_mean `"
   ]
  },
  {
   "cell_type": "code",
   "execution_count": 35,
   "metadata": {},
   "outputs": [
    {
     "data": {
      "text/plain": [
       "count    4015.000000\n",
       "mean       17.503923\n",
       "std         4.293294\n",
       "min         7.439583\n",
       "25%        13.767708\n",
       "50%        17.662498\n",
       "75%        20.976917\n",
       "max        30.516668\n",
       "Name: temperature_2m_mean, dtype: float64"
      ]
     },
     "execution_count": 35,
     "metadata": {},
     "output_type": "execute_result"
    }
   ],
   "source": [
    "df['temperature_2m_mean'].describe()"
   ]
  },
  {
   "cell_type": "code",
   "execution_count": 36,
   "metadata": {
    "id": "wV9Ldx0gFWks"
   },
   "outputs": [
    {
     "data": {
      "image/png": "[encoded data removed]",
      "text/plain": [
       "<Figure size 800x600 with 1 Axes>"
      ]
     },
     "metadata": {},
     "output_type": "display_data"
    }
   ],
   "source": [
    "# Define bins for precipitation ranges\n",
    "bins = [0, 10, 20, 30, 40, 50, df['precipitation_fall'].max()]\n",
    "labels = ['0–10 mm', '10–20 mm', '20-30 mm', '30-40 mm', '40–50 mm', '50+ mm']\n",
    "\n",
    "# Categorize precipitation fall into bins\n",
    "df['precip_bin'] = pd.cut(df['precipitation_fall'], bins=bins, labels=labels, include_lowest=True)\n",
    "\n",
    "# Plot boxplot of average temperature by precipitation bin\n",
    "plt.figure(figsize=(8,6))\n",
    "sns.boxplot(x='precip_bin', y='temperature_2m_mean', data=df)\n",
    "\n",
    "plt.title('Average Temperature by Cumulative Precipitation Range (Next 3 Days)')\n",
    "plt.xlabel('Cumulative Precipitation Range (mm)')\n",
    "plt.ylabel('Average Temperature (°C)')\n",
    "plt.xticks(rotation=45)\n",
    "plt.tight_layout()\n",
    "plt.show()"
   ]
  },
  {
   "cell_type": "code",
   "execution_count": 39,
   "metadata": {
    "id": "y4YLcn_eEyAe"
   },
   "outputs": [],
   "source": [
    "feature_1_insights = \"\"\"When precipitation fall is categorised into finer bins such as 0 to 10 mm, 10 to 20 mm, 20 to 30 mm, 30 to 40 mm, 40 to 50 mm and 50 plus mm, the median average temperature tends to increase slightly as precipitation increases from 0 up to 30 mm. This suggests that warmer temperatures are generally associated with moderate increases in upcoming precipitation. However, this trend changes for the high precipitation category above 30 mm, where the median temperature is noticeably lower or similar to the preceding bins. This deviation is also reflected in the maximum temperatures, with the highest precipitation category showing significantly lower maximum temperatures compared to all other groups. This pattern indicates that heavy precipitation events tend to coincide with or possibly cause lower temperature extremes, which might be influenced by seasonal factors, cloud cover, or the cooling effects of sustained rainfall.\n",
    "\"\"\""
   ]
  },
  {
   "cell_type": "code",
   "execution_count": 40,
   "metadata": {
    "id": "2r1knRxDEyC0"
   },
   "outputs": [
    {
     "data": {
      "text/html": [
       "<p style=\"color:grey\">feature_1_insights</p><h3 font-size: 3em>When precipitation fall is categorised into finer bins such as 0 to 10 mm, 10 to 20 mm, 20 to 30 mm, 30 to 40 mm, 40 to 50 mm and 50 plus mm, the median average temperature tends to increase slightly as precipitation increases from 0 up to 30 mm. This suggests that warmer temperatures are generally associated with moderate increases in upcoming precipitation. However, this trend changes for the high precipitation category above 30 mm, where the median temperature is noticeably lower or similar to the preceding bins. This deviation is also reflected in the maximum temperatures, with the highest precipitation category showing significantly lower maximum temperatures compared to all other groups. This pattern indicates that heavy precipitation events tend to coincide with or possibly cause lower temperature extremes, which might be influenced by seasonal factors, cloud cover, or the cooling effects of sustained rainfall.\n",
       "</h3>"
      ],
      "text/plain": [
       "<IPython.core.display.HTML object>"
      ]
     },
     "metadata": {},
     "output_type": "display_data"
    }
   ],
   "source": [
    "# Do not modify this code\n",
    "print_tile(size=\"h3\", key='feature_1_insights', value=feature_1_insights)"
   ]
  },
  {
   "cell_type": "markdown",
   "metadata": {
    "id": "WOqd56IjE0LB"
   },
   "source": [
    "### C.6 Explore Feature of Interest `relative_humidity_2m_mean`"
   ]
  },
  {
   "cell_type": "code",
   "execution_count": 41,
   "metadata": {},
   "outputs": [
    {
     "data": {
      "text/plain": [
       "count    4015.000000\n",
       "mean       73.045677\n",
       "std        11.023757\n",
       "min        23.854151\n",
       "25%        66.642284\n",
       "50%        74.895699\n",
       "75%        81.205551\n",
       "max        95.974464\n",
       "Name: relative_humidity_2m_mean, dtype: float64"
      ]
     },
     "execution_count": 41,
     "metadata": {},
     "output_type": "execute_result"
    }
   ],
   "source": [
    "df['relative_humidity_2m_mean'].describe()"
   ]
  },
  {
   "cell_type": "code",
   "execution_count": 42,
   "metadata": {
    "id": "akQFJsI3E2eM"
   },
   "outputs": [
    {
     "data": {
      "image/png": "[encoded data removed]",
      "text/plain": [
       "<Figure size 800x600 with 1 Axes>"
      ]
     },
     "metadata": {},
     "output_type": "display_data"
    }
   ],
   "source": [
    "# Define bins for precipitation ranges\n",
    "bins = [0, 10, 30, 50, df['precipitation_fall'].max()]\n",
    "labels = ['0–10 mm', '10–30 mm', '30-50 mm', '50+ mm']\n",
    "\n",
    "# Categorize precipitation fall into bins\n",
    "df['precip_bin'] = pd.cut(df['precipitation_fall'], bins=bins, labels=labels, include_lowest=True)\n",
    "\n",
    "# Plot boxplot of humidity by precipitation bin\n",
    "plt.figure(figsize=(8,6))\n",
    "sns.boxplot(x='precip_bin', y='relative_humidity_2m_mean', data=df)\n",
    "\n",
    "plt.title('Humidity by Cumulative Precipitation Range (Next 3 Days)')\n",
    "plt.xlabel('Cumulative Precipitation Range (mm)')\n",
    "plt.ylabel('Humidity')\n",
    "plt.xticks(rotation=45)\n",
    "plt.tight_layout()\n",
    "plt.show()"
   ]
  },
  {
   "cell_type": "code",
   "execution_count": 43,
   "metadata": {
    "id": "u-CfAsO1E2hB"
   },
   "outputs": [],
   "source": [
    "feature_2_insights = \"\"\"When precipitation fall is categorised into broader bins such as 0–10 mm, 10–30 mm, 30–50 mm and 50+ mm, distinct differences emerge in precipitation and humidity distributions. In the lowest precipitation category (0–10 mm), both the interquartile range and minimum humidity values are generally lower, with more data points concentrated at the lower end of the humidity scale, indicating drier conditions. As precipitation increases to higher categories, humidity tends to rise, showing higher median and interquartile range values. This suggests that greater upcoming precipitation is associated with higher ambient humidity levels.\n",
    "\"\"\""
   ]
  },
  {
   "cell_type": "code",
   "execution_count": 44,
   "metadata": {
    "id": "bB87lgCAE2jf"
   },
   "outputs": [
    {
     "data": {
      "text/html": [
       "<p style=\"color:grey\">feature_2_insights</p><h3 font-size: 3em>When precipitation fall is categorised into broader bins such as 0–10 mm, 10–30 mm, 30–50 mm and 50+ mm, distinct differences emerge in precipitation and humidity distributions. In the lowest precipitation category (0–10 mm), both the interquartile range and minimum humidity values are generally lower, with more data points concentrated at the lower end of the humidity scale, indicating drier conditions. As precipitation increases to higher categories, humidity tends to rise, showing higher median and interquartile range values. This suggests that greater upcoming precipitation is associated with higher ambient humidity levels.\n",
       "</h3>"
      ],
      "text/plain": [
       "<IPython.core.display.HTML object>"
      ]
     },
     "metadata": {},
     "output_type": "display_data"
    }
   ],
   "source": [
    "# Do not modify this code\n",
    "print_tile(size=\"h3\", key='feature_2_insights', value=feature_2_insights)"
   ]
  },
  {
   "cell_type": "markdown",
   "metadata": {
    "id": "-8J_tiLgE26i"
   },
   "source": [
    "### C.7 Explore Feature of Interest `cloud_cover_mean `\n"
   ]
  },
  {
   "cell_type": "code",
   "execution_count": 45,
   "metadata": {
    "id": "qeyyEgIrE6GB"
   },
   "outputs": [
    {
     "data": {
      "text/plain": [
       "count    4015.000000\n",
       "mean       48.293407\n",
       "std        29.239363\n",
       "min         0.000000\n",
       "25%        24.541666\n",
       "50%        47.375000\n",
       "75%        71.708336\n",
       "max       100.000000\n",
       "Name: cloud_cover_mean, dtype: float64"
      ]
     },
     "execution_count": 45,
     "metadata": {},
     "output_type": "execute_result"
    }
   ],
   "source": [
    "df['cloud_cover_mean'].describe()"
   ]
  },
  {
   "cell_type": "code",
   "execution_count": 46,
   "metadata": {},
   "outputs": [
    {
     "data": {
      "image/png": "[encoded data removed]",
      "text/plain": [
       "<Figure size 800x600 with 1 Axes>"
      ]
     },
     "metadata": {},
     "output_type": "display_data"
    }
   ],
   "source": [
    "# Define bins for precipitation ranges\n",
    "bins = [0, 10, 30, 50, df['precipitation_fall'].max()]\n",
    "labels = ['0–10 mm', '10–30 mm', '30-50 mm', '50+ mm']\n",
    "\n",
    "# Categorize precipitation fall into bins\n",
    "df['precip_bin'] = pd.cut(df['precipitation_fall'], bins=bins, labels=labels, include_lowest=True)\n",
    "\n",
    "# Plot boxplot of cloud cover by precipitation bin\n",
    "plt.figure(figsize=(8,6))\n",
    "sns.boxplot(x='precip_bin', y='cloud_cover_mean', data=df)\n",
    "\n",
    "plt.title('Cloud Cover by Cumulative Precipitation Range (Next 3 Days)')\n",
    "plt.xlabel('Cumulative Precipitation Range (mm)')\n",
    "plt.ylabel('Cloud Cover')\n",
    "plt.xticks(rotation=45)\n",
    "plt.tight_layout()\n",
    "plt.show()"
   ]
  },
  {
   "cell_type": "code",
   "execution_count": 47,
   "metadata": {
    "id": "_Vlh8usmE6In"
   },
   "outputs": [],
   "source": [
    "feature_3_insights = \"\"\"It is clear that cloud cover and precipitation fall have a relationship. Since most precipitation fall values are less than 10 mm, the interquartile range of cloud cover in this group is significantly lower than in the others. In contrast, for precipitation fall larger than 50 mm, cloud cover shows a notably higher median value. This indicates that heavier precipitation is generally associated with greater cloud cover.\n",
    "\"\"\""
   ]
  },
  {
   "cell_type": "code",
   "execution_count": 49,
   "metadata": {
    "id": "BNZGN3nrE6LJ"
   },
   "outputs": [
    {
     "data": {
      "text/html": [
       "<p style=\"color:grey\">feature_3_insights</p><h3 font-size: 3em>It is clear that cloud cover and precipitation fall have a relationship. Since most precipitation fall values are less than 10 mm, the interquartile range of cloud cover in this group is significantly lower than in the others. In contrast, for precipitation fall larger than 50 mm, cloud cover shows a notably higher median value. This indicates that heavier precipitation is generally associated with greater cloud cover.\n",
       "</h3>"
      ],
      "text/plain": [
       "<IPython.core.display.HTML object>"
      ]
     },
     "metadata": {},
     "output_type": "display_data"
    }
   ],
   "source": [
    "# Do not modify this code\n",
    "print_tile(size=\"h3\", key='feature_3_insights', value=feature_3_insights)"
   ]
  },
  {
   "cell_type": "markdown",
   "metadata": {
    "id": "_NCwQQFkU3v5"
   },
   "source": [
    "---\n",
    "## D. Feature Selection\n"
   ]
  },
  {
   "cell_type": "markdown",
   "metadata": {
    "id": "0b8C9WON3Toe"
   },
   "source": [
    "### D.1 Approach \"Correlation Analysis\"\n"
   ]
  },
  {
   "cell_type": "code",
   "execution_count": 50,
   "metadata": {},
   "outputs": [],
   "source": [
    "df.drop(columns=['precip_bin'], inplace=True)"
   ]
  },
  {
   "cell_type": "code",
   "execution_count": 51,
   "metadata": {},
   "outputs": [],
   "source": [
    "# Parameter\n",
    "target_col = 'precipitation_fall'\n",
    "corr_threshold = 0.90  # Threshold for highly correlated features\n",
    "\n",
    "# Plot correlation heatmap of all features \n",
    "def plot_correlation_heatmap(data):\n",
    "    corr_matrix = data.corr()\n",
    "    plt.figure(figsize=(24, 20))\n",
    "    sns.heatmap(corr_matrix, annot=True, fmt=\".2f\", cmap='coolwarm', center=0)\n",
    "    plt.title('Correlation Heatmap of Features', fontsize=18)\n",
    "    plt.xticks(rotation=45, ha='right')\n",
    "    plt.yticks(rotation=0)\n",
    "    plt.tight_layout()\n",
    "    plt.show()\n",
    "\n",
    "# Print correlation of all features with target \n",
    "def print_target_correlation(data, target):\n",
    "    target_corr = data.corr()[target].sort_values(ascending=False)\n",
    "    print(f\"Correlation of features with target '{target}':\")\n",
    "    print(target_corr)\n",
    "    return target_corr\n",
    "\n",
    "# Identify and drop highly correlated features based on target correlation\n",
    "def drop_highly_correlated_features(data, target, threshold):\n",
    "    numerical_features = data.select_dtypes(include='number').drop(columns=[target])\n",
    "    corr_matrix = numerical_features.corr().abs()\n",
    "    upper = corr_matrix.where(np.triu(np.ones(corr_matrix.shape), k=1).astype(bool))\n",
    "    target_corr = data[numerical_features.columns].apply(lambda col: data[target].corr(col))\n",
    "\n",
    "    to_drop = set()\n",
    "    correlated_pairs = upper.stack().loc[lambda x: x > threshold].index.tolist()\n",
    "    for col1, col2 in correlated_pairs:\n",
    "        if col1 in to_drop or col2 in to_drop:\n",
    "            continue\n",
    "        if abs(target_corr[col1]) > abs(target_corr[col2]):\n",
    "            to_drop.add(col2)\n",
    "        else:\n",
    "            to_drop.add(col1)\n",
    "\n",
    "    reduced_df = data.drop(columns=to_drop)\n",
    "    print(f\"Dropped {len(to_drop)} features due to high correlation above {threshold}:\")\n",
    "    print(to_drop)\n",
    "    return reduced_df, to_drop\n",
    "\n",
    "# Find and display highly correlated feature pairs\n",
    "def find_highly_correlated_pairs(data, target, threshold):\n",
    "    numerical_df = data.select_dtypes(include='number').drop(columns=[target])\n",
    "    corr_matrix = numerical_df.corr().abs()\n",
    "    upper = corr_matrix.where(np.triu(np.ones(corr_matrix.shape), k=1).astype(bool))\n",
    "    \n",
    "    high_corr_pairs = [\n",
    "        (col1, col2, upper.loc[col1, col2])\n",
    "        for col1 in upper.columns\n",
    "        for col2 in upper.index\n",
    "        if pd.notnull(upper.loc[col1, col2]) and upper.loc[col1, col2] > threshold\n",
    "    ]\n",
    "    \n",
    "    high_corr_df = pd.DataFrame(high_corr_pairs, columns=[\"Feature_1\", \"Feature_2\", \"Correlation\"])\n",
    "    high_corr_df = high_corr_df.sort_values(by=\"Correlation\", ascending=False).reset_index(drop=True)\n",
    "    \n",
    "    print(f\"Highly correlated feature pairs (|corr| > {threshold}):\")\n",
    "    print(high_corr_df)\n",
    "    \n",
    "    return high_corr_df"
   ]
  },
  {
   "cell_type": "code",
   "execution_count": 52,
   "metadata": {},
   "outputs": [
    {
     "name": "stdout",
     "output_type": "stream",
     "text": [
      "Correlation of features with target 'precipitation_fall':\n",
      "precipitation_fall                1.000000\n",
      "cloud_cover_min                   0.309393\n",
      "rain_sum                          0.288623\n",
      "cloud_cover_mean                  0.267811\n",
      "relative_humidity_2m_min          0.222063\n",
      "relative_humidity_2m_mean         0.213962\n",
      "dew_point_2m_mean                 0.203548\n",
      "dew_point_2m_min                  0.201503\n",
      "dew_point_2m_max                  0.189820\n",
      "soil_moisture_0_to_7cm_mean       0.159036\n",
      "temperature_2m_min                0.157035\n",
      "relative_humidity_2m_max          0.135372\n",
      "cloud_cover_max                   0.132821\n",
      "temperature_2m_mean               0.117781\n",
      "soil_moisture_7_to_28cm_mean      0.104120\n",
      "date                              0.082748\n",
      "daylight_duration                 0.064772\n",
      "wind_gusts_10m_min                0.054379\n",
      "temperature_2m_max                0.054204\n",
      "wind_speed_10m_min                0.047273\n",
      "wind_speed_10m_mean               0.041008\n",
      "wind_gusts_10m_mean               0.038182\n",
      "wind_speed_10m_max                0.037508\n",
      "wind_gusts_10m_max                0.023063\n",
      "soil_moisture_28_to_100cm_mean    0.019724\n",
      "pressure_msl_min                  0.003645\n",
      "pressure_msl_mean                -0.009649\n",
      "pressure_msl_max                 -0.026917\n",
      "vapour_pressure_deficit_max      -0.087986\n",
      "et0_fao_evapotranspiration_sum   -0.093930\n",
      "wind_direction_10m_dominant      -0.117695\n",
      "sunshine_duration                -0.217302\n",
      "Name: precipitation_fall, dtype: float64\n"
     ]
    }
   ],
   "source": [
    "# Print correlations with target\n",
    "target_correlations = print_target_correlation(df, target_col)"
   ]
  },
  {
   "cell_type": "code",
   "execution_count": 53,
   "metadata": {},
   "outputs": [
    {
     "name": "stdout",
     "output_type": "stream",
     "text": [
      "Dropped 9 features due to high correlation above 0.9:\n",
      "{'temperature_2m_max', 'wind_speed_10m_min', 'pressure_msl_mean', 'dew_point_2m_min', 'dew_point_2m_max', 'temperature_2m_mean', 'wind_gusts_10m_max', 'pressure_msl_min', 'wind_gusts_10m_mean'}\n"
     ]
    }
   ],
   "source": [
    "# Drop highly correlated features\n",
    "df_reduced, dropped_features = drop_highly_correlated_features(df, target_col, corr_threshold)"
   ]
  },
  {
   "cell_type": "code",
   "execution_count": 54,
   "metadata": {},
   "outputs": [
    {
     "name": "stdout",
     "output_type": "stream",
     "text": [
      "Highly correlated feature pairs (|corr| > 0.9):\n",
      "             Feature_1            Feature_2  Correlation\n",
      "0    pressure_msl_mean     pressure_msl_min     0.986279\n",
      "1  wind_speed_10m_mean  wind_gusts_10m_mean     0.977384\n",
      "2    pressure_msl_mean     pressure_msl_max     0.975997\n",
      "3    dew_point_2m_mean     dew_point_2m_min     0.968908\n",
      "4    dew_point_2m_mean     dew_point_2m_max     0.967531\n",
      "5   wind_gusts_10m_max   wind_speed_10m_max     0.950444\n",
      "6     pressure_msl_max     pressure_msl_min     0.935273\n",
      "7  temperature_2m_mean   temperature_2m_min     0.927983\n",
      "8  temperature_2m_mean   temperature_2m_max     0.908907\n",
      "9   wind_speed_10m_min   wind_gusts_10m_min     0.906698\n"
     ]
    }
   ],
   "source": [
    "# Display pairs of highly correlated features before dropping\n",
    "high_corr_pairs_df = find_highly_correlated_pairs(df, target_col, corr_threshold)"
   ]
  },
  {
   "cell_type": "code",
   "execution_count": 55,
   "metadata": {
    "id": "Z9myLlFZFQXj"
   },
   "outputs": [],
   "source": [
    "feature_selection_1_insights = \"\"\"The correlation analysis begins by computing and visualising the correlation matrix of all numerical features through a heatmap, allowing for easy identification of relationships between variables. Subsequently, the correlation of each feature with the target variable, precipitation fall, is printed and sorted to highlight the most influential predictors. To reduce multicollinearity and improve model robustness, highly correlated features (above a specified threshold of 0.90) are identified and selectively dropped. The decision on which feature to drop is based on their absolute correlation with the target variable—features less strongly correlated with the target are removed to retain the most relevant information. Additionally, pairs of features exhibiting high correlation above the threshold are explicitly listed, offering insights into potential redundancy within the dataset. This systematic approach helps streamline the feature set, minimising redundancy and enhancing the predictive power of the model.\n",
    "\"\"\""
   ]
  },
  {
   "cell_type": "code",
   "execution_count": 56,
   "metadata": {
    "id": "937YFeqDFQgB"
   },
   "outputs": [
    {
     "data": {
      "text/html": [
       "<p style=\"color:grey\">feature_selection_1_insights</p><h3 font-size: 3em>The correlation analysis begins by computing and visualising the correlation matrix of all numerical features through a heatmap, allowing for easy identification of relationships between variables. Subsequently, the correlation of each feature with the target variable, precipitation fall, is printed and sorted to highlight the most influential predictors. To reduce multicollinearity and improve model robustness, highly correlated features (above a specified threshold of 0.90) are identified and selectively dropped. The decision on which feature to drop is based on their absolute correlation with the target variable—features less strongly correlated with the target are removed to retain the most relevant information. Additionally, pairs of features exhibiting high correlation above the threshold are explicitly listed, offering insights into potential redundancy within the dataset. This systematic approach helps streamline the feature set, minimising redundancy and enhancing the predictive power of the model.\n",
       "</h3>"
      ],
      "text/plain": [
       "<IPython.core.display.HTML object>"
      ]
     },
     "metadata": {},
     "output_type": "display_data"
    }
   ],
   "source": [
    "# Do not modify this code\n",
    "print_tile(size=\"h3\", key='feature_selection_1_insights', value=feature_selection_1_insights)"
   ]
  },
  {
   "cell_type": "markdown",
   "metadata": {
    "id": "j-nNSpJK0Rgu"
   },
   "source": [
    "---\n",
    "## E. Data Preparation"
   ]
  },
  {
   "cell_type": "code",
   "execution_count": 57,
   "metadata": {},
   "outputs": [
    {
     "data": {
      "text/html": [
       "<div>\n",
       "<style scoped>\n",
       "    .dataframe tbody tr th:only-of-type {\n",
       "        vertical-align: middle;\n",
       "    }\n",
       "\n",
       "    .dataframe tbody tr th {\n",
       "        vertical-align: top;\n",
       "    }\n",
       "\n",
       "    .dataframe thead th {\n",
       "        text-align: right;\n",
       "    }\n",
       "</style>\n",
       "<table border=\"1\" class=\"dataframe\">\n",
       "  <thead>\n",
       "    <tr style=\"text-align: right;\">\n",
       "      <th></th>\n",
       "      <th>date</th>\n",
       "      <th>daylight_duration</th>\n",
       "      <th>sunshine_duration</th>\n",
       "      <th>temperature_2m_min</th>\n",
       "      <th>et0_fao_evapotranspiration_sum</th>\n",
       "      <th>wind_speed_10m_mean</th>\n",
       "      <th>relative_humidity_2m_mean</th>\n",
       "      <th>relative_humidity_2m_max</th>\n",
       "      <th>dew_point_2m_mean</th>\n",
       "      <th>soil_moisture_0_to_7cm_mean</th>\n",
       "      <th>...</th>\n",
       "      <th>wind_gusts_10m_min</th>\n",
       "      <th>relative_humidity_2m_min</th>\n",
       "      <th>wind_direction_10m_dominant</th>\n",
       "      <th>wind_speed_10m_max</th>\n",
       "      <th>cloud_cover_mean</th>\n",
       "      <th>cloud_cover_max</th>\n",
       "      <th>cloud_cover_min</th>\n",
       "      <th>rain_sum</th>\n",
       "      <th>pressure_msl_max</th>\n",
       "      <th>precipitation_fall</th>\n",
       "    </tr>\n",
       "  </thead>\n",
       "  <tbody>\n",
       "    <tr>\n",
       "      <th>0</th>\n",
       "      <td>2013-12-31 14:00:00+00:00</td>\n",
       "      <td>51688.320312</td>\n",
       "      <td>36944.875000</td>\n",
       "      <td>19.070499</td>\n",
       "      <td>5.013660</td>\n",
       "      <td>9.695022</td>\n",
       "      <td>74.283485</td>\n",
       "      <td>88.191528</td>\n",
       "      <td>17.216333</td>\n",
       "      <td>0.097125</td>\n",
       "      <td>...</td>\n",
       "      <td>6.480000</td>\n",
       "      <td>56.672028</td>\n",
       "      <td>50.980602</td>\n",
       "      <td>19.721298</td>\n",
       "      <td>90.625000</td>\n",
       "      <td>100.0</td>\n",
       "      <td>41.0</td>\n",
       "      <td>0.4</td>\n",
       "      <td>1016.599976</td>\n",
       "      <td>0.9</td>\n",
       "    </tr>\n",
       "    <tr>\n",
       "      <th>1</th>\n",
       "      <td>2014-01-01 14:00:00+00:00</td>\n",
       "      <td>51655.121094</td>\n",
       "      <td>23192.041016</td>\n",
       "      <td>21.020500</td>\n",
       "      <td>4.933341</td>\n",
       "      <td>11.873059</td>\n",
       "      <td>67.645233</td>\n",
       "      <td>86.262321</td>\n",
       "      <td>17.212168</td>\n",
       "      <td>0.086083</td>\n",
       "      <td>...</td>\n",
       "      <td>11.159999</td>\n",
       "      <td>29.363708</td>\n",
       "      <td>252.678192</td>\n",
       "      <td>23.141029</td>\n",
       "      <td>90.500000</td>\n",
       "      <td>100.0</td>\n",
       "      <td>1.0</td>\n",
       "      <td>0.0</td>\n",
       "      <td>1007.500000</td>\n",
       "      <td>1.0</td>\n",
       "    </tr>\n",
       "    <tr>\n",
       "      <th>2</th>\n",
       "      <td>2014-01-02 14:00:00+00:00</td>\n",
       "      <td>51619.085938</td>\n",
       "      <td>27951.164062</td>\n",
       "      <td>20.220501</td>\n",
       "      <td>3.671144</td>\n",
       "      <td>9.800845</td>\n",
       "      <td>77.378288</td>\n",
       "      <td>92.547340</td>\n",
       "      <td>17.741335</td>\n",
       "      <td>0.084500</td>\n",
       "      <td>...</td>\n",
       "      <td>6.480000</td>\n",
       "      <td>66.893669</td>\n",
       "      <td>70.074326</td>\n",
       "      <td>17.902534</td>\n",
       "      <td>51.583332</td>\n",
       "      <td>100.0</td>\n",
       "      <td>0.0</td>\n",
       "      <td>0.9</td>\n",
       "      <td>1007.299988</td>\n",
       "      <td>0.2</td>\n",
       "    </tr>\n",
       "    <tr>\n",
       "      <th>3</th>\n",
       "      <td>2014-01-03 14:00:00+00:00</td>\n",
       "      <td>51580.242188</td>\n",
       "      <td>48363.488281</td>\n",
       "      <td>19.570499</td>\n",
       "      <td>5.142480</td>\n",
       "      <td>11.526123</td>\n",
       "      <td>72.630409</td>\n",
       "      <td>94.254036</td>\n",
       "      <td>16.226751</td>\n",
       "      <td>0.079625</td>\n",
       "      <td>...</td>\n",
       "      <td>8.640000</td>\n",
       "      <td>55.943367</td>\n",
       "      <td>135.078217</td>\n",
       "      <td>18.057508</td>\n",
       "      <td>12.416667</td>\n",
       "      <td>69.0</td>\n",
       "      <td>0.0</td>\n",
       "      <td>0.0</td>\n",
       "      <td>1009.099976</td>\n",
       "      <td>0.8</td>\n",
       "    </tr>\n",
       "    <tr>\n",
       "      <th>4</th>\n",
       "      <td>2014-01-04 14:00:00+00:00</td>\n",
       "      <td>51538.632812</td>\n",
       "      <td>48069.636719</td>\n",
       "      <td>19.220501</td>\n",
       "      <td>5.226202</td>\n",
       "      <td>10.935773</td>\n",
       "      <td>73.512062</td>\n",
       "      <td>85.453674</td>\n",
       "      <td>17.326750</td>\n",
       "      <td>0.075750</td>\n",
       "      <td>...</td>\n",
       "      <td>8.280000</td>\n",
       "      <td>54.870174</td>\n",
       "      <td>48.845158</td>\n",
       "      <td>26.795223</td>\n",
       "      <td>21.625000</td>\n",
       "      <td>66.0</td>\n",
       "      <td>0.0</td>\n",
       "      <td>0.1</td>\n",
       "      <td>1010.500000</td>\n",
       "      <td>2.6</td>\n",
       "    </tr>\n",
       "    <tr>\n",
       "      <th>...</th>\n",
       "      <td>...</td>\n",
       "      <td>...</td>\n",
       "      <td>...</td>\n",
       "      <td>...</td>\n",
       "      <td>...</td>\n",
       "      <td>...</td>\n",
       "      <td>...</td>\n",
       "      <td>...</td>\n",
       "      <td>...</td>\n",
       "      <td>...</td>\n",
       "      <td>...</td>\n",
       "      <td>...</td>\n",
       "      <td>...</td>\n",
       "      <td>...</td>\n",
       "      <td>...</td>\n",
       "      <td>...</td>\n",
       "      <td>...</td>\n",
       "      <td>...</td>\n",
       "      <td>...</td>\n",
       "      <td>...</td>\n",
       "      <td>...</td>\n",
       "    </tr>\n",
       "    <tr>\n",
       "      <th>4010</th>\n",
       "      <td>2024-12-23 14:00:00+00:00</td>\n",
       "      <td>51848.464844</td>\n",
       "      <td>48610.832031</td>\n",
       "      <td>15.837500</td>\n",
       "      <td>6.487644</td>\n",
       "      <td>12.891021</td>\n",
       "      <td>47.542118</td>\n",
       "      <td>73.028931</td>\n",
       "      <td>8.020833</td>\n",
       "      <td>0.040542</td>\n",
       "      <td>...</td>\n",
       "      <td>11.879999</td>\n",
       "      <td>34.091835</td>\n",
       "      <td>184.936935</td>\n",
       "      <td>22.732082</td>\n",
       "      <td>5.791667</td>\n",
       "      <td>89.0</td>\n",
       "      <td>0.0</td>\n",
       "      <td>0.0</td>\n",
       "      <td>1015.700012</td>\n",
       "      <td>0.8</td>\n",
       "    </tr>\n",
       "    <tr>\n",
       "      <th>4011</th>\n",
       "      <td>2024-12-24 14:00:00+00:00</td>\n",
       "      <td>51837.652344</td>\n",
       "      <td>48601.023438</td>\n",
       "      <td>16.137499</td>\n",
       "      <td>6.146514</td>\n",
       "      <td>9.999595</td>\n",
       "      <td>64.223015</td>\n",
       "      <td>89.617271</td>\n",
       "      <td>13.904166</td>\n",
       "      <td>0.040417</td>\n",
       "      <td>...</td>\n",
       "      <td>5.760000</td>\n",
       "      <td>40.663586</td>\n",
       "      <td>57.746136</td>\n",
       "      <td>20.690605</td>\n",
       "      <td>0.916667</td>\n",
       "      <td>8.0</td>\n",
       "      <td>0.0</td>\n",
       "      <td>0.0</td>\n",
       "      <td>1017.700012</td>\n",
       "      <td>1.7</td>\n",
       "    </tr>\n",
       "    <tr>\n",
       "      <th>4012</th>\n",
       "      <td>2024-12-25 14:00:00+00:00</td>\n",
       "      <td>51823.750000</td>\n",
       "      <td>48000.613281</td>\n",
       "      <td>16.837500</td>\n",
       "      <td>6.264203</td>\n",
       "      <td>15.707917</td>\n",
       "      <td>74.374580</td>\n",
       "      <td>99.369675</td>\n",
       "      <td>17.331251</td>\n",
       "      <td>0.040542</td>\n",
       "      <td>...</td>\n",
       "      <td>5.400000</td>\n",
       "      <td>52.313023</td>\n",
       "      <td>37.269981</td>\n",
       "      <td>28.227304</td>\n",
       "      <td>13.125000</td>\n",
       "      <td>99.0</td>\n",
       "      <td>0.0</td>\n",
       "      <td>0.0</td>\n",
       "      <td>1016.299988</td>\n",
       "      <td>1.7</td>\n",
       "    </tr>\n",
       "    <tr>\n",
       "      <th>4013</th>\n",
       "      <td>2024-12-26 14:00:00+00:00</td>\n",
       "      <td>51806.777344</td>\n",
       "      <td>33789.968750</td>\n",
       "      <td>20.887499</td>\n",
       "      <td>6.296452</td>\n",
       "      <td>16.679815</td>\n",
       "      <td>57.966953</td>\n",
       "      <td>83.898361</td>\n",
       "      <td>16.254166</td>\n",
       "      <td>0.041875</td>\n",
       "      <td>...</td>\n",
       "      <td>22.680000</td>\n",
       "      <td>27.073923</td>\n",
       "      <td>339.781250</td>\n",
       "      <td>24.012972</td>\n",
       "      <td>43.500000</td>\n",
       "      <td>100.0</td>\n",
       "      <td>0.0</td>\n",
       "      <td>0.8</td>\n",
       "      <td>1007.299988</td>\n",
       "      <td>1.2</td>\n",
       "    </tr>\n",
       "    <tr>\n",
       "      <th>4014</th>\n",
       "      <td>2024-12-27 14:00:00+00:00</td>\n",
       "      <td>51786.785156</td>\n",
       "      <td>48554.492188</td>\n",
       "      <td>18.587500</td>\n",
       "      <td>5.180197</td>\n",
       "      <td>12.241256</td>\n",
       "      <td>70.346695</td>\n",
       "      <td>84.845100</td>\n",
       "      <td>15.570831</td>\n",
       "      <td>0.051833</td>\n",
       "      <td>...</td>\n",
       "      <td>15.480000</td>\n",
       "      <td>57.037624</td>\n",
       "      <td>109.408127</td>\n",
       "      <td>20.170443</td>\n",
       "      <td>33.875000</td>\n",
       "      <td>96.0</td>\n",
       "      <td>0.0</td>\n",
       "      <td>0.9</td>\n",
       "      <td>1011.400024</td>\n",
       "      <td>0.3</td>\n",
       "    </tr>\n",
       "  </tbody>\n",
       "</table>\n",
       "<p>4015 rows × 23 columns</p>\n",
       "</div>"
      ],
      "text/plain": [
       "                          date  daylight_duration  sunshine_duration  \\\n",
       "0    2013-12-31 14:00:00+00:00       51688.320312       36944.875000   \n",
       "1    2014-01-01 14:00:00+00:00       51655.121094       23192.041016   \n",
       "2    2014-01-02 14:00:00+00:00       51619.085938       27951.164062   \n",
       "3    2014-01-03 14:00:00+00:00       51580.242188       48363.488281   \n",
       "4    2014-01-04 14:00:00+00:00       51538.632812       48069.636719   \n",
       "...                        ...                ...                ...   \n",
       "4010 2024-12-23 14:00:00+00:00       51848.464844       48610.832031   \n",
       "4011 2024-12-24 14:00:00+00:00       51837.652344       48601.023438   \n",
       "4012 2024-12-25 14:00:00+00:00       51823.750000       48000.613281   \n",
       "4013 2024-12-26 14:00:00+00:00       51806.777344       33789.968750   \n",
       "4014 2024-12-27 14:00:00+00:00       51786.785156       48554.492188   \n",
       "\n",
       "      temperature_2m_min  et0_fao_evapotranspiration_sum  wind_speed_10m_mean  \\\n",
       "0              19.070499                        5.013660             9.695022   \n",
       "1              21.020500                        4.933341            11.873059   \n",
       "2              20.220501                        3.671144             9.800845   \n",
       "3              19.570499                        5.142480            11.526123   \n",
       "4              19.220501                        5.226202            10.935773   \n",
       "...                  ...                             ...                  ...   \n",
       "4010           15.837500                        6.487644            12.891021   \n",
       "4011           16.137499                        6.146514             9.999595   \n",
       "4012           16.837500                        6.264203            15.707917   \n",
       "4013           20.887499                        6.296452            16.679815   \n",
       "4014           18.587500                        5.180197            12.241256   \n",
       "\n",
       "      relative_humidity_2m_mean  relative_humidity_2m_max  dew_point_2m_mean  \\\n",
       "0                     74.283485                 88.191528          17.216333   \n",
       "1                     67.645233                 86.262321          17.212168   \n",
       "2                     77.378288                 92.547340          17.741335   \n",
       "3                     72.630409                 94.254036          16.226751   \n",
       "4                     73.512062                 85.453674          17.326750   \n",
       "...                         ...                       ...                ...   \n",
       "4010                  47.542118                 73.028931           8.020833   \n",
       "4011                  64.223015                 89.617271          13.904166   \n",
       "4012                  74.374580                 99.369675          17.331251   \n",
       "4013                  57.966953                 83.898361          16.254166   \n",
       "4014                  70.346695                 84.845100          15.570831   \n",
       "\n",
       "      soil_moisture_0_to_7cm_mean  ...  wind_gusts_10m_min  \\\n",
       "0                        0.097125  ...            6.480000   \n",
       "1                        0.086083  ...           11.159999   \n",
       "2                        0.084500  ...            6.480000   \n",
       "3                        0.079625  ...            8.640000   \n",
       "4                        0.075750  ...            8.280000   \n",
       "...                           ...  ...                 ...   \n",
       "4010                     0.040542  ...           11.879999   \n",
       "4011                     0.040417  ...            5.760000   \n",
       "4012                     0.040542  ...            5.400000   \n",
       "4013                     0.041875  ...           22.680000   \n",
       "4014                     0.051833  ...           15.480000   \n",
       "\n",
       "      relative_humidity_2m_min  wind_direction_10m_dominant  \\\n",
       "0                    56.672028                    50.980602   \n",
       "1                    29.363708                   252.678192   \n",
       "2                    66.893669                    70.074326   \n",
       "3                    55.943367                   135.078217   \n",
       "4                    54.870174                    48.845158   \n",
       "...                        ...                          ...   \n",
       "4010                 34.091835                   184.936935   \n",
       "4011                 40.663586                    57.746136   \n",
       "4012                 52.313023                    37.269981   \n",
       "4013                 27.073923                   339.781250   \n",
       "4014                 57.037624                   109.408127   \n",
       "\n",
       "      wind_speed_10m_max  cloud_cover_mean  cloud_cover_max  cloud_cover_min  \\\n",
       "0              19.721298         90.625000            100.0             41.0   \n",
       "1              23.141029         90.500000            100.0              1.0   \n",
       "2              17.902534         51.583332            100.0              0.0   \n",
       "3              18.057508         12.416667             69.0              0.0   \n",
       "4              26.795223         21.625000             66.0              0.0   \n",
       "...                  ...               ...              ...              ...   \n",
       "4010           22.732082          5.791667             89.0              0.0   \n",
       "4011           20.690605          0.916667              8.0              0.0   \n",
       "4012           28.227304         13.125000             99.0              0.0   \n",
       "4013           24.012972         43.500000            100.0              0.0   \n",
       "4014           20.170443         33.875000             96.0              0.0   \n",
       "\n",
       "      rain_sum  pressure_msl_max  precipitation_fall  \n",
       "0          0.4       1016.599976                 0.9  \n",
       "1          0.0       1007.500000                 1.0  \n",
       "2          0.9       1007.299988                 0.2  \n",
       "3          0.0       1009.099976                 0.8  \n",
       "4          0.1       1010.500000                 2.6  \n",
       "...        ...               ...                 ...  \n",
       "4010       0.0       1015.700012                 0.8  \n",
       "4011       0.0       1017.700012                 1.7  \n",
       "4012       0.0       1016.299988                 1.7  \n",
       "4013       0.8       1007.299988                 1.2  \n",
       "4014       0.9       1011.400024                 0.3  \n",
       "\n",
       "[4015 rows x 23 columns]"
      ]
     },
     "execution_count": 57,
     "metadata": {},
     "output_type": "execute_result"
    }
   ],
   "source": [
    "df_clean = df_reduced.copy()\n",
    "df_clean"
   ]
  },
  {
   "cell_type": "markdown",
   "metadata": {
    "id": "S80O7okb0RIx"
   },
   "source": [
    "---\n",
    "## F. Feature Engineering"
   ]
  },
  {
   "cell_type": "markdown",
   "metadata": {
    "id": "Kst7h7wp1MFK"
   },
   "source": [
    "### F.1 New Feature \"wind_direction_10m_dominant\""
   ]
  },
  {
   "cell_type": "code",
   "execution_count": 58,
   "metadata": {
    "id": "f_wsc2n-1Mdm"
   },
   "outputs": [
    {
     "data": {
      "text/plain": [
       "count    4015.000000\n",
       "mean      180.618423\n",
       "std       104.395622\n",
       "min         0.100736\n",
       "25%        79.072670\n",
       "50%       183.833603\n",
       "75%       273.463623\n",
       "max       359.857452\n",
       "Name: wind_direction_10m_dominant, dtype: float64"
      ]
     },
     "execution_count": 58,
     "metadata": {},
     "output_type": "execute_result"
    }
   ],
   "source": [
    "#Statistics of wind_direction_10m_dominant\n",
    "df_clean['wind_direction_10m_dominant'].describe()"
   ]
  },
  {
   "cell_type": "code",
   "execution_count": 59,
   "metadata": {},
   "outputs": [],
   "source": [
    "# Convert degrees to radians\n",
    "df_clean['wind_direction_rad'] = np.deg2rad(df_clean['wind_direction_10m_dominant'])\n",
    "\n",
    "# Create sine and cosine components\n",
    "df_clean['wind_direction_sin'] = np.sin(df_clean['wind_direction_rad'])\n",
    "df_clean['wind_direction_cos'] = np.cos(df_clean['wind_direction_rad'])\n",
    "\n",
    "# Drop wind_direction_10m_dominant and wind_direction_rad\n",
    "df_clean.drop(columns=['wind_direction_10m_dominant', 'wind_direction_rad'], inplace=True)"
   ]
  },
  {
   "cell_type": "code",
   "execution_count": 60,
   "metadata": {
    "id": "hezUX-UgFpQf"
   },
   "outputs": [],
   "source": [
    "feature_engineering_1_explanations = \"\"\"The feature wind_direction_10m_dominant ranges from 0° to 360°, but its linear representation can mislead machine learning models, which may treat 0° and 360° as opposite directions. To address this, the angle is converted to radians and transformed into two continuous features using sine and cosine. This maps the data onto the unit circle, preserving its circular nature and enabling the model to better capture directional continuity for improved predictions.\n",
    "\"\"\""
   ]
  },
  {
   "cell_type": "code",
   "execution_count": 61,
   "metadata": {
    "id": "AKIFmqwVFpTA"
   },
   "outputs": [
    {
     "data": {
      "text/html": [
       "<p style=\"color:grey\">feature_engineering_1_explanations</p><h3 font-size: 3em>The feature wind_direction_10m_dominant ranges from 0° to 360°, but its linear representation can mislead machine learning models, which may treat 0° and 360° as opposite directions. To address this, the angle is converted to radians and transformed into two continuous features using sine and cosine. This maps the data onto the unit circle, preserving its circular nature and enabling the model to better capture directional continuity for improved predictions.\n",
       "</h3>"
      ],
      "text/plain": [
       "<IPython.core.display.HTML object>"
      ]
     },
     "metadata": {},
     "output_type": "display_data"
    }
   ],
   "source": [
    "# Do not modify this code\n",
    "print_tile(size=\"h3\", key='feature_engineering_1_explanations', value=feature_engineering_1_explanations)"
   ]
  },
  {
   "cell_type": "markdown",
   "metadata": {
    "id": "xY_hWhC71XAl"
   },
   "source": [
    "### F.2 New Feature \"Cyclical features month, week and day\""
   ]
  },
  {
   "cell_type": "code",
   "execution_count": 62,
   "metadata": {},
   "outputs": [],
   "source": [
    "# Month\n",
    "df_clean['month'] = df_clean['date'].dt.month"
   ]
  },
  {
   "cell_type": "code",
   "execution_count": 63,
   "metadata": {},
   "outputs": [],
   "source": [
    "df_clean['month_sin'] = np.sin(2 * np.pi * df_clean['month'] / 12)\n",
    "df_clean['month_cos'] = np.cos(2 * np.pi * df_clean['month'] / 12)"
   ]
  },
  {
   "cell_type": "code",
   "execution_count": 64,
   "metadata": {},
   "outputs": [],
   "source": [
    "df_clean.drop(columns=['month'], inplace=True)"
   ]
  },
  {
   "cell_type": "code",
   "execution_count": 65,
   "metadata": {},
   "outputs": [],
   "source": [
    "# Week\n",
    "df_clean[\"week\"] = df_clean[\"date\"].dt.isocalendar().week"
   ]
  },
  {
   "cell_type": "code",
   "execution_count": 66,
   "metadata": {},
   "outputs": [],
   "source": [
    "df_clean[\"week_sin\"] = np.sin(2 * np.pi * df_clean[\"week\"] / 52)\n",
    "df_clean[\"week_cos\"] = np.cos(2 * np.pi * df_clean[\"week\"] / 52)"
   ]
  },
  {
   "cell_type": "code",
   "execution_count": 67,
   "metadata": {},
   "outputs": [],
   "source": [
    "df_clean.drop(columns=['week'], inplace=True)"
   ]
  },
  {
   "cell_type": "code",
   "execution_count": 68,
   "metadata": {},
   "outputs": [],
   "source": [
    "# Day\n",
    "df_clean['day_of_year'] = df_clean['date'].dt.dayofyear\n",
    "\n",
    "# Cyclical encoding\n",
    "df_clean['day_of_year_sin'] = np.sin(2 * np.pi * df_clean['day_of_year'] / 365)\n",
    "df_clean['day_of_year_cos'] = np.cos(2 * np.pi * df_clean['day_of_year'] / 365)"
   ]
  },
  {
   "cell_type": "code",
   "execution_count": 69,
   "metadata": {},
   "outputs": [],
   "source": [
    "df_clean.drop(columns=['day_of_year'], inplace=True)"
   ]
  },
  {
   "cell_type": "code",
   "execution_count": 70,
   "metadata": {
    "id": "ac-MNGsmFtaH"
   },
   "outputs": [],
   "source": [
    "feature_engineering_2_explanations = \"\"\"Extracting temporal features such as month, week and day of year from the date column is crucial because rainfall patterns are strongly influenced by seasonal cycles and recurring temporal trends. To accurately capture their cyclical nature, these features are transformed using sine and cosine functions. This cyclical encoding enables the model to understand that time points like December and January, despite being numerically far apart, are actually adjacent in the yearly cycle. The month feature captures broad seasonal variations, while week and day-of-year features provide more detailed granularity on shorter-term temporal changes within seasons. By incorporating these cyclical time-based features, the model is better positioned to learn and predict how seasonal and temporal patterns impact precipitation behaviour.\n",
    "\"\"\""
   ]
  },
  {
   "cell_type": "code",
   "execution_count": 72,
   "metadata": {
    "id": "xapPh0YfFtca"
   },
   "outputs": [
    {
     "data": {
      "text/html": [
       "<p style=\"color:grey\">feature_engineering_2_explanations</p><h3 font-size: 3em>Extracting temporal features such as month, week and day of year from the date column is crucial because rainfall patterns are strongly influenced by seasonal cycles and recurring temporal trends. To accurately capture their cyclical nature, these features are transformed using sine and cosine functions. This cyclical encoding enables the model to understand that time points like December and January, despite being numerically far apart, are actually adjacent in the yearly cycle. The month feature captures broad seasonal variations, while week and day-of-year features provide more detailed granularity on shorter-term temporal changes within seasons. By incorporating these cyclical time-based features, the model is better positioned to learn and predict how seasonal and temporal patterns impact precipitation behaviour.\n",
       "</h3>"
      ],
      "text/plain": [
       "<IPython.core.display.HTML object>"
      ]
     },
     "metadata": {},
     "output_type": "display_data"
    }
   ],
   "source": [
    "# Do not modify this code\n",
    "print_tile(size=\"h3\", key='feature_engineering_2_explanations', value=feature_engineering_2_explanations)"
   ]
  },
  {
   "cell_type": "markdown",
   "metadata": {
    "id": "w0Fhn4271gVu"
   },
   "source": [
    "### F.3 New Feature \"Lag Features (Rain Fall from the Past 3 Days)\" and \"Rolling Features\""
   ]
  },
  {
   "cell_type": "code",
   "execution_count": 73,
   "metadata": {
    "id": "N6wBdmYD1g6c"
   },
   "outputs": [],
   "source": [
    "# Create lag features for the past 3 days\n",
    "for i in range(1, 4): \n",
    "    df_clean[f'rain_sum_lag_{i}'] = df_clean['rain_sum'].shift(i)"
   ]
  },
  {
   "cell_type": "code",
   "execution_count": 74,
   "metadata": {},
   "outputs": [],
   "source": [
    "# Rolling features (with shift to avoid leakage)\n",
    "for window in [3, 5, 7]:\n",
    "    df_clean[f'rain_sum_sum_last_{window}d'] = df_clean['rain_sum'].shift(1).rolling(window).sum()\n",
    "    df_clean[f'rain_sum_mean_last_{window}d'] = df_clean['rain_sum'].shift(1).rolling(window).mean()"
   ]
  },
  {
   "cell_type": "code",
   "execution_count": 75,
   "metadata": {},
   "outputs": [],
   "source": [
    "# Max and Min rainfall over the last 3 days (no leakage)\n",
    "df_clean['rain_sum_max_last_3d'] = df_clean['rain_sum'].shift(1).rolling(3).max()\n",
    "df_clean['rain_sum_min_last_3d'] = df_clean['rain_sum'].shift(1).rolling(3).min()"
   ]
  },
  {
   "cell_type": "code",
   "execution_count": 76,
   "metadata": {},
   "outputs": [],
   "source": [
    "# Binary flag: heavy rain (>10 mm) in past 3 days\n",
    "df_clean['heavy_rain_flag_last_3d'] = (df_clean['rain_sum'].shift(1).rolling(3).max() > 10).astype(int)"
   ]
  },
  {
   "cell_type": "code",
   "execution_count": 77,
   "metadata": {},
   "outputs": [],
   "source": [
    "# Drop rows with any NaNs created by rolling/shift\n",
    "df_clean = df_clean.dropna().reset_index(drop=True)"
   ]
  },
  {
   "cell_type": "code",
   "execution_count": 78,
   "metadata": {
    "id": "Z3gtyjmKFzCK"
   },
   "outputs": [],
   "source": [
    "feature_engineering_3_explanations = \"\"\"Features such as rain_sum_lag_1, rain_sum_lag_2 and rain_sum_lag_3 are created to capture rainfall amounts from the previous three days, providing the model with important context on recent precipitation patterns. In addition, rolling window features, including sums, means, maximums and minimums of rainfall over the past 3, 5 and 7 days (calculated with a one-day shift to prevent data leakage), are engineered to capture short to medium term trends. For example, the binary flag heavy_rain_flag_last_3d indicates whether there was heavy rain (exceeding 10 mm) in the past three days. These lagged and rolling features enable the model to better understand recent weather dynamics and the buildup of precipitation events, ultimately improving its ability to predict cumulative rainfall over the upcoming three day period.\n",
    "\"\"\""
   ]
  },
  {
   "cell_type": "code",
   "execution_count": 79,
   "metadata": {
    "id": "7nMfjzkbFzFj"
   },
   "outputs": [
    {
     "data": {
      "text/html": [
       "<p style=\"color:grey\">feature_engineering_3_explanations</p><h3 font-size: 3em>Features such as rain_sum_lag_1, rain_sum_lag_2 and rain_sum_lag_3 are created to capture rainfall amounts from the previous three days, providing the model with important context on recent precipitation patterns. In addition, rolling window features, including sums, means, maximums and minimums of rainfall over the past 3, 5 and 7 days (calculated with a one-day shift to prevent data leakage), are engineered to capture short to medium term trends. For example, the binary flag heavy_rain_flag_last_3d indicates whether there was heavy rain (exceeding 10 mm) in the past three days. These lagged and rolling features enable the model to better understand recent weather dynamics and the buildup of precipitation events, ultimately improving its ability to predict cumulative rainfall over the upcoming three day period.\n",
       "</h3>"
      ],
      "text/plain": [
       "<IPython.core.display.HTML object>"
      ]
     },
     "metadata": {},
     "output_type": "display_data"
    }
   ],
   "source": [
    "# Do not modify this code\n",
    "print_tile(size=\"h3\", key='feature_engineering_3_explanations', value=feature_engineering_3_explanations)"
   ]
  },
  {
   "cell_type": "markdown",
   "metadata": {
    "id": "HbpTjW2GGkd8"
   },
   "source": [
    "### G.1 Split Datasets"
   ]
  },
  {
   "cell_type": "code",
   "execution_count": 141,
   "metadata": {},
   "outputs": [],
   "source": [
    "# Create copies of df_clean for modeling\n",
    "df_eng = df_clean.copy()"
   ]
  },
  {
   "cell_type": "code",
   "execution_count": 142,
   "metadata": {},
   "outputs": [],
   "source": [
    "# Create splits based on date ranges\n",
    "train_df = df_eng[df_eng['date'] < '2023-01-01']\n",
    "val_df   = df_eng[(df_eng['date'] >= '2023-01-01') & (df_eng['date'] < '2024-01-01')]\n",
    "test_df  = df_eng[(df_eng['date'] >= '2024-01-01') & (df_eng['date'] < '2025-01-01')]"
   ]
  },
  {
   "cell_type": "code",
   "execution_count": 143,
   "metadata": {},
   "outputs": [],
   "source": [
    "# Drop date column\n",
    "train_df.drop(columns=['date'], inplace= True)\n",
    "val_df.drop(columns=['date'], inplace= True)\n",
    "test_df.drop(columns=['date'], inplace= True)"
   ]
  },
  {
   "cell_type": "code",
   "execution_count": 144,
   "metadata": {},
   "outputs": [],
   "source": [
    "# Define the target variable and remove it\n",
    "y_train = train_df.pop(target_name)\n",
    "X_train = train_df\n",
    "\n",
    "y_val = val_df.pop(target_name)\n",
    "X_val = val_df\n",
    "\n",
    "y_test = test_df.pop(target_name)\n",
    "X_test = test_df"
   ]
  },
  {
   "cell_type": "code",
   "execution_count": 145,
   "metadata": {},
   "outputs": [
    {
     "name": "stdout",
     "output_type": "stream",
     "text": [
      "(3281, 40)\n",
      "(3281,)\n",
      "(365, 40)\n",
      "(365,)\n",
      "(362, 40)\n",
      "(362,)\n"
     ]
    }
   ],
   "source": [
    "print(X_train.shape)\n",
    "print(y_train.shape)\n",
    "print(X_val.shape)\n",
    "print(y_val.shape)\n",
    "print(X_test.shape)\n",
    "print(y_test.shape)"
   ]
  },
  {
   "cell_type": "code",
   "execution_count": 146,
   "metadata": {
    "id": "dkvHE5g4F3IZ"
   },
   "outputs": [],
   "source": [
    "data_splitting_explanations = \"\"\"Given that precipitation forecasting is a time-series prediction task, the application of conventional data partitioning techniques such as random sampling or stratified sampling is inappropriate. These methods may introduce data leakage by allowing future observations to influence the training process, thereby compromising the validity of model evaluation. To preserve the temporal structure of the data and maintain the integrity of the modeling process, a chronological data-splitting strategy is employed. In this approach, data collected prior to the year 2023 is assigned to the training dataset, data from the full year of 2023 is used for validation, and data from the year 2024 is reserved for testing. This sequential partitioning reflects realistic forecasting scenarios, where models are trained exclusively on historical data and evaluated based on their ability to generalise to future, unseen conditions.\n",
    "\"\"\""
   ]
  },
  {
   "cell_type": "code",
   "execution_count": 147,
   "metadata": {
    "id": "vx4_g0pLF3Lg"
   },
   "outputs": [
    {
     "data": {
      "text/html": [
       "<p style=\"color:grey\">data_splitting_explanations</p><h3 font-size: 3em>Given that precipitation forecasting is a time-series prediction task, the application of conventional data partitioning techniques such as random sampling or stratified sampling is inappropriate. These methods may introduce data leakage by allowing future observations to influence the training process, thereby compromising the validity of model evaluation. To preserve the temporal structure of the data and maintain the integrity of the modeling process, a chronological data-splitting strategy is employed. In this approach, data collected prior to the year 2023 is assigned to the training dataset, data from the full year of 2023 is used for validation, and data from the year 2024 is reserved for testing. This sequential partitioning reflects realistic forecasting scenarios, where models are trained exclusively on historical data and evaluated based on their ability to generalise to future, unseen conditions.\n",
       "</h3>"
      ],
      "text/plain": [
       "<IPython.core.display.HTML object>"
      ]
     },
     "metadata": {},
     "output_type": "display_data"
    }
   ],
   "source": [
    "# Do not modify this code\n",
    "print_tile(size=\"h3\", key='data_splitting_explanations', value=data_splitting_explanations)"
   ]
  },
  {
   "cell_type": "markdown",
   "metadata": {
    "id": "JHJ25iRRG1Gb"
   },
   "source": [
    "### G.2 Build Pipeline for Data Transformation \"Scaling\""
   ]
  },
  {
   "cell_type": "code",
   "execution_count": 148,
   "metadata": {
    "id": "_PIDyg9OG17x"
   },
   "outputs": [],
   "source": [
    "from sklearn.pipeline import Pipeline\n",
    "from sklearn.compose import ColumnTransformer\n",
    "from sklearn.preprocessing import StandardScaler"
   ]
  },
  {
   "cell_type": "code",
   "execution_count": 149,
   "metadata": {},
   "outputs": [
    {
     "name": "stdout",
     "output_type": "stream",
     "text": [
      "<class 'pandas.core.frame.DataFrame'>\n",
      "Index: 3281 entries, 0 to 3280\n",
      "Data columns (total 40 columns):\n",
      " #   Column                          Non-Null Count  Dtype  \n",
      "---  ------                          --------------  -----  \n",
      " 0   daylight_duration               3281 non-null   float32\n",
      " 1   sunshine_duration               3281 non-null   float32\n",
      " 2   temperature_2m_min              3281 non-null   float32\n",
      " 3   et0_fao_evapotranspiration_sum  3281 non-null   float32\n",
      " 4   wind_speed_10m_mean             3281 non-null   float32\n",
      " 5   relative_humidity_2m_mean       3281 non-null   float32\n",
      " 6   relative_humidity_2m_max        3281 non-null   float32\n",
      " 7   dew_point_2m_mean               3281 non-null   float32\n",
      " 8   soil_moisture_0_to_7cm_mean     3281 non-null   float32\n",
      " 9   soil_moisture_28_to_100cm_mean  3281 non-null   float32\n",
      " 10  soil_moisture_7_to_28cm_mean    3281 non-null   float32\n",
      " 11  vapour_pressure_deficit_max     3281 non-null   float32\n",
      " 12  wind_gusts_10m_min              3281 non-null   float32\n",
      " 13  relative_humidity_2m_min        3281 non-null   float32\n",
      " 14  wind_speed_10m_max              3281 non-null   float32\n",
      " 15  cloud_cover_mean                3281 non-null   float32\n",
      " 16  cloud_cover_max                 3281 non-null   float32\n",
      " 17  cloud_cover_min                 3281 non-null   float32\n",
      " 18  rain_sum                        3281 non-null   float32\n",
      " 19  pressure_msl_max                3281 non-null   float32\n",
      " 20  wind_direction_sin              3281 non-null   float32\n",
      " 21  wind_direction_cos              3281 non-null   float32\n",
      " 22  month_sin                       3281 non-null   float64\n",
      " 23  month_cos                       3281 non-null   float64\n",
      " 24  week_sin                        3281 non-null   Float64\n",
      " 25  week_cos                        3281 non-null   Float64\n",
      " 26  day_of_year_sin                 3281 non-null   float64\n",
      " 27  day_of_year_cos                 3281 non-null   float64\n",
      " 28  rain_sum_lag_1                  3281 non-null   float32\n",
      " 29  rain_sum_lag_2                  3281 non-null   float32\n",
      " 30  rain_sum_lag_3                  3281 non-null   float32\n",
      " 31  rain_sum_sum_last_3d            3281 non-null   float64\n",
      " 32  rain_sum_mean_last_3d           3281 non-null   float64\n",
      " 33  rain_sum_sum_last_5d            3281 non-null   float64\n",
      " 34  rain_sum_mean_last_5d           3281 non-null   float64\n",
      " 35  rain_sum_sum_last_7d            3281 non-null   float64\n",
      " 36  rain_sum_mean_last_7d           3281 non-null   float64\n",
      " 37  rain_sum_max_last_3d            3281 non-null   float64\n",
      " 38  rain_sum_min_last_3d            3281 non-null   float64\n",
      " 39  heavy_rain_flag_last_3d         3281 non-null   int64  \n",
      "dtypes: Float64(2), float32(25), float64(12), int64(1)\n",
      "memory usage: 736.9 KB\n"
     ]
    }
   ],
   "source": [
    "X_train.info()"
   ]
  },
  {
   "cell_type": "code",
   "execution_count": 150,
   "metadata": {},
   "outputs": [
    {
     "data": {
      "text/plain": [
       "Index(['daylight_duration', 'sunshine_duration', 'temperature_2m_min',\n",
       "       'et0_fao_evapotranspiration_sum', 'wind_speed_10m_mean',\n",
       "       'relative_humidity_2m_mean', 'relative_humidity_2m_max',\n",
       "       'dew_point_2m_mean', 'soil_moisture_0_to_7cm_mean',\n",
       "       'soil_moisture_28_to_100cm_mean', 'soil_moisture_7_to_28cm_mean',\n",
       "       'vapour_pressure_deficit_max', 'wind_gusts_10m_min',\n",
       "       'relative_humidity_2m_min', 'wind_speed_10m_max', 'cloud_cover_mean',\n",
       "       'cloud_cover_max', 'cloud_cover_min', 'rain_sum', 'pressure_msl_max',\n",
       "       'wind_direction_sin', 'wind_direction_cos', 'month_sin', 'month_cos',\n",
       "       'week_sin', 'week_cos', 'day_of_year_sin', 'day_of_year_cos',\n",
       "       'rain_sum_lag_1', 'rain_sum_lag_2', 'rain_sum_lag_3',\n",
       "       'rain_sum_sum_last_3d', 'rain_sum_mean_last_3d', 'rain_sum_sum_last_5d',\n",
       "       'rain_sum_mean_last_5d', 'rain_sum_sum_last_7d',\n",
       "       'rain_sum_mean_last_7d', 'rain_sum_max_last_3d', 'rain_sum_min_last_3d',\n",
       "       'heavy_rain_flag_last_3d'],\n",
       "      dtype='object')"
      ]
     },
     "execution_count": 150,
     "metadata": {},
     "output_type": "execute_result"
    }
   ],
   "source": [
    "X_train.columns"
   ]
  },
  {
   "cell_type": "code",
   "execution_count": 151,
   "metadata": {},
   "outputs": [],
   "source": [
    "# Identify the numerical columns \n",
    "num_cols = ['daylight_duration', 'sunshine_duration', 'temperature_2m_min',\n",
    "       'et0_fao_evapotranspiration_sum', 'wind_speed_10m_mean',\n",
    "       'relative_humidity_2m_mean', 'relative_humidity_2m_max',\n",
    "       'dew_point_2m_mean', 'soil_moisture_0_to_7cm_mean',\n",
    "       'soil_moisture_28_to_100cm_mean', 'soil_moisture_7_to_28cm_mean',\n",
    "       'vapour_pressure_deficit_max', 'wind_gusts_10m_min',\n",
    "       'relative_humidity_2m_min', 'wind_speed_10m_max', 'cloud_cover_mean',\n",
    "       'cloud_cover_max', 'cloud_cover_min', 'rain_sum', 'pressure_msl_max',\n",
    "       'rain_sum_lag_1', 'rain_sum_lag_2', 'rain_sum_lag_3',\n",
    "       'rain_sum_sum_last_3d', 'rain_sum_mean_last_3d', 'rain_sum_sum_last_5d',\n",
    "       'rain_sum_mean_last_5d', 'rain_sum_sum_last_7d',\n",
    "       'rain_sum_mean_last_7d', 'rain_sum_max_last_3d', 'rain_sum_min_last_3d']\n",
    "\n",
    "# The cyclic features \n",
    "passthrough_cols = ['heavy_rain_flag_last_3d', 'month_sin', 'month_cos', 'wind_direction_sin', 'wind_direction_cos', 'week_sin', 'week_cos', 'day_of_year_sin', 'day_of_year_cos']\n",
    "\n",
    "# Define the transformers\n",
    "numeric_transformer = StandardScaler()\n",
    "\n",
    "# Compose column transformer\n",
    "preprocessor = ColumnTransformer(\n",
    "    transformers=[\n",
    "        ('num', numeric_transformer, num_cols),\n",
    "        ('passthrough', 'passthrough', passthrough_cols)\n",
    "    ]\n",
    ")\n",
    "\n",
    "# Create the pipeline\n",
    "pipeline = Pipeline(steps=[\n",
    "    ('preprocessor', preprocessor)\n",
    "])\n",
    "\n",
    "# Fit_transform on training dataset\n",
    "X_train_processed = pipeline.fit_transform(X_train)\n",
    "\n",
    "# For validation/testing dataset, only transform\n",
    "X_val_processed = pipeline.transform(X_val)\n",
    "X_test_processed = pipeline.transform(X_test)\n",
    "\n",
    "# Convert back to DataFrame with proper column names \n",
    "# Get column names for numeric + passthrough\n",
    "num_features = num_cols\n",
    "passthrough_features = passthrough_cols\n",
    "\n",
    "all_features = list(num_features) + list(passthrough_features)\n",
    "\n",
    "X_train_df = pd.DataFrame(X_train_processed, columns=all_features, index=X_train.index)\n",
    "X_val_df = pd.DataFrame(X_val_processed, columns=all_features, index=X_val.index)\n",
    "X_test_df = pd.DataFrame(X_test_processed, columns=all_features, index=X_test.index)"
   ]
  },
  {
   "cell_type": "code",
   "execution_count": 153,
   "metadata": {},
   "outputs": [
    {
     "name": "stdout",
     "output_type": "stream",
     "text": [
      "<class 'pandas.core.frame.DataFrame'>\n",
      "Index: 3281 entries, 0 to 3280\n",
      "Data columns (total 40 columns):\n",
      " #   Column                          Non-Null Count  Dtype \n",
      "---  ------                          --------------  ----- \n",
      " 0   daylight_duration               3281 non-null   object\n",
      " 1   sunshine_duration               3281 non-null   object\n",
      " 2   temperature_2m_min              3281 non-null   object\n",
      " 3   et0_fao_evapotranspiration_sum  3281 non-null   object\n",
      " 4   wind_speed_10m_mean             3281 non-null   object\n",
      " 5   relative_humidity_2m_mean       3281 non-null   object\n",
      " 6   relative_humidity_2m_max        3281 non-null   object\n",
      " 7   dew_point_2m_mean               3281 non-null   object\n",
      " 8   soil_moisture_0_to_7cm_mean     3281 non-null   object\n",
      " 9   soil_moisture_28_to_100cm_mean  3281 non-null   object\n",
      " 10  soil_moisture_7_to_28cm_mean    3281 non-null   object\n",
      " 11  vapour_pressure_deficit_max     3281 non-null   object\n",
      " 12  wind_gusts_10m_min              3281 non-null   object\n",
      " 13  relative_humidity_2m_min        3281 non-null   object\n",
      " 14  wind_speed_10m_max              3281 non-null   object\n",
      " 15  cloud_cover_mean                3281 non-null   object\n",
      " 16  cloud_cover_max                 3281 non-null   object\n",
      " 17  cloud_cover_min                 3281 non-null   object\n",
      " 18  rain_sum                        3281 non-null   object\n",
      " 19  pressure_msl_max                3281 non-null   object\n",
      " 20  rain_sum_lag_1                  3281 non-null   object\n",
      " 21  rain_sum_lag_2                  3281 non-null   object\n",
      " 22  rain_sum_lag_3                  3281 non-null   object\n",
      " 23  rain_sum_sum_last_3d            3281 non-null   object\n",
      " 24  rain_sum_mean_last_3d           3281 non-null   object\n",
      " 25  rain_sum_sum_last_5d            3281 non-null   object\n",
      " 26  rain_sum_mean_last_5d           3281 non-null   object\n",
      " 27  rain_sum_sum_last_7d            3281 non-null   object\n",
      " 28  rain_sum_mean_last_7d           3281 non-null   object\n",
      " 29  rain_sum_max_last_3d            3281 non-null   object\n",
      " 30  rain_sum_min_last_3d            3281 non-null   object\n",
      " 31  heavy_rain_flag_last_3d         3281 non-null   object\n",
      " 32  month_sin                       3281 non-null   object\n",
      " 33  month_cos                       3281 non-null   object\n",
      " 34  wind_direction_sin              3281 non-null   object\n",
      " 35  wind_direction_cos              3281 non-null   object\n",
      " 36  week_sin                        3281 non-null   object\n",
      " 37  week_cos                        3281 non-null   object\n",
      " 38  day_of_year_sin                 3281 non-null   object\n",
      " 39  day_of_year_cos                 3281 non-null   object\n",
      "dtypes: object(40)\n",
      "memory usage: 1.0+ MB\n"
     ]
    }
   ],
   "source": [
    "X_train_df.info()"
   ]
  },
  {
   "cell_type": "code",
   "execution_count": 154,
   "metadata": {},
   "outputs": [],
   "source": [
    "# Convert all columns to numeric float type\n",
    "X_train_df = X_train_df.astype('float32')\n",
    "X_val_df = X_val_df.astype('float32')\n",
    "X_test_df = X_test_df.astype('float32')"
   ]
  },
  {
   "cell_type": "code",
   "execution_count": 155,
   "metadata": {
    "id": "XbWWDBacGn9n"
   },
   "outputs": [],
   "source": [
    "data_transformation_1_explanations = \"\"\"Since all input variables, except for cyclical features and binary flags, are numerical, it is essential to standardise them before modeling to ensure they are on a consistent scale and comparable across features. Standardisation transforms numerical features to have a mean of zero and a standard deviation of one, which is a critical preprocessing step. This scaling prevents models from being biased toward features with larger ranges, improves numerical stability, accelerates convergence during training, and ultimately enhances predictive accuracy. Cyclical features and binary flags are left unchanged in their original form because their current representations are already suitable for modeling and do not require scaling. Finally, converting all processed features to float32 ensures compatibility and computational efficiency during model training.\n",
    "\"\"\""
   ]
  },
  {
   "cell_type": "code",
   "execution_count": 156,
   "metadata": {
    "id": "vepkbzldGn_8"
   },
   "outputs": [
    {
     "data": {
      "text/html": [
       "<p style=\"color:grey\">data_transformation_1_explanations</p><h3 font-size: 3em>Since all input variables, except for cyclical features and binary flags, are numerical, it is essential to standardise them before modeling to ensure they are on a consistent scale and comparable across features. Standardisation transforms numerical features to have a mean of zero and a standard deviation of one, which is a critical preprocessing step. This scaling prevents models from being biased toward features with larger ranges, improves numerical stability, accelerates convergence during training, and ultimately enhances predictive accuracy. Cyclical features and binary flags are left unchanged in their original form because their current representations are already suitable for modeling and do not require scaling. Finally, converting all processed features to float32 ensures compatibility and computational efficiency during model training.\n",
       "</h3>"
      ],
      "text/plain": [
       "<IPython.core.display.HTML object>"
      ]
     },
     "metadata": {},
     "output_type": "display_data"
    }
   ],
   "source": [
    "# Do not modify this code\n",
    "print_tile(size=\"h3\", key='data_transformation_1_explanations', value=data_transformation_1_explanations)"
   ]
  },
  {
   "cell_type": "markdown",
   "metadata": {
    "id": "qIj277YWHdFk"
   },
   "source": [
    "---\n",
    "## H. Save Datasets\n",
    "\n",
    "> Do not change this code"
   ]
  },
  {
   "cell_type": "code",
   "execution_count": 157,
   "metadata": {},
   "outputs": [],
   "source": [
    "from pathlib import Path\n",
    "\n",
    "# Create the path to the folder\n",
    "path = Path.home() / \"Desktop\" / \"36120\" / \"assignment2\"/\"Regression\""
   ]
  },
  {
   "cell_type": "code",
   "execution_count": 159,
   "metadata": {
    "id": "uMNql0SzHhP2"
   },
   "outputs": [],
   "source": [
    "# Do not modify this code\n",
    "# Save training set\n",
    "try:\n",
    "  X_train_df.to_csv(path / 'X_train.csv', index=False)\n",
    "  y_train.to_csv(path / 'y_train.csv', index=False)\n",
    "\n",
    "  X_val_df.to_csv(path / 'X_val.csv', index=False)\n",
    "  y_val.to_csv(path / 'y_val.csv', index=False)\n",
    "\n",
    "  X_test_df.to_csv(path / 'X_test.csv', index=False)\n",
    "  y_test.to_csv(path / 'y_test.csv', index=False)\n",
    "except Exception as e:\n",
    "  print(e)"
   ]
  },
  {
   "cell_type": "markdown",
   "metadata": {
    "id": "RtLjr7niHpNZ"
   },
   "source": [
    "---\n",
    "## I. Selection of Performance Metrics"
   ]
  },
  {
   "cell_type": "code",
   "execution_count": 160,
   "metadata": {
    "id": "KV_pxLAiHxKW"
   },
   "outputs": [],
   "source": [
    "from sklearn.metrics import mean_squared_error, mean_absolute_error, r2_score"
   ]
  },
  {
   "cell_type": "code",
   "execution_count": 161,
   "metadata": {
    "id": "kC949nluHR5s"
   },
   "outputs": [],
   "source": [
    "performance_metrics_explanations = \"\"\"In this assignment, RMSE, MAE and R-squared are used as evaluation metrics. RMSE is particularly useful because it shares the same units as the target variable (precipitation in millimeters), making the magnitude of errors easy to interpret. However, RMSE penalises larger errors more heavily by taking the square root of the average squared errors, which helps highlight significant deviations in precipitation forecasts. This sensitivity can sometimes lead to larger RMSE values, especially in cases of class imbalance where extreme values occur less frequently. Hence, MAE is preferred as it provides a more balanced measure by treating all errors linearly, making it less sensitive to outliers and extreme values. Additionally, R-squared is included to quantify the proportion of variance in the observed data explained by the model, providing valuable insight into the overall goodness of fit and facilitating a comprehensive evaluation of model performance. However, R-squared can be affected by class imbalance, which impacts its interpretation in datasets with uneven distributions of rainfall events. When the dataset contains many more low rainfall events than high rainfall events, the model may perform well on the majority but poorly on the minority. Since R-squared is based on the overall variance explained, poor predictions on rare but extreme rainfall events can increase residual errors disproportionately, sometimes resulting in low or even negative R-squared values.\n",
    "\"\"\""
   ]
  },
  {
   "cell_type": "code",
   "execution_count": 162,
   "metadata": {
    "id": "wABRzU2sHR8j"
   },
   "outputs": [
    {
     "data": {
      "text/html": [
       "<p style=\"color:grey\">performance_metrics_explanations</p><h3 font-size: 3em>In this assignment, RMSE, MAE and R-squared are used as evaluation metrics. RMSE is particularly useful because it shares the same units as the target variable (precipitation in millimeters), making the magnitude of errors easy to interpret. However, RMSE penalises larger errors more heavily by taking the square root of the average squared errors, which helps highlight significant deviations in precipitation forecasts. This sensitivity can sometimes lead to larger RMSE values, especially in cases of class imbalance where extreme values occur less frequently. Hence, MAE is preferred as it provides a more balanced measure by treating all errors linearly, making it less sensitive to outliers and extreme values. Additionally, R-squared is included to quantify the proportion of variance in the observed data explained by the model, providing valuable insight into the overall goodness of fit and facilitating a comprehensive evaluation of model performance. However, R-squared can be affected by class imbalance, which impacts its interpretation in datasets with uneven distributions of rainfall events. When the dataset contains many more low rainfall events than high rainfall events, the model may perform well on the majority but poorly on the minority. Since R-squared is based on the overall variance explained, poor predictions on rare but extreme rainfall events can increase residual errors disproportionately, sometimes resulting in low or even negative R-squared values.\n",
       "</h3>"
      ],
      "text/plain": [
       "<IPython.core.display.HTML object>"
      ]
     },
     "metadata": {},
     "output_type": "display_data"
    }
   ],
   "source": [
    "# Do not modify this code\n",
    "print_tile(size=\"h3\", key='performance_metrics_explanations', value=performance_metrics_explanations)"
   ]
  },
  {
   "cell_type": "markdown",
   "metadata": {
    "id": "ZpxjwSDYIJy6"
   },
   "source": [
    "## J. Train Machine Learning Model"
   ]
  },
  {
   "cell_type": "markdown",
   "metadata": {},
   "source": [
    "Null hypothesis: \n",
    "1) The performance of the XGBoost is not significantly better than that of the baseline model.\n",
    "2) The performance of the XGBoost with feature selection is not significantly better than that of XGBoost using all features.\n",
    "\n",
    "Alternative hypothesis: \n",
    "1) The performance of the XGBoost is significantly better than that of the baseline model.\n",
    "2) The performance of the XGBoost with feature selection is significantly better than that of XGBoost using all features."
   ]
  },
  {
   "cell_type": "markdown",
   "metadata": {
    "id": "_XBy7-9PIVcU"
   },
   "source": [
    "### J.1 Import Algorithm"
   ]
  },
  {
   "cell_type": "code",
   "execution_count": 163,
   "metadata": {
    "id": "diUB08xMIOuS"
   },
   "outputs": [],
   "source": [
    "from sklearn.dummy import DummyRegressor"
   ]
  },
  {
   "cell_type": "code",
   "execution_count": 164,
   "metadata": {},
   "outputs": [],
   "source": [
    "# Initialise the dummy regressor\n",
    "dummy = DummyRegressor(strategy='mean')"
   ]
  },
  {
   "cell_type": "code",
   "execution_count": 165,
   "metadata": {},
   "outputs": [],
   "source": [
    "from xgboost import XGBRegressor\n",
    "import xgboost as xgb"
   ]
  },
  {
   "cell_type": "code",
   "execution_count": 166,
   "metadata": {},
   "outputs": [],
   "source": [
    "xgb = XGBRegressor(random_state=12)"
   ]
  },
  {
   "cell_type": "code",
   "execution_count": 167,
   "metadata": {
    "id": "GIWOpv6CGUTE"
   },
   "outputs": [],
   "source": [
    "algorithm_selection_explanations = \"\"\"The Dummy Regressor is selected as the baseline model to provide a reference point against which the performance of more advanced predictive models can be compared. This baseline helps to determine whether the more complex models capture meaningful patterns beyond simple heuristic predictions. XGBoost is considered a suitable choice because it builds an ensemble of weak learners sequentially, where each new tree focuses on correcting the errors made by the previous ones. This boosting technique improves predictive accuracy across iterations, making it well-suited for complex regression tasks. In addition, XGBoost offers a wide range of hyperparameters that can be tuned to better capture nonlinear relationships in the data. It also provides feature importance scores, which can offer valuable insights into the most influential variables in the prediction process.\n",
    "\"\"\""
   ]
  },
  {
   "cell_type": "code",
   "execution_count": 168,
   "metadata": {
    "id": "N4yogQ9aGUVe"
   },
   "outputs": [
    {
     "data": {
      "text/html": [
       "<p style=\"color:grey\">algorithm_selection_explanations</p><h3 font-size: 3em>The Dummy Regressor is selected as the baseline model to provide a reference point against which the performance of more advanced predictive models can be compared. This baseline helps to determine whether the more complex models capture meaningful patterns beyond simple heuristic predictions. XGBoost is considered a suitable choice because it builds an ensemble of weak learners sequentially, where each new tree focuses on correcting the errors made by the previous ones. This boosting technique improves predictive accuracy across iterations, making it well-suited for complex regression tasks. In addition, XGBoost offers a wide range of hyperparameters that can be tuned to better capture nonlinear relationships in the data. It also provides feature importance scores, which can offer valuable insights into the most influential variables in the prediction process.\n",
       "</h3>"
      ],
      "text/plain": [
       "<IPython.core.display.HTML object>"
      ]
     },
     "metadata": {},
     "output_type": "display_data"
    }
   ],
   "source": [
    "# Do not modify this code\n",
    "print_tile(size=\"h3\", key='algorithm_selection_explanations', value=algorithm_selection_explanations)"
   ]
  },
  {
   "cell_type": "markdown",
   "metadata": {
    "id": "0ks_MmM2mCfm"
   },
   "source": [
    "### J.2 Set Hyperparameters"
   ]
  },
  {
   "cell_type": "code",
   "execution_count": 169,
   "metadata": {},
   "outputs": [],
   "source": [
    "param_grid = {\n",
    "    'learning_rate': [0.01],\n",
    "    'n_estimators': [200],\n",
    "    'max_depth': [3],\n",
    "    'subsample': [0.3],\n",
    "    'colsample_bytree': [0.7],\n",
    "    'min_child_weight': [12]\n",
    "}\n",
    "\n",
    "# param_grid = {\n",
    "#     'learning_rate': [0.001, 0.005, 0.01, 0.05, 0.1],\n",
    "#     'n_estimators': [100, 200, 400, 600, 700, 800],\n",
    "#     'max_depth': [3, 4, 5, 6, 7, 8],\n",
    "#     'subsample': [0.2, 0.3, 0.4, 0.5, 0.6, 0.8, 1.0],\n",
    "#     'colsample_bytree': [0.3, 0.4, 0.5, 0.6, 0.7, 0.8, 1.0],\n",
    "#     'min_child_weight': [1, 3, 6, 10, 11, 12, 13, 14, 15]\n",
    "# }"
   ]
  },
  {
   "cell_type": "code",
   "execution_count": 170,
   "metadata": {
    "id": "crG_Bm72HfL-"
   },
   "outputs": [],
   "source": [
    "hyperparameters_selection_explanations = \"\"\"The n_estimators parameter determines how many trees are used in the ensemble, directly influencing the model’s ability to capture patterns in the data. The learning_rate controls how much each tree contributes to the final prediction, with lower values slow the learning process but help prevent overfitting. The max_depth parameter sets a limit on how deep each tree can grow, helping to control model complexity and reduce the risk of learning from noise. Parameters such as subsample and colsample_bytree introduce randomness by restricting the fraction of training instances and features used for each tree, which enhances the model’s generalisation ability and mitigates overfitting. Lastly, min_child_weight specifies the minimum sum of instance weights required in a leaf node, acting as a form of regularisation that prevents the model from capturing overly specific patterns in the data.\n",
    "\"\"\""
   ]
  },
  {
   "cell_type": "code",
   "execution_count": 171,
   "metadata": {
    "id": "k0uqlRCVHfQI"
   },
   "outputs": [
    {
     "data": {
      "text/html": [
       "<p style=\"color:grey\">hyperparameters_selection_explanations</p><h3 font-size: 3em>The n_estimators parameter determines how many trees are used in the ensemble, directly influencing the model’s ability to capture patterns in the data. The learning_rate controls how much each tree contributes to the final prediction, with lower values slow the learning process but help prevent overfitting. The max_depth parameter sets a limit on how deep each tree can grow, helping to control model complexity and reduce the risk of learning from noise. Parameters such as subsample and colsample_bytree introduce randomness by restricting the fraction of training instances and features used for each tree, which enhances the model’s generalisation ability and mitigates overfitting. Lastly, min_child_weight specifies the minimum sum of instance weights required in a leaf node, acting as a form of regularisation that prevents the model from capturing overly specific patterns in the data.\n",
       "</h3>"
      ],
      "text/plain": [
       "<IPython.core.display.HTML object>"
      ]
     },
     "metadata": {},
     "output_type": "display_data"
    }
   ],
   "source": [
    "# Do not modify this code\n",
    "print_tile(size=\"h3\", key='hyperparameters_selection_explanations', value=hyperparameters_selection_explanations)"
   ]
  },
  {
   "cell_type": "markdown",
   "metadata": {
    "id": "VDjdjQjFmkLe"
   },
   "source": [
    "### J.3 Fit Model"
   ]
  },
  {
   "cell_type": "code",
   "execution_count": 172,
   "metadata": {},
   "outputs": [
    {
     "data": {
      "text/html": [
       "<style>#sk-container-id-2 {\n",
       "  /* Definition of color scheme common for light and dark mode */\n",
       "  --sklearn-color-text: black;\n",
       "  --sklearn-color-line: gray;\n",
       "  /* Definition of color scheme for unfitted estimators */\n",
       "  --sklearn-color-unfitted-level-0: #fff5e6;\n",
       "  --sklearn-color-unfitted-level-1: #f6e4d2;\n",
       "  --sklearn-color-unfitted-level-2: #ffe0b3;\n",
       "  --sklearn-color-unfitted-level-3: chocolate;\n",
       "  /* Definition of color scheme for fitted estimators */\n",
       "  --sklearn-color-fitted-level-0: #f0f8ff;\n",
       "  --sklearn-color-fitted-level-1: #d4ebff;\n",
       "  --sklearn-color-fitted-level-2: #b3dbfd;\n",
       "  --sklearn-color-fitted-level-3: cornflowerblue;\n",
       "\n",
       "  /* Specific color for light theme */\n",
       "  --sklearn-color-text-on-default-background: var(--sg-text-color, var(--theme-code-foreground, var(--jp-content-font-color1, black)));\n",
       "  --sklearn-color-background: var(--sg-background-color, var(--theme-background, var(--jp-layout-color0, white)));\n",
       "  --sklearn-color-border-box: var(--sg-text-color, var(--theme-code-foreground, var(--jp-content-font-color1, black)));\n",
       "  --sklearn-color-icon: #696969;\n",
       "\n",
       "  @media (prefers-color-scheme: dark) {\n",
       "    /* Redefinition of color scheme for dark theme */\n",
       "    --sklearn-color-text-on-default-background: var(--sg-text-color, var(--theme-code-foreground, var(--jp-content-font-color1, white)));\n",
       "    --sklearn-color-background: var(--sg-background-color, var(--theme-background, var(--jp-layout-color0, #111)));\n",
       "    --sklearn-color-border-box: var(--sg-text-color, var(--theme-code-foreground, var(--jp-content-font-color1, white)));\n",
       "    --sklearn-color-icon: #878787;\n",
       "  }\n",
       "}\n",
       "\n",
       "#sk-container-id-2 {\n",
       "  color: var(--sklearn-color-text);\n",
       "}\n",
       "\n",
       "#sk-container-id-2 pre {\n",
       "  padding: 0;\n",
       "}\n",
       "\n",
       "#sk-container-id-2 input.sk-hidden--visually {\n",
       "  border: 0;\n",
       "  clip: rect(1px 1px 1px 1px);\n",
       "  clip: rect(1px, 1px, 1px, 1px);\n",
       "  height: 1px;\n",
       "  margin: -1px;\n",
       "  overflow: hidden;\n",
       "  padding: 0;\n",
       "  position: absolute;\n",
       "  width: 1px;\n",
       "}\n",
       "\n",
       "#sk-container-id-2 div.sk-dashed-wrapped {\n",
       "  border: 1px dashed var(--sklearn-color-line);\n",
       "  margin: 0 0.4em 0.5em 0.4em;\n",
       "  box-sizing: border-box;\n",
       "  padding-bottom: 0.4em;\n",
       "  background-color: var(--sklearn-color-background);\n",
       "}\n",
       "\n",
       "#sk-container-id-2 div.sk-container {\n",
       "  /* jupyter's `normalize.less` sets `[hidden] { display: none; }`\n",
       "     but bootstrap.min.css set `[hidden] { display: none !important; }`\n",
       "     so we also need the `!important` here to be able to override the\n",
       "     default hidden behavior on the sphinx rendered scikit-learn.org.\n",
       "     See: https://github.com/scikit-learn/scikit-learn/issues/21755 */\n",
       "  display: inline-block !important;\n",
       "  position: relative;\n",
       "}\n",
       "\n",
       "#sk-container-id-2 div.sk-text-repr-fallback {\n",
       "  display: none;\n",
       "}\n",
       "\n",
       "div.sk-parallel-item,\n",
       "div.sk-serial,\n",
       "div.sk-item {\n",
       "  /* draw centered vertical line to link estimators */\n",
       "  background-image: linear-gradient(var(--sklearn-color-text-on-default-background), var(--sklearn-color-text-on-default-background));\n",
       "  background-size: 2px 100%;\n",
       "  background-repeat: no-repeat;\n",
       "  background-position: center center;\n",
       "}\n",
       "\n",
       "/* Parallel-specific style estimator block */\n",
       "\n",
       "#sk-container-id-2 div.sk-parallel-item::after {\n",
       "  content: \"\";\n",
       "  width: 100%;\n",
       "  border-bottom: 2px solid var(--sklearn-color-text-on-default-background);\n",
       "  flex-grow: 1;\n",
       "}\n",
       "\n",
       "#sk-container-id-2 div.sk-parallel {\n",
       "  display: flex;\n",
       "  align-items: stretch;\n",
       "  justify-content: center;\n",
       "  background-color: var(--sklearn-color-background);\n",
       "  position: relative;\n",
       "}\n",
       "\n",
       "#sk-container-id-2 div.sk-parallel-item {\n",
       "  display: flex;\n",
       "  flex-direction: column;\n",
       "}\n",
       "\n",
       "#sk-container-id-2 div.sk-parallel-item:first-child::after {\n",
       "  align-self: flex-end;\n",
       "  width: 50%;\n",
       "}\n",
       "\n",
       "#sk-container-id-2 div.sk-parallel-item:last-child::after {\n",
       "  align-self: flex-start;\n",
       "  width: 50%;\n",
       "}\n",
       "\n",
       "#sk-container-id-2 div.sk-parallel-item:only-child::after {\n",
       "  width: 0;\n",
       "}\n",
       "\n",
       "/* Serial-specific style estimator block */\n",
       "\n",
       "#sk-container-id-2 div.sk-serial {\n",
       "  display: flex;\n",
       "  flex-direction: column;\n",
       "  align-items: center;\n",
       "  background-color: var(--sklearn-color-background);\n",
       "  padding-right: 1em;\n",
       "  padding-left: 1em;\n",
       "}\n",
       "\n",
       "\n",
       "/* Toggleable style: style used for estimator/Pipeline/ColumnTransformer box that is\n",
       "clickable and can be expanded/collapsed.\n",
       "- Pipeline and ColumnTransformer use this feature and define the default style\n",
       "- Estimators will overwrite some part of the style using the `sk-estimator` class\n",
       "*/\n",
       "\n",
       "/* Pipeline and ColumnTransformer style (default) */\n",
       "\n",
       "#sk-container-id-2 div.sk-toggleable {\n",
       "  /* Default theme specific background. It is overwritten whether we have a\n",
       "  specific estimator or a Pipeline/ColumnTransformer */\n",
       "  background-color: var(--sklearn-color-background);\n",
       "}\n",
       "\n",
       "/* Toggleable label */\n",
       "#sk-container-id-2 label.sk-toggleable__label {\n",
       "  cursor: pointer;\n",
       "  display: block;\n",
       "  width: 100%;\n",
       "  margin-bottom: 0;\n",
       "  padding: 0.5em;\n",
       "  box-sizing: border-box;\n",
       "  text-align: center;\n",
       "}\n",
       "\n",
       "#sk-container-id-2 label.sk-toggleable__label-arrow:before {\n",
       "  /* Arrow on the left of the label */\n",
       "  content: \"▸\";\n",
       "  float: left;\n",
       "  margin-right: 0.25em;\n",
       "  color: var(--sklearn-color-icon);\n",
       "}\n",
       "\n",
       "#sk-container-id-2 label.sk-toggleable__label-arrow:hover:before {\n",
       "  color: var(--sklearn-color-text);\n",
       "}\n",
       "\n",
       "/* Toggleable content - dropdown */\n",
       "\n",
       "#sk-container-id-2 div.sk-toggleable__content {\n",
       "  max-height: 0;\n",
       "  max-width: 0;\n",
       "  overflow: hidden;\n",
       "  text-align: left;\n",
       "  /* unfitted */\n",
       "  background-color: var(--sklearn-color-unfitted-level-0);\n",
       "}\n",
       "\n",
       "#sk-container-id-2 div.sk-toggleable__content.fitted {\n",
       "  /* fitted */\n",
       "  background-color: var(--sklearn-color-fitted-level-0);\n",
       "}\n",
       "\n",
       "#sk-container-id-2 div.sk-toggleable__content pre {\n",
       "  margin: 0.2em;\n",
       "  border-radius: 0.25em;\n",
       "  color: var(--sklearn-color-text);\n",
       "  /* unfitted */\n",
       "  background-color: var(--sklearn-color-unfitted-level-0);\n",
       "}\n",
       "\n",
       "#sk-container-id-2 div.sk-toggleable__content.fitted pre {\n",
       "  /* unfitted */\n",
       "  background-color: var(--sklearn-color-fitted-level-0);\n",
       "}\n",
       "\n",
       "#sk-container-id-2 input.sk-toggleable__control:checked~div.sk-toggleable__content {\n",
       "  /* Expand drop-down */\n",
       "  max-height: 200px;\n",
       "  max-width: 100%;\n",
       "  overflow: auto;\n",
       "}\n",
       "\n",
       "#sk-container-id-2 input.sk-toggleable__control:checked~label.sk-toggleable__label-arrow:before {\n",
       "  content: \"▾\";\n",
       "}\n",
       "\n",
       "/* Pipeline/ColumnTransformer-specific style */\n",
       "\n",
       "#sk-container-id-2 div.sk-label input.sk-toggleable__control:checked~label.sk-toggleable__label {\n",
       "  color: var(--sklearn-color-text);\n",
       "  background-color: var(--sklearn-color-unfitted-level-2);\n",
       "}\n",
       "\n",
       "#sk-container-id-2 div.sk-label.fitted input.sk-toggleable__control:checked~label.sk-toggleable__label {\n",
       "  background-color: var(--sklearn-color-fitted-level-2);\n",
       "}\n",
       "\n",
       "/* Estimator-specific style */\n",
       "\n",
       "/* Colorize estimator box */\n",
       "#sk-container-id-2 div.sk-estimator input.sk-toggleable__control:checked~label.sk-toggleable__label {\n",
       "  /* unfitted */\n",
       "  background-color: var(--sklearn-color-unfitted-level-2);\n",
       "}\n",
       "\n",
       "#sk-container-id-2 div.sk-estimator.fitted input.sk-toggleable__control:checked~label.sk-toggleable__label {\n",
       "  /* fitted */\n",
       "  background-color: var(--sklearn-color-fitted-level-2);\n",
       "}\n",
       "\n",
       "#sk-container-id-2 div.sk-label label.sk-toggleable__label,\n",
       "#sk-container-id-2 div.sk-label label {\n",
       "  /* The background is the default theme color */\n",
       "  color: var(--sklearn-color-text-on-default-background);\n",
       "}\n",
       "\n",
       "/* On hover, darken the color of the background */\n",
       "#sk-container-id-2 div.sk-label:hover label.sk-toggleable__label {\n",
       "  color: var(--sklearn-color-text);\n",
       "  background-color: var(--sklearn-color-unfitted-level-2);\n",
       "}\n",
       "\n",
       "/* Label box, darken color on hover, fitted */\n",
       "#sk-container-id-2 div.sk-label.fitted:hover label.sk-toggleable__label.fitted {\n",
       "  color: var(--sklearn-color-text);\n",
       "  background-color: var(--sklearn-color-fitted-level-2);\n",
       "}\n",
       "\n",
       "/* Estimator label */\n",
       "\n",
       "#sk-container-id-2 div.sk-label label {\n",
       "  font-family: monospace;\n",
       "  font-weight: bold;\n",
       "  display: inline-block;\n",
       "  line-height: 1.2em;\n",
       "}\n",
       "\n",
       "#sk-container-id-2 div.sk-label-container {\n",
       "  text-align: center;\n",
       "}\n",
       "\n",
       "/* Estimator-specific */\n",
       "#sk-container-id-2 div.sk-estimator {\n",
       "  font-family: monospace;\n",
       "  border: 1px dotted var(--sklearn-color-border-box);\n",
       "  border-radius: 0.25em;\n",
       "  box-sizing: border-box;\n",
       "  margin-bottom: 0.5em;\n",
       "  /* unfitted */\n",
       "  background-color: var(--sklearn-color-unfitted-level-0);\n",
       "}\n",
       "\n",
       "#sk-container-id-2 div.sk-estimator.fitted {\n",
       "  /* fitted */\n",
       "  background-color: var(--sklearn-color-fitted-level-0);\n",
       "}\n",
       "\n",
       "/* on hover */\n",
       "#sk-container-id-2 div.sk-estimator:hover {\n",
       "  /* unfitted */\n",
       "  background-color: var(--sklearn-color-unfitted-level-2);\n",
       "}\n",
       "\n",
       "#sk-container-id-2 div.sk-estimator.fitted:hover {\n",
       "  /* fitted */\n",
       "  background-color: var(--sklearn-color-fitted-level-2);\n",
       "}\n",
       "\n",
       "/* Specification for estimator info (e.g. \"i\" and \"?\") */\n",
       "\n",
       "/* Common style for \"i\" and \"?\" */\n",
       "\n",
       ".sk-estimator-doc-link,\n",
       "a:link.sk-estimator-doc-link,\n",
       "a:visited.sk-estimator-doc-link {\n",
       "  float: right;\n",
       "  font-size: smaller;\n",
       "  line-height: 1em;\n",
       "  font-family: monospace;\n",
       "  background-color: var(--sklearn-color-background);\n",
       "  border-radius: 1em;\n",
       "  height: 1em;\n",
       "  width: 1em;\n",
       "  text-decoration: none !important;\n",
       "  margin-left: 1ex;\n",
       "  /* unfitted */\n",
       "  border: var(--sklearn-color-unfitted-level-1) 1pt solid;\n",
       "  color: var(--sklearn-color-unfitted-level-1);\n",
       "}\n",
       "\n",
       ".sk-estimator-doc-link.fitted,\n",
       "a:link.sk-estimator-doc-link.fitted,\n",
       "a:visited.sk-estimator-doc-link.fitted {\n",
       "  /* fitted */\n",
       "  border: var(--sklearn-color-fitted-level-1) 1pt solid;\n",
       "  color: var(--sklearn-color-fitted-level-1);\n",
       "}\n",
       "\n",
       "/* On hover */\n",
       "div.sk-estimator:hover .sk-estimator-doc-link:hover,\n",
       ".sk-estimator-doc-link:hover,\n",
       "div.sk-label-container:hover .sk-estimator-doc-link:hover,\n",
       ".sk-estimator-doc-link:hover {\n",
       "  /* unfitted */\n",
       "  background-color: var(--sklearn-color-unfitted-level-3);\n",
       "  color: var(--sklearn-color-background);\n",
       "  text-decoration: none;\n",
       "}\n",
       "\n",
       "div.sk-estimator.fitted:hover .sk-estimator-doc-link.fitted:hover,\n",
       ".sk-estimator-doc-link.fitted:hover,\n",
       "div.sk-label-container:hover .sk-estimator-doc-link.fitted:hover,\n",
       ".sk-estimator-doc-link.fitted:hover {\n",
       "  /* fitted */\n",
       "  background-color: var(--sklearn-color-fitted-level-3);\n",
       "  color: var(--sklearn-color-background);\n",
       "  text-decoration: none;\n",
       "}\n",
       "\n",
       "/* Span, style for the box shown on hovering the info icon */\n",
       ".sk-estimator-doc-link span {\n",
       "  display: none;\n",
       "  z-index: 9999;\n",
       "  position: relative;\n",
       "  font-weight: normal;\n",
       "  right: .2ex;\n",
       "  padding: .5ex;\n",
       "  margin: .5ex;\n",
       "  width: min-content;\n",
       "  min-width: 20ex;\n",
       "  max-width: 50ex;\n",
       "  color: var(--sklearn-color-text);\n",
       "  box-shadow: 2pt 2pt 4pt #999;\n",
       "  /* unfitted */\n",
       "  background: var(--sklearn-color-unfitted-level-0);\n",
       "  border: .5pt solid var(--sklearn-color-unfitted-level-3);\n",
       "}\n",
       "\n",
       ".sk-estimator-doc-link.fitted span {\n",
       "  /* fitted */\n",
       "  background: var(--sklearn-color-fitted-level-0);\n",
       "  border: var(--sklearn-color-fitted-level-3);\n",
       "}\n",
       "\n",
       ".sk-estimator-doc-link:hover span {\n",
       "  display: block;\n",
       "}\n",
       "\n",
       "/* \"?\"-specific style due to the `<a>` HTML tag */\n",
       "\n",
       "#sk-container-id-2 a.estimator_doc_link {\n",
       "  float: right;\n",
       "  font-size: 1rem;\n",
       "  line-height: 1em;\n",
       "  font-family: monospace;\n",
       "  background-color: var(--sklearn-color-background);\n",
       "  border-radius: 1rem;\n",
       "  height: 1rem;\n",
       "  width: 1rem;\n",
       "  text-decoration: none;\n",
       "  /* unfitted */\n",
       "  color: var(--sklearn-color-unfitted-level-1);\n",
       "  border: var(--sklearn-color-unfitted-level-1) 1pt solid;\n",
       "}\n",
       "\n",
       "#sk-container-id-2 a.estimator_doc_link.fitted {\n",
       "  /* fitted */\n",
       "  border: var(--sklearn-color-fitted-level-1) 1pt solid;\n",
       "  color: var(--sklearn-color-fitted-level-1);\n",
       "}\n",
       "\n",
       "/* On hover */\n",
       "#sk-container-id-2 a.estimator_doc_link:hover {\n",
       "  /* unfitted */\n",
       "  background-color: var(--sklearn-color-unfitted-level-3);\n",
       "  color: var(--sklearn-color-background);\n",
       "  text-decoration: none;\n",
       "}\n",
       "\n",
       "#sk-container-id-2 a.estimator_doc_link.fitted:hover {\n",
       "  /* fitted */\n",
       "  background-color: var(--sklearn-color-fitted-level-3);\n",
       "}\n",
       "</style><div id=\"sk-container-id-2\" class=\"sk-top-container\"><div class=\"sk-text-repr-fallback\"><pre>DummyRegressor()</pre><b>In a Jupyter environment, please rerun this cell to show the HTML representation or trust the notebook. <br />On GitHub, the HTML representation is unable to render, please try loading this page with nbviewer.org.</b></div><div class=\"sk-container\" hidden><div class=\"sk-item\"><div class=\"sk-estimator fitted sk-toggleable\"><input class=\"sk-toggleable__control sk-hidden--visually\" id=\"sk-estimator-id-2\" type=\"checkbox\" checked><label for=\"sk-estimator-id-2\" class=\"sk-toggleable__label fitted sk-toggleable__label-arrow fitted\">&nbsp;&nbsp;DummyRegressor<a class=\"sk-estimator-doc-link fitted\" rel=\"noreferrer\" target=\"_blank\" href=\"https://scikit-learn.org/1.5/modules/generated/sklearn.dummy.DummyRegressor.html\">?<span>Documentation for DummyRegressor</span></a><span class=\"sk-estimator-doc-link fitted\">i<span>Fitted</span></span></label><div class=\"sk-toggleable__content fitted\"><pre>DummyRegressor()</pre></div> </div></div></div></div>"
      ],
      "text/plain": [
       "DummyRegressor()"
      ]
     },
     "execution_count": 172,
     "metadata": {},
     "output_type": "execute_result"
    }
   ],
   "source": [
    "# Fit the model on the training dataset\n",
    "dummy.fit(X_train_df, y_train)"
   ]
  },
  {
   "cell_type": "code",
   "execution_count": 174,
   "metadata": {},
   "outputs": [],
   "source": [
    "from sklearn.model_selection import TimeSeriesSplit, GridSearchCV"
   ]
  },
  {
   "cell_type": "code",
   "execution_count": 175,
   "metadata": {},
   "outputs": [],
   "source": [
    "# Transform target\n",
    "y_train_log = np.log1p(y_train)\n",
    "y_val_log = np.log1p(y_val)\n",
    "y_test_log = np.log1p(y_test)"
   ]
  },
  {
   "cell_type": "code",
   "execution_count": 176,
   "metadata": {},
   "outputs": [
    {
     "name": "stdout",
     "output_type": "stream",
     "text": [
      "(3281, 40) (3281,)\n",
      "(365, 40) (365,)\n",
      "(362, 40) (362,)\n"
     ]
    }
   ],
   "source": [
    "print(X_train_df.shape, y_train_log.shape)\n",
    "print(X_val_df.shape, y_val.shape)\n",
    "print(X_test_df.shape, y_test.shape)"
   ]
  },
  {
   "cell_type": "code",
   "execution_count": 177,
   "metadata": {},
   "outputs": [
    {
     "name": "stdout",
     "output_type": "stream",
     "text": [
      "Best parameters: {'colsample_bytree': 0.7, 'learning_rate': 0.01, 'max_depth': 3, 'min_child_weight': 12, 'n_estimators': 200, 'subsample': 0.3}\n",
      "Best MAE: 0.9051\n",
      "Best R2: 0.1258\n"
     ]
    }
   ],
   "source": [
    "# Time series split\n",
    "tscv = TimeSeriesSplit(n_splits=5)\n",
    "\n",
    "# Scoring metrics\n",
    "scoring = {\n",
    "    'neg_mean_absolute_error': 'neg_mean_absolute_error',\n",
    "    'r2': 'r2'\n",
    "}\n",
    "\n",
    "# Grid search\n",
    "grid_search = GridSearchCV(\n",
    "    estimator=xgb,\n",
    "    param_grid=param_grid,\n",
    "    scoring=scoring,\n",
    "    refit='neg_mean_absolute_error',\n",
    "    cv=tscv,\n",
    "    n_jobs=-1,\n",
    ")\n",
    "\n",
    "# Fit model\n",
    "grid_search.fit(X_train_df, y_train_log)\n",
    "\n",
    "print(\"Best parameters:\", grid_search.best_params_)\n",
    "\n",
    "best_mae = -grid_search.best_score_\n",
    "print(f\"Best MAE: {best_mae:.4f}\")\n",
    "\n",
    "best_r2 = grid_search.cv_results_['mean_test_r2'][grid_search.best_index_]\n",
    "print(f\"Best R2: {best_r2:.4f}\")"
   ]
  },
  {
   "cell_type": "markdown",
   "metadata": {
    "id": "q43YtqpdeniY"
   },
   "source": [
    "### J.4 Model Technical Performance"
   ]
  },
  {
   "cell_type": "code",
   "execution_count": 178,
   "metadata": {},
   "outputs": [],
   "source": [
    "from my_krml_25677648.models.performance import get_predictions, print_regressor_scores"
   ]
  },
  {
   "cell_type": "markdown",
   "metadata": {},
   "source": [
    "#### Dummy Model"
   ]
  },
  {
   "cell_type": "code",
   "execution_count": 179,
   "metadata": {
    "id": "x1Q3oxoNhez5"
   },
   "outputs": [
    {
     "name": "stdout",
     "output_type": "stream",
     "text": [
      "RMSE (Validation): 11.084\n",
      "MAE (Validation): 7.688\n",
      "R² (Validation): -0.003\n"
     ]
    }
   ],
   "source": [
    "# Validation\n",
    "y_val_pred = get_predictions(dummy, X_val_df)\n",
    "print_regressor_scores(y_val_pred, y_val, set_name=\"Validation\")"
   ]
  },
  {
   "cell_type": "code",
   "execution_count": 180,
   "metadata": {},
   "outputs": [
    {
     "name": "stdout",
     "output_type": "stream",
     "text": [
      "RMSE (Testing): 14.777\n",
      "MAE (Testing): 9.208\n",
      "R² (Testing): -0.006\n"
     ]
    }
   ],
   "source": [
    "# Testing\n",
    "y_test_pred = get_predictions(dummy, X_test_df)\n",
    "print_regressor_scores(y_test_pred, y_test, set_name=\"Testing\")"
   ]
  },
  {
   "cell_type": "markdown",
   "metadata": {},
   "source": [
    "#### XGBoost"
   ]
  },
  {
   "cell_type": "code",
   "execution_count": 181,
   "metadata": {},
   "outputs": [],
   "source": [
    "best_model = grid_search.best_estimator_"
   ]
  },
  {
   "cell_type": "code",
   "execution_count": 182,
   "metadata": {},
   "outputs": [
    {
     "name": "stdout",
     "output_type": "stream",
     "text": [
      "RMSE (Validation): 11.507\n",
      "MAE (Validation): 6.205\n",
      "R² (Validation): -0.081\n"
     ]
    }
   ],
   "source": [
    "# Validation\n",
    "y_val_pred_log = get_predictions(best_model, X_val_df)\n",
    "\n",
    "# Inverse transform predictions\n",
    "y_val_pred = np.expm1(y_val_pred_log)\n",
    "\n",
    "print_regressor_scores(y_val_pred, y_val, set_name=\"Validation\")"
   ]
  },
  {
   "cell_type": "code",
   "execution_count": 183,
   "metadata": {},
   "outputs": [
    {
     "name": "stdout",
     "output_type": "stream",
     "text": [
      "RMSE (Testing): 15.114\n",
      "MAE (Testing): 7.411\n",
      "R² (Testing): -0.052\n"
     ]
    }
   ],
   "source": [
    "# Testing\n",
    "y_test_pred_log = get_predictions(best_model, X_test_df)\n",
    "\n",
    "# Inverse transform predictions\n",
    "y_test_pred = np.expm1(y_test_pred_log)\n",
    "\n",
    "print_regressor_scores(y_test_pred, y_test, set_name=\"Testing\")"
   ]
  },
  {
   "cell_type": "markdown",
   "metadata": {},
   "source": [
    "#### Feature Importance"
   ]
  },
  {
   "cell_type": "code",
   "execution_count": 184,
   "metadata": {},
   "outputs": [
    {
     "data": {
      "text/plain": [
       "[('cloud_cover_mean', 130.0),\n",
       " ('dew_point_2m_mean', 108.0),\n",
       " ('relative_humidity_2m_mean', 81.0),\n",
       " ('cloud_cover_min', 81.0),\n",
       " ('wind_direction_sin', 75.0),\n",
       " ('rain_sum', 70.0),\n",
       " ('temperature_2m_min', 45.0),\n",
       " ('relative_humidity_2m_max', 45.0),\n",
       " ('wind_direction_cos', 45.0),\n",
       " ('daylight_duration', 43.0),\n",
       " ('day_of_year_sin', 41.0),\n",
       " ('relative_humidity_2m_min', 40.0),\n",
       " ('wind_speed_10m_max', 40.0),\n",
       " ('soil_moisture_28_to_100cm_mean', 39.0),\n",
       " ('pressure_msl_max', 36.0),\n",
       " ('soil_moisture_0_to_7cm_mean', 35.0),\n",
       " ('vapour_pressure_deficit_max', 34.0),\n",
       " ('sunshine_duration', 32.0),\n",
       " ('soil_moisture_7_to_28cm_mean', 28.0),\n",
       " ('rain_sum_sum_last_3d', 26.0),\n",
       " ('rain_sum_max_last_3d', 26.0),\n",
       " ('wind_speed_10m_mean', 22.0),\n",
       " ('rain_sum_sum_last_7d', 22.0),\n",
       " ('wind_gusts_10m_min', 20.0),\n",
       " ('cloud_cover_max', 20.0),\n",
       " ('day_of_year_cos', 18.0),\n",
       " ('week_sin', 17.0),\n",
       " ('rain_sum_sum_last_5d', 16.0),\n",
       " ('et0_fao_evapotranspiration_sum', 12.0),\n",
       " ('rain_sum_mean_last_7d', 12.0),\n",
       " ('rain_sum_lag_3', 10.0),\n",
       " ('month_sin', 10.0),\n",
       " ('rain_sum_lag_1', 9.0),\n",
       " ('rain_sum_lag_2', 6.0),\n",
       " ('rain_sum_mean_last_3d', 6.0),\n",
       " ('rain_sum_min_last_3d', 6.0),\n",
       " ('rain_sum_mean_last_5d', 5.0),\n",
       " ('week_cos', 5.0),\n",
       " ('month_cos', 4.0)]"
      ]
     },
     "execution_count": 184,
     "metadata": {},
     "output_type": "execute_result"
    }
   ],
   "source": [
    "# Get feature importances as a dictionary (feature_name: importance_score)\n",
    "importance_dict = best_model.get_booster().get_score(importance_type='weight')\n",
    "\n",
    "# Sort features by importance descending\n",
    "sorted_importance = sorted(importance_dict.items(), key=lambda x: x[1], reverse=True)\n",
    "sorted_importance"
   ]
  },
  {
   "cell_type": "code",
   "execution_count": 190,
   "metadata": {},
   "outputs": [
    {
     "data": {
      "image/png": "[encoded data removed]",
      "text/plain": [
       "<Figure size 800x600 with 1 Axes>"
      ]
     },
     "metadata": {},
     "output_type": "display_data"
    }
   ],
   "source": [
    "# Convert to DataFrame\n",
    "df_importance = pd.DataFrame(\n",
    "    list(importance_dict.items()), \n",
    "    columns=['Feature', 'Importance']\n",
    ")\n",
    "\n",
    "# Sort descending\n",
    "df_importance = df_importance.sort_values(by='Importance', ascending=False)\n",
    "\n",
    "# Plot top 20\n",
    "plt.figure(figsize=(8, 6))\n",
    "sns.barplot(\n",
    "    x='Importance', y='Feature',\n",
    "    data=df_importance.head(30),\n",
    "    palette='viridis'\n",
    ")\n",
    "plt.title('Top 20 Feature Importances from XGBoost')\n",
    "plt.xlabel('Importance')\n",
    "plt.ylabel('Feature')\n",
    "plt.tight_layout()\n",
    "plt.show()"
   ]
  },
  {
   "cell_type": "code",
   "execution_count": 194,
   "metadata": {},
   "outputs": [],
   "source": [
    "# Get top 20 features\n",
    "top_20 = sorted_importance[:20]\n",
    "\n",
    "# Extract feature names only\n",
    "top_20_features = [feat for feat, imp in top_20]\n",
    "\n",
    "# Select columns for training/validation/testing\n",
    "X_train_top = X_train_df[top_20_features]\n",
    "X_val_top = X_val_df[top_20_features]\n",
    "X_test_top = X_test_df[top_20_features]"
   ]
  },
  {
   "cell_type": "code",
   "execution_count": 195,
   "metadata": {},
   "outputs": [],
   "source": [
    "param_grid = {\n",
    "    'learning_rate': [0.05],\n",
    "    'n_estimators': [300],\n",
    "    'max_depth': [3],\n",
    "    'subsample': [0.9],\n",
    "    'colsample_bytree': [0.4],\n",
    "    'min_child_weight': [1]\n",
    "}\n",
    "\n",
    "# param_grid = {\n",
    "#     'learning_rate': [0.001, 0.005, 0.01, 0.05, 0.1],\n",
    "#     'n_estimators': [300, 400, 600, 700, 800, 900, 1000],\n",
    "#     'max_depth': [3, 4, 5, 6, 7, 8],\n",
    "#     'subsample': [0.2, 0.3, 0.4, 0.5, 0.6, 0.7, 0.8, 0.9, 1.0],\n",
    "#     'colsample_bytree': [0.4, 0.5, 0.7, 0.8, 1.0],\n",
    "#     'min_child_weight': [1, 3, 6, 10, 11, 12, 15, 16, 17, 18, 19, 20]\n",
    "# }"
   ]
  },
  {
   "cell_type": "code",
   "execution_count": 196,
   "metadata": {},
   "outputs": [
    {
     "name": "stdout",
     "output_type": "stream",
     "text": [
      "Best parameters: {'colsample_bytree': 0.4, 'learning_rate': 0.05, 'max_depth': 3, 'min_child_weight': 1, 'n_estimators': 300, 'subsample': 0.9}\n",
      "Best MAE: 0.9451\n",
      "Best R2: 0.0355\n"
     ]
    }
   ],
   "source": [
    "# Time series split\n",
    "tscv = TimeSeriesSplit(n_splits=5)\n",
    "\n",
    "# Scoring metrics\n",
    "scoring = {\n",
    "    'neg_mean_absolute_error': 'neg_mean_absolute_error',\n",
    "    'r2': 'r2'\n",
    "}\n",
    "\n",
    "# Grid search\n",
    "grid_search = GridSearchCV(\n",
    "    estimator=xgb,\n",
    "    param_grid=param_grid,\n",
    "    scoring=scoring,\n",
    "    refit='neg_mean_absolute_error',\n",
    "    cv=tscv,\n",
    "    n_jobs=-1,\n",
    ")\n",
    "\n",
    "# Fit model with sample weights\n",
    "grid_search.fit(X_train_top, y_train_log)\n",
    "\n",
    "print(\"Best parameters:\", grid_search.best_params_)\n",
    "\n",
    "best_mae = -grid_search.best_score_\n",
    "print(f\"Best MAE: {best_mae:.4f}\")\n",
    "\n",
    "best_r2 = grid_search.cv_results_['mean_test_r2'][grid_search.best_index_]\n",
    "print(f\"Best R2: {best_r2:.4f}\")"
   ]
  },
  {
   "cell_type": "code",
   "execution_count": 197,
   "metadata": {},
   "outputs": [],
   "source": [
    "best_model_top20 = grid_search.best_estimator_"
   ]
  },
  {
   "cell_type": "code",
   "execution_count": 198,
   "metadata": {},
   "outputs": [
    {
     "name": "stdout",
     "output_type": "stream",
     "text": [
      "RMSE (Validation): 11.252\n",
      "MAE (Validation): 6.512\n",
      "R² (Validation): -0.033\n"
     ]
    }
   ],
   "source": [
    "# Validation\n",
    "y_val_pred_log = get_predictions(best_model_top20, X_val_top)\n",
    "\n",
    "# Inverse transform predictions\n",
    "y_val_pred = np.expm1(y_val_pred_log)\n",
    "\n",
    "print_regressor_scores(y_val_pred, y_val, set_name=\"Validation\")"
   ]
  },
  {
   "cell_type": "code",
   "execution_count": 201,
   "metadata": {},
   "outputs": [
    {
     "name": "stdout",
     "output_type": "stream",
     "text": [
      "RMSE (Testing): 14.799\n",
      "MAE (Testing): 7.392\n",
      "R² (Testing): -0.009\n"
     ]
    }
   ],
   "source": [
    "# Testing\n",
    "y_test_pred_log = get_predictions(best_model_top20, X_test_top)\n",
    "\n",
    "# Inverse transform predictions\n",
    "y_test_pred = np.expm1(y_test_pred_log)\n",
    "\n",
    "print_regressor_scores(y_test_pred, y_test, set_name=\"Testing\")"
   ]
  },
  {
   "cell_type": "code",
   "execution_count": 208,
   "metadata": {},
   "outputs": [
    {
     "name": "stdout",
     "output_type": "stream",
     "text": [
      "MAE on zero rainfall days: 2.0447\n",
      "MAE on heavy rainfall days: 21.5624\n",
      "Overall MAE: 7.3915\n"
     ]
    }
   ],
   "source": [
    "# MAE for zero vs heavy rainfall days\n",
    "# Thresholds\n",
    "zero_threshold = 0.1  # Define zero rainfall\n",
    "heavy_rain_threshold = 10.0  # Define heavy rainfall\n",
    "\n",
    "# Separate indexes\n",
    "zero_idx = y_test < zero_threshold\n",
    "heavy_idx = y_test >= heavy_rain_threshold\n",
    "\n",
    "from sklearn.metrics import mean_absolute_error\n",
    "\n",
    "# MAE for zero rainfall days\n",
    "mae_zero = mean_absolute_error(y_test[zero_idx], y_test_pred[zero_idx])\n",
    "print(f\"MAE on zero rainfall days: {mae_zero:.4f}\")\n",
    "\n",
    "# MAE for heavy rainfall days\n",
    "mae_heavy = mean_absolute_error(y_test[heavy_idx], y_test_pred[heavy_idx])\n",
    "print(f\"MAE on heavy rainfall days: {mae_heavy:.4f}\")\n",
    "\n",
    "# Overall MAE\n",
    "mae_overall = mean_absolute_error(y_test, y_test_pred)\n",
    "print(f\"Overall MAE: {mae_overall:.4f}\")"
   ]
  },
  {
   "cell_type": "code",
   "execution_count": 209,
   "metadata": {},
   "outputs": [
    {
     "name": "stdout",
     "output_type": "stream",
     "text": [
      "Trace rain days - Count: 71, MAE: 2.78\n",
      "Light rain days - Count: 96, MAE: 1.89\n",
      "Moderate rain days - Count: 47, MAE: 3.41\n",
      "Heavy rain days - Count: 81, MAE: 15.25\n",
      "Extreme rain days - Count: 13, MAE: 60.90\n"
     ]
    }
   ],
   "source": [
    "# MAE per rainfall category (bins)\n",
    "bins = [0, 0.1, 1, 5, 10, 50, 1000]\n",
    "labels = ['None', 'Trace', 'Light', 'Moderate', 'Heavy', 'Extreme']\n",
    "y_test_bins = pd.cut(y_test, bins=bins, labels=labels)\n",
    "\n",
    "# Compute MAE per bin\n",
    "for label in labels:\n",
    "    idx = y_test_bins == label\n",
    "    if idx.sum() > 0:\n",
    "        mae = mean_absolute_error(y_test[idx], y_test_pred[idx])\n",
    "        print(f\"{label} rain days - Count: {idx.sum()}, MAE: {mae:.2f}\")"
   ]
  },
  {
   "cell_type": "code",
   "execution_count": 210,
   "metadata": {},
   "outputs": [
    {
     "data": {
      "image/png": "[encoded data removed]",
      "text/plain": [
       "<Figure size 800x600 with 1 Axes>"
      ]
     },
     "metadata": {},
     "output_type": "display_data"
    }
   ],
   "source": [
    "# Prediction vs Actual scatter with heavy/extreme highlighted\n",
    "plt.figure(figsize=(8,6))\n",
    "plt.scatter(y_test, y_test_pred, alpha=0.6, label=\"All Data\")\n",
    "plt.scatter(y_test[y_test >= 10], y_test_pred[y_test >= 10], color='red', label=\"Heavy/Extreme\")\n",
    "plt.plot([0, y_test.max()], [0, y_test.max()], 'k--')\n",
    "plt.xlabel(\"Actual Rainfall (mm)\")\n",
    "plt.ylabel(\"Predicted Rainfall (mm)\")\n",
    "plt.title(\"Prediction vs Actual (Highlighting Heavy/Extreme Days)\")\n",
    "plt.legend()\n",
    "plt.show()"
   ]
  },
  {
   "cell_type": "code",
   "execution_count": 211,
   "metadata": {},
   "outputs": [
    {
     "data": {
      "text/plain": [
       "['../../models/precipitation_fall/precipitation_fall.joblib']"
      ]
     },
     "execution_count": 211,
     "metadata": {},
     "output_type": "execute_result"
    }
   ],
   "source": [
    "# Save model\n",
    "import os\n",
    "from joblib import dump\n",
    "\n",
    "save_dir = '../../models/precipitation_fall'  # correct relative path\n",
    "\n",
    "os.makedirs(save_dir, exist_ok=True)  # just to be safe\n",
    "\n",
    "dump(best_model_top20, os.path.join(save_dir, 'precipitation_fall.joblib'))"
   ]
  },
  {
   "cell_type": "code",
   "execution_count": 219,
   "metadata": {
    "id": "_YbQldshHk_3"
   },
   "outputs": [],
   "source": [
    "model_performance_explanations = \"\"\"The model’s performance on the validation dataset shows an RMSE of 11.252 mm and an MAE of 6.512 mm, with an R² value of -0.033. On the testing dataset, the RMSE increases to 14.799 mm and the MAE to 7.392 mm, while the R² slightly improves to -0.009. The RMSE indicates the average size of prediction errors, and its higher value compared to MAE suggests the presence of some larger errors, as RMSE penalises these more heavily. The increase in error metrics from validation to testing indicates reduced accuracy on unseen data, highlighting potential limitations in the model’s ability to generalise. Negative R² values suggest the model explains less variance than a simple mean prediction, pointing to challenges in capturing the complex and imbalanced nature of precipitation data. Specifically, the predominance of low rainfall days and the rarity of heavy rainfall events make accurate prediction difficult, particularly for extremes. The low R² can largely be attributed to the model’s difficulty in accurately predicting these extreme rainfall events, which significantly affect variance but occur infrequently. Overall, while the model achieves reasonable error levels, the negative R² values indicate limited explanatory power and reduced predictive reliability across varying rainfall intensities.\n",
    "\"\"\""
   ]
  },
  {
   "cell_type": "code",
   "execution_count": 220,
   "metadata": {
    "id": "-MkLnLzVHlDO"
   },
   "outputs": [
    {
     "data": {
      "text/html": [
       "<p style=\"color:grey\">model_performance_explanations</p><h3 font-size: 3em>The model’s performance on the validation dataset shows an RMSE of 11.252 mm and an MAE of 6.512 mm, with an R² value of -0.033. On the testing dataset, the RMSE increases to 14.799 mm and the MAE to 7.392 mm, while the R² slightly improves to -0.009. The RMSE indicates the average size of prediction errors, and its higher value compared to MAE suggests the presence of some larger errors, as RMSE penalises these more heavily. The increase in error metrics from validation to testing indicates reduced accuracy on unseen data, highlighting potential limitations in the model’s ability to generalise. Negative R² values suggest the model explains less variance than a simple mean prediction, pointing to challenges in capturing the complex and imbalanced nature of precipitation data. Specifically, the predominance of low rainfall days and the rarity of heavy rainfall events make accurate prediction difficult, particularly for extremes. The low R² can largely be attributed to the model’s difficulty in accurately predicting these extreme rainfall events, which significantly affect variance but occur infrequently. Overall, while the model achieves reasonable error levels, the negative R² values indicate limited explanatory power and reduced predictive reliability across varying rainfall intensities.\n",
       "</h3>"
      ],
      "text/plain": [
       "<IPython.core.display.HTML object>"
      ]
     },
     "metadata": {},
     "output_type": "display_data"
    }
   ],
   "source": [
    "# Do not modify this code\n",
    "print_tile(size=\"h3\", key='model_performance_explanations', value=model_performance_explanations)"
   ]
  },
  {
   "cell_type": "markdown",
   "metadata": {
    "id": "W1HgZMPcmtu7"
   },
   "source": [
    "### J.5 Business Impact from Current Model Performance\n",
    "\n",
    "> Provide some analysis on the model impacts from the business point of view\n"
   ]
  },
  {
   "cell_type": "code",
   "execution_count": 221,
   "metadata": {
    "id": "7bcCHiP-Hozj"
   },
   "outputs": [],
   "source": [
    "business_impacts_explanations = \"\"\"The model is intended to support decision making in sectors such as agriculture, flood management and event planning by providing precipitation forecasts. Although the RMSE and MAE values indicate reasonable overall accuracy, the negative R-squared value suggests that the model has limited ability to capture rainfall variability, particularly in the case of extreme precipitation events. This limitation is significant, as inaccurate predictions of heavy rainfall, while infrequent, may lead to substantial business consequences such as crop damage, infrastructure disruption and financial losses. In contrast, prediction errors during periods of low rainfall generally carry less severe implications. Overall, the model demonstrates acceptable performance under typical conditions but lacks reliability in forecasting extreme events, which may reduce its effectiveness in supporting critical business planning and risk management activities.\n",
    "\"\"\""
   ]
  },
  {
   "cell_type": "code",
   "execution_count": 222,
   "metadata": {
    "id": "RQ3lJGAnHo3O"
   },
   "outputs": [
    {
     "data": {
      "text/html": [
       "<p style=\"color:grey\">business_impacts_explanations</p><h3 font-size: 3em>The model is intended to support decision making in sectors such as agriculture, flood management and event planning by providing precipitation forecasts. Although the RMSE and MAE values indicate reasonable overall accuracy, the negative R-squared value suggests that the model has limited ability to capture rainfall variability, particularly in the case of extreme precipitation events. This limitation is significant, as inaccurate predictions of heavy rainfall, while infrequent, may lead to substantial business consequences such as crop damage, infrastructure disruption and financial losses. In contrast, prediction errors during periods of low rainfall generally carry less severe implications. Overall, the model demonstrates acceptable performance under typical conditions but lacks reliability in forecasting extreme events, which may reduce its effectiveness in supporting critical business planning and risk management activities.\n",
       "</h3>"
      ],
      "text/plain": [
       "<IPython.core.display.HTML object>"
      ]
     },
     "metadata": {},
     "output_type": "display_data"
    }
   ],
   "source": [
    "# Do not modify this code\n",
    "print_tile(size=\"h3\", key='business_impacts_explanations', value=business_impacts_explanations)"
   ]
  },
  {
   "cell_type": "markdown",
   "metadata": {
    "id": "mp1Ie9o8nDl1"
   },
   "source": [
    "## H. Project Outcomes"
   ]
  },
  {
   "cell_type": "code",
   "execution_count": 223,
   "metadata": {},
   "outputs": [],
   "source": [
    "experiment_outcome = \"\"\"Null Hypothesis Confirmed\"\"\""
   ]
  },
  {
   "cell_type": "code",
   "execution_count": 224,
   "metadata": {},
   "outputs": [
    {
     "data": {
      "text/html": [
       "<p style=\"color:grey\">experiment_outcomes_explanations</p><h2 font-size: 3em>Null Hypothesis Confirmed</h2>"
      ],
      "text/plain": [
       "<IPython.core.display.HTML object>"
      ]
     },
     "metadata": {},
     "output_type": "display_data"
    }
   ],
   "source": [
    "# Do not modify this code\n",
    "print_tile(size=\"h2\", key='experiment_outcomes_explanations', value=experiment_outcome)"
   ]
  },
  {
   "cell_type": "code",
   "execution_count": 225,
   "metadata": {
    "id": "iFF8wsz6HteA"
   },
   "outputs": [],
   "source": [
    "experiment_results_explanations = \"\"\"The null hypothesis is rejected, as the XGBoost model outperforms the baseline in terms of lower mean absolute error (MAE), and the feature-selected XGBoost model further enhances performance over the original version. The results of this experiment suggest that while the model performs reasonably well under typical rainfall conditions, it fails to generalise effectively to extreme precipitation events. The consistently negative R-squared values, particularly for heavy and extreme rainfall cases, highlight the model’s inability to capture the complexity and variability of such rare occurrences. This limitation significantly constrains the model’s utility in business-critical applications, where accurate forecasts of high-impact weather events are essential. Given the class imbalance and the inherent unpredictability of extreme rainfall, further experimentation with this modelling approach appears to offer limited value. It is therefore reasonable to consider this line of modelling a dead end in its current form. Future work should investigate more specialised, weather-focused models, which may offer improved sensitivity to rare but impactful rainfall events. While these approaches may involve greater complexity and require additional resources, they hold promise for delivering higher predictive accuracy for extreme events, thereby enhancing the model's practical value in both operational and strategic decision-making contexts.\n",
    "\"\"\""
   ]
  },
  {
   "cell_type": "code",
   "execution_count": 226,
   "metadata": {
    "id": "QpWzEhX2HthW"
   },
   "outputs": [
    {
     "data": {
      "text/html": [
       "<p style=\"color:grey\">experiment_results_explanations</p><h2 font-size: 3em>The null hypothesis is rejected, as the XGBoost model outperforms the baseline in terms of lower mean absolute error (MAE), and the feature-selected XGBoost model further enhances performance over the original version. The results of this experiment suggest that while the model performs reasonably well under typical rainfall conditions, it fails to generalise effectively to extreme precipitation events. The consistently negative R-squared values, particularly for heavy and extreme rainfall cases, highlight the model’s inability to capture the complexity and variability of such rare occurrences. This limitation significantly constrains the model’s utility in business-critical applications, where accurate forecasts of high-impact weather events are essential. Given the class imbalance and the inherent unpredictability of extreme rainfall, further experimentation with this modelling approach appears to offer limited value. It is therefore reasonable to consider this line of modelling a dead end in its current form. Future work should investigate more specialised, weather-focused models, which may offer improved sensitivity to rare but impactful rainfall events. While these approaches may involve greater complexity and require additional resources, they hold promise for delivering higher predictive accuracy for extreme events, thereby enhancing the model's practical value in both operational and strategic decision-making contexts.\n",
       "</h2>"
      ],
      "text/plain": [
       "<IPython.core.display.HTML object>"
      ]
     },
     "metadata": {},
     "output_type": "display_data"
    }
   ],
   "source": [
    "# Do not modify this code\n",
    "print_tile(size=\"h2\", key='experiment_results_explanations', value=experiment_results_explanations)"
   ]
  }
 ],
 "metadata": {
  "colab": {
   "provenance": [
    {
     "file_id": "13MHsQlFmfLuY1rWjvW73WSaDUaRPENW4",
     "timestamp": 1680399055727
    }
   ],
   "toc_visible": true
  },
  "kernelspec": {
   "display_name": "Adv_MLAA_AT2",
   "language": "python",
   "name": "adv-mlaa-at2"
  },
  "language_info": {
   "codemirror_mode": {
    "name": "ipython",
    "version": 3
   },
   "file_extension": ".py",
   "mimetype": "text/x-python",
   "name": "python",
   "nbconvert_exporter": "python",
   "pygments_lexer": "ipython3",
   "version": "3.12.4"
  }
 },
 "nbformat": 4,
 "nbformat_minor": 4
}
