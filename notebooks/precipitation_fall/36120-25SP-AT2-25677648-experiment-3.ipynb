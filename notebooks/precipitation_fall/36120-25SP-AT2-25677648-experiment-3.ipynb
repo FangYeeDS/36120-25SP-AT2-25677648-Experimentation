{
 "cells": [
  {
   "cell_type": "markdown",
   "metadata": {
    "id": "uQ6wc2HE0pke"
   },
   "source": [
    "# **Experiment Notebook**\n",
    "\n"
   ]
  },
  {
   "cell_type": "code",
   "execution_count": 11,
   "metadata": {
    "id": "qNOA146K2c6f"
   },
   "outputs": [],
   "source": [
    "# Do not modify this code\n",
    "!pip install -q utstd\n",
    "\n",
    "from utstd.ipyrenders import *"
   ]
  },
  {
   "cell_type": "code",
   "execution_count": 12,
   "metadata": {
    "id": "6FneOmBfka9G"
   },
   "outputs": [],
   "source": [
    "# Do not modify this code\n",
    "import warnings\n",
    "warnings.simplefilter(action='ignore')"
   ]
  },
  {
   "cell_type": "markdown",
   "metadata": {
    "id": "mXFKfa2tp1ch"
   },
   "source": [
    "## 0. Import Packages"
   ]
  },
  {
   "cell_type": "code",
   "execution_count": 13,
   "metadata": {
    "id": "GBEAwdncnlAx"
   },
   "outputs": [],
   "source": [
    "import pandas as pd\n",
    "import seaborn as sns\n",
    "import matplotlib.pyplot as plt\n",
    "import numpy as np\n",
    "import altair as alt"
   ]
  },
  {
   "cell_type": "markdown",
   "metadata": {
    "id": "tQgxLRrvjiJb"
   },
   "source": [
    "---\n",
    "## A. Project Description\n"
   ]
  },
  {
   "cell_type": "code",
   "execution_count": 14,
   "metadata": {
    "id": "Je1EzzfFD5hj"
   },
   "outputs": [],
   "source": [
    "student_name = \"Fang Yee Tan\"\n",
    "student_id = \"25677648\""
   ]
  },
  {
   "cell_type": "code",
   "execution_count": 15,
   "metadata": {
    "id": "pdKiYvFWD5my"
   },
   "outputs": [
    {
     "data": {
      "text/html": [
       "<p style=\"color:grey\">student_name</p><h1 font-size: 3em>Fang Yee Tan</h1>"
      ],
      "text/plain": [
       "<IPython.core.display.HTML object>"
      ]
     },
     "metadata": {},
     "output_type": "display_data"
    }
   ],
   "source": [
    "# Do not modify this code\n",
    "print_tile(size=\"h1\", key='student_name', value=student_name)"
   ]
  },
  {
   "cell_type": "code",
   "execution_count": 16,
   "metadata": {
    "id": "9KTEbRjqD5o_"
   },
   "outputs": [
    {
     "data": {
      "text/html": [
       "<p style=\"color:grey\">student_id</p><h1 font-size: 3em>25677648</h1>"
      ],
      "text/plain": [
       "<IPython.core.display.HTML object>"
      ]
     },
     "metadata": {},
     "output_type": "display_data"
    }
   ],
   "source": [
    "# Do not modify this code\n",
    "print_tile(size=\"h1\", key='student_id', value=student_id)"
   ]
  },
  {
   "cell_type": "markdown",
   "metadata": {
    "id": "P0zsEPshwy1K"
   },
   "source": [
    "---\n",
    "## C. Data Understanding"
   ]
  },
  {
   "cell_type": "markdown",
   "metadata": {
    "id": "sGMWhKSbUl63"
   },
   "source": [
    "### C.1   Load Datasets\n"
   ]
  },
  {
   "cell_type": "code",
   "execution_count": 17,
   "metadata": {
    "id": "NKgOzSn-w0eq"
   },
   "outputs": [],
   "source": [
    "from pathlib import Path\n",
    "file_path = Path.home() / \"Desktop\" / \"36120\"\n",
    "\n",
    "X_train = pd.read_csv(file_path / \"X_train.csv\")\n",
    "X_val = pd.read_csv(file_path / \"X_val.csv\")\n",
    "X_test = pd.read_csv(file_path / \"X_test.csv\")\n",
    "y_train = pd.read_csv(file_path / \"y_train.csv\").squeeze()\n",
    "y_val = pd.read_csv(file_path / \"y_val.csv\").squeeze()\n",
    "y_test = pd.read_csv(file_path / \"y_test.csv\").squeeze()"
   ]
  },
  {
   "cell_type": "markdown",
   "metadata": {
    "id": "RtLjr7niHpNZ"
   },
   "source": [
    "---\n",
    "## I. Selection of Performance Metrics\n",
    "\n",
    "> Provide some explanations on why you believe the performance metrics you chose is appropriate\n"
   ]
  },
  {
   "cell_type": "code",
   "execution_count": 18,
   "metadata": {
    "id": "KV_pxLAiHxKW"
   },
   "outputs": [],
   "source": [
    "from sklearn.metrics import mean_squared_error, r2_score"
   ]
  },
  {
   "cell_type": "code",
   "execution_count": 19,
   "metadata": {
    "id": "kC949nluHR5s"
   },
   "outputs": [],
   "source": [
    "performance_metrics_explanations = \"\"\"Root Mean Squared Error (RMSE) and R squared (R²) are selected as the primary performance metrics for this project. RMSE is chosen because it shares the same units as the target variable, precipitation in millimeters, making the magnitude of errors straightforward and easy to interpret. Furthermore, RMSE penalises larger errors more heavily, which is crucial for accurately reflecting the impact of significant deviations in precipitation forecasts. R squared is included as it quantifies the proportion of variance in the observed data explained by the model, providing valuable insight into the overall goodness of fit and facilitating a comprehensive evaluation of model performance.\"\"\""
   ]
  },
  {
   "cell_type": "code",
   "execution_count": 20,
   "metadata": {
    "id": "wABRzU2sHR8j"
   },
   "outputs": [
    {
     "data": {
      "text/html": [
       "<p style=\"color:grey\">performance_metrics_explanations</p><h3 font-size: 3em>Root Mean Squared Error (RMSE) and R squared (R²) are selected as the primary performance metrics for this project. RMSE is chosen because it shares the same units as the target variable, precipitation in millimeters, making the magnitude of errors straightforward and easy to interpret. Furthermore, RMSE penalises larger errors more heavily, which is crucial for accurately reflecting the impact of significant deviations in precipitation forecasts. R squared is included as it quantifies the proportion of variance in the observed data explained by the model, providing valuable insight into the overall goodness of fit and facilitating a comprehensive evaluation of model performance.</h3>"
      ],
      "text/plain": [
       "<IPython.core.display.HTML object>"
      ]
     },
     "metadata": {},
     "output_type": "display_data"
    }
   ],
   "source": [
    "# Do not modify this code\n",
    "print_tile(size=\"h3\", key='performance_metrics_explanations', value=performance_metrics_explanations)"
   ]
  },
  {
   "cell_type": "markdown",
   "metadata": {
    "id": "ZpxjwSDYIJy6"
   },
   "source": [
    "## J. Train Machine Learning Model"
   ]
  },
  {
   "cell_type": "markdown",
   "metadata": {},
   "source": [
    "Null Hypothesis: There is no statistically significant difference in predictive performance between the Random Forest model and the baseline model.\n",
    "\n",
    "Alternative Hypothesis: There is a statistically significant difference in predictive performance between the Random Forest model and the baseline model."
   ]
  },
  {
   "cell_type": "markdown",
   "metadata": {
    "id": "_XBy7-9PIVcU"
   },
   "source": [
    "### J.1 Import Algorithm\n",
    "\n",
    "> Provide some explanations on why you believe this algorithm is a good fit\n"
   ]
  },
  {
   "cell_type": "code",
   "execution_count": 40,
   "metadata": {
    "id": "diUB08xMIOuS"
   },
   "outputs": [],
   "source": [
    "from sklearn.ensemble import RandomForestRegressor"
   ]
  },
  {
   "cell_type": "code",
   "execution_count": 41,
   "metadata": {
    "id": "GIWOpv6CGUTE"
   },
   "outputs": [],
   "source": [
    "algorithm_selection_explanations = \"\"\"Random Forest is selected for this task due to its ability to aggregate predictions from multiple decision trees, which helps reduce overfitting and enhances predictive accuracy. This ensemble approach increases model robustness, particularly in complex and noisy datasets. Moreover, Random Forest provides feature importance scores, enabling the identification of the most influential predictors and offering valuable insights into the underlying data relationships.\n",
    "\"\"\""
   ]
  },
  {
   "cell_type": "code",
   "execution_count": 42,
   "metadata": {
    "id": "N4yogQ9aGUVe"
   },
   "outputs": [
    {
     "data": {
      "text/html": [
       "<p style=\"color:grey\">algorithm_selection_explanations</p><h3 font-size: 3em>Random Forest is selected for this task due to its ability to aggregate predictions from multiple decision trees, which helps reduce overfitting and enhances predictive accuracy. This ensemble approach increases model robustness, particularly in complex and noisy datasets. Moreover, Random Forest provides feature importance scores, enabling the identification of the most influential predictors and offering valuable insights into the underlying data relationships.\n",
       "</h3>"
      ],
      "text/plain": [
       "<IPython.core.display.HTML object>"
      ]
     },
     "metadata": {},
     "output_type": "display_data"
    }
   ],
   "source": [
    "# Do not modify this code\n",
    "print_tile(size=\"h3\", key='algorithm_selection_explanations', value=algorithm_selection_explanations)"
   ]
  },
  {
   "cell_type": "markdown",
   "metadata": {
    "id": "0ks_MmM2mCfm"
   },
   "source": [
    "### J.2 Set Hyperparameters\n",
    "\n",
    "> Provide some explanations on why you believe this algorithm is a good fit\n"
   ]
  },
  {
   "cell_type": "code",
   "execution_count": 89,
   "metadata": {},
   "outputs": [],
   "source": [
    "# Hyperparameter grid\n",
    "param_grid = {\n",
    "    'n_estimators': [100],\n",
    "    'max_depth': [5],\n",
    "    'min_samples_split': [12],\n",
    "    'min_samples_leaf': [3],\n",
    "    'max_features': ['sqrt']\n",
    "}"
   ]
  },
  {
   "cell_type": "code",
   "execution_count": 90,
   "metadata": {
    "id": "crG_Bm72HfL-"
   },
   "outputs": [],
   "source": [
    "hyperparameters_selection_explanations = \"\"\"The parameter n estimators refers to the number of decision trees used in the random forest. Increasing this number can improve the stability and accuracy of the model but may also increase the computational time. The max depth parameter controls the maximum depth of each individual tree. While deeper trees can capture more complex relationships, they also increase the risk of overfitting. The min samples split defines the minimum number of samples required to split an internal node, and min samples leaf specifies the minimum number of samples that must be present in a leaf node. These parameters help to control the complexity of the trees and enhance the model’s generalisation capability. The max features parameter determines the number of features considered when selecting the best split at each node, which influences both model performance and diversity among trees.\n",
    "\"\"\""
   ]
  },
  {
   "cell_type": "code",
   "execution_count": 91,
   "metadata": {
    "id": "k0uqlRCVHfQI"
   },
   "outputs": [
    {
     "data": {
      "text/html": [
       "<p style=\"color:grey\">hyperparameters_selection_explanations</p><h3 font-size: 3em>The parameter n estimators refers to the number of decision trees used in the random forest. Increasing this number can improve the stability and accuracy of the model but may also increase the computational time. The max depth parameter controls the maximum depth of each individual tree. While deeper trees can capture more complex relationships, they also increase the risk of overfitting. The min samples split defines the minimum number of samples required to split an internal node, and min samples leaf specifies the minimum number of samples that must be present in a leaf node. These parameters help to control the complexity of the trees and enhance the model’s generalisation capability. The max features parameter determines the number of features considered when selecting the best split at each node, which influences both model performance and diversity among trees.\n",
       "</h3>"
      ],
      "text/plain": [
       "<IPython.core.display.HTML object>"
      ]
     },
     "metadata": {},
     "output_type": "display_data"
    }
   ],
   "source": [
    "# Do not modify this code\n",
    "print_tile(size=\"h3\", key='hyperparameters_selection_explanations', value=hyperparameters_selection_explanations)"
   ]
  },
  {
   "cell_type": "markdown",
   "metadata": {
    "id": "VDjdjQjFmkLe"
   },
   "source": [
    "### J.3 Fit Model"
   ]
  },
  {
   "cell_type": "code",
   "execution_count": 92,
   "metadata": {},
   "outputs": [],
   "source": [
    "from sklearn.model_selection import TimeSeriesSplit, GridSearchCV"
   ]
  },
  {
   "cell_type": "code",
   "execution_count": 93,
   "metadata": {},
   "outputs": [
    {
     "name": "stdout",
     "output_type": "stream",
     "text": [
      "Best parameters: {'max_depth': 5, 'max_features': 'sqrt', 'min_samples_leaf': 3, 'min_samples_split': 12, 'n_estimators': 100}\n",
      "Best RMSE: 14.405774583135713\n",
      "Best R2: 0.09306993560294277\n"
     ]
    }
   ],
   "source": [
    "# Time series split\n",
    "tscv = TimeSeriesSplit(n_splits=5)\n",
    "\n",
    "rf_model = RandomForestRegressor(random_state=18)\n",
    "\n",
    "# Scoring metrics\n",
    "scoring = {\n",
    "    'rmse': 'neg_root_mean_squared_error',\n",
    "    'r2': 'r2'\n",
    "}\n",
    "\n",
    "# Grid search\n",
    "grid_search = GridSearchCV(\n",
    "    estimator=rf_model,\n",
    "    param_grid=param_grid,\n",
    "    cv=tscv,\n",
    "    scoring=scoring,\n",
    "    refit='rmse',\n",
    "    n_jobs=-1,\n",
    "    return_train_score=True\n",
    ")\n",
    "\n",
    "# Fit the model\n",
    "grid_search.fit(X_train, y_train)\n",
    "\n",
    "# Best results\n",
    "print(\"Best parameters:\", grid_search.best_params_)\n",
    "print(\"Best RMSE:\", -grid_search.best_score_)\n",
    "print(\"Best R2:\", grid_search.cv_results_['mean_test_r2'][grid_search.best_index_])\n",
    "\n",
    "best_rf_model = grid_search.best_estimator_"
   ]
  },
  {
   "cell_type": "markdown",
   "metadata": {
    "id": "q43YtqpdeniY"
   },
   "source": [
    "### J.4 Model Technical Performance\n",
    "\n",
    "> Provide some explanations on model performance\n"
   ]
  },
  {
   "cell_type": "code",
   "execution_count": 94,
   "metadata": {},
   "outputs": [],
   "source": [
    "# Predict on validation dataset\n",
    "y_val_pred = best_rf_model.predict(X_val)"
   ]
  },
  {
   "cell_type": "code",
   "execution_count": 95,
   "metadata": {},
   "outputs": [
    {
     "name": "stdout",
     "output_type": "stream",
     "text": [
      "RMSE: 11.26\n",
      "R2: -0.03\n"
     ]
    }
   ],
   "source": [
    "rmse = np.sqrt(mean_squared_error(y_val, y_val_pred))\n",
    "r2 = r2_score(y_val, y_val_pred)\n",
    "\n",
    "print(f\"RMSE: {rmse:.2f}\")\n",
    "print(f\"R2: {r2:.2f}\")"
   ]
  },
  {
   "cell_type": "code",
   "execution_count": 96,
   "metadata": {},
   "outputs": [],
   "source": [
    "# Predict on testing dataset\n",
    "y_test_pred = best_rf_model.predict(X_test)"
   ]
  },
  {
   "cell_type": "code",
   "execution_count": 98,
   "metadata": {},
   "outputs": [
    {
     "name": "stdout",
     "output_type": "stream",
     "text": [
      "RMSE: 13.92\n",
      "R2: 0.11\n"
     ]
    }
   ],
   "source": [
    "rmse = np.sqrt(mean_squared_error(y_test, y_test_pred))\n",
    "r2 = r2_score(y_test, y_test_pred)\n",
    "\n",
    "print(f\"RMSE: {rmse:.2f}\")\n",
    "print(f\"R2: {r2:.2f}\")"
   ]
  },
  {
   "cell_type": "code",
   "execution_count": 101,
   "metadata": {},
   "outputs": [
    {
     "data": {
      "text/plain": [
       "array([0.05281982, 0.11859538, 0.01184215, 0.07993196, 0.01043646,\n",
       "       0.02698202, 0.03602833, 0.03012833, 0.03572213, 0.02611317,\n",
       "       0.02218358, 0.0371348 , 0.1146004 , 0.02492807, 0.01273523,\n",
       "       0.01253018, 0.01647334, 0.10005539, 0.03883187, 0.04761785,\n",
       "       0.01608291, 0.03463446, 0.01673215, 0.01103577, 0.03047875,\n",
       "       0.01355864, 0.02178685])"
      ]
     },
     "execution_count": 101,
     "metadata": {},
     "output_type": "execute_result"
    }
   ],
   "source": [
    "# Feature importance\n",
    "best_rf_model.feature_importances_"
   ]
  },
  {
   "cell_type": "code",
   "execution_count": 102,
   "metadata": {},
   "outputs": [
    {
     "data": {
      "text/html": [
       "<div>\n",
       "<style scoped>\n",
       "    .dataframe tbody tr th:only-of-type {\n",
       "        vertical-align: middle;\n",
       "    }\n",
       "\n",
       "    .dataframe tbody tr th {\n",
       "        vertical-align: top;\n",
       "    }\n",
       "\n",
       "    .dataframe thead th {\n",
       "        text-align: right;\n",
       "    }\n",
       "</style>\n",
       "<table border=\"1\" class=\"dataframe\">\n",
       "  <thead>\n",
       "    <tr style=\"text-align: right;\">\n",
       "      <th></th>\n",
       "      <th>feature</th>\n",
       "      <th>feature_importance</th>\n",
       "    </tr>\n",
       "  </thead>\n",
       "  <tbody>\n",
       "    <tr>\n",
       "      <th>0</th>\n",
       "      <td>relative_humidity_2m_mean</td>\n",
       "      <td>0.052820</td>\n",
       "    </tr>\n",
       "    <tr>\n",
       "      <th>1</th>\n",
       "      <td>cloud_cover_mean</td>\n",
       "      <td>0.118595</td>\n",
       "    </tr>\n",
       "    <tr>\n",
       "      <th>2</th>\n",
       "      <td>cloud_cover_max</td>\n",
       "      <td>0.011842</td>\n",
       "    </tr>\n",
       "    <tr>\n",
       "      <th>3</th>\n",
       "      <td>cloud_cover_min</td>\n",
       "      <td>0.079932</td>\n",
       "    </tr>\n",
       "    <tr>\n",
       "      <th>4</th>\n",
       "      <td>wind_gusts_10m_mean</td>\n",
       "      <td>0.010436</td>\n",
       "    </tr>\n",
       "    <tr>\n",
       "      <th>5</th>\n",
       "      <td>wind_speed_10m_mean</td>\n",
       "      <td>0.026982</td>\n",
       "    </tr>\n",
       "    <tr>\n",
       "      <th>6</th>\n",
       "      <td>wet_bulb_temperature_2m_mean</td>\n",
       "      <td>0.036028</td>\n",
       "    </tr>\n",
       "    <tr>\n",
       "      <th>7</th>\n",
       "      <td>pressure_msl_mean</td>\n",
       "      <td>0.030128</td>\n",
       "    </tr>\n",
       "    <tr>\n",
       "      <th>8</th>\n",
       "      <td>vapour_pressure_deficit_max</td>\n",
       "      <td>0.035722</td>\n",
       "    </tr>\n",
       "    <tr>\n",
       "      <th>9</th>\n",
       "      <td>shortwave_radiation_sum</td>\n",
       "      <td>0.026113</td>\n",
       "    </tr>\n",
       "    <tr>\n",
       "      <th>10</th>\n",
       "      <td>temperature_2m_max</td>\n",
       "      <td>0.022184</td>\n",
       "    </tr>\n",
       "    <tr>\n",
       "      <th>11</th>\n",
       "      <td>temperature_2m_min</td>\n",
       "      <td>0.037135</td>\n",
       "    </tr>\n",
       "    <tr>\n",
       "      <th>12</th>\n",
       "      <td>precipitation_hours</td>\n",
       "      <td>0.114600</td>\n",
       "    </tr>\n",
       "    <tr>\n",
       "      <th>13</th>\n",
       "      <td>temperature_2m_mean</td>\n",
       "      <td>0.024928</td>\n",
       "    </tr>\n",
       "    <tr>\n",
       "      <th>14</th>\n",
       "      <td>wind_gusts_10m_max</td>\n",
       "      <td>0.012735</td>\n",
       "    </tr>\n",
       "    <tr>\n",
       "      <th>15</th>\n",
       "      <td>wind_speed_10m_max</td>\n",
       "      <td>0.012530</td>\n",
       "    </tr>\n",
       "    <tr>\n",
       "      <th>16</th>\n",
       "      <td>et0_fao_evapotranspiration</td>\n",
       "      <td>0.016473</td>\n",
       "    </tr>\n",
       "    <tr>\n",
       "      <th>17</th>\n",
       "      <td>rain_sum</td>\n",
       "      <td>0.100055</td>\n",
       "    </tr>\n",
       "    <tr>\n",
       "      <th>18</th>\n",
       "      <td>dew_point_2m_mean</td>\n",
       "      <td>0.038832</td>\n",
       "    </tr>\n",
       "    <tr>\n",
       "      <th>19</th>\n",
       "      <td>soil_moisture_0_to_100cm_mean</td>\n",
       "      <td>0.047618</td>\n",
       "    </tr>\n",
       "    <tr>\n",
       "      <th>20</th>\n",
       "      <td>soil_temperature_0_to_100cm_mean</td>\n",
       "      <td>0.016083</td>\n",
       "    </tr>\n",
       "    <tr>\n",
       "      <th>21</th>\n",
       "      <td>wind_direction_sin</td>\n",
       "      <td>0.034634</td>\n",
       "    </tr>\n",
       "    <tr>\n",
       "      <th>22</th>\n",
       "      <td>wind_direction_cos</td>\n",
       "      <td>0.016732</td>\n",
       "    </tr>\n",
       "    <tr>\n",
       "      <th>23</th>\n",
       "      <td>month</td>\n",
       "      <td>0.011036</td>\n",
       "    </tr>\n",
       "    <tr>\n",
       "      <th>24</th>\n",
       "      <td>rain_sum_lag_1</td>\n",
       "      <td>0.030479</td>\n",
       "    </tr>\n",
       "    <tr>\n",
       "      <th>25</th>\n",
       "      <td>rain_sum_lag_2</td>\n",
       "      <td>0.013559</td>\n",
       "    </tr>\n",
       "    <tr>\n",
       "      <th>26</th>\n",
       "      <td>rain_sum_lag_3</td>\n",
       "      <td>0.021787</td>\n",
       "    </tr>\n",
       "  </tbody>\n",
       "</table>\n",
       "</div>"
      ],
      "text/plain": [
       "                             feature  feature_importance\n",
       "0          relative_humidity_2m_mean            0.052820\n",
       "1                   cloud_cover_mean            0.118595\n",
       "2                    cloud_cover_max            0.011842\n",
       "3                    cloud_cover_min            0.079932\n",
       "4                wind_gusts_10m_mean            0.010436\n",
       "5                wind_speed_10m_mean            0.026982\n",
       "6       wet_bulb_temperature_2m_mean            0.036028\n",
       "7                  pressure_msl_mean            0.030128\n",
       "8        vapour_pressure_deficit_max            0.035722\n",
       "9            shortwave_radiation_sum            0.026113\n",
       "10                temperature_2m_max            0.022184\n",
       "11                temperature_2m_min            0.037135\n",
       "12               precipitation_hours            0.114600\n",
       "13               temperature_2m_mean            0.024928\n",
       "14                wind_gusts_10m_max            0.012735\n",
       "15                wind_speed_10m_max            0.012530\n",
       "16        et0_fao_evapotranspiration            0.016473\n",
       "17                          rain_sum            0.100055\n",
       "18                 dew_point_2m_mean            0.038832\n",
       "19     soil_moisture_0_to_100cm_mean            0.047618\n",
       "20  soil_temperature_0_to_100cm_mean            0.016083\n",
       "21                wind_direction_sin            0.034634\n",
       "22                wind_direction_cos            0.016732\n",
       "23                             month            0.011036\n",
       "24                    rain_sum_lag_1            0.030479\n",
       "25                    rain_sum_lag_2            0.013559\n",
       "26                    rain_sum_lag_3            0.021787"
      ]
     },
     "execution_count": 102,
     "metadata": {},
     "output_type": "execute_result"
    }
   ],
   "source": [
    "feat_imp_rf_df = pd.DataFrame(\n",
    "    {\n",
    "        'feature': X_train.columns,\n",
    "        'feature_importance': best_rf_model.feature_importances_\n",
    "     }\n",
    ")\n",
    "feat_imp_rf_df"
   ]
  },
  {
   "cell_type": "code",
   "execution_count": 103,
   "metadata": {},
   "outputs": [
    {
     "data": {
      "text/html": [
       "\n",
       "<style>\n",
       "  #altair-viz-5d54059e7b8548e2966d6c96de75519b.vega-embed {\n",
       "    width: 100%;\n",
       "    display: flex;\n",
       "  }\n",
       "\n",
       "  #altair-viz-5d54059e7b8548e2966d6c96de75519b.vega-embed details,\n",
       "  #altair-viz-5d54059e7b8548e2966d6c96de75519b.vega-embed details summary {\n",
       "    position: relative;\n",
       "  }\n",
       "</style>\n",
       "<div id=\"altair-viz-5d54059e7b8548e2966d6c96de75519b\"></div>\n",
       "<script type=\"text/javascript\">\n",
       "  var VEGA_DEBUG = (typeof VEGA_DEBUG == \"undefined\") ? {} : VEGA_DEBUG;\n",
       "  (function(spec, embedOpt){\n",
       "    let outputDiv = document.currentScript.previousElementSibling;\n",
       "    if (outputDiv.id !== \"altair-viz-5d54059e7b8548e2966d6c96de75519b\") {\n",
       "      outputDiv = document.getElementById(\"altair-viz-5d54059e7b8548e2966d6c96de75519b\");\n",
       "    }\n",
       "\n",
       "    const paths = {\n",
       "      \"vega\": \"https://cdn.jsdelivr.net/npm/vega@5?noext\",\n",
       "      \"vega-lib\": \"https://cdn.jsdelivr.net/npm/vega-lib?noext\",\n",
       "      \"vega-lite\": \"https://cdn.jsdelivr.net/npm/vega-lite@5.20.1?noext\",\n",
       "      \"vega-embed\": \"https://cdn.jsdelivr.net/npm/vega-embed@6?noext\",\n",
       "    };\n",
       "\n",
       "    function maybeLoadScript(lib, version) {\n",
       "      var key = `${lib.replace(\"-\", \"\")}_version`;\n",
       "      return (VEGA_DEBUG[key] == version) ?\n",
       "        Promise.resolve(paths[lib]) :\n",
       "        new Promise(function(resolve, reject) {\n",
       "          var s = document.createElement('script');\n",
       "          document.getElementsByTagName(\"head\")[0].appendChild(s);\n",
       "          s.async = true;\n",
       "          s.onload = () => {\n",
       "            VEGA_DEBUG[key] = version;\n",
       "            return resolve(paths[lib]);\n",
       "          };\n",
       "          s.onerror = () => reject(`Error loading script: ${paths[lib]}`);\n",
       "          s.src = paths[lib];\n",
       "        });\n",
       "    }\n",
       "\n",
       "    function showError(err) {\n",
       "      outputDiv.innerHTML = `<div class=\"error\" style=\"color:red;\">${err}</div>`;\n",
       "      throw err;\n",
       "    }\n",
       "\n",
       "    function displayChart(vegaEmbed) {\n",
       "      vegaEmbed(outputDiv, spec, embedOpt)\n",
       "        .catch(err => showError(`Javascript Error: ${err.message}<br>This usually means there's a typo in your chart specification. See the javascript console for the full traceback.`));\n",
       "    }\n",
       "\n",
       "    if(typeof define === \"function\" && define.amd) {\n",
       "      requirejs.config({paths});\n",
       "      let deps = [\"vega-embed\"];\n",
       "      require(deps, displayChart, err => showError(`Error loading script: ${err.message}`));\n",
       "    } else {\n",
       "      maybeLoadScript(\"vega\", \"5\")\n",
       "        .then(() => maybeLoadScript(\"vega-lite\", \"5.20.1\"))\n",
       "        .then(() => maybeLoadScript(\"vega-embed\", \"6\"))\n",
       "        .catch(showError)\n",
       "        .then(() => displayChart(vegaEmbed));\n",
       "    }\n",
       "  })({\"config\": {\"view\": {\"continuousWidth\": 300, \"continuousHeight\": 300}}, \"data\": {\"name\": \"data-5f975852338fb42c0feda5383f21891e\"}, \"mark\": {\"type\": \"bar\"}, \"encoding\": {\"tooltip\": [{\"field\": \"feature\", \"type\": \"nominal\"}, {\"field\": \"feature_importance\", \"type\": \"quantitative\"}], \"x\": {\"field\": \"feature_importance\", \"type\": \"quantitative\"}, \"y\": {\"field\": \"feature\", \"sort\": \"-x\", \"type\": \"nominal\"}}, \"$schema\": \"https://vega.github.io/schema/vega-lite/v5.20.1.json\", \"datasets\": {\"data-5f975852338fb42c0feda5383f21891e\": [{\"feature\": \"relative_humidity_2m_mean\", \"feature_importance\": 0.052819823331813065}, {\"feature\": \"cloud_cover_mean\", \"feature_importance\": 0.1185953827239302}, {\"feature\": \"cloud_cover_max\", \"feature_importance\": 0.01184215256044453}, {\"feature\": \"cloud_cover_min\", \"feature_importance\": 0.07993196430899173}, {\"feature\": \"wind_gusts_10m_mean\", \"feature_importance\": 0.010436458538132876}, {\"feature\": \"wind_speed_10m_mean\", \"feature_importance\": 0.026982024828005557}, {\"feature\": \"wet_bulb_temperature_2m_mean\", \"feature_importance\": 0.03602832751615977}, {\"feature\": \"pressure_msl_mean\", \"feature_importance\": 0.030128331108470262}, {\"feature\": \"vapour_pressure_deficit_max\", \"feature_importance\": 0.035722134447698665}, {\"feature\": \"shortwave_radiation_sum\", \"feature_importance\": 0.026113172317589025}, {\"feature\": \"temperature_2m_max\", \"feature_importance\": 0.022183576872620576}, {\"feature\": \"temperature_2m_min\", \"feature_importance\": 0.037134803229288575}, {\"feature\": \"precipitation_hours\", \"feature_importance\": 0.11460039660211063}, {\"feature\": \"temperature_2m_mean\", \"feature_importance\": 0.024928074098462528}, {\"feature\": \"wind_gusts_10m_max\", \"feature_importance\": 0.012735231861049235}, {\"feature\": \"wind_speed_10m_max\", \"feature_importance\": 0.012530175815114602}, {\"feature\": \"et0_fao_evapotranspiration\", \"feature_importance\": 0.0164733400271583}, {\"feature\": \"rain_sum\", \"feature_importance\": 0.10005539499005495}, {\"feature\": \"dew_point_2m_mean\", \"feature_importance\": 0.03883186513548109}, {\"feature\": \"soil_moisture_0_to_100cm_mean\", \"feature_importance\": 0.04761784693176668}, {\"feature\": \"soil_temperature_0_to_100cm_mean\", \"feature_importance\": 0.016082913184266575}, {\"feature\": \"wind_direction_sin\", \"feature_importance\": 0.03463445755619791}, {\"feature\": \"wind_direction_cos\", \"feature_importance\": 0.016732148360104886}, {\"feature\": \"month\", \"feature_importance\": 0.011035768454356143}, {\"feature\": \"rain_sum_lag_1\", \"feature_importance\": 0.030478745500739656}, {\"feature\": \"rain_sum_lag_2\", \"feature_importance\": 0.013558639211505493}, {\"feature\": \"rain_sum_lag_3\", \"feature_importance\": 0.021786850488486453}]}}, {\"mode\": \"vega-lite\"});\n",
       "</script>"
      ],
      "text/plain": [
       "alt.Chart(...)"
      ]
     },
     "execution_count": 103,
     "metadata": {},
     "output_type": "execute_result"
    }
   ],
   "source": [
    "alt.Chart(feat_imp_rf_df).mark_bar().encode(\n",
    "    x='feature_importance',\n",
    "    y=alt.Y(\"feature\", sort='-x'),\n",
    "    tooltip=['feature','feature_importance'])"
   ]
  },
  {
   "cell_type": "code",
   "execution_count": null,
   "metadata": {},
   "outputs": [],
   "source": [
    "from sklearn.feature_selection import SelectFromModel\n",
    "from xgboost import XGBRegressor\n",
    "from sklearn.metrics import mean_squared_error, r2_score\n",
    "from sklearn.model_selection import TimeSeriesSplit, GridSearchCV\n",
    "import numpy as np\n",
    "\n",
    "# Assuming X_train, X_val, X_test, y_train, y_val, y_test are already defined\n",
    "\n",
    "# Feature importances from Random Forest\n",
    "importances = np.array([\n",
    "    0.052820, 0.118595, 0.011842, 0.079932, 0.010436, 0.026982, 0.036028, 0.030128,\n",
    "    0.035722, 0.026113, 0.022184, 0.037135, 0.114600, 0.024928, 0.012735, 0.012530,\n",
    "    0.016473, 0.100055, 0.038832, 0.047618, 0.016083, 0.034634, 0.016732, 0.011036,\n",
    "    0.030479, 0.013559, 0.021787\n",
    "])\n",
    "top_indices = importances.argsort()[::-1][:15]  # Top 15 features\n",
    "X_train_selected = X_train.iloc[:, top_indices]\n",
    "X_val_selected = X_val.iloc[:, top_indices]\n",
    "X_test_selected = X_test.iloc[:, top_indices]\n",
    "\n",
    "# Define the model\n",
    "xgb_model = XGBRegressor(random_state=18, verbosity=0)\n",
    "\n",
    "# Define hyperparameter grid\n",
    "param_grid = {\n",
    "    'n_estimators': [100, 200],\n",
    "    'max_depth': [3, 5, 7],\n",
    "    'learning_rate': [0.05, 0.1]\n",
    "}\n",
    "\n",
    "# Time series split\n",
    "tscv = TimeSeriesSplit(n_splits=5)\n",
    "\n",
    "# Scoring metrics\n",
    "scoring = {\n",
    "    'rmse': 'neg_root_mean_squared_error',\n",
    "    'r2': 'r2'\n",
    "}\n",
    "\n",
    "# Grid search\n",
    "grid_search = GridSearchCV(\n",
    "    estimator=xgb_model,\n",
    "    param_grid=param_grid,\n",
    "    scoring=scoring,\n",
    "    refit='rmse',\n",
    "    cv=tscv,\n",
    "    n_jobs=-1,\n",
    "    verbose=1\n",
    ")\n",
    "\n",
    "# Fit model\n",
    "grid_search.fit(X_train_selected, y_train)\n",
    "\n",
    "# Predictions\n",
    "y_val_pred = grid_search.best_estimator_.predict(X_val_selected)\n",
    "y_test_pred = grid_search.best_estimator_.predict(X_test_selected)\n",
    "\n",
    "# Evaluation\n",
    "val_rmse = mean_squared_error(y_val, y_val_pred, squared=False)\n",
    "val_r2 = r2_score(y_val, y_val_pred)\n",
    "\n",
    "test_rmse = mean_squared_error(y_test, y_test_pred, squared=False)\n",
    "test_r2 = r2_score(y_test, y_test_pred)\n",
    "\n",
    "print(\"Best parameters:\", grid_search.best_params_)\n",
    "print(f\"Validation RMSE: {val_rmse:.4f}, R2: {val_r2:.4f}\")\n",
    "print(f\"Test RMSE: {test_rmse:.4f}, R2: {test_r2:.4f}\")\n"
   ]
  },
  {
   "cell_type": "code",
   "execution_count": 104,
   "metadata": {
    "id": "_YbQldshHk_3"
   },
   "outputs": [],
   "source": [
    "model_performance_explanations = \"\"\"From the performance metrics on both the validation and testing datasets, it is clear that the models struggle to effectively capture the underlying patterns. The RMSE values for the validation and testing sets are 11.26 and 13.92, respectively, indicating that the model's predictions deviate considerably from the actual values. Furthermore, the R² scores of -0.03 (validation) and 0.11 (testing) suggest that the model explains very little of the variance in cumulative precipitation. These results indicate that the model is not effectively capturing the complex precipitation patterns.\n",
    "\"\"\""
   ]
  },
  {
   "cell_type": "code",
   "execution_count": 105,
   "metadata": {
    "id": "-MkLnLzVHlDO"
   },
   "outputs": [
    {
     "data": {
      "text/html": [
       "<p style=\"color:grey\">model_performance_explanations</p><h3 font-size: 3em>From the performance metrics on both the validation and testing datasets, it is clear that the models struggle to effectively capture the underlying patterns. The RMSE values for the validation and testing sets are 11.26 and 13.92, respectively, indicating that the model's predictions deviate considerably from the actual values. Furthermore, the R² scores of -0.03 (validation) and 0.11 (testing) suggest that the model explains very little of the variance in cumulative precipitation. These results indicate that the model is not effectively capturing the complex precipitation patterns.\n",
       "</h3>"
      ],
      "text/plain": [
       "<IPython.core.display.HTML object>"
      ]
     },
     "metadata": {},
     "output_type": "display_data"
    }
   ],
   "source": [
    "# Do not modify this code\n",
    "print_tile(size=\"h3\", key='model_performance_explanations', value=model_performance_explanations)"
   ]
  },
  {
   "cell_type": "markdown",
   "metadata": {
    "id": "W1HgZMPcmtu7"
   },
   "source": [
    "### J.5 Business Impact from Current Model Performance\n",
    "\n",
    "> Provide some analysis on the model impacts from the business point of view\n"
   ]
  },
  {
   "cell_type": "code",
   "execution_count": 106,
   "metadata": {
    "id": "7bcCHiP-Hozj"
   },
   "outputs": [],
   "source": [
    "business_impacts_explanations = \"\"\"Despite applying more advanced models, the testing RMSE remains relatively high at 13.92, and the R² score is still low at 0.11, indicating that the model is not effectively learning the underlying patterns in the data. From a business perspective, such poor predictive performance can lead to significant consequences. Inaccurate precipitation forecasts may result in operational inefficiencies, increased costs, or even safety risks, especially in industries that are highly weather-dependent. A high RMSE means the predicted rainfall could deviate substantially from actual values, potentially causing disruption, inconvenience, or poor decision-making that affects both resource planning and public safety.\n",
    "\"\"\""
   ]
  },
  {
   "cell_type": "code",
   "execution_count": 107,
   "metadata": {
    "id": "RQ3lJGAnHo3O"
   },
   "outputs": [
    {
     "data": {
      "text/html": [
       "<p style=\"color:grey\">business_impacts_explanations</p><h3 font-size: 3em>Despite applying more advanced models, the testing RMSE remains relatively high at 13.92, and the R² score is still low at 0.11, indicating that the model is not effectively learning the underlying patterns in the data. From a business perspective, such poor predictive performance can lead to significant consequences. Inaccurate precipitation forecasts may result in operational inefficiencies, increased costs, or even safety risks, especially in industries that are highly weather-dependent. A high RMSE means the predicted rainfall could deviate substantially from actual values, potentially causing disruption, inconvenience, or poor decision-making that affects both resource planning and public safety.\n",
       "</h3>"
      ],
      "text/plain": [
       "<IPython.core.display.HTML object>"
      ]
     },
     "metadata": {},
     "output_type": "display_data"
    }
   ],
   "source": [
    "# Do not modify this code\n",
    "print_tile(size=\"h3\", key='business_impacts_explanations', value=business_impacts_explanations)"
   ]
  },
  {
   "cell_type": "markdown",
   "metadata": {
    "id": "mp1Ie9o8nDl1"
   },
   "source": [
    "## H. Project Outcomes"
   ]
  },
  {
   "cell_type": "code",
   "execution_count": 108,
   "metadata": {
    "id": "AvFNheh1HtPb"
   },
   "outputs": [],
   "source": [
    "experiment_outcome = \"\"\"Hypothesis Rejected\"\"\""
   ]
  },
  {
   "cell_type": "code",
   "execution_count": 109,
   "metadata": {
    "id": "23bFWNIVHtTU"
   },
   "outputs": [
    {
     "data": {
      "text/html": [
       "<p style=\"color:grey\">experiment_outcomes_explanations</p><h2 font-size: 3em>Hypothesis Rejected</h2>"
      ],
      "text/plain": [
       "<IPython.core.display.HTML object>"
      ]
     },
     "metadata": {},
     "output_type": "display_data"
    }
   ],
   "source": [
    "# Do not modify this code\n",
    "print_tile(size=\"h2\", key='experiment_outcomes_explanations', value=experiment_outcome)"
   ]
  },
  {
   "cell_type": "code",
   "execution_count": 110,
   "metadata": {
    "id": "iFF8wsz6HteA"
   },
   "outputs": [],
   "source": [
    "experiment_results_explanations = \"\"\"Since the Random Forest model does not show significant improvement over the baseline or linear regression models, it suggests that the current approach may not be sufficient to capture the complexity of the data. Rather than relying solely on feature importance from Random Forest, the next step is to explore a more advanced model, XGBoost. Given its ability to model complex nonlinear relationships and handle feature interactions more effectively, XGBoost is expected to deliver better predictive performance and improve upon the current results.\n",
    "\"\"\""
   ]
  },
  {
   "cell_type": "code",
   "execution_count": 111,
   "metadata": {
    "id": "QpWzEhX2HthW"
   },
   "outputs": [
    {
     "data": {
      "text/html": [
       "<p style=\"color:grey\">experiment_results_explanations</p><h2 font-size: 3em>Since the Random Forest model does not show significant improvement over the baseline or linear regression models, it suggests that the current approach may not be sufficient to capture the complexity of the data. Rather than relying solely on feature importance from Random Forest, the next step is to explore a more advanced model, XGBoost. Given its ability to model complex nonlinear relationships and handle feature interactions more effectively, XGBoost is expected to deliver better predictive performance and improve upon the current results.\n",
       "</h2>"
      ],
      "text/plain": [
       "<IPython.core.display.HTML object>"
      ]
     },
     "metadata": {},
     "output_type": "display_data"
    }
   ],
   "source": [
    "# Do not modify this code\n",
    "print_tile(size=\"h2\", key='experiment_results_explanations', value=experiment_results_explanations)"
   ]
  }
 ],
 "metadata": {
  "colab": {
   "provenance": [
    {
     "file_id": "13MHsQlFmfLuY1rWjvW73WSaDUaRPENW4",
     "timestamp": 1680399055727
    }
   ],
   "toc_visible": true
  },
  "kernelspec": {
   "display_name": "Python 3 (ipykernel)",
   "language": "python",
   "name": "python3"
  },
  "language_info": {
   "codemirror_mode": {
    "name": "ipython",
    "version": 3
   },
   "file_extension": ".py",
   "mimetype": "text/x-python",
   "name": "python",
   "nbconvert_exporter": "python",
   "pygments_lexer": "ipython3",
   "version": "3.11.4"
  }
 },
 "nbformat": 4,
 "nbformat_minor": 4
}
