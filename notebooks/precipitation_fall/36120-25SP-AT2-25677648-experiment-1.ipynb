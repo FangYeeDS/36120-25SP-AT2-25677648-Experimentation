{
 "cells": [
  {
   "cell_type": "markdown",
   "metadata": {
    "id": "uQ6wc2HE0pke"
   },
   "source": [
    "# **Experiment Notebook**\n",
    "\n"
   ]
  },
  {
   "cell_type": "code",
   "execution_count": 158,
   "metadata": {
    "id": "qNOA146K2c6f"
   },
   "outputs": [],
   "source": [
    "# Do not modify this code\n",
    "!pip install -q utstd\n",
    "\n",
    "from utstd.ipyrenders import *"
   ]
  },
  {
   "cell_type": "code",
   "execution_count": 159,
   "metadata": {
    "id": "6FneOmBfka9G"
   },
   "outputs": [],
   "source": [
    "# Do not modify this code\n",
    "import warnings\n",
    "warnings.simplefilter(action='ignore')"
   ]
  },
  {
   "cell_type": "markdown",
   "metadata": {
    "id": "mXFKfa2tp1ch"
   },
   "source": [
    "## 0. Import Packages"
   ]
  },
  {
   "cell_type": "code",
   "execution_count": 160,
   "metadata": {},
   "outputs": [],
   "source": [
    "import pandas as pd\n",
    "import seaborn as sns\n",
    "import matplotlib.pyplot as plt\n",
    "import numpy as np\n",
    "import altair as alt"
   ]
  },
  {
   "cell_type": "markdown",
   "metadata": {
    "id": "tQgxLRrvjiJb"
   },
   "source": [
    "---\n",
    "## A. Project Description\n"
   ]
  },
  {
   "cell_type": "code",
   "execution_count": 161,
   "metadata": {
    "id": "Je1EzzfFD5hj"
   },
   "outputs": [],
   "source": [
    "student_name = \"Fang Yee Tan\"\n",
    "student_id = \"25677648\""
   ]
  },
  {
   "cell_type": "code",
   "execution_count": 162,
   "metadata": {
    "id": "pdKiYvFWD5my"
   },
   "outputs": [
    {
     "data": {
      "text/html": [
       "<p style=\"color:grey\">student_name</p><h1 font-size: 3em>Fang Yee Tan</h1>"
      ],
      "text/plain": [
       "<IPython.core.display.HTML object>"
      ]
     },
     "metadata": {},
     "output_type": "display_data"
    }
   ],
   "source": [
    "# Do not modify this code\n",
    "print_tile(size=\"h1\", key='student_name', value=student_name)"
   ]
  },
  {
   "cell_type": "code",
   "execution_count": 163,
   "metadata": {
    "id": "9KTEbRjqD5o_"
   },
   "outputs": [
    {
     "data": {
      "text/html": [
       "<p style=\"color:grey\">student_id</p><h1 font-size: 3em>25677648</h1>"
      ],
      "text/plain": [
       "<IPython.core.display.HTML object>"
      ]
     },
     "metadata": {},
     "output_type": "display_data"
    }
   ],
   "source": [
    "# Do not modify this code\n",
    "print_tile(size=\"h1\", key='student_id', value=student_id)"
   ]
  },
  {
   "cell_type": "markdown",
   "metadata": {
    "id": "4q1Bzcejvfpm"
   },
   "source": [
    "---\n",
    "## B. Business Understanding"
   ]
  },
  {
   "cell_type": "code",
   "execution_count": 164,
   "metadata": {
    "id": "Mmo6apC9EEv8"
   },
   "outputs": [],
   "source": [
    "business_use_case_description = \"\"\"The objective of this project is to develop a robust machine learning model capable of accurately predicting the cumulative volume of precipitation, measured in millimetres, over a three-day forecast period for Sydney, Australia. The model will be trained on an extensive dataset comprising daily historical weather observations spanning from 2010 to 2024. Several regression algorithms will be implemented and rigorously evaluated to identify the most effective predictive approach. Model performance will be assessed using appropriate statistical metrics, with the best-performing model selected for deployment as an API service. This forecasting tool aims to provide end users with timely and reliable precipitation predictions, thereby facilitating data-driven decision-making in sectors that are highly sensitive to weather variability, including agriculture, logistics and event management. By integrating machine learning-based precipitation forecasting into its service infrastructure, the project will enhance the predictive capabilities and overall value proposition of the Open Meteo platform.\"\"\""
   ]
  },
  {
   "cell_type": "code",
   "execution_count": 165,
   "metadata": {
    "id": "bgb0DkG2EE2e",
    "scrolled": true
   },
   "outputs": [
    {
     "data": {
      "text/html": [
       "<p style=\"color:grey\">business_use_case_description</p><h3 font-size: 3em>The objective of this project is to develop a robust machine learning model capable of accurately predicting the cumulative volume of precipitation, measured in millimetres, over a three-day forecast period for Sydney, Australia. The model will be trained on an extensive dataset comprising daily historical weather observations spanning from 2010 to 2024. Several regression algorithms will be implemented and rigorously evaluated to identify the most effective predictive approach. Model performance will be assessed using appropriate statistical metrics, with the best-performing model selected for deployment as an API service. This forecasting tool aims to provide end users with timely and reliable precipitation predictions, thereby facilitating data-driven decision-making in sectors that are highly sensitive to weather variability, including agriculture, logistics and event management. By integrating machine learning-based precipitation forecasting into its service infrastructure, the project will enhance the predictive capabilities and overall value proposition of the Open Meteo platform.</h3>"
      ],
      "text/plain": [
       "<IPython.core.display.HTML object>"
      ]
     },
     "metadata": {},
     "output_type": "display_data"
    }
   ],
   "source": [
    "# Do not modify this code\n",
    "print_tile(size=\"h3\", key='business_use_case_description', value=business_use_case_description)"
   ]
  },
  {
   "cell_type": "code",
   "execution_count": 166,
   "metadata": {
    "id": "29Yqk3d2EE8q"
   },
   "outputs": [],
   "source": [
    "business_objectives = \"\"\"An accurate regression model for predicting rainfall volume offers significant benefits to a broad range of stakeholders. Reliable forecasts enable more effective planning and resource allocation, particularly in weather-sensitive sectors, by helping to minimise operational disruptions, reduce unnecessary expenditures, and enhance worker safety. The ability to quantify the intensity of precipitation, from light drizzles to heavy downpours, further supports more informed and context-specific decision-making. This allows organisations to adjust their responses appropriately and avoid both overpreparation and underpreparation. Moreover, precise rainfall predictions contribute to greater public awareness and readiness, especially in situations involving sudden or severe weather events. Conversely, inaccurate forecasts can result in substantial negative consequences. Overestimations may lead to avoidable delays and financial losses, while underestimations can compromise safety and limit the effectiveness of proactive measures.\"\"\""
   ]
  },
  {
   "cell_type": "code",
   "execution_count": 167,
   "metadata": {
    "id": "sSu_8J96EFDs"
   },
   "outputs": [
    {
     "data": {
      "text/html": [
       "<p style=\"color:grey\">business_objectives</p><h3 font-size: 3em>An accurate regression model for predicting rainfall volume offers significant benefits to a broad range of stakeholders. Reliable forecasts enable more effective planning and resource allocation, particularly in weather-sensitive sectors, by helping to minimise operational disruptions, reduce unnecessary expenditures, and enhance worker safety. The ability to quantify the intensity of precipitation, from light drizzles to heavy downpours, further supports more informed and context-specific decision-making. This allows organisations to adjust their responses appropriately and avoid both overpreparation and underpreparation. Moreover, precise rainfall predictions contribute to greater public awareness and readiness, especially in situations involving sudden or severe weather events. Conversely, inaccurate forecasts can result in substantial negative consequences. Overestimations may lead to avoidable delays and financial losses, while underestimations can compromise safety and limit the effectiveness of proactive measures.</h3>"
      ],
      "text/plain": [
       "<IPython.core.display.HTML object>"
      ]
     },
     "metadata": {},
     "output_type": "display_data"
    }
   ],
   "source": [
    "# Do not modify this code\n",
    "print_tile(size=\"h3\", key='business_objectives', value=business_objectives)"
   ]
  },
  {
   "cell_type": "code",
   "execution_count": 168,
   "metadata": {
    "id": "Hf4ThY5cEF5W"
   },
   "outputs": [],
   "source": [
    "stakeholders_expectations_explanations = \"\"\"Predictions of precipitation volume will play a critical role in supporting informed decision-making across a variety of contexts. Whether the forecast indicates light drizzle or heavy rainfall, individuals and stakeholder organisations can adjust their plans accordingly. While light rain may have minimal impact, heavy rainfall can lead to significant disruptions if not anticipated and managed proactively. For instance, individuals can use the forecasts to plan their weekends and outdoor activities, while event planners and project managers can schedule or adjust tasks to minimise weather-related interruptions. Weather-dependent industries such as agriculture, logistics and event management will benefit from these predictions by optimising operations, reducing risks, and improving safety through the avoidance of outdoor work during adverse weather conditions. The users of these forecasts include the general public, industry professionals, event organisers, and others whose activities are influenced by weather variability. Ultimately, accurate precipitation forecasts will positively impact a broad range of stakeholders by enabling better planning, reducing financial losses, minimising disruptions, and enhancing overall safety.\"\"\""
   ]
  },
  {
   "cell_type": "code",
   "execution_count": 169,
   "metadata": {
    "id": "jH9a2X70EF8M"
   },
   "outputs": [
    {
     "data": {
      "text/html": [
       "<p style=\"color:grey\">stakeholders_expectations_explanations</p><h3 font-size: 3em>Predictions of precipitation volume will play a critical role in supporting informed decision-making across a variety of contexts. Whether the forecast indicates light drizzle or heavy rainfall, individuals and stakeholder organisations can adjust their plans accordingly. While light rain may have minimal impact, heavy rainfall can lead to significant disruptions if not anticipated and managed proactively. For instance, individuals can use the forecasts to plan their weekends and outdoor activities, while event planners and project managers can schedule or adjust tasks to minimise weather-related interruptions. Weather-dependent industries such as agriculture, logistics and event management will benefit from these predictions by optimising operations, reducing risks, and improving safety through the avoidance of outdoor work during adverse weather conditions. The users of these forecasts include the general public, industry professionals, event organisers, and others whose activities are influenced by weather variability. Ultimately, accurate precipitation forecasts will positively impact a broad range of stakeholders by enabling better planning, reducing financial losses, minimising disruptions, and enhancing overall safety.</h3>"
      ],
      "text/plain": [
       "<IPython.core.display.HTML object>"
      ]
     },
     "metadata": {},
     "output_type": "display_data"
    }
   ],
   "source": [
    "# Do not modify this code\n",
    "print_tile(size=\"h3\", key='stakeholders_expectations_explanations', value=stakeholders_expectations_explanations)"
   ]
  },
  {
   "cell_type": "markdown",
   "metadata": {
    "id": "P0zsEPshwy1K"
   },
   "source": [
    "---\n",
    "## C. Data Understanding"
   ]
  },
  {
   "cell_type": "markdown",
   "metadata": {
    "id": "sGMWhKSbUl63"
   },
   "source": [
    "### C.1   Load Datasets\n"
   ]
  },
  {
   "cell_type": "code",
   "execution_count": 170,
   "metadata": {
    "id": "NKgOzSn-w0eq"
   },
   "outputs": [
    {
     "name": "stdout",
     "output_type": "stream",
     "text": [
      "Coordinates: -33.84885787963867°N 151.1955108642578°E\n",
      "Elevation: 51.0 m asl\n",
      "Timezone: b'Australia/Sydney'b'GMT+10'\n",
      "Timezone difference to GMT+0: 36000s\n"
     ]
    },
    {
     "data": {
      "text/html": [
       "<div>\n",
       "<style scoped>\n",
       "    .dataframe tbody tr th:only-of-type {\n",
       "        vertical-align: middle;\n",
       "    }\n",
       "\n",
       "    .dataframe tbody tr th {\n",
       "        vertical-align: top;\n",
       "    }\n",
       "\n",
       "    .dataframe thead th {\n",
       "        text-align: right;\n",
       "    }\n",
       "</style>\n",
       "<table border=\"1\" class=\"dataframe\">\n",
       "  <thead>\n",
       "    <tr style=\"text-align: right;\">\n",
       "      <th></th>\n",
       "      <th>date</th>\n",
       "      <th>relative_humidity_2m_mean</th>\n",
       "      <th>cloud_cover_mean</th>\n",
       "      <th>cloud_cover_max</th>\n",
       "      <th>cloud_cover_min</th>\n",
       "      <th>wind_gusts_10m_mean</th>\n",
       "      <th>wind_speed_10m_mean</th>\n",
       "      <th>wet_bulb_temperature_2m_mean</th>\n",
       "      <th>pressure_msl_mean</th>\n",
       "      <th>vapour_pressure_deficit_max</th>\n",
       "      <th>...</th>\n",
       "      <th>precipitation_hours</th>\n",
       "      <th>temperature_2m_mean</th>\n",
       "      <th>wind_gusts_10m_max</th>\n",
       "      <th>wind_speed_10m_max</th>\n",
       "      <th>wind_direction_10m_dominant</th>\n",
       "      <th>et0_fao_evapotranspiration</th>\n",
       "      <th>rain_sum</th>\n",
       "      <th>dew_point_2m_mean</th>\n",
       "      <th>soil_moisture_0_to_100cm_mean</th>\n",
       "      <th>soil_temperature_0_to_100cm_mean</th>\n",
       "    </tr>\n",
       "  </thead>\n",
       "  <tbody>\n",
       "    <tr>\n",
       "      <th>0</th>\n",
       "      <td>2009-12-31 14:00:00+00:00</td>\n",
       "      <td>82.359489</td>\n",
       "      <td>95.791664</td>\n",
       "      <td>100.0</td>\n",
       "      <td>58.0</td>\n",
       "      <td>21.330000</td>\n",
       "      <td>10.419551</td>\n",
       "      <td>20.643309</td>\n",
       "      <td>1011.920837</td>\n",
       "      <td>1.047818</td>\n",
       "      <td>...</td>\n",
       "      <td>12.0</td>\n",
       "      <td>22.964251</td>\n",
       "      <td>35.639999</td>\n",
       "      <td>18.581022</td>\n",
       "      <td>331.647491</td>\n",
       "      <td>2.459723</td>\n",
       "      <td>3.9</td>\n",
       "      <td>19.672583</td>\n",
       "      <td>0.120040</td>\n",
       "      <td>22.152273</td>\n",
       "    </tr>\n",
       "    <tr>\n",
       "      <th>1</th>\n",
       "      <td>2010-01-01 14:00:00+00:00</td>\n",
       "      <td>84.276886</td>\n",
       "      <td>64.166664</td>\n",
       "      <td>100.0</td>\n",
       "      <td>17.0</td>\n",
       "      <td>26.010002</td>\n",
       "      <td>8.355687</td>\n",
       "      <td>21.520597</td>\n",
       "      <td>1007.470764</td>\n",
       "      <td>1.030170</td>\n",
       "      <td>...</td>\n",
       "      <td>14.0</td>\n",
       "      <td>23.612165</td>\n",
       "      <td>37.439999</td>\n",
       "      <td>15.584300</td>\n",
       "      <td>298.610291</td>\n",
       "      <td>4.571662</td>\n",
       "      <td>8.6</td>\n",
       "      <td>20.716331</td>\n",
       "      <td>0.122225</td>\n",
       "      <td>22.497442</td>\n",
       "    </tr>\n",
       "    <tr>\n",
       "      <th>2</th>\n",
       "      <td>2010-01-02 14:00:00+00:00</td>\n",
       "      <td>74.055122</td>\n",
       "      <td>100.000000</td>\n",
       "      <td>100.0</td>\n",
       "      <td>100.0</td>\n",
       "      <td>28.275000</td>\n",
       "      <td>12.964748</td>\n",
       "      <td>16.673801</td>\n",
       "      <td>1015.529236</td>\n",
       "      <td>0.835103</td>\n",
       "      <td>...</td>\n",
       "      <td>7.0</td>\n",
       "      <td>19.882996</td>\n",
       "      <td>37.439999</td>\n",
       "      <td>18.345877</td>\n",
       "      <td>146.744644</td>\n",
       "      <td>2.140701</td>\n",
       "      <td>1.1</td>\n",
       "      <td>15.066335</td>\n",
       "      <td>0.123362</td>\n",
       "      <td>22.132751</td>\n",
       "    </tr>\n",
       "    <tr>\n",
       "      <th>3</th>\n",
       "      <td>2010-01-03 14:00:00+00:00</td>\n",
       "      <td>70.006538</td>\n",
       "      <td>72.875000</td>\n",
       "      <td>100.0</td>\n",
       "      <td>9.0</td>\n",
       "      <td>23.565001</td>\n",
       "      <td>11.067534</td>\n",
       "      <td>17.092829</td>\n",
       "      <td>1019.012390</td>\n",
       "      <td>0.959982</td>\n",
       "      <td>...</td>\n",
       "      <td>4.0</td>\n",
       "      <td>20.887167</td>\n",
       "      <td>37.439999</td>\n",
       "      <td>16.870138</td>\n",
       "      <td>69.884773</td>\n",
       "      <td>3.498662</td>\n",
       "      <td>0.6</td>\n",
       "      <td>15.185082</td>\n",
       "      <td>0.121697</td>\n",
       "      <td>21.884003</td>\n",
       "    </tr>\n",
       "    <tr>\n",
       "      <th>4</th>\n",
       "      <td>2010-01-04 14:00:00+00:00</td>\n",
       "      <td>73.884598</td>\n",
       "      <td>21.833334</td>\n",
       "      <td>95.0</td>\n",
       "      <td>0.0</td>\n",
       "      <td>24.285002</td>\n",
       "      <td>9.724721</td>\n",
       "      <td>19.079020</td>\n",
       "      <td>1015.891663</td>\n",
       "      <td>1.298432</td>\n",
       "      <td>...</td>\n",
       "      <td>0.0</td>\n",
       "      <td>22.520498</td>\n",
       "      <td>39.239998</td>\n",
       "      <td>17.477621</td>\n",
       "      <td>35.137077</td>\n",
       "      <td>5.620671</td>\n",
       "      <td>0.0</td>\n",
       "      <td>17.505919</td>\n",
       "      <td>0.118544</td>\n",
       "      <td>22.143875</td>\n",
       "    </tr>\n",
       "    <tr>\n",
       "      <th>...</th>\n",
       "      <td>...</td>\n",
       "      <td>...</td>\n",
       "      <td>...</td>\n",
       "      <td>...</td>\n",
       "      <td>...</td>\n",
       "      <td>...</td>\n",
       "      <td>...</td>\n",
       "      <td>...</td>\n",
       "      <td>...</td>\n",
       "      <td>...</td>\n",
       "      <td>...</td>\n",
       "      <td>...</td>\n",
       "      <td>...</td>\n",
       "      <td>...</td>\n",
       "      <td>...</td>\n",
       "      <td>...</td>\n",
       "      <td>...</td>\n",
       "      <td>...</td>\n",
       "      <td>...</td>\n",
       "      <td>...</td>\n",
       "      <td>...</td>\n",
       "    </tr>\n",
       "    <tr>\n",
       "      <th>5474</th>\n",
       "      <td>2024-12-26 14:00:00+00:00</td>\n",
       "      <td>57.966953</td>\n",
       "      <td>43.500000</td>\n",
       "      <td>100.0</td>\n",
       "      <td>0.0</td>\n",
       "      <td>41.294998</td>\n",
       "      <td>16.679815</td>\n",
       "      <td>19.730782</td>\n",
       "      <td>1003.516663</td>\n",
       "      <td>4.118773</td>\n",
       "      <td>...</td>\n",
       "      <td>3.0</td>\n",
       "      <td>26.202085</td>\n",
       "      <td>56.880001</td>\n",
       "      <td>24.012972</td>\n",
       "      <td>339.781250</td>\n",
       "      <td>6.296452</td>\n",
       "      <td>0.8</td>\n",
       "      <td>16.254166</td>\n",
       "      <td>0.162241</td>\n",
       "      <td>23.932188</td>\n",
       "    </tr>\n",
       "    <tr>\n",
       "      <th>5475</th>\n",
       "      <td>2024-12-27 14:00:00+00:00</td>\n",
       "      <td>70.346695</td>\n",
       "      <td>33.875000</td>\n",
       "      <td>96.0</td>\n",
       "      <td>0.0</td>\n",
       "      <td>31.574997</td>\n",
       "      <td>12.241256</td>\n",
       "      <td>17.523623</td>\n",
       "      <td>1009.345947</td>\n",
       "      <td>1.281173</td>\n",
       "      <td>...</td>\n",
       "      <td>8.0</td>\n",
       "      <td>21.352081</td>\n",
       "      <td>48.239998</td>\n",
       "      <td>20.170443</td>\n",
       "      <td>109.408127</td>\n",
       "      <td>5.180197</td>\n",
       "      <td>0.9</td>\n",
       "      <td>15.570831</td>\n",
       "      <td>0.163017</td>\n",
       "      <td>23.815561</td>\n",
       "    </tr>\n",
       "    <tr>\n",
       "      <th>5476</th>\n",
       "      <td>2024-12-28 14:00:00+00:00</td>\n",
       "      <td>63.680096</td>\n",
       "      <td>7.166667</td>\n",
       "      <td>44.0</td>\n",
       "      <td>0.0</td>\n",
       "      <td>27.345001</td>\n",
       "      <td>10.361734</td>\n",
       "      <td>17.012634</td>\n",
       "      <td>1014.200012</td>\n",
       "      <td>2.811193</td>\n",
       "      <td>...</td>\n",
       "      <td>0.0</td>\n",
       "      <td>22.214584</td>\n",
       "      <td>45.360001</td>\n",
       "      <td>17.727943</td>\n",
       "      <td>136.802414</td>\n",
       "      <td>6.468780</td>\n",
       "      <td>0.0</td>\n",
       "      <td>13.604167</td>\n",
       "      <td>0.162678</td>\n",
       "      <td>23.750420</td>\n",
       "    </tr>\n",
       "    <tr>\n",
       "      <th>5477</th>\n",
       "      <td>2024-12-29 14:00:00+00:00</td>\n",
       "      <td>70.827507</td>\n",
       "      <td>41.833332</td>\n",
       "      <td>100.0</td>\n",
       "      <td>6.0</td>\n",
       "      <td>31.214998</td>\n",
       "      <td>12.572087</td>\n",
       "      <td>18.610620</td>\n",
       "      <td>1017.649963</td>\n",
       "      <td>1.486585</td>\n",
       "      <td>...</td>\n",
       "      <td>2.0</td>\n",
       "      <td>22.462500</td>\n",
       "      <td>42.839996</td>\n",
       "      <td>18.252037</td>\n",
       "      <td>84.956360</td>\n",
       "      <td>5.375723</td>\n",
       "      <td>0.3</td>\n",
       "      <td>16.718752</td>\n",
       "      <td>0.161253</td>\n",
       "      <td>23.898355</td>\n",
       "    </tr>\n",
       "    <tr>\n",
       "      <th>5478</th>\n",
       "      <td>2024-12-30 14:00:00+00:00</td>\n",
       "      <td>74.040428</td>\n",
       "      <td>60.375000</td>\n",
       "      <td>100.0</td>\n",
       "      <td>0.0</td>\n",
       "      <td>25.004995</td>\n",
       "      <td>9.582100</td>\n",
       "      <td>19.490635</td>\n",
       "      <td>1014.466614</td>\n",
       "      <td>1.547746</td>\n",
       "      <td>...</td>\n",
       "      <td>0.0</td>\n",
       "      <td>22.993752</td>\n",
       "      <td>40.320000</td>\n",
       "      <td>14.934577</td>\n",
       "      <td>65.856026</td>\n",
       "      <td>5.312834</td>\n",
       "      <td>0.0</td>\n",
       "      <td>17.837500</td>\n",
       "      <td>0.160337</td>\n",
       "      <td>23.988585</td>\n",
       "    </tr>\n",
       "  </tbody>\n",
       "</table>\n",
       "<p>5479 rows × 23 columns</p>\n",
       "</div>"
      ],
      "text/plain": [
       "                          date  relative_humidity_2m_mean  cloud_cover_mean  \\\n",
       "0    2009-12-31 14:00:00+00:00                  82.359489         95.791664   \n",
       "1    2010-01-01 14:00:00+00:00                  84.276886         64.166664   \n",
       "2    2010-01-02 14:00:00+00:00                  74.055122        100.000000   \n",
       "3    2010-01-03 14:00:00+00:00                  70.006538         72.875000   \n",
       "4    2010-01-04 14:00:00+00:00                  73.884598         21.833334   \n",
       "...                        ...                        ...               ...   \n",
       "5474 2024-12-26 14:00:00+00:00                  57.966953         43.500000   \n",
       "5475 2024-12-27 14:00:00+00:00                  70.346695         33.875000   \n",
       "5476 2024-12-28 14:00:00+00:00                  63.680096          7.166667   \n",
       "5477 2024-12-29 14:00:00+00:00                  70.827507         41.833332   \n",
       "5478 2024-12-30 14:00:00+00:00                  74.040428         60.375000   \n",
       "\n",
       "      cloud_cover_max  cloud_cover_min  wind_gusts_10m_mean  \\\n",
       "0               100.0             58.0            21.330000   \n",
       "1               100.0             17.0            26.010002   \n",
       "2               100.0            100.0            28.275000   \n",
       "3               100.0              9.0            23.565001   \n",
       "4                95.0              0.0            24.285002   \n",
       "...               ...              ...                  ...   \n",
       "5474            100.0              0.0            41.294998   \n",
       "5475             96.0              0.0            31.574997   \n",
       "5476             44.0              0.0            27.345001   \n",
       "5477            100.0              6.0            31.214998   \n",
       "5478            100.0              0.0            25.004995   \n",
       "\n",
       "      wind_speed_10m_mean  wet_bulb_temperature_2m_mean  pressure_msl_mean  \\\n",
       "0               10.419551                     20.643309        1011.920837   \n",
       "1                8.355687                     21.520597        1007.470764   \n",
       "2               12.964748                     16.673801        1015.529236   \n",
       "3               11.067534                     17.092829        1019.012390   \n",
       "4                9.724721                     19.079020        1015.891663   \n",
       "...                   ...                           ...                ...   \n",
       "5474            16.679815                     19.730782        1003.516663   \n",
       "5475            12.241256                     17.523623        1009.345947   \n",
       "5476            10.361734                     17.012634        1014.200012   \n",
       "5477            12.572087                     18.610620        1017.649963   \n",
       "5478             9.582100                     19.490635        1014.466614   \n",
       "\n",
       "      vapour_pressure_deficit_max  ...  precipitation_hours  \\\n",
       "0                        1.047818  ...                 12.0   \n",
       "1                        1.030170  ...                 14.0   \n",
       "2                        0.835103  ...                  7.0   \n",
       "3                        0.959982  ...                  4.0   \n",
       "4                        1.298432  ...                  0.0   \n",
       "...                           ...  ...                  ...   \n",
       "5474                     4.118773  ...                  3.0   \n",
       "5475                     1.281173  ...                  8.0   \n",
       "5476                     2.811193  ...                  0.0   \n",
       "5477                     1.486585  ...                  2.0   \n",
       "5478                     1.547746  ...                  0.0   \n",
       "\n",
       "      temperature_2m_mean  wind_gusts_10m_max  wind_speed_10m_max  \\\n",
       "0               22.964251           35.639999           18.581022   \n",
       "1               23.612165           37.439999           15.584300   \n",
       "2               19.882996           37.439999           18.345877   \n",
       "3               20.887167           37.439999           16.870138   \n",
       "4               22.520498           39.239998           17.477621   \n",
       "...                   ...                 ...                 ...   \n",
       "5474            26.202085           56.880001           24.012972   \n",
       "5475            21.352081           48.239998           20.170443   \n",
       "5476            22.214584           45.360001           17.727943   \n",
       "5477            22.462500           42.839996           18.252037   \n",
       "5478            22.993752           40.320000           14.934577   \n",
       "\n",
       "      wind_direction_10m_dominant  et0_fao_evapotranspiration  rain_sum  \\\n",
       "0                      331.647491                    2.459723       3.9   \n",
       "1                      298.610291                    4.571662       8.6   \n",
       "2                      146.744644                    2.140701       1.1   \n",
       "3                       69.884773                    3.498662       0.6   \n",
       "4                       35.137077                    5.620671       0.0   \n",
       "...                           ...                         ...       ...   \n",
       "5474                   339.781250                    6.296452       0.8   \n",
       "5475                   109.408127                    5.180197       0.9   \n",
       "5476                   136.802414                    6.468780       0.0   \n",
       "5477                    84.956360                    5.375723       0.3   \n",
       "5478                    65.856026                    5.312834       0.0   \n",
       "\n",
       "      dew_point_2m_mean  soil_moisture_0_to_100cm_mean  \\\n",
       "0             19.672583                       0.120040   \n",
       "1             20.716331                       0.122225   \n",
       "2             15.066335                       0.123362   \n",
       "3             15.185082                       0.121697   \n",
       "4             17.505919                       0.118544   \n",
       "...                 ...                            ...   \n",
       "5474          16.254166                       0.162241   \n",
       "5475          15.570831                       0.163017   \n",
       "5476          13.604167                       0.162678   \n",
       "5477          16.718752                       0.161253   \n",
       "5478          17.837500                       0.160337   \n",
       "\n",
       "      soil_temperature_0_to_100cm_mean  \n",
       "0                            22.152273  \n",
       "1                            22.497442  \n",
       "2                            22.132751  \n",
       "3                            21.884003  \n",
       "4                            22.143875  \n",
       "...                                ...  \n",
       "5474                         23.932188  \n",
       "5475                         23.815561  \n",
       "5476                         23.750420  \n",
       "5477                         23.898355  \n",
       "5478                         23.988585  \n",
       "\n",
       "[5479 rows x 23 columns]"
      ]
     },
     "execution_count": 170,
     "metadata": {},
     "output_type": "execute_result"
    }
   ],
   "source": [
    "import openmeteo_requests\n",
    "\n",
    "import pandas as pd\n",
    "import requests_cache\n",
    "from retry_requests import retry\n",
    "\n",
    "# Setup the Open-Meteo API client with cache and retry on error\n",
    "cache_session = requests_cache.CachedSession('.cache', expire_after = -1)\n",
    "retry_session = retry(cache_session, retries = 5, backoff_factor = 0.2)\n",
    "openmeteo = openmeteo_requests.Client(session = retry_session)\n",
    "\n",
    "# Make sure all required weather variables are listed here\n",
    "# The order of variables in hourly or daily is important to assign them correctly below\n",
    "url = \"https://archive-api.open-meteo.com/v1/archive\"\n",
    "params = {\n",
    "\t\"latitude\": -33.8678,\n",
    "\t\"longitude\": 151.2073,\n",
    "\t\"start_date\": \"2010-01-01\",\n",
    "\t\"end_date\": \"2024-12-31\",\n",
    "\t\"daily\": [\"relative_humidity_2m_mean\", \"cloud_cover_mean\", \"cloud_cover_max\", \"cloud_cover_min\", \"wind_gusts_10m_mean\", \"wind_speed_10m_mean\", \"wet_bulb_temperature_2m_mean\", \"pressure_msl_mean\", \"vapour_pressure_deficit_max\", \"shortwave_radiation_sum\", \"temperature_2m_max\", \"temperature_2m_min\", \"precipitation_hours\", \"temperature_2m_mean\", \"wind_gusts_10m_max\", \"wind_speed_10m_max\", \"wind_direction_10m_dominant\", \"et0_fao_evapotranspiration\", \"rain_sum\", \"dew_point_2m_mean\", \"soil_moisture_0_to_100cm_mean\", \"soil_temperature_0_to_100cm_mean\"],\n",
    "\t\"timezone\": \"auto\",\n",
    "}\n",
    "responses = openmeteo.weather_api(url, params=params)\n",
    "\n",
    "# Process first location. Add a for-loop for multiple locations or weather models\n",
    "response = responses[0]\n",
    "print(f\"Coordinates: {response.Latitude()}°N {response.Longitude()}°E\")\n",
    "print(f\"Elevation: {response.Elevation()} m asl\")\n",
    "print(f\"Timezone: {response.Timezone()}{response.TimezoneAbbreviation()}\")\n",
    "print(f\"Timezone difference to GMT+0: {response.UtcOffsetSeconds()}s\")\n",
    "\n",
    "# Process daily data. The order of variables needs to be the same as requested.\n",
    "daily = response.Daily()\n",
    "daily_relative_humidity_2m_mean = daily.Variables(0).ValuesAsNumpy()\n",
    "daily_cloud_cover_mean = daily.Variables(1).ValuesAsNumpy()\n",
    "daily_cloud_cover_max = daily.Variables(2).ValuesAsNumpy()\n",
    "daily_cloud_cover_min = daily.Variables(3).ValuesAsNumpy()\n",
    "daily_wind_gusts_10m_mean = daily.Variables(4).ValuesAsNumpy()\n",
    "daily_wind_speed_10m_mean = daily.Variables(5).ValuesAsNumpy()\n",
    "daily_wet_bulb_temperature_2m_mean = daily.Variables(6).ValuesAsNumpy()\n",
    "daily_pressure_msl_mean = daily.Variables(7).ValuesAsNumpy()\n",
    "daily_vapour_pressure_deficit_max = daily.Variables(8).ValuesAsNumpy()\n",
    "daily_shortwave_radiation_sum = daily.Variables(9).ValuesAsNumpy()\n",
    "daily_temperature_2m_max = daily.Variables(10).ValuesAsNumpy()\n",
    "daily_temperature_2m_min = daily.Variables(11).ValuesAsNumpy()\n",
    "daily_precipitation_hours = daily.Variables(12).ValuesAsNumpy()\n",
    "daily_temperature_2m_mean = daily.Variables(13).ValuesAsNumpy()\n",
    "daily_wind_gusts_10m_max = daily.Variables(14).ValuesAsNumpy()\n",
    "daily_wind_speed_10m_max = daily.Variables(15).ValuesAsNumpy()\n",
    "daily_wind_direction_10m_dominant = daily.Variables(16).ValuesAsNumpy()\n",
    "daily_et0_fao_evapotranspiration = daily.Variables(17).ValuesAsNumpy()\n",
    "daily_rain_sum = daily.Variables(18).ValuesAsNumpy()\n",
    "daily_dew_point_2m_mean = daily.Variables(19).ValuesAsNumpy()\n",
    "daily_soil_moisture_0_to_100cm_mean = daily.Variables(20).ValuesAsNumpy()\n",
    "daily_soil_temperature_0_to_100cm_mean = daily.Variables(21).ValuesAsNumpy()\n",
    "\n",
    "daily_data = {\"date\": pd.date_range(\n",
    "\tstart = pd.to_datetime(daily.Time(), unit = \"s\", utc = True),\n",
    "\tend = pd.to_datetime(daily.TimeEnd(), unit = \"s\", utc = True),\n",
    "\tfreq = pd.Timedelta(seconds = daily.Interval()),\n",
    "\tinclusive = \"left\"\n",
    ")}\n",
    "\n",
    "daily_data[\"relative_humidity_2m_mean\"] = daily_relative_humidity_2m_mean\n",
    "daily_data[\"cloud_cover_mean\"] = daily_cloud_cover_mean\n",
    "daily_data[\"cloud_cover_max\"] = daily_cloud_cover_max\n",
    "daily_data[\"cloud_cover_min\"] = daily_cloud_cover_min\n",
    "daily_data[\"wind_gusts_10m_mean\"] = daily_wind_gusts_10m_mean\n",
    "daily_data[\"wind_speed_10m_mean\"] = daily_wind_speed_10m_mean\n",
    "daily_data[\"wet_bulb_temperature_2m_mean\"] = daily_wet_bulb_temperature_2m_mean\n",
    "daily_data[\"pressure_msl_mean\"] = daily_pressure_msl_mean\n",
    "daily_data[\"vapour_pressure_deficit_max\"] = daily_vapour_pressure_deficit_max\n",
    "daily_data[\"shortwave_radiation_sum\"] = daily_shortwave_radiation_sum\n",
    "daily_data[\"temperature_2m_max\"] = daily_temperature_2m_max\n",
    "daily_data[\"temperature_2m_min\"] = daily_temperature_2m_min\n",
    "daily_data[\"precipitation_hours\"] = daily_precipitation_hours\n",
    "daily_data[\"temperature_2m_mean\"] = daily_temperature_2m_mean\n",
    "daily_data[\"wind_gusts_10m_max\"] = daily_wind_gusts_10m_max\n",
    "daily_data[\"wind_speed_10m_max\"] = daily_wind_speed_10m_max\n",
    "daily_data[\"wind_direction_10m_dominant\"] = daily_wind_direction_10m_dominant\n",
    "daily_data[\"et0_fao_evapotranspiration\"] = daily_et0_fao_evapotranspiration\n",
    "daily_data[\"rain_sum\"] = daily_rain_sum\n",
    "daily_data[\"dew_point_2m_mean\"] = daily_dew_point_2m_mean\n",
    "daily_data[\"soil_moisture_0_to_100cm_mean\"] = daily_soil_moisture_0_to_100cm_mean\n",
    "daily_data[\"soil_temperature_0_to_100cm_mean\"] = daily_soil_temperature_0_to_100cm_mean\n",
    "\n",
    "df = pd.DataFrame(data = daily_data)\n",
    "df"
   ]
  },
  {
   "cell_type": "code",
   "execution_count": 171,
   "metadata": {},
   "outputs": [
    {
     "data": {
      "text/plain": [
       "(5479, 23)"
      ]
     },
     "execution_count": 171,
     "metadata": {},
     "output_type": "execute_result"
    }
   ],
   "source": [
    "# Shape of df\n",
    "df.shape"
   ]
  },
  {
   "cell_type": "code",
   "execution_count": 172,
   "metadata": {},
   "outputs": [
    {
     "data": {
      "text/html": [
       "<div>\n",
       "<style scoped>\n",
       "    .dataframe tbody tr th:only-of-type {\n",
       "        vertical-align: middle;\n",
       "    }\n",
       "\n",
       "    .dataframe tbody tr th {\n",
       "        vertical-align: top;\n",
       "    }\n",
       "\n",
       "    .dataframe thead th {\n",
       "        text-align: right;\n",
       "    }\n",
       "</style>\n",
       "<table border=\"1\" class=\"dataframe\">\n",
       "  <thead>\n",
       "    <tr style=\"text-align: right;\">\n",
       "      <th></th>\n",
       "      <th>date</th>\n",
       "      <th>relative_humidity_2m_mean</th>\n",
       "      <th>cloud_cover_mean</th>\n",
       "      <th>cloud_cover_max</th>\n",
       "      <th>cloud_cover_min</th>\n",
       "      <th>wind_gusts_10m_mean</th>\n",
       "      <th>wind_speed_10m_mean</th>\n",
       "      <th>wet_bulb_temperature_2m_mean</th>\n",
       "      <th>pressure_msl_mean</th>\n",
       "      <th>vapour_pressure_deficit_max</th>\n",
       "      <th>...</th>\n",
       "      <th>precipitation_hours</th>\n",
       "      <th>temperature_2m_mean</th>\n",
       "      <th>wind_gusts_10m_max</th>\n",
       "      <th>wind_speed_10m_max</th>\n",
       "      <th>wind_direction_10m_dominant</th>\n",
       "      <th>et0_fao_evapotranspiration</th>\n",
       "      <th>rain_sum</th>\n",
       "      <th>dew_point_2m_mean</th>\n",
       "      <th>soil_moisture_0_to_100cm_mean</th>\n",
       "      <th>soil_temperature_0_to_100cm_mean</th>\n",
       "    </tr>\n",
       "  </thead>\n",
       "  <tbody>\n",
       "    <tr>\n",
       "      <th>count</th>\n",
       "      <td>5479</td>\n",
       "      <td>5479.000000</td>\n",
       "      <td>5479.000000</td>\n",
       "      <td>5479.000000</td>\n",
       "      <td>5479.000000</td>\n",
       "      <td>5479.000000</td>\n",
       "      <td>5479.000000</td>\n",
       "      <td>5479.000000</td>\n",
       "      <td>5479.000000</td>\n",
       "      <td>5479.000000</td>\n",
       "      <td>...</td>\n",
       "      <td>5479.000000</td>\n",
       "      <td>5479.000000</td>\n",
       "      <td>5479.000000</td>\n",
       "      <td>5479.000000</td>\n",
       "      <td>5479.000000</td>\n",
       "      <td>5479.000000</td>\n",
       "      <td>5479.000000</td>\n",
       "      <td>5479.000000</td>\n",
       "      <td>5479.000000</td>\n",
       "      <td>5479.000000</td>\n",
       "    </tr>\n",
       "    <tr>\n",
       "      <th>mean</th>\n",
       "      <td>2017-07-01 14:00:00+00:00</td>\n",
       "      <td>72.654137</td>\n",
       "      <td>48.330826</td>\n",
       "      <td>86.124474</td>\n",
       "      <td>13.687900</td>\n",
       "      <td>25.832382</td>\n",
       "      <td>11.929917</td>\n",
       "      <td>14.199195</td>\n",
       "      <td>1017.243774</td>\n",
       "      <td>1.211135</td>\n",
       "      <td>...</td>\n",
       "      <td>3.938493</td>\n",
       "      <td>17.532633</td>\n",
       "      <td>40.348118</td>\n",
       "      <td>19.133251</td>\n",
       "      <td>180.656982</td>\n",
       "      <td>3.306324</td>\n",
       "      <td>2.424877</td>\n",
       "      <td>12.133822</td>\n",
       "      <td>0.175926</td>\n",
       "      <td>18.220329</td>\n",
       "    </tr>\n",
       "    <tr>\n",
       "      <th>min</th>\n",
       "      <td>2009-12-31 14:00:00+00:00</td>\n",
       "      <td>23.854151</td>\n",
       "      <td>0.000000</td>\n",
       "      <td>0.000000</td>\n",
       "      <td>0.000000</td>\n",
       "      <td>8.579999</td>\n",
       "      <td>3.419965</td>\n",
       "      <td>3.809179</td>\n",
       "      <td>992.712463</td>\n",
       "      <td>0.173797</td>\n",
       "      <td>...</td>\n",
       "      <td>0.000000</td>\n",
       "      <td>7.439583</td>\n",
       "      <td>12.599999</td>\n",
       "      <td>5.116561</td>\n",
       "      <td>0.100736</td>\n",
       "      <td>0.336328</td>\n",
       "      <td>0.000000</td>\n",
       "      <td>-2.077083</td>\n",
       "      <td>0.055089</td>\n",
       "      <td>11.389354</td>\n",
       "    </tr>\n",
       "    <tr>\n",
       "      <th>25%</th>\n",
       "      <td>2013-10-01 02:00:00+00:00</td>\n",
       "      <td>66.318722</td>\n",
       "      <td>23.979167</td>\n",
       "      <td>86.000000</td>\n",
       "      <td>0.000000</td>\n",
       "      <td>19.395000</td>\n",
       "      <td>8.544684</td>\n",
       "      <td>10.711050</td>\n",
       "      <td>1012.702148</td>\n",
       "      <td>0.831933</td>\n",
       "      <td>...</td>\n",
       "      <td>0.000000</td>\n",
       "      <td>13.964417</td>\n",
       "      <td>31.319998</td>\n",
       "      <td>14.255272</td>\n",
       "      <td>83.010368</td>\n",
       "      <td>2.155062</td>\n",
       "      <td>0.000000</td>\n",
       "      <td>8.374665</td>\n",
       "      <td>0.134009</td>\n",
       "      <td>14.701761</td>\n",
       "    </tr>\n",
       "    <tr>\n",
       "      <th>50%</th>\n",
       "      <td>2017-07-01 14:00:00+00:00</td>\n",
       "      <td>74.287651</td>\n",
       "      <td>47.791668</td>\n",
       "      <td>100.000000</td>\n",
       "      <td>1.000000</td>\n",
       "      <td>24.269997</td>\n",
       "      <td>10.986862</td>\n",
       "      <td>14.193513</td>\n",
       "      <td>1017.220764</td>\n",
       "      <td>1.082012</td>\n",
       "      <td>...</td>\n",
       "      <td>1.000000</td>\n",
       "      <td>17.627083</td>\n",
       "      <td>39.239998</td>\n",
       "      <td>18.345877</td>\n",
       "      <td>182.750000</td>\n",
       "      <td>3.118238</td>\n",
       "      <td>0.100000</td>\n",
       "      <td>12.349667</td>\n",
       "      <td>0.171188</td>\n",
       "      <td>18.333712</td>\n",
       "    </tr>\n",
       "    <tr>\n",
       "      <th>75%</th>\n",
       "      <td>2021-04-01 02:00:00+00:00</td>\n",
       "      <td>80.749683</td>\n",
       "      <td>72.125000</td>\n",
       "      <td>100.000000</td>\n",
       "      <td>17.000000</td>\n",
       "      <td>30.832497</td>\n",
       "      <td>14.487136</td>\n",
       "      <td>17.753678</td>\n",
       "      <td>1021.937500</td>\n",
       "      <td>1.408318</td>\n",
       "      <td>...</td>\n",
       "      <td>6.000000</td>\n",
       "      <td>20.952957</td>\n",
       "      <td>47.519997</td>\n",
       "      <td>22.930048</td>\n",
       "      <td>272.036301</td>\n",
       "      <td>4.321402</td>\n",
       "      <td>1.650000</td>\n",
       "      <td>16.277958</td>\n",
       "      <td>0.214771</td>\n",
       "      <td>21.645219</td>\n",
       "    </tr>\n",
       "    <tr>\n",
       "      <th>max</th>\n",
       "      <td>2024-12-30 14:00:00+00:00</td>\n",
       "      <td>95.974464</td>\n",
       "      <td>100.000000</td>\n",
       "      <td>100.000000</td>\n",
       "      <td>100.000000</td>\n",
       "      <td>76.215004</td>\n",
       "      <td>37.387234</td>\n",
       "      <td>24.301146</td>\n",
       "      <td>1037.358276</td>\n",
       "      <td>6.699844</td>\n",
       "      <td>...</td>\n",
       "      <td>24.000000</td>\n",
       "      <td>30.516668</td>\n",
       "      <td>102.239998</td>\n",
       "      <td>48.782322</td>\n",
       "      <td>359.857452</td>\n",
       "      <td>9.643431</td>\n",
       "      <td>138.400009</td>\n",
       "      <td>22.862501</td>\n",
       "      <td>0.363650</td>\n",
       "      <td>26.531021</td>\n",
       "    </tr>\n",
       "    <tr>\n",
       "      <th>std</th>\n",
       "      <td>NaN</td>\n",
       "      <td>10.850102</td>\n",
       "      <td>29.580282</td>\n",
       "      <td>26.172167</td>\n",
       "      <td>24.294523</td>\n",
       "      <td>8.798209</td>\n",
       "      <td>4.588791</td>\n",
       "      <td>4.271924</td>\n",
       "      <td>6.725579</td>\n",
       "      <td>0.649838</td>\n",
       "      <td>...</td>\n",
       "      <td>5.837746</td>\n",
       "      <td>4.203393</td>\n",
       "      <td>12.579881</td>\n",
       "      <td>6.547507</td>\n",
       "      <td>103.372292</td>\n",
       "      <td>1.471949</td>\n",
       "      <td>6.730367</td>\n",
       "      <td>5.014907</td>\n",
       "      <td>0.052661</td>\n",
       "      <td>3.694209</td>\n",
       "    </tr>\n",
       "  </tbody>\n",
       "</table>\n",
       "<p>8 rows × 23 columns</p>\n",
       "</div>"
      ],
      "text/plain": [
       "                            date  relative_humidity_2m_mean  cloud_cover_mean  \\\n",
       "count                       5479                5479.000000       5479.000000   \n",
       "mean   2017-07-01 14:00:00+00:00                  72.654137         48.330826   \n",
       "min    2009-12-31 14:00:00+00:00                  23.854151          0.000000   \n",
       "25%    2013-10-01 02:00:00+00:00                  66.318722         23.979167   \n",
       "50%    2017-07-01 14:00:00+00:00                  74.287651         47.791668   \n",
       "75%    2021-04-01 02:00:00+00:00                  80.749683         72.125000   \n",
       "max    2024-12-30 14:00:00+00:00                  95.974464        100.000000   \n",
       "std                          NaN                  10.850102         29.580282   \n",
       "\n",
       "       cloud_cover_max  cloud_cover_min  wind_gusts_10m_mean  \\\n",
       "count      5479.000000      5479.000000          5479.000000   \n",
       "mean         86.124474        13.687900            25.832382   \n",
       "min           0.000000         0.000000             8.579999   \n",
       "25%          86.000000         0.000000            19.395000   \n",
       "50%         100.000000         1.000000            24.269997   \n",
       "75%         100.000000        17.000000            30.832497   \n",
       "max         100.000000       100.000000            76.215004   \n",
       "std          26.172167        24.294523             8.798209   \n",
       "\n",
       "       wind_speed_10m_mean  wet_bulb_temperature_2m_mean  pressure_msl_mean  \\\n",
       "count          5479.000000                   5479.000000        5479.000000   \n",
       "mean             11.929917                     14.199195        1017.243774   \n",
       "min               3.419965                      3.809179         992.712463   \n",
       "25%               8.544684                     10.711050        1012.702148   \n",
       "50%              10.986862                     14.193513        1017.220764   \n",
       "75%              14.487136                     17.753678        1021.937500   \n",
       "max              37.387234                     24.301146        1037.358276   \n",
       "std               4.588791                      4.271924           6.725579   \n",
       "\n",
       "       vapour_pressure_deficit_max  ...  precipitation_hours  \\\n",
       "count                  5479.000000  ...          5479.000000   \n",
       "mean                      1.211135  ...             3.938493   \n",
       "min                       0.173797  ...             0.000000   \n",
       "25%                       0.831933  ...             0.000000   \n",
       "50%                       1.082012  ...             1.000000   \n",
       "75%                       1.408318  ...             6.000000   \n",
       "max                       6.699844  ...            24.000000   \n",
       "std                       0.649838  ...             5.837746   \n",
       "\n",
       "       temperature_2m_mean  wind_gusts_10m_max  wind_speed_10m_max  \\\n",
       "count          5479.000000         5479.000000         5479.000000   \n",
       "mean             17.532633           40.348118           19.133251   \n",
       "min               7.439583           12.599999            5.116561   \n",
       "25%              13.964417           31.319998           14.255272   \n",
       "50%              17.627083           39.239998           18.345877   \n",
       "75%              20.952957           47.519997           22.930048   \n",
       "max              30.516668          102.239998           48.782322   \n",
       "std               4.203393           12.579881            6.547507   \n",
       "\n",
       "       wind_direction_10m_dominant  et0_fao_evapotranspiration     rain_sum  \\\n",
       "count                  5479.000000                 5479.000000  5479.000000   \n",
       "mean                    180.656982                    3.306324     2.424877   \n",
       "min                       0.100736                    0.336328     0.000000   \n",
       "25%                      83.010368                    2.155062     0.000000   \n",
       "50%                     182.750000                    3.118238     0.100000   \n",
       "75%                     272.036301                    4.321402     1.650000   \n",
       "max                     359.857452                    9.643431   138.400009   \n",
       "std                     103.372292                    1.471949     6.730367   \n",
       "\n",
       "       dew_point_2m_mean  soil_moisture_0_to_100cm_mean  \\\n",
       "count        5479.000000                    5479.000000   \n",
       "mean           12.133822                       0.175926   \n",
       "min            -2.077083                       0.055089   \n",
       "25%             8.374665                       0.134009   \n",
       "50%            12.349667                       0.171188   \n",
       "75%            16.277958                       0.214771   \n",
       "max            22.862501                       0.363650   \n",
       "std             5.014907                       0.052661   \n",
       "\n",
       "       soil_temperature_0_to_100cm_mean  \n",
       "count                       5479.000000  \n",
       "mean                          18.220329  \n",
       "min                           11.389354  \n",
       "25%                           14.701761  \n",
       "50%                           18.333712  \n",
       "75%                           21.645219  \n",
       "max                           26.531021  \n",
       "std                            3.694209  \n",
       "\n",
       "[8 rows x 23 columns]"
      ]
     },
     "execution_count": 172,
     "metadata": {},
     "output_type": "execute_result"
    }
   ],
   "source": [
    "# Statistical summary of df\n",
    "df.describe(include='all')"
   ]
  },
  {
   "cell_type": "code",
   "execution_count": 173,
   "metadata": {},
   "outputs": [
    {
     "name": "stdout",
     "output_type": "stream",
     "text": [
      "<class 'pandas.core.frame.DataFrame'>\n",
      "RangeIndex: 5479 entries, 0 to 5478\n",
      "Data columns (total 23 columns):\n",
      " #   Column                            Non-Null Count  Dtype              \n",
      "---  ------                            --------------  -----              \n",
      " 0   date                              5479 non-null   datetime64[ns, UTC]\n",
      " 1   relative_humidity_2m_mean         5479 non-null   float32            \n",
      " 2   cloud_cover_mean                  5479 non-null   float32            \n",
      " 3   cloud_cover_max                   5479 non-null   float32            \n",
      " 4   cloud_cover_min                   5479 non-null   float32            \n",
      " 5   wind_gusts_10m_mean               5479 non-null   float32            \n",
      " 6   wind_speed_10m_mean               5479 non-null   float32            \n",
      " 7   wet_bulb_temperature_2m_mean      5479 non-null   float32            \n",
      " 8   pressure_msl_mean                 5479 non-null   float32            \n",
      " 9   vapour_pressure_deficit_max       5479 non-null   float32            \n",
      " 10  shortwave_radiation_sum           5479 non-null   float32            \n",
      " 11  temperature_2m_max                5479 non-null   float32            \n",
      " 12  temperature_2m_min                5479 non-null   float32            \n",
      " 13  precipitation_hours               5479 non-null   float32            \n",
      " 14  temperature_2m_mean               5479 non-null   float32            \n",
      " 15  wind_gusts_10m_max                5479 non-null   float32            \n",
      " 16  wind_speed_10m_max                5479 non-null   float32            \n",
      " 17  wind_direction_10m_dominant       5479 non-null   float32            \n",
      " 18  et0_fao_evapotranspiration        5479 non-null   float32            \n",
      " 19  rain_sum                          5479 non-null   float32            \n",
      " 20  dew_point_2m_mean                 5479 non-null   float32            \n",
      " 21  soil_moisture_0_to_100cm_mean     5479 non-null   float32            \n",
      " 22  soil_temperature_0_to_100cm_mean  5479 non-null   float32            \n",
      "dtypes: datetime64[ns, UTC](1), float32(22)\n",
      "memory usage: 513.8 KB\n"
     ]
    }
   ],
   "source": [
    "# Summary of df\n",
    "df.info()"
   ]
  },
  {
   "cell_type": "markdown",
   "metadata": {
    "id": "tpG_mos_EXrY"
   },
   "source": [
    "### C.2 Define Target variable"
   ]
  },
  {
   "cell_type": "code",
   "execution_count": 174,
   "metadata": {},
   "outputs": [],
   "source": [
    "# Create the target variable: Cumulated volume of precipitation fall in mm within the next 3 days time in Sydney\n",
    "df['precipitation_fall'] = df['rain_sum'].shift(-1) + df['rain_sum'].shift(-2) + df['rain_sum'].shift(-3)"
   ]
  },
  {
   "cell_type": "code",
   "execution_count": 175,
   "metadata": {},
   "outputs": [
    {
     "data": {
      "text/html": [
       "<div>\n",
       "<style scoped>\n",
       "    .dataframe tbody tr th:only-of-type {\n",
       "        vertical-align: middle;\n",
       "    }\n",
       "\n",
       "    .dataframe tbody tr th {\n",
       "        vertical-align: top;\n",
       "    }\n",
       "\n",
       "    .dataframe thead th {\n",
       "        text-align: right;\n",
       "    }\n",
       "</style>\n",
       "<table border=\"1\" class=\"dataframe\">\n",
       "  <thead>\n",
       "    <tr style=\"text-align: right;\">\n",
       "      <th></th>\n",
       "      <th>date</th>\n",
       "      <th>relative_humidity_2m_mean</th>\n",
       "      <th>cloud_cover_mean</th>\n",
       "      <th>cloud_cover_max</th>\n",
       "      <th>cloud_cover_min</th>\n",
       "      <th>wind_gusts_10m_mean</th>\n",
       "      <th>wind_speed_10m_mean</th>\n",
       "      <th>wet_bulb_temperature_2m_mean</th>\n",
       "      <th>pressure_msl_mean</th>\n",
       "      <th>vapour_pressure_deficit_max</th>\n",
       "      <th>...</th>\n",
       "      <th>temperature_2m_mean</th>\n",
       "      <th>wind_gusts_10m_max</th>\n",
       "      <th>wind_speed_10m_max</th>\n",
       "      <th>wind_direction_10m_dominant</th>\n",
       "      <th>et0_fao_evapotranspiration</th>\n",
       "      <th>rain_sum</th>\n",
       "      <th>dew_point_2m_mean</th>\n",
       "      <th>soil_moisture_0_to_100cm_mean</th>\n",
       "      <th>soil_temperature_0_to_100cm_mean</th>\n",
       "      <th>precipitation_fall</th>\n",
       "    </tr>\n",
       "  </thead>\n",
       "  <tbody>\n",
       "    <tr>\n",
       "      <th>5469</th>\n",
       "      <td>2024-12-21 14:00:00+00:00</td>\n",
       "      <td>72.921722</td>\n",
       "      <td>63.791668</td>\n",
       "      <td>100.0</td>\n",
       "      <td>3.0</td>\n",
       "      <td>30.195002</td>\n",
       "      <td>11.684125</td>\n",
       "      <td>18.529230</td>\n",
       "      <td>1006.137451</td>\n",
       "      <td>1.288756</td>\n",
       "      <td>...</td>\n",
       "      <td>22.035416</td>\n",
       "      <td>52.199997</td>\n",
       "      <td>22.609177</td>\n",
       "      <td>74.324905</td>\n",
       "      <td>4.289347</td>\n",
       "      <td>0.2</td>\n",
       "      <td>16.806250</td>\n",
       "      <td>0.168263</td>\n",
       "      <td>23.156311</td>\n",
       "      <td>0.0</td>\n",
       "    </tr>\n",
       "    <tr>\n",
       "      <th>5470</th>\n",
       "      <td>2024-12-22 14:00:00+00:00</td>\n",
       "      <td>58.926105</td>\n",
       "      <td>34.000000</td>\n",
       "      <td>100.0</td>\n",
       "      <td>0.0</td>\n",
       "      <td>30.824997</td>\n",
       "      <td>11.640549</td>\n",
       "      <td>16.742216</td>\n",
       "      <td>1001.937500</td>\n",
       "      <td>3.384803</td>\n",
       "      <td>...</td>\n",
       "      <td>22.908333</td>\n",
       "      <td>56.519997</td>\n",
       "      <td>21.791153</td>\n",
       "      <td>220.992050</td>\n",
       "      <td>6.802649</td>\n",
       "      <td>0.0</td>\n",
       "      <td>11.868751</td>\n",
       "      <td>0.165770</td>\n",
       "      <td>23.428270</td>\n",
       "      <td>0.0</td>\n",
       "    </tr>\n",
       "    <tr>\n",
       "      <th>5471</th>\n",
       "      <td>2024-12-23 14:00:00+00:00</td>\n",
       "      <td>47.542118</td>\n",
       "      <td>5.791667</td>\n",
       "      <td>89.0</td>\n",
       "      <td>0.0</td>\n",
       "      <td>32.339996</td>\n",
       "      <td>12.891021</td>\n",
       "      <td>13.132172</td>\n",
       "      <td>1011.550049</td>\n",
       "      <td>1.771306</td>\n",
       "      <td>...</td>\n",
       "      <td>19.808332</td>\n",
       "      <td>57.239998</td>\n",
       "      <td>22.732082</td>\n",
       "      <td>184.936935</td>\n",
       "      <td>6.487644</td>\n",
       "      <td>0.0</td>\n",
       "      <td>8.020833</td>\n",
       "      <td>0.164935</td>\n",
       "      <td>23.129044</td>\n",
       "      <td>0.8</td>\n",
       "    </tr>\n",
       "    <tr>\n",
       "      <th>5472</th>\n",
       "      <td>2024-12-24 14:00:00+00:00</td>\n",
       "      <td>64.223015</td>\n",
       "      <td>0.916667</td>\n",
       "      <td>8.0</td>\n",
       "      <td>0.0</td>\n",
       "      <td>27.209997</td>\n",
       "      <td>9.999595</td>\n",
       "      <td>16.614202</td>\n",
       "      <td>1015.845886</td>\n",
       "      <td>2.120138</td>\n",
       "      <td>...</td>\n",
       "      <td>21.368750</td>\n",
       "      <td>51.119999</td>\n",
       "      <td>20.690605</td>\n",
       "      <td>57.746136</td>\n",
       "      <td>6.146514</td>\n",
       "      <td>0.0</td>\n",
       "      <td>13.904166</td>\n",
       "      <td>0.163848</td>\n",
       "      <td>23.317209</td>\n",
       "      <td>1.7</td>\n",
       "    </tr>\n",
       "    <tr>\n",
       "      <th>5473</th>\n",
       "      <td>2024-12-25 14:00:00+00:00</td>\n",
       "      <td>74.374580</td>\n",
       "      <td>13.125000</td>\n",
       "      <td>99.0</td>\n",
       "      <td>0.0</td>\n",
       "      <td>37.109997</td>\n",
       "      <td>15.707917</td>\n",
       "      <td>19.040123</td>\n",
       "      <td>1011.941711</td>\n",
       "      <td>1.703468</td>\n",
       "      <td>...</td>\n",
       "      <td>22.552084</td>\n",
       "      <td>62.639996</td>\n",
       "      <td>28.227304</td>\n",
       "      <td>37.269981</td>\n",
       "      <td>6.264203</td>\n",
       "      <td>0.0</td>\n",
       "      <td>17.331251</td>\n",
       "      <td>0.163165</td>\n",
       "      <td>23.522354</td>\n",
       "      <td>1.7</td>\n",
       "    </tr>\n",
       "    <tr>\n",
       "      <th>5474</th>\n",
       "      <td>2024-12-26 14:00:00+00:00</td>\n",
       "      <td>57.966953</td>\n",
       "      <td>43.500000</td>\n",
       "      <td>100.0</td>\n",
       "      <td>0.0</td>\n",
       "      <td>41.294998</td>\n",
       "      <td>16.679815</td>\n",
       "      <td>19.730782</td>\n",
       "      <td>1003.516663</td>\n",
       "      <td>4.118773</td>\n",
       "      <td>...</td>\n",
       "      <td>26.202085</td>\n",
       "      <td>56.880001</td>\n",
       "      <td>24.012972</td>\n",
       "      <td>339.781250</td>\n",
       "      <td>6.296452</td>\n",
       "      <td>0.8</td>\n",
       "      <td>16.254166</td>\n",
       "      <td>0.162241</td>\n",
       "      <td>23.932188</td>\n",
       "      <td>1.2</td>\n",
       "    </tr>\n",
       "    <tr>\n",
       "      <th>5475</th>\n",
       "      <td>2024-12-27 14:00:00+00:00</td>\n",
       "      <td>70.346695</td>\n",
       "      <td>33.875000</td>\n",
       "      <td>96.0</td>\n",
       "      <td>0.0</td>\n",
       "      <td>31.574997</td>\n",
       "      <td>12.241256</td>\n",
       "      <td>17.523623</td>\n",
       "      <td>1009.345947</td>\n",
       "      <td>1.281173</td>\n",
       "      <td>...</td>\n",
       "      <td>21.352081</td>\n",
       "      <td>48.239998</td>\n",
       "      <td>20.170443</td>\n",
       "      <td>109.408127</td>\n",
       "      <td>5.180197</td>\n",
       "      <td>0.9</td>\n",
       "      <td>15.570831</td>\n",
       "      <td>0.163017</td>\n",
       "      <td>23.815561</td>\n",
       "      <td>0.3</td>\n",
       "    </tr>\n",
       "    <tr>\n",
       "      <th>5476</th>\n",
       "      <td>2024-12-28 14:00:00+00:00</td>\n",
       "      <td>63.680096</td>\n",
       "      <td>7.166667</td>\n",
       "      <td>44.0</td>\n",
       "      <td>0.0</td>\n",
       "      <td>27.345001</td>\n",
       "      <td>10.361734</td>\n",
       "      <td>17.012634</td>\n",
       "      <td>1014.200012</td>\n",
       "      <td>2.811193</td>\n",
       "      <td>...</td>\n",
       "      <td>22.214584</td>\n",
       "      <td>45.360001</td>\n",
       "      <td>17.727943</td>\n",
       "      <td>136.802414</td>\n",
       "      <td>6.468780</td>\n",
       "      <td>0.0</td>\n",
       "      <td>13.604167</td>\n",
       "      <td>0.162678</td>\n",
       "      <td>23.750420</td>\n",
       "      <td>NaN</td>\n",
       "    </tr>\n",
       "    <tr>\n",
       "      <th>5477</th>\n",
       "      <td>2024-12-29 14:00:00+00:00</td>\n",
       "      <td>70.827507</td>\n",
       "      <td>41.833332</td>\n",
       "      <td>100.0</td>\n",
       "      <td>6.0</td>\n",
       "      <td>31.214998</td>\n",
       "      <td>12.572087</td>\n",
       "      <td>18.610620</td>\n",
       "      <td>1017.649963</td>\n",
       "      <td>1.486585</td>\n",
       "      <td>...</td>\n",
       "      <td>22.462500</td>\n",
       "      <td>42.839996</td>\n",
       "      <td>18.252037</td>\n",
       "      <td>84.956360</td>\n",
       "      <td>5.375723</td>\n",
       "      <td>0.3</td>\n",
       "      <td>16.718752</td>\n",
       "      <td>0.161253</td>\n",
       "      <td>23.898355</td>\n",
       "      <td>NaN</td>\n",
       "    </tr>\n",
       "    <tr>\n",
       "      <th>5478</th>\n",
       "      <td>2024-12-30 14:00:00+00:00</td>\n",
       "      <td>74.040428</td>\n",
       "      <td>60.375000</td>\n",
       "      <td>100.0</td>\n",
       "      <td>0.0</td>\n",
       "      <td>25.004995</td>\n",
       "      <td>9.582100</td>\n",
       "      <td>19.490635</td>\n",
       "      <td>1014.466614</td>\n",
       "      <td>1.547746</td>\n",
       "      <td>...</td>\n",
       "      <td>22.993752</td>\n",
       "      <td>40.320000</td>\n",
       "      <td>14.934577</td>\n",
       "      <td>65.856026</td>\n",
       "      <td>5.312834</td>\n",
       "      <td>0.0</td>\n",
       "      <td>17.837500</td>\n",
       "      <td>0.160337</td>\n",
       "      <td>23.988585</td>\n",
       "      <td>NaN</td>\n",
       "    </tr>\n",
       "  </tbody>\n",
       "</table>\n",
       "<p>10 rows × 24 columns</p>\n",
       "</div>"
      ],
      "text/plain": [
       "                          date  relative_humidity_2m_mean  cloud_cover_mean  \\\n",
       "5469 2024-12-21 14:00:00+00:00                  72.921722         63.791668   \n",
       "5470 2024-12-22 14:00:00+00:00                  58.926105         34.000000   \n",
       "5471 2024-12-23 14:00:00+00:00                  47.542118          5.791667   \n",
       "5472 2024-12-24 14:00:00+00:00                  64.223015          0.916667   \n",
       "5473 2024-12-25 14:00:00+00:00                  74.374580         13.125000   \n",
       "5474 2024-12-26 14:00:00+00:00                  57.966953         43.500000   \n",
       "5475 2024-12-27 14:00:00+00:00                  70.346695         33.875000   \n",
       "5476 2024-12-28 14:00:00+00:00                  63.680096          7.166667   \n",
       "5477 2024-12-29 14:00:00+00:00                  70.827507         41.833332   \n",
       "5478 2024-12-30 14:00:00+00:00                  74.040428         60.375000   \n",
       "\n",
       "      cloud_cover_max  cloud_cover_min  wind_gusts_10m_mean  \\\n",
       "5469            100.0              3.0            30.195002   \n",
       "5470            100.0              0.0            30.824997   \n",
       "5471             89.0              0.0            32.339996   \n",
       "5472              8.0              0.0            27.209997   \n",
       "5473             99.0              0.0            37.109997   \n",
       "5474            100.0              0.0            41.294998   \n",
       "5475             96.0              0.0            31.574997   \n",
       "5476             44.0              0.0            27.345001   \n",
       "5477            100.0              6.0            31.214998   \n",
       "5478            100.0              0.0            25.004995   \n",
       "\n",
       "      wind_speed_10m_mean  wet_bulb_temperature_2m_mean  pressure_msl_mean  \\\n",
       "5469            11.684125                     18.529230        1006.137451   \n",
       "5470            11.640549                     16.742216        1001.937500   \n",
       "5471            12.891021                     13.132172        1011.550049   \n",
       "5472             9.999595                     16.614202        1015.845886   \n",
       "5473            15.707917                     19.040123        1011.941711   \n",
       "5474            16.679815                     19.730782        1003.516663   \n",
       "5475            12.241256                     17.523623        1009.345947   \n",
       "5476            10.361734                     17.012634        1014.200012   \n",
       "5477            12.572087                     18.610620        1017.649963   \n",
       "5478             9.582100                     19.490635        1014.466614   \n",
       "\n",
       "      vapour_pressure_deficit_max  ...  temperature_2m_mean  \\\n",
       "5469                     1.288756  ...            22.035416   \n",
       "5470                     3.384803  ...            22.908333   \n",
       "5471                     1.771306  ...            19.808332   \n",
       "5472                     2.120138  ...            21.368750   \n",
       "5473                     1.703468  ...            22.552084   \n",
       "5474                     4.118773  ...            26.202085   \n",
       "5475                     1.281173  ...            21.352081   \n",
       "5476                     2.811193  ...            22.214584   \n",
       "5477                     1.486585  ...            22.462500   \n",
       "5478                     1.547746  ...            22.993752   \n",
       "\n",
       "      wind_gusts_10m_max  wind_speed_10m_max  wind_direction_10m_dominant  \\\n",
       "5469           52.199997           22.609177                    74.324905   \n",
       "5470           56.519997           21.791153                   220.992050   \n",
       "5471           57.239998           22.732082                   184.936935   \n",
       "5472           51.119999           20.690605                    57.746136   \n",
       "5473           62.639996           28.227304                    37.269981   \n",
       "5474           56.880001           24.012972                   339.781250   \n",
       "5475           48.239998           20.170443                   109.408127   \n",
       "5476           45.360001           17.727943                   136.802414   \n",
       "5477           42.839996           18.252037                    84.956360   \n",
       "5478           40.320000           14.934577                    65.856026   \n",
       "\n",
       "      et0_fao_evapotranspiration  rain_sum  dew_point_2m_mean  \\\n",
       "5469                    4.289347       0.2          16.806250   \n",
       "5470                    6.802649       0.0          11.868751   \n",
       "5471                    6.487644       0.0           8.020833   \n",
       "5472                    6.146514       0.0          13.904166   \n",
       "5473                    6.264203       0.0          17.331251   \n",
       "5474                    6.296452       0.8          16.254166   \n",
       "5475                    5.180197       0.9          15.570831   \n",
       "5476                    6.468780       0.0          13.604167   \n",
       "5477                    5.375723       0.3          16.718752   \n",
       "5478                    5.312834       0.0          17.837500   \n",
       "\n",
       "      soil_moisture_0_to_100cm_mean  soil_temperature_0_to_100cm_mean  \\\n",
       "5469                       0.168263                         23.156311   \n",
       "5470                       0.165770                         23.428270   \n",
       "5471                       0.164935                         23.129044   \n",
       "5472                       0.163848                         23.317209   \n",
       "5473                       0.163165                         23.522354   \n",
       "5474                       0.162241                         23.932188   \n",
       "5475                       0.163017                         23.815561   \n",
       "5476                       0.162678                         23.750420   \n",
       "5477                       0.161253                         23.898355   \n",
       "5478                       0.160337                         23.988585   \n",
       "\n",
       "      precipitation_fall  \n",
       "5469                 0.0  \n",
       "5470                 0.0  \n",
       "5471                 0.8  \n",
       "5472                 1.7  \n",
       "5473                 1.7  \n",
       "5474                 1.2  \n",
       "5475                 0.3  \n",
       "5476                 NaN  \n",
       "5477                 NaN  \n",
       "5478                 NaN  \n",
       "\n",
       "[10 rows x 24 columns]"
      ]
     },
     "execution_count": 175,
     "metadata": {},
     "output_type": "execute_result"
    }
   ],
   "source": [
    "# Last 10 rows of df\n",
    "df.tail(10)"
   ]
  },
  {
   "cell_type": "code",
   "execution_count": 176,
   "metadata": {},
   "outputs": [],
   "source": [
    "# Drop rows where 'precipitation_fall' is null\n",
    "df.dropna(subset=['precipitation_fall'], inplace=True)"
   ]
  },
  {
   "cell_type": "code",
   "execution_count": 177,
   "metadata": {},
   "outputs": [
    {
     "data": {
      "text/html": [
       "<div>\n",
       "<style scoped>\n",
       "    .dataframe tbody tr th:only-of-type {\n",
       "        vertical-align: middle;\n",
       "    }\n",
       "\n",
       "    .dataframe tbody tr th {\n",
       "        vertical-align: top;\n",
       "    }\n",
       "\n",
       "    .dataframe thead th {\n",
       "        text-align: right;\n",
       "    }\n",
       "</style>\n",
       "<table border=\"1\" class=\"dataframe\">\n",
       "  <thead>\n",
       "    <tr style=\"text-align: right;\">\n",
       "      <th></th>\n",
       "      <th>date</th>\n",
       "      <th>relative_humidity_2m_mean</th>\n",
       "      <th>cloud_cover_mean</th>\n",
       "      <th>cloud_cover_max</th>\n",
       "      <th>cloud_cover_min</th>\n",
       "      <th>wind_gusts_10m_mean</th>\n",
       "      <th>wind_speed_10m_mean</th>\n",
       "      <th>wet_bulb_temperature_2m_mean</th>\n",
       "      <th>pressure_msl_mean</th>\n",
       "      <th>vapour_pressure_deficit_max</th>\n",
       "      <th>...</th>\n",
       "      <th>temperature_2m_mean</th>\n",
       "      <th>wind_gusts_10m_max</th>\n",
       "      <th>wind_speed_10m_max</th>\n",
       "      <th>wind_direction_10m_dominant</th>\n",
       "      <th>et0_fao_evapotranspiration</th>\n",
       "      <th>rain_sum</th>\n",
       "      <th>dew_point_2m_mean</th>\n",
       "      <th>soil_moisture_0_to_100cm_mean</th>\n",
       "      <th>soil_temperature_0_to_100cm_mean</th>\n",
       "      <th>precipitation_fall</th>\n",
       "    </tr>\n",
       "  </thead>\n",
       "  <tbody>\n",
       "    <tr>\n",
       "      <th>5466</th>\n",
       "      <td>2024-12-18 14:00:00+00:00</td>\n",
       "      <td>60.617496</td>\n",
       "      <td>47.625000</td>\n",
       "      <td>99.0</td>\n",
       "      <td>5.0</td>\n",
       "      <td>36.255001</td>\n",
       "      <td>15.245507</td>\n",
       "      <td>15.045041</td>\n",
       "      <td>1017.699951</td>\n",
       "      <td>1.496585</td>\n",
       "      <td>...</td>\n",
       "      <td>20.035418</td>\n",
       "      <td>49.680000</td>\n",
       "      <td>20.696869</td>\n",
       "      <td>169.499146</td>\n",
       "      <td>5.528263</td>\n",
       "      <td>0.2</td>\n",
       "      <td>11.972916</td>\n",
       "      <td>0.172081</td>\n",
       "      <td>22.782501</td>\n",
       "      <td>0.7</td>\n",
       "    </tr>\n",
       "    <tr>\n",
       "      <th>5467</th>\n",
       "      <td>2024-12-19 14:00:00+00:00</td>\n",
       "      <td>65.657463</td>\n",
       "      <td>13.125000</td>\n",
       "      <td>71.0</td>\n",
       "      <td>0.0</td>\n",
       "      <td>26.100004</td>\n",
       "      <td>9.855006</td>\n",
       "      <td>15.322675</td>\n",
       "      <td>1012.229187</td>\n",
       "      <td>1.503445</td>\n",
       "      <td>...</td>\n",
       "      <td>19.704168</td>\n",
       "      <td>39.959999</td>\n",
       "      <td>15.227830</td>\n",
       "      <td>176.653732</td>\n",
       "      <td>5.755971</td>\n",
       "      <td>0.0</td>\n",
       "      <td>12.733334</td>\n",
       "      <td>0.171979</td>\n",
       "      <td>22.681795</td>\n",
       "      <td>0.7</td>\n",
       "    </tr>\n",
       "    <tr>\n",
       "      <th>5468</th>\n",
       "      <td>2024-12-20 14:00:00+00:00</td>\n",
       "      <td>70.268272</td>\n",
       "      <td>19.916666</td>\n",
       "      <td>100.0</td>\n",
       "      <td>0.0</td>\n",
       "      <td>24.494997</td>\n",
       "      <td>9.155691</td>\n",
       "      <td>17.714354</td>\n",
       "      <td>1008.329102</td>\n",
       "      <td>2.209105</td>\n",
       "      <td>...</td>\n",
       "      <td>21.762499</td>\n",
       "      <td>39.959999</td>\n",
       "      <td>16.856689</td>\n",
       "      <td>107.162010</td>\n",
       "      <td>5.834490</td>\n",
       "      <td>0.5</td>\n",
       "      <td>15.616666</td>\n",
       "      <td>0.169747</td>\n",
       "      <td>22.915253</td>\n",
       "      <td>0.2</td>\n",
       "    </tr>\n",
       "    <tr>\n",
       "      <th>5469</th>\n",
       "      <td>2024-12-21 14:00:00+00:00</td>\n",
       "      <td>72.921722</td>\n",
       "      <td>63.791668</td>\n",
       "      <td>100.0</td>\n",
       "      <td>3.0</td>\n",
       "      <td>30.195002</td>\n",
       "      <td>11.684125</td>\n",
       "      <td>18.529230</td>\n",
       "      <td>1006.137451</td>\n",
       "      <td>1.288756</td>\n",
       "      <td>...</td>\n",
       "      <td>22.035416</td>\n",
       "      <td>52.199997</td>\n",
       "      <td>22.609177</td>\n",
       "      <td>74.324905</td>\n",
       "      <td>4.289347</td>\n",
       "      <td>0.2</td>\n",
       "      <td>16.806250</td>\n",
       "      <td>0.168263</td>\n",
       "      <td>23.156311</td>\n",
       "      <td>0.0</td>\n",
       "    </tr>\n",
       "    <tr>\n",
       "      <th>5470</th>\n",
       "      <td>2024-12-22 14:00:00+00:00</td>\n",
       "      <td>58.926105</td>\n",
       "      <td>34.000000</td>\n",
       "      <td>100.0</td>\n",
       "      <td>0.0</td>\n",
       "      <td>30.824997</td>\n",
       "      <td>11.640549</td>\n",
       "      <td>16.742216</td>\n",
       "      <td>1001.937500</td>\n",
       "      <td>3.384803</td>\n",
       "      <td>...</td>\n",
       "      <td>22.908333</td>\n",
       "      <td>56.519997</td>\n",
       "      <td>21.791153</td>\n",
       "      <td>220.992050</td>\n",
       "      <td>6.802649</td>\n",
       "      <td>0.0</td>\n",
       "      <td>11.868751</td>\n",
       "      <td>0.165770</td>\n",
       "      <td>23.428270</td>\n",
       "      <td>0.0</td>\n",
       "    </tr>\n",
       "    <tr>\n",
       "      <th>5471</th>\n",
       "      <td>2024-12-23 14:00:00+00:00</td>\n",
       "      <td>47.542118</td>\n",
       "      <td>5.791667</td>\n",
       "      <td>89.0</td>\n",
       "      <td>0.0</td>\n",
       "      <td>32.339996</td>\n",
       "      <td>12.891021</td>\n",
       "      <td>13.132172</td>\n",
       "      <td>1011.550049</td>\n",
       "      <td>1.771306</td>\n",
       "      <td>...</td>\n",
       "      <td>19.808332</td>\n",
       "      <td>57.239998</td>\n",
       "      <td>22.732082</td>\n",
       "      <td>184.936935</td>\n",
       "      <td>6.487644</td>\n",
       "      <td>0.0</td>\n",
       "      <td>8.020833</td>\n",
       "      <td>0.164935</td>\n",
       "      <td>23.129044</td>\n",
       "      <td>0.8</td>\n",
       "    </tr>\n",
       "    <tr>\n",
       "      <th>5472</th>\n",
       "      <td>2024-12-24 14:00:00+00:00</td>\n",
       "      <td>64.223015</td>\n",
       "      <td>0.916667</td>\n",
       "      <td>8.0</td>\n",
       "      <td>0.0</td>\n",
       "      <td>27.209997</td>\n",
       "      <td>9.999595</td>\n",
       "      <td>16.614202</td>\n",
       "      <td>1015.845886</td>\n",
       "      <td>2.120138</td>\n",
       "      <td>...</td>\n",
       "      <td>21.368750</td>\n",
       "      <td>51.119999</td>\n",
       "      <td>20.690605</td>\n",
       "      <td>57.746136</td>\n",
       "      <td>6.146514</td>\n",
       "      <td>0.0</td>\n",
       "      <td>13.904166</td>\n",
       "      <td>0.163848</td>\n",
       "      <td>23.317209</td>\n",
       "      <td>1.7</td>\n",
       "    </tr>\n",
       "    <tr>\n",
       "      <th>5473</th>\n",
       "      <td>2024-12-25 14:00:00+00:00</td>\n",
       "      <td>74.374580</td>\n",
       "      <td>13.125000</td>\n",
       "      <td>99.0</td>\n",
       "      <td>0.0</td>\n",
       "      <td>37.109997</td>\n",
       "      <td>15.707917</td>\n",
       "      <td>19.040123</td>\n",
       "      <td>1011.941711</td>\n",
       "      <td>1.703468</td>\n",
       "      <td>...</td>\n",
       "      <td>22.552084</td>\n",
       "      <td>62.639996</td>\n",
       "      <td>28.227304</td>\n",
       "      <td>37.269981</td>\n",
       "      <td>6.264203</td>\n",
       "      <td>0.0</td>\n",
       "      <td>17.331251</td>\n",
       "      <td>0.163165</td>\n",
       "      <td>23.522354</td>\n",
       "      <td>1.7</td>\n",
       "    </tr>\n",
       "    <tr>\n",
       "      <th>5474</th>\n",
       "      <td>2024-12-26 14:00:00+00:00</td>\n",
       "      <td>57.966953</td>\n",
       "      <td>43.500000</td>\n",
       "      <td>100.0</td>\n",
       "      <td>0.0</td>\n",
       "      <td>41.294998</td>\n",
       "      <td>16.679815</td>\n",
       "      <td>19.730782</td>\n",
       "      <td>1003.516663</td>\n",
       "      <td>4.118773</td>\n",
       "      <td>...</td>\n",
       "      <td>26.202085</td>\n",
       "      <td>56.880001</td>\n",
       "      <td>24.012972</td>\n",
       "      <td>339.781250</td>\n",
       "      <td>6.296452</td>\n",
       "      <td>0.8</td>\n",
       "      <td>16.254166</td>\n",
       "      <td>0.162241</td>\n",
       "      <td>23.932188</td>\n",
       "      <td>1.2</td>\n",
       "    </tr>\n",
       "    <tr>\n",
       "      <th>5475</th>\n",
       "      <td>2024-12-27 14:00:00+00:00</td>\n",
       "      <td>70.346695</td>\n",
       "      <td>33.875000</td>\n",
       "      <td>96.0</td>\n",
       "      <td>0.0</td>\n",
       "      <td>31.574997</td>\n",
       "      <td>12.241256</td>\n",
       "      <td>17.523623</td>\n",
       "      <td>1009.345947</td>\n",
       "      <td>1.281173</td>\n",
       "      <td>...</td>\n",
       "      <td>21.352081</td>\n",
       "      <td>48.239998</td>\n",
       "      <td>20.170443</td>\n",
       "      <td>109.408127</td>\n",
       "      <td>5.180197</td>\n",
       "      <td>0.9</td>\n",
       "      <td>15.570831</td>\n",
       "      <td>0.163017</td>\n",
       "      <td>23.815561</td>\n",
       "      <td>0.3</td>\n",
       "    </tr>\n",
       "  </tbody>\n",
       "</table>\n",
       "<p>10 rows × 24 columns</p>\n",
       "</div>"
      ],
      "text/plain": [
       "                          date  relative_humidity_2m_mean  cloud_cover_mean  \\\n",
       "5466 2024-12-18 14:00:00+00:00                  60.617496         47.625000   \n",
       "5467 2024-12-19 14:00:00+00:00                  65.657463         13.125000   \n",
       "5468 2024-12-20 14:00:00+00:00                  70.268272         19.916666   \n",
       "5469 2024-12-21 14:00:00+00:00                  72.921722         63.791668   \n",
       "5470 2024-12-22 14:00:00+00:00                  58.926105         34.000000   \n",
       "5471 2024-12-23 14:00:00+00:00                  47.542118          5.791667   \n",
       "5472 2024-12-24 14:00:00+00:00                  64.223015          0.916667   \n",
       "5473 2024-12-25 14:00:00+00:00                  74.374580         13.125000   \n",
       "5474 2024-12-26 14:00:00+00:00                  57.966953         43.500000   \n",
       "5475 2024-12-27 14:00:00+00:00                  70.346695         33.875000   \n",
       "\n",
       "      cloud_cover_max  cloud_cover_min  wind_gusts_10m_mean  \\\n",
       "5466             99.0              5.0            36.255001   \n",
       "5467             71.0              0.0            26.100004   \n",
       "5468            100.0              0.0            24.494997   \n",
       "5469            100.0              3.0            30.195002   \n",
       "5470            100.0              0.0            30.824997   \n",
       "5471             89.0              0.0            32.339996   \n",
       "5472              8.0              0.0            27.209997   \n",
       "5473             99.0              0.0            37.109997   \n",
       "5474            100.0              0.0            41.294998   \n",
       "5475             96.0              0.0            31.574997   \n",
       "\n",
       "      wind_speed_10m_mean  wet_bulb_temperature_2m_mean  pressure_msl_mean  \\\n",
       "5466            15.245507                     15.045041        1017.699951   \n",
       "5467             9.855006                     15.322675        1012.229187   \n",
       "5468             9.155691                     17.714354        1008.329102   \n",
       "5469            11.684125                     18.529230        1006.137451   \n",
       "5470            11.640549                     16.742216        1001.937500   \n",
       "5471            12.891021                     13.132172        1011.550049   \n",
       "5472             9.999595                     16.614202        1015.845886   \n",
       "5473            15.707917                     19.040123        1011.941711   \n",
       "5474            16.679815                     19.730782        1003.516663   \n",
       "5475            12.241256                     17.523623        1009.345947   \n",
       "\n",
       "      vapour_pressure_deficit_max  ...  temperature_2m_mean  \\\n",
       "5466                     1.496585  ...            20.035418   \n",
       "5467                     1.503445  ...            19.704168   \n",
       "5468                     2.209105  ...            21.762499   \n",
       "5469                     1.288756  ...            22.035416   \n",
       "5470                     3.384803  ...            22.908333   \n",
       "5471                     1.771306  ...            19.808332   \n",
       "5472                     2.120138  ...            21.368750   \n",
       "5473                     1.703468  ...            22.552084   \n",
       "5474                     4.118773  ...            26.202085   \n",
       "5475                     1.281173  ...            21.352081   \n",
       "\n",
       "      wind_gusts_10m_max  wind_speed_10m_max  wind_direction_10m_dominant  \\\n",
       "5466           49.680000           20.696869                   169.499146   \n",
       "5467           39.959999           15.227830                   176.653732   \n",
       "5468           39.959999           16.856689                   107.162010   \n",
       "5469           52.199997           22.609177                    74.324905   \n",
       "5470           56.519997           21.791153                   220.992050   \n",
       "5471           57.239998           22.732082                   184.936935   \n",
       "5472           51.119999           20.690605                    57.746136   \n",
       "5473           62.639996           28.227304                    37.269981   \n",
       "5474           56.880001           24.012972                   339.781250   \n",
       "5475           48.239998           20.170443                   109.408127   \n",
       "\n",
       "      et0_fao_evapotranspiration  rain_sum  dew_point_2m_mean  \\\n",
       "5466                    5.528263       0.2          11.972916   \n",
       "5467                    5.755971       0.0          12.733334   \n",
       "5468                    5.834490       0.5          15.616666   \n",
       "5469                    4.289347       0.2          16.806250   \n",
       "5470                    6.802649       0.0          11.868751   \n",
       "5471                    6.487644       0.0           8.020833   \n",
       "5472                    6.146514       0.0          13.904166   \n",
       "5473                    6.264203       0.0          17.331251   \n",
       "5474                    6.296452       0.8          16.254166   \n",
       "5475                    5.180197       0.9          15.570831   \n",
       "\n",
       "      soil_moisture_0_to_100cm_mean  soil_temperature_0_to_100cm_mean  \\\n",
       "5466                       0.172081                         22.782501   \n",
       "5467                       0.171979                         22.681795   \n",
       "5468                       0.169747                         22.915253   \n",
       "5469                       0.168263                         23.156311   \n",
       "5470                       0.165770                         23.428270   \n",
       "5471                       0.164935                         23.129044   \n",
       "5472                       0.163848                         23.317209   \n",
       "5473                       0.163165                         23.522354   \n",
       "5474                       0.162241                         23.932188   \n",
       "5475                       0.163017                         23.815561   \n",
       "\n",
       "      precipitation_fall  \n",
       "5466                 0.7  \n",
       "5467                 0.7  \n",
       "5468                 0.2  \n",
       "5469                 0.0  \n",
       "5470                 0.0  \n",
       "5471                 0.8  \n",
       "5472                 1.7  \n",
       "5473                 1.7  \n",
       "5474                 1.2  \n",
       "5475                 0.3  \n",
       "\n",
       "[10 rows x 24 columns]"
      ]
     },
     "execution_count": 177,
     "metadata": {},
     "output_type": "execute_result"
    }
   ],
   "source": [
    "# Last 10 rows of df\n",
    "df.tail(10)"
   ]
  },
  {
   "cell_type": "code",
   "execution_count": 178,
   "metadata": {
    "id": "RiqBkEQ-EjIZ"
   },
   "outputs": [],
   "source": [
    "target_definition_explanations = \"\"\"This project aims to develop a predictive model to estimate the cumulative volume of precipitation in millimetres over a three-day forecast horizon. To support this objective, a new target variable, precipitation_fall, is constructed to represent the total amount of precipitation expected over the three days following each observation date. This target serves as the output for a regression model trained on historical weather data.\n",
    "\"\"\""
   ]
  },
  {
   "cell_type": "code",
   "execution_count": 179,
   "metadata": {
    "id": "qdeiAKiIElvG"
   },
   "outputs": [
    {
     "data": {
      "text/html": [
       "<p style=\"color:grey\">target_definition_explanations</p><h3 font-size: 3em>This project aims to develop a predictive model to estimate the cumulative volume of precipitation in millimetres over a three-day forecast horizon. To support this objective, a new target variable, precipitation_fall, is constructed to represent the total amount of precipitation expected over the three days following each observation date. This target serves as the output for a regression model trained on historical weather data.\n",
       "</h3>"
      ],
      "text/plain": [
       "<IPython.core.display.HTML object>"
      ]
     },
     "metadata": {},
     "output_type": "display_data"
    }
   ],
   "source": [
    "# Do not modify this code\n",
    "print_tile(size=\"h3\", key='target_definition_explanations', value=target_definition_explanations)"
   ]
  },
  {
   "cell_type": "markdown",
   "metadata": {
    "id": "CtIfwnLmEn51"
   },
   "source": [
    "### C.3 Create Target variable"
   ]
  },
  {
   "cell_type": "code",
   "execution_count": 180,
   "metadata": {
    "id": "XV8dRa59EpLG"
   },
   "outputs": [],
   "source": [
    "target_name = 'precipitation_fall'"
   ]
  },
  {
   "cell_type": "markdown",
   "metadata": {
    "id": "dmSKLrSBFAN5"
   },
   "source": [
    "### C.4 Explore Target variable"
   ]
  },
  {
   "cell_type": "code",
   "execution_count": 181,
   "metadata": {},
   "outputs": [
    {
     "data": {
      "text/plain": [
       "count    5476.000000\n",
       "mean        7.273083\n",
       "std        14.805281\n",
       "min         0.000000\n",
       "25%         0.100000\n",
       "50%         1.800000\n",
       "75%         7.500000\n",
       "max       203.700012\n",
       "Name: precipitation_fall, dtype: float64"
      ]
     },
     "execution_count": 181,
     "metadata": {},
     "output_type": "execute_result"
    }
   ],
   "source": [
    "# Summary statistics of precipitation_fall\n",
    "df['precipitation_fall'].describe()"
   ]
  },
  {
   "cell_type": "code",
   "execution_count": 182,
   "metadata": {},
   "outputs": [
    {
     "data": {
      "image/png": "[encoded data removed]",
      "text/plain": [
       "<Figure size 640x480 with 1 Axes>"
      ]
     },
     "metadata": {},
     "output_type": "display_data"
    }
   ],
   "source": [
    "# Histogram + KDE plot for precipitation_fall\n",
    "sns.histplot(df['precipitation_fall'], bins=10, kde=True)\n",
    "plt.title('Distribution of Cumulative Precipitation Volume (mm) Over Next 3 Days')\n",
    "plt.xlabel('Cumulative Precipitation (mm)')\n",
    "plt.ylabel('Frequency')\n",
    "plt.show()"
   ]
  },
  {
   "cell_type": "code",
   "execution_count": 183,
   "metadata": {},
   "outputs": [
    {
     "name": "stdout",
     "output_type": "stream",
     "text": [
      "   Precipitation Range (mm)  Count  Percentage (%)\n",
      "0          (-0.204, 10.185]   4387       80.113221\n",
      "1           (10.185, 20.37]    540        9.861213\n",
      "2           (20.37, 30.555]    258        4.711468\n",
      "3           (30.555, 40.74]    111        2.027027\n",
      "4           (40.74, 50.925]     59        1.077429\n",
      "5           (50.925, 61.11]     34        0.620891\n",
      "6           (61.11, 71.295]     27        0.493061\n",
      "7           (71.295, 81.48]     25        0.456538\n",
      "8           (81.48, 91.665]      6        0.109569\n",
      "9          (91.665, 101.85]      5        0.091308\n",
      "10        (101.85, 112.035]      6        0.109569\n",
      "11        (112.035, 122.22]      3        0.054785\n",
      "12        (122.22, 132.405]      7        0.127831\n",
      "13        (132.405, 142.59]      2        0.036523\n",
      "14        (142.59, 152.775]      1        0.018262\n",
      "15        (152.775, 162.96]      1        0.018262\n",
      "16        (162.96, 173.145]      1        0.018262\n",
      "17        (173.145, 183.33]      0        0.000000\n",
      "18        (183.33, 193.515]      2        0.036523\n",
      "19         (193.515, 203.7]      1        0.018262\n"
     ]
    }
   ],
   "source": [
    "# Create bins\n",
    "bins = pd.cut(df['precipitation_fall'], bins=20)\n",
    "\n",
    "# Create a frequency table by counting how many fall into each bin\n",
    "freq_table = bins.value_counts().sort_index().reset_index()\n",
    "freq_table.columns = ['Precipitation Range (mm)', 'Count']\n",
    "\n",
    "# Calculate percentage of total for each bin\n",
    "freq_table['Percentage (%)'] = (freq_table['Count'] / freq_table['Count'].sum()) * 100\n",
    "\n",
    "# Display table\n",
    "print(freq_table)"
   ]
  },
  {
   "cell_type": "code",
   "execution_count": 184,
   "metadata": {
    "id": "5I9ccv-UEr5o"
   },
   "outputs": [],
   "source": [
    "target_distribution_explanations = \"\"\"Based on the summary statistics, approximately 75% of the observations correspond to a cumulative precipitation fall of up to 7.5 mm over the three-day period. Furthermore, around 80% of the data records cumulative precipitation volumes below 10 mm. This pronounced concentration of data points within the lower precipitation range indicates a significant class imbalance. Consequently, the predictive model may face challenges in accurately estimating higher precipitation volumes due to the limited availability of representative samples in those ranges.\"\"\""
   ]
  },
  {
   "cell_type": "code",
   "execution_count": 185,
   "metadata": {
    "id": "i45S7xA9EtEV"
   },
   "outputs": [
    {
     "data": {
      "text/html": [
       "<p style=\"color:grey\">target_distribution_explanations</p><h3 font-size: 3em>Based on the summary statistics, approximately 75% of the observations correspond to a cumulative precipitation fall of up to 7.5 mm over the three-day period. Furthermore, around 80% of the data records cumulative precipitation volumes below 10 mm. This pronounced concentration of data points within the lower precipitation range indicates a significant class imbalance. Consequently, the predictive model may face challenges in accurately estimating higher precipitation volumes due to the limited availability of representative samples in those ranges.</h3>"
      ],
      "text/plain": [
       "<IPython.core.display.HTML object>"
      ]
     },
     "metadata": {},
     "output_type": "display_data"
    }
   ],
   "source": [
    "# Do not modify this code\n",
    "print_tile(size=\"h3\", key='target_distribution_explanations', value=target_distribution_explanations)"
   ]
  },
  {
   "cell_type": "markdown",
   "metadata": {
    "id": "37ubEa7SFWXo"
   },
   "source": [
    "### C.5 Explore Feature of Interest `temperature_2m_mean `"
   ]
  },
  {
   "cell_type": "code",
   "execution_count": 186,
   "metadata": {},
   "outputs": [
    {
     "data": {
      "text/plain": [
       "count    5476.000000\n",
       "mean       17.529881\n",
       "std         4.202891\n",
       "min         7.439583\n",
       "25%        13.964252\n",
       "50%        17.624836\n",
       "75%        20.945312\n",
       "max        30.516668\n",
       "Name: temperature_2m_mean, dtype: float64"
      ]
     },
     "execution_count": 186,
     "metadata": {},
     "output_type": "execute_result"
    }
   ],
   "source": [
    "df['temperature_2m_mean'].describe()"
   ]
  },
  {
   "cell_type": "code",
   "execution_count": 187,
   "metadata": {
    "id": "wV9Ldx0gFWks"
   },
   "outputs": [
    {
     "data": {
      "image/png": "[encoded data removed]",
      "text/plain": [
       "<Figure size 800x600 with 1 Axes>"
      ]
     },
     "metadata": {},
     "output_type": "display_data"
    }
   ],
   "source": [
    "# Define bins for precipitation ranges\n",
    "bins = [0, 10, 20, 30, 40, 50, df['precipitation_fall'].max()]\n",
    "labels = ['0–10 mm', '10–20 mm', '20-30 mm', '30-40 mm', '40–50 mm', '50+ mm']\n",
    "\n",
    "# Categorize precipitation fall into bins\n",
    "df['precip_bin'] = pd.cut(df['precipitation_fall'], bins=bins, labels=labels, include_lowest=True)\n",
    "\n",
    "# Plot boxplot of average temperature by precipitation bin\n",
    "plt.figure(figsize=(8,6))\n",
    "sns.boxplot(x='precip_bin', y='temperature_2m_mean', data=df)\n",
    "\n",
    "plt.title('Average Temperature by Cumulative Precipitation Range (Next 3 Days)')\n",
    "plt.xlabel('Cumulative Precipitation Range (mm)')\n",
    "plt.ylabel('Average Temperature (°C)')\n",
    "plt.xticks(rotation=45)\n",
    "plt.tight_layout()\n",
    "plt.show()"
   ]
  },
  {
   "cell_type": "code",
   "execution_count": 188,
   "metadata": {
    "id": "y4YLcn_eEyAe"
   },
   "outputs": [],
   "source": [
    "feature_1_insights = \"\"\"When precipitation fall is categorised into finer bins such as 0–10 mm, 10–20 mm, 20–30 mm, 30–40 mm, 40–50 mm and 50+ mm, the median average temperature tends to increase slightly as precipitation increases from 0 up to 50 mm. This suggests that warmer temperatures are generally associated with moderate increases in upcoming precipitation. However, this trend does not hold for the highest precipitation category (50+ mm), where the median temperature is noticeably lower than in the preceding bins. This deviation is also reflected in the maximum temperatures, with the highest precipitation category showing significantly lower maximum temperatures compared to all other groups. This pattern indicates that heavy precipitation events tend to suppress extreme temperature highs more effectively than lower precipitation ranges, which could be influenced by seasonal factors.\n",
    "\"\"\""
   ]
  },
  {
   "cell_type": "code",
   "execution_count": 189,
   "metadata": {
    "id": "2r1knRxDEyC0"
   },
   "outputs": [
    {
     "data": {
      "text/html": [
       "<p style=\"color:grey\">feature_1_insights</p><h3 font-size: 3em>When precipitation fall is categorised into finer bins such as 0–10 mm, 10–20 mm, 20–30 mm, 30–40 mm, 40–50 mm and 50+ mm, the median average temperature tends to increase slightly as precipitation increases from 0 up to 50 mm. This suggests that warmer temperatures are generally associated with moderate increases in upcoming precipitation. However, this trend does not hold for the highest precipitation category (50+ mm), where the median temperature is noticeably lower than in the preceding bins. This deviation is also reflected in the maximum temperatures, with the highest precipitation category showing significantly lower maximum temperatures compared to all other groups. This pattern indicates that heavy precipitation events tend to suppress extreme temperature highs more effectively than lower precipitation ranges, which could be influenced by seasonal factors.\n",
       "</h3>"
      ],
      "text/plain": [
       "<IPython.core.display.HTML object>"
      ]
     },
     "metadata": {},
     "output_type": "display_data"
    }
   ],
   "source": [
    "# Do not modify this code\n",
    "print_tile(size=\"h3\", key='feature_1_insights', value=feature_1_insights)"
   ]
  },
  {
   "cell_type": "markdown",
   "metadata": {
    "id": "WOqd56IjE0LB"
   },
   "source": [
    "### C.6 Explore Feature of Interest `relative_humidity_2m_mean`"
   ]
  },
  {
   "cell_type": "code",
   "execution_count": 190,
   "metadata": {},
   "outputs": [
    {
     "data": {
      "text/plain": [
       "count    5476.000000\n",
       "mean       72.655853\n",
       "std        10.852352\n",
       "min        23.854151\n",
       "25%        66.320295\n",
       "50%        74.302994\n",
       "75%        80.751511\n",
       "max        95.974464\n",
       "Name: relative_humidity_2m_mean, dtype: float64"
      ]
     },
     "execution_count": 190,
     "metadata": {},
     "output_type": "execute_result"
    }
   ],
   "source": [
    "df['relative_humidity_2m_mean'].describe()"
   ]
  },
  {
   "cell_type": "code",
   "execution_count": 191,
   "metadata": {
    "id": "akQFJsI3E2eM"
   },
   "outputs": [
    {
     "data": {
      "image/png": "[encoded data removed]",
      "text/plain": [
       "<Figure size 800x600 with 1 Axes>"
      ]
     },
     "metadata": {},
     "output_type": "display_data"
    }
   ],
   "source": [
    "# Define bins for precipitation ranges\n",
    "bins = [0, 10, 30, 50, df['precipitation_fall'].max()]\n",
    "labels = ['0–10 mm', '10–30 mm', '30-50 mm', '50+ mm']\n",
    "\n",
    "# Categorize precipitation fall into bins\n",
    "df['precip_bin'] = pd.cut(df['precipitation_fall'], bins=bins, labels=labels, include_lowest=True)\n",
    "\n",
    "# Plot boxplot of humidity by precipitation bin\n",
    "plt.figure(figsize=(8,6))\n",
    "sns.boxplot(x='precip_bin', y='relative_humidity_2m_mean', data=df)\n",
    "\n",
    "plt.title('Humidity by Cumulative Precipitation Range (Next 3 Days)')\n",
    "plt.xlabel('Cumulative Precipitation Range (mm)')\n",
    "plt.ylabel('Humidity')\n",
    "plt.xticks(rotation=45)\n",
    "plt.tight_layout()\n",
    "plt.show()"
   ]
  },
  {
   "cell_type": "code",
   "execution_count": 192,
   "metadata": {
    "id": "u-CfAsO1E2hB"
   },
   "outputs": [],
   "source": [
    "feature_2_insights = \"\"\"When precipitation fall is categorised into broader bins such as 0–10 mm, 10–30 mm, 30–50 mm and 50+ mm, distinct differences emerge in precipitation and humidity distributions. In the lowest precipitation category (0–10 mm), both the interquartile range and minimum humidity values are generally lower, with more data points concentrated at the lower end of the humidity scale, indicating drier conditions. As precipitation increases to higher categories, humidity tends to rise, showing higher median and interquartile range values. This suggests that greater upcoming precipitation is associated with higher ambient humidity levels.\n",
    "\"\"\""
   ]
  },
  {
   "cell_type": "code",
   "execution_count": 193,
   "metadata": {
    "id": "bB87lgCAE2jf"
   },
   "outputs": [
    {
     "data": {
      "text/html": [
       "<p style=\"color:grey\">feature_2_insights</p><h3 font-size: 3em>When precipitation fall is categorised into broader bins such as 0–10 mm, 10–30 mm, 30–50 mm and 50+ mm, distinct differences emerge in precipitation and humidity distributions. In the lowest precipitation category (0–10 mm), both the interquartile range and minimum humidity values are generally lower, with more data points concentrated at the lower end of the humidity scale, indicating drier conditions. As precipitation increases to higher categories, humidity tends to rise, showing higher median and interquartile range values. This suggests that greater upcoming precipitation is associated with higher ambient humidity levels.\n",
       "</h3>"
      ],
      "text/plain": [
       "<IPython.core.display.HTML object>"
      ]
     },
     "metadata": {},
     "output_type": "display_data"
    }
   ],
   "source": [
    "# Do not modify this code\n",
    "print_tile(size=\"h3\", key='feature_2_insights', value=feature_2_insights)"
   ]
  },
  {
   "cell_type": "markdown",
   "metadata": {
    "id": "-8J_tiLgE26i"
   },
   "source": [
    "### C.7 Explore Feature of Interest `cloud_cover_mean `\n"
   ]
  },
  {
   "cell_type": "code",
   "execution_count": 194,
   "metadata": {
    "id": "qeyyEgIrE6GB"
   },
   "outputs": [
    {
     "data": {
      "text/plain": [
       "count    5476.000000\n",
       "mean       48.337330\n",
       "std        29.582575\n",
       "min         0.000000\n",
       "25%        23.989583\n",
       "50%        47.791668\n",
       "75%        72.135416\n",
       "max       100.000000\n",
       "Name: cloud_cover_mean, dtype: float64"
      ]
     },
     "execution_count": 194,
     "metadata": {},
     "output_type": "execute_result"
    }
   ],
   "source": [
    "df['cloud_cover_mean'].describe()"
   ]
  },
  {
   "cell_type": "code",
   "execution_count": 195,
   "metadata": {},
   "outputs": [
    {
     "data": {
      "image/png": "[encoded data removed]",
      "text/plain": [
       "<Figure size 800x600 with 1 Axes>"
      ]
     },
     "metadata": {},
     "output_type": "display_data"
    }
   ],
   "source": [
    "# Define bins for precipitation ranges\n",
    "bins = [0, 10, 30, 50, df['precipitation_fall'].max()]\n",
    "labels = ['0–10 mm', '10–30 mm', '30-50 mm', '50+ mm']\n",
    "\n",
    "# Categorize precipitation fall into bins\n",
    "df['precip_bin'] = pd.cut(df['precipitation_fall'], bins=bins, labels=labels, include_lowest=True)\n",
    "\n",
    "# Plot boxplot of cloud cover by precipitation bin\n",
    "plt.figure(figsize=(8,6))\n",
    "sns.boxplot(x='precip_bin', y='cloud_cover_mean', data=df)\n",
    "\n",
    "plt.title('Cloud Cover by Cumulative Precipitation Range (Next 3 Days)')\n",
    "plt.xlabel('Cumulative Precipitation Range (mm)')\n",
    "plt.ylabel('Cloud Cover')\n",
    "plt.xticks(rotation=45)\n",
    "plt.tight_layout()\n",
    "plt.show()"
   ]
  },
  {
   "cell_type": "code",
   "execution_count": 196,
   "metadata": {
    "id": "_Vlh8usmE6In"
   },
   "outputs": [],
   "source": [
    "feature_3_insights = \"\"\"It is clear that cloud cover and precipitation fall have a relationship. Since most precipitation fall values are less than 10 mm, the interquartile range of cloud cover in this group is significantly lower than in the others. In contrast, for precipitation fall larger than 50 mm, cloud cover shows a notably higher median value. This indicates that heavier precipitation is generally associated with greater cloud cover.\n",
    "\"\"\""
   ]
  },
  {
   "cell_type": "code",
   "execution_count": 197,
   "metadata": {
    "id": "BNZGN3nrE6LJ"
   },
   "outputs": [
    {
     "data": {
      "text/html": [
       "<p style=\"color:grey\">feature_3_insights</p><h3 font-size: 3em>It is clear that cloud cover and precipitation fall have a relationship. Since most precipitation fall values are less than 10 mm, the interquartile range of cloud cover in this group is significantly lower than in the others. In contrast, for precipitation fall larger than 50 mm, cloud cover shows a notably higher median value. This indicates that heavier precipitation is generally associated with greater cloud cover.\n",
       "</h3>"
      ],
      "text/plain": [
       "<IPython.core.display.HTML object>"
      ]
     },
     "metadata": {},
     "output_type": "display_data"
    }
   ],
   "source": [
    "# Do not modify this code\n",
    "print_tile(size=\"h3\", key='feature_3_insights', value=feature_3_insights)"
   ]
  },
  {
   "cell_type": "markdown",
   "metadata": {
    "id": "_NCwQQFkU3v5"
   },
   "source": [
    "---\n",
    "## D. Feature Selection\n"
   ]
  },
  {
   "cell_type": "markdown",
   "metadata": {
    "id": "0b8C9WON3Toe"
   },
   "source": [
    "### D.1 Approach \"Correlation Analysis\"\n"
   ]
  },
  {
   "cell_type": "code",
   "execution_count": 198,
   "metadata": {},
   "outputs": [],
   "source": [
    "df.drop(columns=['precip_bin'], inplace=True)"
   ]
  },
  {
   "cell_type": "code",
   "execution_count": 199,
   "metadata": {},
   "outputs": [
    {
     "data": {
      "image/png": "[encoded data removed]",
      "text/plain": [
       "<Figure size 2400x2000 with 2 Axes>"
      ]
     },
     "metadata": {},
     "output_type": "display_data"
    }
   ],
   "source": [
    "# Compute correlation matrix\n",
    "corr_matrix = df.corr()\n",
    "\n",
    "# Plot the heatmap\n",
    "plt.figure(figsize=(24, 20)) \n",
    "sns.heatmap(corr_matrix, annot=True, fmt=\".2f\", cmap='coolwarm', center=0)\n",
    "plt.title('Correlation Heatmap of Features', fontsize=18)\n",
    "plt.xticks(rotation=45, ha='right')\n",
    "plt.yticks(rotation=0)\n",
    "plt.tight_layout() \n",
    "plt.show()"
   ]
  },
  {
   "cell_type": "code",
   "execution_count": 200,
   "metadata": {
    "id": "Z9myLlFZFQXj"
   },
   "outputs": [],
   "source": [
    "feature_selection_1_insights = \"\"\"From the correlation matrix, features such as relative_humidity_2m_mean, cloud_cover_mean, cloud_cover_min, precipitation_hours, rain_sum, and dew_point_2m_mean show correlations around 0.2 with the target variable, indicating they may have higher predictive value for the model. Although some multicollinearity is present among the features, all of them are retained for modeling because they were initially selected based on strong domain knowledge. Feature selection will later be performed using model-derived feature importance to identify the most relevant predictors.\n",
    "\"\"\""
   ]
  },
  {
   "cell_type": "code",
   "execution_count": 201,
   "metadata": {
    "id": "937YFeqDFQgB"
   },
   "outputs": [
    {
     "data": {
      "text/html": [
       "<p style=\"color:grey\">feature_selection_1_insights</p><h3 font-size: 3em>From the correlation matrix, features such as relative_humidity_2m_mean, cloud_cover_mean, cloud_cover_min, precipitation_hours, rain_sum, and dew_point_2m_mean show correlations around 0.2 with the target variable, indicating they may have higher predictive value for the model. Although some multicollinearity is present among the features, all of them are retained for modeling because they were initially selected based on strong domain knowledge. Feature selection will later be performed using model-derived feature importance to identify the most relevant predictors.\n",
       "</h3>"
      ],
      "text/plain": [
       "<IPython.core.display.HTML object>"
      ]
     },
     "metadata": {},
     "output_type": "display_data"
    }
   ],
   "source": [
    "# Do not modify this code\n",
    "print_tile(size=\"h3\", key='feature_selection_1_insights', value=feature_selection_1_insights)"
   ]
  },
  {
   "cell_type": "markdown",
   "metadata": {
    "id": "j-nNSpJK0Rgu"
   },
   "source": [
    "---\n",
    "## E. Data Preparation"
   ]
  },
  {
   "cell_type": "code",
   "execution_count": 202,
   "metadata": {},
   "outputs": [
    {
     "data": {
      "text/html": [
       "<div>\n",
       "<style scoped>\n",
       "    .dataframe tbody tr th:only-of-type {\n",
       "        vertical-align: middle;\n",
       "    }\n",
       "\n",
       "    .dataframe tbody tr th {\n",
       "        vertical-align: top;\n",
       "    }\n",
       "\n",
       "    .dataframe thead th {\n",
       "        text-align: right;\n",
       "    }\n",
       "</style>\n",
       "<table border=\"1\" class=\"dataframe\">\n",
       "  <thead>\n",
       "    <tr style=\"text-align: right;\">\n",
       "      <th></th>\n",
       "      <th>date</th>\n",
       "      <th>relative_humidity_2m_mean</th>\n",
       "      <th>cloud_cover_mean</th>\n",
       "      <th>cloud_cover_max</th>\n",
       "      <th>cloud_cover_min</th>\n",
       "      <th>wind_gusts_10m_mean</th>\n",
       "      <th>wind_speed_10m_mean</th>\n",
       "      <th>wet_bulb_temperature_2m_mean</th>\n",
       "      <th>pressure_msl_mean</th>\n",
       "      <th>vapour_pressure_deficit_max</th>\n",
       "      <th>...</th>\n",
       "      <th>temperature_2m_mean</th>\n",
       "      <th>wind_gusts_10m_max</th>\n",
       "      <th>wind_speed_10m_max</th>\n",
       "      <th>wind_direction_10m_dominant</th>\n",
       "      <th>et0_fao_evapotranspiration</th>\n",
       "      <th>rain_sum</th>\n",
       "      <th>dew_point_2m_mean</th>\n",
       "      <th>soil_moisture_0_to_100cm_mean</th>\n",
       "      <th>soil_temperature_0_to_100cm_mean</th>\n",
       "      <th>precipitation_fall</th>\n",
       "    </tr>\n",
       "  </thead>\n",
       "  <tbody>\n",
       "    <tr>\n",
       "      <th>0</th>\n",
       "      <td>2009-12-31 14:00:00+00:00</td>\n",
       "      <td>82.359489</td>\n",
       "      <td>95.791664</td>\n",
       "      <td>100.0</td>\n",
       "      <td>58.0</td>\n",
       "      <td>21.330000</td>\n",
       "      <td>10.419551</td>\n",
       "      <td>20.643309</td>\n",
       "      <td>1011.920837</td>\n",
       "      <td>1.047818</td>\n",
       "      <td>...</td>\n",
       "      <td>22.964251</td>\n",
       "      <td>35.639999</td>\n",
       "      <td>18.581022</td>\n",
       "      <td>331.647491</td>\n",
       "      <td>2.459723</td>\n",
       "      <td>3.9</td>\n",
       "      <td>19.672583</td>\n",
       "      <td>0.120040</td>\n",
       "      <td>22.152273</td>\n",
       "      <td>10.300001</td>\n",
       "    </tr>\n",
       "    <tr>\n",
       "      <th>1</th>\n",
       "      <td>2010-01-01 14:00:00+00:00</td>\n",
       "      <td>84.276886</td>\n",
       "      <td>64.166664</td>\n",
       "      <td>100.0</td>\n",
       "      <td>17.0</td>\n",
       "      <td>26.010002</td>\n",
       "      <td>8.355687</td>\n",
       "      <td>21.520597</td>\n",
       "      <td>1007.470764</td>\n",
       "      <td>1.030170</td>\n",
       "      <td>...</td>\n",
       "      <td>23.612165</td>\n",
       "      <td>37.439999</td>\n",
       "      <td>15.584300</td>\n",
       "      <td>298.610291</td>\n",
       "      <td>4.571662</td>\n",
       "      <td>8.6</td>\n",
       "      <td>20.716331</td>\n",
       "      <td>0.122225</td>\n",
       "      <td>22.497442</td>\n",
       "      <td>1.700000</td>\n",
       "    </tr>\n",
       "    <tr>\n",
       "      <th>2</th>\n",
       "      <td>2010-01-02 14:00:00+00:00</td>\n",
       "      <td>74.055122</td>\n",
       "      <td>100.000000</td>\n",
       "      <td>100.0</td>\n",
       "      <td>100.0</td>\n",
       "      <td>28.275000</td>\n",
       "      <td>12.964748</td>\n",
       "      <td>16.673801</td>\n",
       "      <td>1015.529236</td>\n",
       "      <td>0.835103</td>\n",
       "      <td>...</td>\n",
       "      <td>19.882996</td>\n",
       "      <td>37.439999</td>\n",
       "      <td>18.345877</td>\n",
       "      <td>146.744644</td>\n",
       "      <td>2.140701</td>\n",
       "      <td>1.1</td>\n",
       "      <td>15.066335</td>\n",
       "      <td>0.123362</td>\n",
       "      <td>22.132751</td>\n",
       "      <td>0.600000</td>\n",
       "    </tr>\n",
       "    <tr>\n",
       "      <th>3</th>\n",
       "      <td>2010-01-03 14:00:00+00:00</td>\n",
       "      <td>70.006538</td>\n",
       "      <td>72.875000</td>\n",
       "      <td>100.0</td>\n",
       "      <td>9.0</td>\n",
       "      <td>23.565001</td>\n",
       "      <td>11.067534</td>\n",
       "      <td>17.092829</td>\n",
       "      <td>1019.012390</td>\n",
       "      <td>0.959982</td>\n",
       "      <td>...</td>\n",
       "      <td>20.887167</td>\n",
       "      <td>37.439999</td>\n",
       "      <td>16.870138</td>\n",
       "      <td>69.884773</td>\n",
       "      <td>3.498662</td>\n",
       "      <td>0.6</td>\n",
       "      <td>15.185082</td>\n",
       "      <td>0.121697</td>\n",
       "      <td>21.884003</td>\n",
       "      <td>0.000000</td>\n",
       "    </tr>\n",
       "    <tr>\n",
       "      <th>4</th>\n",
       "      <td>2010-01-04 14:00:00+00:00</td>\n",
       "      <td>73.884598</td>\n",
       "      <td>21.833334</td>\n",
       "      <td>95.0</td>\n",
       "      <td>0.0</td>\n",
       "      <td>24.285002</td>\n",
       "      <td>9.724721</td>\n",
       "      <td>19.079020</td>\n",
       "      <td>1015.891663</td>\n",
       "      <td>1.298432</td>\n",
       "      <td>...</td>\n",
       "      <td>22.520498</td>\n",
       "      <td>39.239998</td>\n",
       "      <td>17.477621</td>\n",
       "      <td>35.137077</td>\n",
       "      <td>5.620671</td>\n",
       "      <td>0.0</td>\n",
       "      <td>17.505919</td>\n",
       "      <td>0.118544</td>\n",
       "      <td>22.143875</td>\n",
       "      <td>0.500000</td>\n",
       "    </tr>\n",
       "    <tr>\n",
       "      <th>...</th>\n",
       "      <td>...</td>\n",
       "      <td>...</td>\n",
       "      <td>...</td>\n",
       "      <td>...</td>\n",
       "      <td>...</td>\n",
       "      <td>...</td>\n",
       "      <td>...</td>\n",
       "      <td>...</td>\n",
       "      <td>...</td>\n",
       "      <td>...</td>\n",
       "      <td>...</td>\n",
       "      <td>...</td>\n",
       "      <td>...</td>\n",
       "      <td>...</td>\n",
       "      <td>...</td>\n",
       "      <td>...</td>\n",
       "      <td>...</td>\n",
       "      <td>...</td>\n",
       "      <td>...</td>\n",
       "      <td>...</td>\n",
       "      <td>...</td>\n",
       "    </tr>\n",
       "    <tr>\n",
       "      <th>5471</th>\n",
       "      <td>2024-12-23 14:00:00+00:00</td>\n",
       "      <td>47.542118</td>\n",
       "      <td>5.791667</td>\n",
       "      <td>89.0</td>\n",
       "      <td>0.0</td>\n",
       "      <td>32.339996</td>\n",
       "      <td>12.891021</td>\n",
       "      <td>13.132172</td>\n",
       "      <td>1011.550049</td>\n",
       "      <td>1.771306</td>\n",
       "      <td>...</td>\n",
       "      <td>19.808332</td>\n",
       "      <td>57.239998</td>\n",
       "      <td>22.732082</td>\n",
       "      <td>184.936935</td>\n",
       "      <td>6.487644</td>\n",
       "      <td>0.0</td>\n",
       "      <td>8.020833</td>\n",
       "      <td>0.164935</td>\n",
       "      <td>23.129044</td>\n",
       "      <td>0.800000</td>\n",
       "    </tr>\n",
       "    <tr>\n",
       "      <th>5472</th>\n",
       "      <td>2024-12-24 14:00:00+00:00</td>\n",
       "      <td>64.223015</td>\n",
       "      <td>0.916667</td>\n",
       "      <td>8.0</td>\n",
       "      <td>0.0</td>\n",
       "      <td>27.209997</td>\n",
       "      <td>9.999595</td>\n",
       "      <td>16.614202</td>\n",
       "      <td>1015.845886</td>\n",
       "      <td>2.120138</td>\n",
       "      <td>...</td>\n",
       "      <td>21.368750</td>\n",
       "      <td>51.119999</td>\n",
       "      <td>20.690605</td>\n",
       "      <td>57.746136</td>\n",
       "      <td>6.146514</td>\n",
       "      <td>0.0</td>\n",
       "      <td>13.904166</td>\n",
       "      <td>0.163848</td>\n",
       "      <td>23.317209</td>\n",
       "      <td>1.700000</td>\n",
       "    </tr>\n",
       "    <tr>\n",
       "      <th>5473</th>\n",
       "      <td>2024-12-25 14:00:00+00:00</td>\n",
       "      <td>74.374580</td>\n",
       "      <td>13.125000</td>\n",
       "      <td>99.0</td>\n",
       "      <td>0.0</td>\n",
       "      <td>37.109997</td>\n",
       "      <td>15.707917</td>\n",
       "      <td>19.040123</td>\n",
       "      <td>1011.941711</td>\n",
       "      <td>1.703468</td>\n",
       "      <td>...</td>\n",
       "      <td>22.552084</td>\n",
       "      <td>62.639996</td>\n",
       "      <td>28.227304</td>\n",
       "      <td>37.269981</td>\n",
       "      <td>6.264203</td>\n",
       "      <td>0.0</td>\n",
       "      <td>17.331251</td>\n",
       "      <td>0.163165</td>\n",
       "      <td>23.522354</td>\n",
       "      <td>1.700000</td>\n",
       "    </tr>\n",
       "    <tr>\n",
       "      <th>5474</th>\n",
       "      <td>2024-12-26 14:00:00+00:00</td>\n",
       "      <td>57.966953</td>\n",
       "      <td>43.500000</td>\n",
       "      <td>100.0</td>\n",
       "      <td>0.0</td>\n",
       "      <td>41.294998</td>\n",
       "      <td>16.679815</td>\n",
       "      <td>19.730782</td>\n",
       "      <td>1003.516663</td>\n",
       "      <td>4.118773</td>\n",
       "      <td>...</td>\n",
       "      <td>26.202085</td>\n",
       "      <td>56.880001</td>\n",
       "      <td>24.012972</td>\n",
       "      <td>339.781250</td>\n",
       "      <td>6.296452</td>\n",
       "      <td>0.8</td>\n",
       "      <td>16.254166</td>\n",
       "      <td>0.162241</td>\n",
       "      <td>23.932188</td>\n",
       "      <td>1.200000</td>\n",
       "    </tr>\n",
       "    <tr>\n",
       "      <th>5475</th>\n",
       "      <td>2024-12-27 14:00:00+00:00</td>\n",
       "      <td>70.346695</td>\n",
       "      <td>33.875000</td>\n",
       "      <td>96.0</td>\n",
       "      <td>0.0</td>\n",
       "      <td>31.574997</td>\n",
       "      <td>12.241256</td>\n",
       "      <td>17.523623</td>\n",
       "      <td>1009.345947</td>\n",
       "      <td>1.281173</td>\n",
       "      <td>...</td>\n",
       "      <td>21.352081</td>\n",
       "      <td>48.239998</td>\n",
       "      <td>20.170443</td>\n",
       "      <td>109.408127</td>\n",
       "      <td>5.180197</td>\n",
       "      <td>0.9</td>\n",
       "      <td>15.570831</td>\n",
       "      <td>0.163017</td>\n",
       "      <td>23.815561</td>\n",
       "      <td>0.300000</td>\n",
       "    </tr>\n",
       "  </tbody>\n",
       "</table>\n",
       "<p>5476 rows × 24 columns</p>\n",
       "</div>"
      ],
      "text/plain": [
       "                          date  relative_humidity_2m_mean  cloud_cover_mean  \\\n",
       "0    2009-12-31 14:00:00+00:00                  82.359489         95.791664   \n",
       "1    2010-01-01 14:00:00+00:00                  84.276886         64.166664   \n",
       "2    2010-01-02 14:00:00+00:00                  74.055122        100.000000   \n",
       "3    2010-01-03 14:00:00+00:00                  70.006538         72.875000   \n",
       "4    2010-01-04 14:00:00+00:00                  73.884598         21.833334   \n",
       "...                        ...                        ...               ...   \n",
       "5471 2024-12-23 14:00:00+00:00                  47.542118          5.791667   \n",
       "5472 2024-12-24 14:00:00+00:00                  64.223015          0.916667   \n",
       "5473 2024-12-25 14:00:00+00:00                  74.374580         13.125000   \n",
       "5474 2024-12-26 14:00:00+00:00                  57.966953         43.500000   \n",
       "5475 2024-12-27 14:00:00+00:00                  70.346695         33.875000   \n",
       "\n",
       "      cloud_cover_max  cloud_cover_min  wind_gusts_10m_mean  \\\n",
       "0               100.0             58.0            21.330000   \n",
       "1               100.0             17.0            26.010002   \n",
       "2               100.0            100.0            28.275000   \n",
       "3               100.0              9.0            23.565001   \n",
       "4                95.0              0.0            24.285002   \n",
       "...               ...              ...                  ...   \n",
       "5471             89.0              0.0            32.339996   \n",
       "5472              8.0              0.0            27.209997   \n",
       "5473             99.0              0.0            37.109997   \n",
       "5474            100.0              0.0            41.294998   \n",
       "5475             96.0              0.0            31.574997   \n",
       "\n",
       "      wind_speed_10m_mean  wet_bulb_temperature_2m_mean  pressure_msl_mean  \\\n",
       "0               10.419551                     20.643309        1011.920837   \n",
       "1                8.355687                     21.520597        1007.470764   \n",
       "2               12.964748                     16.673801        1015.529236   \n",
       "3               11.067534                     17.092829        1019.012390   \n",
       "4                9.724721                     19.079020        1015.891663   \n",
       "...                   ...                           ...                ...   \n",
       "5471            12.891021                     13.132172        1011.550049   \n",
       "5472             9.999595                     16.614202        1015.845886   \n",
       "5473            15.707917                     19.040123        1011.941711   \n",
       "5474            16.679815                     19.730782        1003.516663   \n",
       "5475            12.241256                     17.523623        1009.345947   \n",
       "\n",
       "      vapour_pressure_deficit_max  ...  temperature_2m_mean  \\\n",
       "0                        1.047818  ...            22.964251   \n",
       "1                        1.030170  ...            23.612165   \n",
       "2                        0.835103  ...            19.882996   \n",
       "3                        0.959982  ...            20.887167   \n",
       "4                        1.298432  ...            22.520498   \n",
       "...                           ...  ...                  ...   \n",
       "5471                     1.771306  ...            19.808332   \n",
       "5472                     2.120138  ...            21.368750   \n",
       "5473                     1.703468  ...            22.552084   \n",
       "5474                     4.118773  ...            26.202085   \n",
       "5475                     1.281173  ...            21.352081   \n",
       "\n",
       "      wind_gusts_10m_max  wind_speed_10m_max  wind_direction_10m_dominant  \\\n",
       "0              35.639999           18.581022                   331.647491   \n",
       "1              37.439999           15.584300                   298.610291   \n",
       "2              37.439999           18.345877                   146.744644   \n",
       "3              37.439999           16.870138                    69.884773   \n",
       "4              39.239998           17.477621                    35.137077   \n",
       "...                  ...                 ...                          ...   \n",
       "5471           57.239998           22.732082                   184.936935   \n",
       "5472           51.119999           20.690605                    57.746136   \n",
       "5473           62.639996           28.227304                    37.269981   \n",
       "5474           56.880001           24.012972                   339.781250   \n",
       "5475           48.239998           20.170443                   109.408127   \n",
       "\n",
       "      et0_fao_evapotranspiration  rain_sum  dew_point_2m_mean  \\\n",
       "0                       2.459723       3.9          19.672583   \n",
       "1                       4.571662       8.6          20.716331   \n",
       "2                       2.140701       1.1          15.066335   \n",
       "3                       3.498662       0.6          15.185082   \n",
       "4                       5.620671       0.0          17.505919   \n",
       "...                          ...       ...                ...   \n",
       "5471                    6.487644       0.0           8.020833   \n",
       "5472                    6.146514       0.0          13.904166   \n",
       "5473                    6.264203       0.0          17.331251   \n",
       "5474                    6.296452       0.8          16.254166   \n",
       "5475                    5.180197       0.9          15.570831   \n",
       "\n",
       "      soil_moisture_0_to_100cm_mean  soil_temperature_0_to_100cm_mean  \\\n",
       "0                          0.120040                         22.152273   \n",
       "1                          0.122225                         22.497442   \n",
       "2                          0.123362                         22.132751   \n",
       "3                          0.121697                         21.884003   \n",
       "4                          0.118544                         22.143875   \n",
       "...                             ...                               ...   \n",
       "5471                       0.164935                         23.129044   \n",
       "5472                       0.163848                         23.317209   \n",
       "5473                       0.163165                         23.522354   \n",
       "5474                       0.162241                         23.932188   \n",
       "5475                       0.163017                         23.815561   \n",
       "\n",
       "      precipitation_fall  \n",
       "0              10.300001  \n",
       "1               1.700000  \n",
       "2               0.600000  \n",
       "3               0.000000  \n",
       "4               0.500000  \n",
       "...                  ...  \n",
       "5471            0.800000  \n",
       "5472            1.700000  \n",
       "5473            1.700000  \n",
       "5474            1.200000  \n",
       "5475            0.300000  \n",
       "\n",
       "[5476 rows x 24 columns]"
      ]
     },
     "execution_count": 202,
     "metadata": {},
     "output_type": "execute_result"
    }
   ],
   "source": [
    "df_clean = df.copy()\n",
    "df_clean"
   ]
  },
  {
   "cell_type": "markdown",
   "metadata": {
    "id": "S80O7okb0RIx"
   },
   "source": [
    "---\n",
    "## F. Feature Engineering"
   ]
  },
  {
   "cell_type": "markdown",
   "metadata": {
    "id": "Kst7h7wp1MFK"
   },
   "source": [
    "### F.1 New Feature \"wind_direction_10m_dominant\""
   ]
  },
  {
   "cell_type": "code",
   "execution_count": 203,
   "metadata": {
    "id": "f_wsc2n-1Mdm"
   },
   "outputs": [
    {
     "data": {
      "text/plain": [
       "count    5476.000000\n",
       "mean      180.703430\n",
       "std       103.379173\n",
       "min         0.100736\n",
       "25%        83.032665\n",
       "50%       182.787415\n",
       "75%       272.059395\n",
       "max       359.857452\n",
       "Name: wind_direction_10m_dominant, dtype: float64"
      ]
     },
     "execution_count": 203,
     "metadata": {},
     "output_type": "execute_result"
    }
   ],
   "source": [
    "#Statistics of wind_direction_10m_dominant\n",
    "df_clean['wind_direction_10m_dominant'].describe()"
   ]
  },
  {
   "cell_type": "code",
   "execution_count": 204,
   "metadata": {},
   "outputs": [],
   "source": [
    "# Convert degrees to radians\n",
    "df_clean['wind_direction_rad'] = np.deg2rad(df_clean['wind_direction_10m_dominant'])\n",
    "\n",
    "# Create sine and cosine components\n",
    "df_clean['wind_direction_sin'] = np.sin(df_clean['wind_direction_rad'])\n",
    "df_clean['wind_direction_cos'] = np.cos(df_clean['wind_direction_rad'])\n",
    "\n",
    "# Drop wind_direction_10m_dominant and wind_direction_rad\n",
    "df_clean.drop(columns=['wind_direction_10m_dominant', 'wind_direction_rad'], inplace=True)"
   ]
  },
  {
   "cell_type": "code",
   "execution_count": 205,
   "metadata": {
    "id": "hezUX-UgFpQf"
   },
   "outputs": [],
   "source": [
    "feature_engineering_1_explanations = \"\"\"The feature wind_direction_10m_dominant ranges from 0° to 360°, but its linear representation can mislead machine learning models, which may treat 0° and 360° as opposite directions. To address this, the angle is converted to radians and transformed into two continuous features using sine and cosine. This maps the data onto the unit circle, preserving its circular nature and enabling the model to better capture directional continuity for improved predictions.\n",
    "\"\"\""
   ]
  },
  {
   "cell_type": "code",
   "execution_count": 206,
   "metadata": {
    "id": "AKIFmqwVFpTA"
   },
   "outputs": [
    {
     "data": {
      "text/html": [
       "<p style=\"color:grey\">feature_engineering_1_explanations</p><h3 font-size: 3em>The feature wind_direction_10m_dominant ranges from 0° to 360°, but its linear representation can mislead machine learning models, which may treat 0° and 360° as opposite directions. To address this, the angle is converted to radians and transformed into two continuous features using sine and cosine. This maps the data onto the unit circle, preserving its circular nature and enabling the model to better capture directional continuity for improved predictions.\n",
       "</h3>"
      ],
      "text/plain": [
       "<IPython.core.display.HTML object>"
      ]
     },
     "metadata": {},
     "output_type": "display_data"
    }
   ],
   "source": [
    "# Do not modify this code\n",
    "print_tile(size=\"h3\", key='feature_engineering_1_explanations', value=feature_engineering_1_explanations)"
   ]
  },
  {
   "cell_type": "markdown",
   "metadata": {
    "id": "xY_hWhC71XAl"
   },
   "source": [
    "### F.2 New Feature \"Month\"\n",
    "\n",
    "\n"
   ]
  },
  {
   "cell_type": "code",
   "execution_count": 207,
   "metadata": {},
   "outputs": [],
   "source": [
    "df_clean['month'] = df_clean['date'].dt.month"
   ]
  },
  {
   "cell_type": "code",
   "execution_count": 208,
   "metadata": {
    "id": "ac-MNGsmFtaH"
   },
   "outputs": [],
   "source": [
    "feature_engineering_2_explanations = \"\"\"Mapping the month from the date column is important because rainfall patterns often follow seasonal trends. Extracting the month captures these variations, which can improve predictive performance by enabling the model to make more informed distinctions based on seasonal context.\"\"\""
   ]
  },
  {
   "cell_type": "code",
   "execution_count": 209,
   "metadata": {
    "id": "xapPh0YfFtca"
   },
   "outputs": [
    {
     "data": {
      "text/html": [
       "<p style=\"color:grey\">feature_engineering_2_explanations</p><h3 font-size: 3em>Mapping the month from the date column is important because rainfall patterns often follow seasonal trends. Extracting the month captures these variations, which can improve predictive performance by enabling the model to make more informed distinctions based on seasonal context.</h3>"
      ],
      "text/plain": [
       "<IPython.core.display.HTML object>"
      ]
     },
     "metadata": {},
     "output_type": "display_data"
    }
   ],
   "source": [
    "# Do not modify this code\n",
    "print_tile(size=\"h3\", key='feature_engineering_2_explanations', value=feature_engineering_2_explanations)"
   ]
  },
  {
   "cell_type": "markdown",
   "metadata": {
    "id": "w0Fhn4271gVu"
   },
   "source": [
    "### F.3 New Feature \"Binary Lag Features (Rain Fall from the Past 3 Days)\""
   ]
  },
  {
   "cell_type": "code",
   "execution_count": 210,
   "metadata": {
    "id": "N6wBdmYD1g6c"
   },
   "outputs": [],
   "source": [
    "# Lag features for rain_sum for the past 3 days\n",
    "df_clean['rain_sum_lag_1'] = df_clean['rain_sum'].shift(1)\n",
    "df_clean['rain_sum_lag_2'] = df_clean['rain_sum'].shift(2)\n",
    "df_clean['rain_sum_lag_3'] = df_clean['rain_sum'].shift(3)"
   ]
  },
  {
   "cell_type": "code",
   "execution_count": 211,
   "metadata": {},
   "outputs": [
    {
     "data": {
      "text/html": [
       "<div>\n",
       "<style scoped>\n",
       "    .dataframe tbody tr th:only-of-type {\n",
       "        vertical-align: middle;\n",
       "    }\n",
       "\n",
       "    .dataframe tbody tr th {\n",
       "        vertical-align: top;\n",
       "    }\n",
       "\n",
       "    .dataframe thead th {\n",
       "        text-align: right;\n",
       "    }\n",
       "</style>\n",
       "<table border=\"1\" class=\"dataframe\">\n",
       "  <thead>\n",
       "    <tr style=\"text-align: right;\">\n",
       "      <th></th>\n",
       "      <th>date</th>\n",
       "      <th>relative_humidity_2m_mean</th>\n",
       "      <th>cloud_cover_mean</th>\n",
       "      <th>cloud_cover_max</th>\n",
       "      <th>cloud_cover_min</th>\n",
       "      <th>wind_gusts_10m_mean</th>\n",
       "      <th>wind_speed_10m_mean</th>\n",
       "      <th>wet_bulb_temperature_2m_mean</th>\n",
       "      <th>pressure_msl_mean</th>\n",
       "      <th>vapour_pressure_deficit_max</th>\n",
       "      <th>...</th>\n",
       "      <th>dew_point_2m_mean</th>\n",
       "      <th>soil_moisture_0_to_100cm_mean</th>\n",
       "      <th>soil_temperature_0_to_100cm_mean</th>\n",
       "      <th>precipitation_fall</th>\n",
       "      <th>wind_direction_sin</th>\n",
       "      <th>wind_direction_cos</th>\n",
       "      <th>month</th>\n",
       "      <th>rain_sum_lag_1</th>\n",
       "      <th>rain_sum_lag_2</th>\n",
       "      <th>rain_sum_lag_3</th>\n",
       "    </tr>\n",
       "  </thead>\n",
       "  <tbody>\n",
       "    <tr>\n",
       "      <th>0</th>\n",
       "      <td>2009-12-31 14:00:00+00:00</td>\n",
       "      <td>82.359489</td>\n",
       "      <td>95.791664</td>\n",
       "      <td>100.0</td>\n",
       "      <td>58.0</td>\n",
       "      <td>21.330000</td>\n",
       "      <td>10.419551</td>\n",
       "      <td>20.643309</td>\n",
       "      <td>1011.920837</td>\n",
       "      <td>1.047818</td>\n",
       "      <td>...</td>\n",
       "      <td>19.672583</td>\n",
       "      <td>0.120040</td>\n",
       "      <td>22.152273</td>\n",
       "      <td>10.300001</td>\n",
       "      <td>-0.474895</td>\n",
       "      <td>0.880042</td>\n",
       "      <td>12</td>\n",
       "      <td>NaN</td>\n",
       "      <td>NaN</td>\n",
       "      <td>NaN</td>\n",
       "    </tr>\n",
       "    <tr>\n",
       "      <th>1</th>\n",
       "      <td>2010-01-01 14:00:00+00:00</td>\n",
       "      <td>84.276886</td>\n",
       "      <td>64.166664</td>\n",
       "      <td>100.0</td>\n",
       "      <td>17.0</td>\n",
       "      <td>26.010002</td>\n",
       "      <td>8.355687</td>\n",
       "      <td>21.520597</td>\n",
       "      <td>1007.470764</td>\n",
       "      <td>1.030170</td>\n",
       "      <td>...</td>\n",
       "      <td>20.716331</td>\n",
       "      <td>0.122225</td>\n",
       "      <td>22.497442</td>\n",
       "      <td>1.700000</td>\n",
       "      <td>-0.877897</td>\n",
       "      <td>0.478850</td>\n",
       "      <td>1</td>\n",
       "      <td>3.9</td>\n",
       "      <td>NaN</td>\n",
       "      <td>NaN</td>\n",
       "    </tr>\n",
       "    <tr>\n",
       "      <th>2</th>\n",
       "      <td>2010-01-02 14:00:00+00:00</td>\n",
       "      <td>74.055122</td>\n",
       "      <td>100.000000</td>\n",
       "      <td>100.0</td>\n",
       "      <td>100.0</td>\n",
       "      <td>28.275000</td>\n",
       "      <td>12.964748</td>\n",
       "      <td>16.673801</td>\n",
       "      <td>1015.529236</td>\n",
       "      <td>0.835103</td>\n",
       "      <td>...</td>\n",
       "      <td>15.066335</td>\n",
       "      <td>0.123362</td>\n",
       "      <td>22.132751</td>\n",
       "      <td>0.600000</td>\n",
       "      <td>0.548371</td>\n",
       "      <td>-0.836235</td>\n",
       "      <td>1</td>\n",
       "      <td>8.6</td>\n",
       "      <td>3.9</td>\n",
       "      <td>NaN</td>\n",
       "    </tr>\n",
       "    <tr>\n",
       "      <th>3</th>\n",
       "      <td>2010-01-03 14:00:00+00:00</td>\n",
       "      <td>70.006538</td>\n",
       "      <td>72.875000</td>\n",
       "      <td>100.0</td>\n",
       "      <td>9.0</td>\n",
       "      <td>23.565001</td>\n",
       "      <td>11.067534</td>\n",
       "      <td>17.092829</td>\n",
       "      <td>1019.012390</td>\n",
       "      <td>0.959982</td>\n",
       "      <td>...</td>\n",
       "      <td>15.185082</td>\n",
       "      <td>0.121697</td>\n",
       "      <td>21.884003</td>\n",
       "      <td>0.000000</td>\n",
       "      <td>0.939003</td>\n",
       "      <td>0.343909</td>\n",
       "      <td>1</td>\n",
       "      <td>1.1</td>\n",
       "      <td>8.6</td>\n",
       "      <td>3.9</td>\n",
       "    </tr>\n",
       "    <tr>\n",
       "      <th>4</th>\n",
       "      <td>2010-01-04 14:00:00+00:00</td>\n",
       "      <td>73.884598</td>\n",
       "      <td>21.833334</td>\n",
       "      <td>95.0</td>\n",
       "      <td>0.0</td>\n",
       "      <td>24.285002</td>\n",
       "      <td>9.724721</td>\n",
       "      <td>19.079020</td>\n",
       "      <td>1015.891663</td>\n",
       "      <td>1.298432</td>\n",
       "      <td>...</td>\n",
       "      <td>17.505919</td>\n",
       "      <td>0.118544</td>\n",
       "      <td>22.143875</td>\n",
       "      <td>0.500000</td>\n",
       "      <td>0.575535</td>\n",
       "      <td>0.817777</td>\n",
       "      <td>1</td>\n",
       "      <td>0.6</td>\n",
       "      <td>1.1</td>\n",
       "      <td>8.6</td>\n",
       "    </tr>\n",
       "  </tbody>\n",
       "</table>\n",
       "<p>5 rows × 29 columns</p>\n",
       "</div>"
      ],
      "text/plain": [
       "                       date  relative_humidity_2m_mean  cloud_cover_mean  \\\n",
       "0 2009-12-31 14:00:00+00:00                  82.359489         95.791664   \n",
       "1 2010-01-01 14:00:00+00:00                  84.276886         64.166664   \n",
       "2 2010-01-02 14:00:00+00:00                  74.055122        100.000000   \n",
       "3 2010-01-03 14:00:00+00:00                  70.006538         72.875000   \n",
       "4 2010-01-04 14:00:00+00:00                  73.884598         21.833334   \n",
       "\n",
       "   cloud_cover_max  cloud_cover_min  wind_gusts_10m_mean  wind_speed_10m_mean  \\\n",
       "0            100.0             58.0            21.330000            10.419551   \n",
       "1            100.0             17.0            26.010002             8.355687   \n",
       "2            100.0            100.0            28.275000            12.964748   \n",
       "3            100.0              9.0            23.565001            11.067534   \n",
       "4             95.0              0.0            24.285002             9.724721   \n",
       "\n",
       "   wet_bulb_temperature_2m_mean  pressure_msl_mean  \\\n",
       "0                     20.643309        1011.920837   \n",
       "1                     21.520597        1007.470764   \n",
       "2                     16.673801        1015.529236   \n",
       "3                     17.092829        1019.012390   \n",
       "4                     19.079020        1015.891663   \n",
       "\n",
       "   vapour_pressure_deficit_max  ...  dew_point_2m_mean  \\\n",
       "0                     1.047818  ...          19.672583   \n",
       "1                     1.030170  ...          20.716331   \n",
       "2                     0.835103  ...          15.066335   \n",
       "3                     0.959982  ...          15.185082   \n",
       "4                     1.298432  ...          17.505919   \n",
       "\n",
       "   soil_moisture_0_to_100cm_mean  soil_temperature_0_to_100cm_mean  \\\n",
       "0                       0.120040                         22.152273   \n",
       "1                       0.122225                         22.497442   \n",
       "2                       0.123362                         22.132751   \n",
       "3                       0.121697                         21.884003   \n",
       "4                       0.118544                         22.143875   \n",
       "\n",
       "   precipitation_fall  wind_direction_sin  wind_direction_cos  month  \\\n",
       "0           10.300001           -0.474895            0.880042     12   \n",
       "1            1.700000           -0.877897            0.478850      1   \n",
       "2            0.600000            0.548371           -0.836235      1   \n",
       "3            0.000000            0.939003            0.343909      1   \n",
       "4            0.500000            0.575535            0.817777      1   \n",
       "\n",
       "   rain_sum_lag_1  rain_sum_lag_2  rain_sum_lag_3  \n",
       "0             NaN             NaN             NaN  \n",
       "1             3.9             NaN             NaN  \n",
       "2             8.6             3.9             NaN  \n",
       "3             1.1             8.6             3.9  \n",
       "4             0.6             1.1             8.6  \n",
       "\n",
       "[5 rows x 29 columns]"
      ]
     },
     "execution_count": 211,
     "metadata": {},
     "output_type": "execute_result"
    }
   ],
   "source": [
    "df_clean.head()"
   ]
  },
  {
   "cell_type": "code",
   "execution_count": 212,
   "metadata": {
    "id": "ffmW_bKwV6nX"
   },
   "outputs": [],
   "source": [
    "#Drop NaN values from lag columns\n",
    "lag_cols = ['rain_sum_lag_1', 'rain_sum_lag_2', 'rain_sum_lag_3']\n",
    "\n",
    "df_clean = df_clean.dropna(subset=lag_cols).reset_index(drop=True)"
   ]
  },
  {
   "cell_type": "code",
   "execution_count": 213,
   "metadata": {},
   "outputs": [
    {
     "data": {
      "text/html": [
       "<div>\n",
       "<style scoped>\n",
       "    .dataframe tbody tr th:only-of-type {\n",
       "        vertical-align: middle;\n",
       "    }\n",
       "\n",
       "    .dataframe tbody tr th {\n",
       "        vertical-align: top;\n",
       "    }\n",
       "\n",
       "    .dataframe thead th {\n",
       "        text-align: right;\n",
       "    }\n",
       "</style>\n",
       "<table border=\"1\" class=\"dataframe\">\n",
       "  <thead>\n",
       "    <tr style=\"text-align: right;\">\n",
       "      <th></th>\n",
       "      <th>date</th>\n",
       "      <th>relative_humidity_2m_mean</th>\n",
       "      <th>cloud_cover_mean</th>\n",
       "      <th>cloud_cover_max</th>\n",
       "      <th>cloud_cover_min</th>\n",
       "      <th>wind_gusts_10m_mean</th>\n",
       "      <th>wind_speed_10m_mean</th>\n",
       "      <th>wet_bulb_temperature_2m_mean</th>\n",
       "      <th>pressure_msl_mean</th>\n",
       "      <th>vapour_pressure_deficit_max</th>\n",
       "      <th>...</th>\n",
       "      <th>dew_point_2m_mean</th>\n",
       "      <th>soil_moisture_0_to_100cm_mean</th>\n",
       "      <th>soil_temperature_0_to_100cm_mean</th>\n",
       "      <th>precipitation_fall</th>\n",
       "      <th>wind_direction_sin</th>\n",
       "      <th>wind_direction_cos</th>\n",
       "      <th>month</th>\n",
       "      <th>rain_sum_lag_1</th>\n",
       "      <th>rain_sum_lag_2</th>\n",
       "      <th>rain_sum_lag_3</th>\n",
       "    </tr>\n",
       "  </thead>\n",
       "  <tbody>\n",
       "    <tr>\n",
       "      <th>0</th>\n",
       "      <td>2010-01-03 14:00:00+00:00</td>\n",
       "      <td>70.006538</td>\n",
       "      <td>72.875000</td>\n",
       "      <td>100.0</td>\n",
       "      <td>9.0</td>\n",
       "      <td>23.565001</td>\n",
       "      <td>11.067534</td>\n",
       "      <td>17.092829</td>\n",
       "      <td>1019.012390</td>\n",
       "      <td>0.959982</td>\n",
       "      <td>...</td>\n",
       "      <td>15.185082</td>\n",
       "      <td>0.121697</td>\n",
       "      <td>21.884003</td>\n",
       "      <td>0.0</td>\n",
       "      <td>0.939003</td>\n",
       "      <td>0.343909</td>\n",
       "      <td>1</td>\n",
       "      <td>1.1</td>\n",
       "      <td>8.6</td>\n",
       "      <td>3.9</td>\n",
       "    </tr>\n",
       "    <tr>\n",
       "      <th>1</th>\n",
       "      <td>2010-01-04 14:00:00+00:00</td>\n",
       "      <td>73.884598</td>\n",
       "      <td>21.833334</td>\n",
       "      <td>95.0</td>\n",
       "      <td>0.0</td>\n",
       "      <td>24.285002</td>\n",
       "      <td>9.724721</td>\n",
       "      <td>19.079020</td>\n",
       "      <td>1015.891663</td>\n",
       "      <td>1.298432</td>\n",
       "      <td>...</td>\n",
       "      <td>17.505919</td>\n",
       "      <td>0.118544</td>\n",
       "      <td>22.143875</td>\n",
       "      <td>0.5</td>\n",
       "      <td>0.575535</td>\n",
       "      <td>0.817777</td>\n",
       "      <td>1</td>\n",
       "      <td>0.6</td>\n",
       "      <td>1.1</td>\n",
       "      <td>8.6</td>\n",
       "    </tr>\n",
       "    <tr>\n",
       "      <th>2</th>\n",
       "      <td>2010-01-05 14:00:00+00:00</td>\n",
       "      <td>80.589897</td>\n",
       "      <td>30.083334</td>\n",
       "      <td>87.0</td>\n",
       "      <td>1.0</td>\n",
       "      <td>25.409998</td>\n",
       "      <td>10.476449</td>\n",
       "      <td>19.874550</td>\n",
       "      <td>1014.591614</td>\n",
       "      <td>0.878330</td>\n",
       "      <td>...</td>\n",
       "      <td>18.830915</td>\n",
       "      <td>0.115172</td>\n",
       "      <td>22.578459</td>\n",
       "      <td>0.5</td>\n",
       "      <td>0.528874</td>\n",
       "      <td>-0.848701</td>\n",
       "      <td>1</td>\n",
       "      <td>0.0</td>\n",
       "      <td>0.6</td>\n",
       "      <td>1.1</td>\n",
       "    </tr>\n",
       "    <tr>\n",
       "      <th>3</th>\n",
       "      <td>2010-01-06 14:00:00+00:00</td>\n",
       "      <td>70.297592</td>\n",
       "      <td>93.541664</td>\n",
       "      <td>100.0</td>\n",
       "      <td>69.0</td>\n",
       "      <td>25.184999</td>\n",
       "      <td>11.549491</td>\n",
       "      <td>17.563894</td>\n",
       "      <td>1017.795837</td>\n",
       "      <td>1.052439</td>\n",
       "      <td>...</td>\n",
       "      <td>15.664249</td>\n",
       "      <td>0.112614</td>\n",
       "      <td>22.495438</td>\n",
       "      <td>0.5</td>\n",
       "      <td>0.540901</td>\n",
       "      <td>-0.841087</td>\n",
       "      <td>1</td>\n",
       "      <td>0.0</td>\n",
       "      <td>0.0</td>\n",
       "      <td>0.6</td>\n",
       "    </tr>\n",
       "    <tr>\n",
       "      <th>4</th>\n",
       "      <td>2010-01-07 14:00:00+00:00</td>\n",
       "      <td>72.634361</td>\n",
       "      <td>61.416668</td>\n",
       "      <td>100.0</td>\n",
       "      <td>1.0</td>\n",
       "      <td>21.809998</td>\n",
       "      <td>9.444340</td>\n",
       "      <td>18.823814</td>\n",
       "      <td>1019.458313</td>\n",
       "      <td>1.116654</td>\n",
       "      <td>...</td>\n",
       "      <td>17.162165</td>\n",
       "      <td>0.110637</td>\n",
       "      <td>22.541067</td>\n",
       "      <td>0.0</td>\n",
       "      <td>0.945009</td>\n",
       "      <td>0.327043</td>\n",
       "      <td>1</td>\n",
       "      <td>0.0</td>\n",
       "      <td>0.0</td>\n",
       "      <td>0.0</td>\n",
       "    </tr>\n",
       "  </tbody>\n",
       "</table>\n",
       "<p>5 rows × 29 columns</p>\n",
       "</div>"
      ],
      "text/plain": [
       "                       date  relative_humidity_2m_mean  cloud_cover_mean  \\\n",
       "0 2010-01-03 14:00:00+00:00                  70.006538         72.875000   \n",
       "1 2010-01-04 14:00:00+00:00                  73.884598         21.833334   \n",
       "2 2010-01-05 14:00:00+00:00                  80.589897         30.083334   \n",
       "3 2010-01-06 14:00:00+00:00                  70.297592         93.541664   \n",
       "4 2010-01-07 14:00:00+00:00                  72.634361         61.416668   \n",
       "\n",
       "   cloud_cover_max  cloud_cover_min  wind_gusts_10m_mean  wind_speed_10m_mean  \\\n",
       "0            100.0              9.0            23.565001            11.067534   \n",
       "1             95.0              0.0            24.285002             9.724721   \n",
       "2             87.0              1.0            25.409998            10.476449   \n",
       "3            100.0             69.0            25.184999            11.549491   \n",
       "4            100.0              1.0            21.809998             9.444340   \n",
       "\n",
       "   wet_bulb_temperature_2m_mean  pressure_msl_mean  \\\n",
       "0                     17.092829        1019.012390   \n",
       "1                     19.079020        1015.891663   \n",
       "2                     19.874550        1014.591614   \n",
       "3                     17.563894        1017.795837   \n",
       "4                     18.823814        1019.458313   \n",
       "\n",
       "   vapour_pressure_deficit_max  ...  dew_point_2m_mean  \\\n",
       "0                     0.959982  ...          15.185082   \n",
       "1                     1.298432  ...          17.505919   \n",
       "2                     0.878330  ...          18.830915   \n",
       "3                     1.052439  ...          15.664249   \n",
       "4                     1.116654  ...          17.162165   \n",
       "\n",
       "   soil_moisture_0_to_100cm_mean  soil_temperature_0_to_100cm_mean  \\\n",
       "0                       0.121697                         21.884003   \n",
       "1                       0.118544                         22.143875   \n",
       "2                       0.115172                         22.578459   \n",
       "3                       0.112614                         22.495438   \n",
       "4                       0.110637                         22.541067   \n",
       "\n",
       "   precipitation_fall  wind_direction_sin  wind_direction_cos  month  \\\n",
       "0                 0.0            0.939003            0.343909      1   \n",
       "1                 0.5            0.575535            0.817777      1   \n",
       "2                 0.5            0.528874           -0.848701      1   \n",
       "3                 0.5            0.540901           -0.841087      1   \n",
       "4                 0.0            0.945009            0.327043      1   \n",
       "\n",
       "   rain_sum_lag_1  rain_sum_lag_2  rain_sum_lag_3  \n",
       "0             1.1             8.6             3.9  \n",
       "1             0.6             1.1             8.6  \n",
       "2             0.0             0.6             1.1  \n",
       "3             0.0             0.0             0.6  \n",
       "4             0.0             0.0             0.0  \n",
       "\n",
       "[5 rows x 29 columns]"
      ]
     },
     "execution_count": 213,
     "metadata": {},
     "output_type": "execute_result"
    }
   ],
   "source": [
    "df_clean.head()"
   ]
  },
  {
   "cell_type": "code",
   "execution_count": 214,
   "metadata": {
    "id": "Z3gtyjmKFzCK"
   },
   "outputs": [],
   "source": [
    "feature_engineering_3_explanations = \"\"\"Features such as rain_sum_lag_1, rain_sum_lag_2 and rain_sum_lag_3 are created to provide additional information about rainfall in the three days preceding a given date. These lagged variables offer the model contextual insight into recent precipitation patterns, enabling it to detect short-term trends or buildup conditions that may influence cumulative rainfall in the subsequent three-day period. By incorporating these historical rainfall indicators, the model is better positioned to capture the dynamics of short-term weather cycles, thereby enhancing its predictive accuracy.\n",
    "\"\"\""
   ]
  },
  {
   "cell_type": "code",
   "execution_count": 215,
   "metadata": {
    "id": "7nMfjzkbFzFj"
   },
   "outputs": [
    {
     "data": {
      "text/html": [
       "<p style=\"color:grey\">feature_engineering_3_explanations</p><h3 font-size: 3em>Features such as rain_sum_lag_1, rain_sum_lag_2 and rain_sum_lag_3 are created to provide additional information about rainfall in the three days preceding a given date. These lagged variables offer the model contextual insight into recent precipitation patterns, enabling it to detect short-term trends or buildup conditions that may influence cumulative rainfall in the subsequent three-day period. By incorporating these historical rainfall indicators, the model is better positioned to capture the dynamics of short-term weather cycles, thereby enhancing its predictive accuracy.\n",
       "</h3>"
      ],
      "text/plain": [
       "<IPython.core.display.HTML object>"
      ]
     },
     "metadata": {},
     "output_type": "display_data"
    }
   ],
   "source": [
    "# Do not modify this code\n",
    "print_tile(size=\"h3\", key='feature_engineering_3_explanations', value=feature_engineering_3_explanations)"
   ]
  },
  {
   "cell_type": "markdown",
   "metadata": {
    "id": "HbpTjW2GGkd8"
   },
   "source": [
    "### G.1 Split Datasets"
   ]
  },
  {
   "cell_type": "code",
   "execution_count": 216,
   "metadata": {},
   "outputs": [],
   "source": [
    "# Create copies of df_clean for modeling\n",
    "df_eng = df_clean.copy()"
   ]
  },
  {
   "cell_type": "code",
   "execution_count": 217,
   "metadata": {},
   "outputs": [],
   "source": [
    "# Create splits based on date ranges\n",
    "train_df = df_eng[df_eng['date'] < '2023-01-01']\n",
    "val_df   = df_eng[(df_eng['date'] >= '2023-01-01') & (df_eng['date'] < '2024-01-01')]\n",
    "test_df  = df_eng[df_eng['date'] >= '2024-01-01']"
   ]
  },
  {
   "cell_type": "code",
   "execution_count": 218,
   "metadata": {},
   "outputs": [],
   "source": [
    "# Drop date column\n",
    "train_df.drop(columns=['date'], inplace= True)\n",
    "val_df.drop(columns=['date'], inplace= True)\n",
    "test_df.drop(columns=['date'], inplace= True)"
   ]
  },
  {
   "cell_type": "code",
   "execution_count": 219,
   "metadata": {},
   "outputs": [],
   "source": [
    "# Define the target variable and remove it\n",
    "y_train = train_df.pop(target_name)\n",
    "X_train = train_df\n",
    "\n",
    "y_val = val_df.pop(target_name)\n",
    "X_val = val_df\n",
    "\n",
    "y_test = test_df.pop(target_name)\n",
    "X_test = test_df"
   ]
  },
  {
   "cell_type": "code",
   "execution_count": 220,
   "metadata": {},
   "outputs": [
    {
     "name": "stdout",
     "output_type": "stream",
     "text": [
      "(4746, 27)\n",
      "(4746,)\n",
      "(365, 27)\n",
      "(365,)\n",
      "(362, 27)\n",
      "(362,)\n"
     ]
    }
   ],
   "source": [
    "print(X_train.shape)\n",
    "print(y_train.shape)\n",
    "print(X_val.shape)\n",
    "print(y_val.shape)\n",
    "print(X_test.shape)\n",
    "print(y_test.shape)"
   ]
  },
  {
   "cell_type": "code",
   "execution_count": 221,
   "metadata": {
    "id": "dkvHE5g4F3IZ"
   },
   "outputs": [],
   "source": [
    "data_splitting_explanations = \"\"\"Given that precipitation forecasting is a time-series prediction task, the application of conventional data partitioning techniques such as random sampling or stratified sampling is inappropriate. These methods may introduce data leakage by allowing future observations to influence the training process, thereby compromising the validity of model evaluation. To preserve the temporal structure of the data and maintain the integrity of the modeling process, a chronological data-splitting strategy is employed. In this approach, data collected prior to the year 2023 is assigned to the training dataset, data from the full year of 2023 is used for validation, and data from the year 2024 is reserved for testing. This sequential partitioning reflects realistic forecasting scenarios, where models are trained exclusively on historical data and evaluated based on their ability to generalise to future, unseen conditions.\n",
    "\"\"\""
   ]
  },
  {
   "cell_type": "code",
   "execution_count": 222,
   "metadata": {
    "id": "vx4_g0pLF3Lg"
   },
   "outputs": [
    {
     "data": {
      "text/html": [
       "<p style=\"color:grey\">data_splitting_explanations</p><h3 font-size: 3em>Given that precipitation forecasting is a time-series prediction task, the application of conventional data partitioning techniques such as random sampling or stratified sampling is inappropriate. These methods may introduce data leakage by allowing future observations to influence the training process, thereby compromising the validity of model evaluation. To preserve the temporal structure of the data and maintain the integrity of the modeling process, a chronological data-splitting strategy is employed. In this approach, data collected prior to the year 2023 is assigned to the training dataset, data from the full year of 2023 is used for validation, and data from the year 2024 is reserved for testing. This sequential partitioning reflects realistic forecasting scenarios, where models are trained exclusively on historical data and evaluated based on their ability to generalise to future, unseen conditions.\n",
       "</h3>"
      ],
      "text/plain": [
       "<IPython.core.display.HTML object>"
      ]
     },
     "metadata": {},
     "output_type": "display_data"
    }
   ],
   "source": [
    "# Do not modify this code\n",
    "print_tile(size=\"h3\", key='data_splitting_explanations', value=data_splitting_explanations)"
   ]
  },
  {
   "cell_type": "markdown",
   "metadata": {
    "id": "JHJ25iRRG1Gb"
   },
   "source": [
    "### G.2 Data Transformation \"Scaling\""
   ]
  },
  {
   "cell_type": "code",
   "execution_count": 223,
   "metadata": {
    "id": "_PIDyg9OG17x"
   },
   "outputs": [],
   "source": [
    "from sklearn.preprocessing import StandardScaler"
   ]
  },
  {
   "cell_type": "code",
   "execution_count": 224,
   "metadata": {},
   "outputs": [
    {
     "name": "stdout",
     "output_type": "stream",
     "text": [
      "<class 'pandas.core.frame.DataFrame'>\n",
      "Index: 4746 entries, 0 to 4745\n",
      "Data columns (total 27 columns):\n",
      " #   Column                            Non-Null Count  Dtype  \n",
      "---  ------                            --------------  -----  \n",
      " 0   relative_humidity_2m_mean         4746 non-null   float32\n",
      " 1   cloud_cover_mean                  4746 non-null   float32\n",
      " 2   cloud_cover_max                   4746 non-null   float32\n",
      " 3   cloud_cover_min                   4746 non-null   float32\n",
      " 4   wind_gusts_10m_mean               4746 non-null   float32\n",
      " 5   wind_speed_10m_mean               4746 non-null   float32\n",
      " 6   wet_bulb_temperature_2m_mean      4746 non-null   float32\n",
      " 7   pressure_msl_mean                 4746 non-null   float32\n",
      " 8   vapour_pressure_deficit_max       4746 non-null   float32\n",
      " 9   shortwave_radiation_sum           4746 non-null   float32\n",
      " 10  temperature_2m_max                4746 non-null   float32\n",
      " 11  temperature_2m_min                4746 non-null   float32\n",
      " 12  precipitation_hours               4746 non-null   float32\n",
      " 13  temperature_2m_mean               4746 non-null   float32\n",
      " 14  wind_gusts_10m_max                4746 non-null   float32\n",
      " 15  wind_speed_10m_max                4746 non-null   float32\n",
      " 16  et0_fao_evapotranspiration        4746 non-null   float32\n",
      " 17  rain_sum                          4746 non-null   float32\n",
      " 18  dew_point_2m_mean                 4746 non-null   float32\n",
      " 19  soil_moisture_0_to_100cm_mean     4746 non-null   float32\n",
      " 20  soil_temperature_0_to_100cm_mean  4746 non-null   float32\n",
      " 21  wind_direction_sin                4746 non-null   float32\n",
      " 22  wind_direction_cos                4746 non-null   float32\n",
      " 23  month                             4746 non-null   int32  \n",
      " 24  rain_sum_lag_1                    4746 non-null   float32\n",
      " 25  rain_sum_lag_2                    4746 non-null   float32\n",
      " 26  rain_sum_lag_3                    4746 non-null   float32\n",
      "dtypes: float32(26), int32(1)\n",
      "memory usage: 537.6 KB\n"
     ]
    }
   ],
   "source": [
    "X_train.info()"
   ]
  },
  {
   "cell_type": "code",
   "execution_count": 225,
   "metadata": {},
   "outputs": [],
   "source": [
    "scaler = StandardScaler().set_output(transform=\"pandas\")\n",
    "\n",
    "# Fit on training dataset\n",
    "scaler.fit(X_train)\n",
    "\n",
    "# Transform the numeric columns\n",
    "X_train = scaler.transform(X_train)\n",
    "X_val = scaler.transform(X_val)\n",
    "X_test = scaler.transform(X_test)"
   ]
  },
  {
   "cell_type": "code",
   "execution_count": 226,
   "metadata": {
    "id": "XbWWDBacGn9n"
   },
   "outputs": [],
   "source": [
    "data_transformation_1_explanations = \"\"\"As all input variables are numerical, it is essential to scale them prior to modelling to ensure comparability across features. Standardising the input variables by transforming them to have a mean of zero and a standard deviation of one is a critical preprocessing step. This transformation enhances the performance of many machine learning algorithms, particularly those that are sensitive to the scale of input data, such as linear regression and support vector machines. Standardisation reduces the risk of features with larger magnitudes disproportionately influencing the model, thereby improving numerical stability, facilitating faster convergence during training, and supporting more accurate predictive outcomes.\n",
    "\"\"\""
   ]
  },
  {
   "cell_type": "code",
   "execution_count": 227,
   "metadata": {
    "id": "vepkbzldGn_8"
   },
   "outputs": [
    {
     "data": {
      "text/html": [
       "<p style=\"color:grey\">data_transformation_1_explanations</p><h3 font-size: 3em>As all input variables are numerical, it is essential to scale them prior to modelling to ensure comparability across features. Standardising the input variables by transforming them to have a mean of zero and a standard deviation of one is a critical preprocessing step. This transformation enhances the performance of many machine learning algorithms, particularly those that are sensitive to the scale of input data, such as linear regression and support vector machines. Standardisation reduces the risk of features with larger magnitudes disproportionately influencing the model, thereby improving numerical stability, facilitating faster convergence during training, and supporting more accurate predictive outcomes.\n",
       "</h3>"
      ],
      "text/plain": [
       "<IPython.core.display.HTML object>"
      ]
     },
     "metadata": {},
     "output_type": "display_data"
    }
   ],
   "source": [
    "# Do not modify this code\n",
    "print_tile(size=\"h3\", key='data_transformation_1_explanations', value=data_transformation_1_explanations)"
   ]
  },
  {
   "cell_type": "markdown",
   "metadata": {
    "id": "qIj277YWHdFk"
   },
   "source": [
    "---\n",
    "## H. Save Datasets\n",
    "\n",
    "> Do not change this code"
   ]
  },
  {
   "cell_type": "code",
   "execution_count": 228,
   "metadata": {},
   "outputs": [],
   "source": [
    "from pathlib import Path\n",
    "\n",
    "# Create the path to the folder\n",
    "path = Path.home() / \"Desktop\" / \"36120\""
   ]
  },
  {
   "cell_type": "code",
   "execution_count": 229,
   "metadata": {
    "id": "uMNql0SzHhP2"
   },
   "outputs": [],
   "source": [
    "# Do not modify this code\n",
    "# Save training set\n",
    "try:\n",
    "  X_train.to_csv(path / 'X_train.csv', index=False)\n",
    "  y_train.to_csv(path / 'y_train.csv', index=False)\n",
    "\n",
    "  X_val.to_csv(path / 'X_val.csv', index=False)\n",
    "  y_val.to_csv(path / 'y_val.csv', index=False)\n",
    "\n",
    "  X_test.to_csv(path / 'X_test.csv', index=False)\n",
    "  y_test.to_csv(path / 'y_test.csv', index=False)\n",
    "except Exception as e:\n",
    "  print(e)"
   ]
  },
  {
   "cell_type": "markdown",
   "metadata": {
    "id": "RtLjr7niHpNZ"
   },
   "source": [
    "---\n",
    "## I. Selection of Performance Metrics"
   ]
  },
  {
   "cell_type": "code",
   "execution_count": 230,
   "metadata": {
    "id": "KV_pxLAiHxKW"
   },
   "outputs": [],
   "source": [
    "from sklearn.metrics import mean_squared_error, r2_score"
   ]
  },
  {
   "cell_type": "code",
   "execution_count": 231,
   "metadata": {
    "id": "kC949nluHR5s"
   },
   "outputs": [],
   "source": [
    "performance_metrics_explanations = \"\"\"Root Mean Squared Error (RMSE) and R squared (R²) are selected as the primary performance metrics for this project. RMSE is chosen because it shares the same units as the target variable, precipitation in millimeters, making the magnitude of errors straightforward and easy to interpret. Furthermore, RMSE penalises larger errors more heavily, which is crucial for accurately reflecting the impact of significant deviations in precipitation forecasts. R squared is included as it quantifies the proportion of variance in the observed data explained by the model, providing valuable insight into the overall goodness of fit and facilitating a comprehensive evaluation of model performance.\n",
    "\"\"\""
   ]
  },
  {
   "cell_type": "code",
   "execution_count": 232,
   "metadata": {
    "id": "wABRzU2sHR8j"
   },
   "outputs": [
    {
     "data": {
      "text/html": [
       "<p style=\"color:grey\">performance_metrics_explanations</p><h3 font-size: 3em>Root Mean Squared Error (RMSE) and R squared (R²) are selected as the primary performance metrics for this project. RMSE is chosen because it shares the same units as the target variable, precipitation in millimeters, making the magnitude of errors straightforward and easy to interpret. Furthermore, RMSE penalises larger errors more heavily, which is crucial for accurately reflecting the impact of significant deviations in precipitation forecasts. R squared is included as it quantifies the proportion of variance in the observed data explained by the model, providing valuable insight into the overall goodness of fit and facilitating a comprehensive evaluation of model performance.\n",
       "</h3>"
      ],
      "text/plain": [
       "<IPython.core.display.HTML object>"
      ]
     },
     "metadata": {},
     "output_type": "display_data"
    }
   ],
   "source": [
    "# Do not modify this code\n",
    "print_tile(size=\"h3\", key='performance_metrics_explanations', value=performance_metrics_explanations)"
   ]
  },
  {
   "cell_type": "markdown",
   "metadata": {
    "id": "ZpxjwSDYIJy6"
   },
   "source": [
    "## J. Train Machine Learning Model"
   ]
  },
  {
   "cell_type": "markdown",
   "metadata": {
    "id": "_XBy7-9PIVcU"
   },
   "source": [
    "### J.1 Import Algorithm"
   ]
  },
  {
   "cell_type": "code",
   "execution_count": 233,
   "metadata": {
    "id": "diUB08xMIOuS"
   },
   "outputs": [],
   "source": [
    "from sklearn.dummy import DummyRegressor"
   ]
  },
  {
   "cell_type": "code",
   "execution_count": 234,
   "metadata": {},
   "outputs": [],
   "source": [
    "# Initialise the dummy regressor\n",
    "dummy = DummyRegressor(strategy='mean')"
   ]
  },
  {
   "cell_type": "code",
   "execution_count": 235,
   "metadata": {
    "id": "GIWOpv6CGUTE"
   },
   "outputs": [],
   "source": [
    "algorithm_selection_explanations = \"\"\"The Dummy Regressor is selected as the baseline model to provide a reference point against which the performance of more advanced predictive models can be compared. This baseline helps to determine whether the more complex models capture meaningful patterns beyond simple heuristic predictions.\n",
    "\"\"\""
   ]
  },
  {
   "cell_type": "code",
   "execution_count": 236,
   "metadata": {
    "id": "N4yogQ9aGUVe"
   },
   "outputs": [
    {
     "data": {
      "text/html": [
       "<p style=\"color:grey\">algorithm_selection_explanations</p><h3 font-size: 3em>The Dummy Regressor is selected as the baseline model to provide a reference point against which the performance of more advanced predictive models can be compared. This baseline helps to determine whether the more complex models capture meaningful patterns beyond simple heuristic predictions.\n",
       "</h3>"
      ],
      "text/plain": [
       "<IPython.core.display.HTML object>"
      ]
     },
     "metadata": {},
     "output_type": "display_data"
    }
   ],
   "source": [
    "# Do not modify this code\n",
    "print_tile(size=\"h3\", key='algorithm_selection_explanations', value=algorithm_selection_explanations)"
   ]
  },
  {
   "cell_type": "markdown",
   "metadata": {
    "id": "0ks_MmM2mCfm"
   },
   "source": [
    "### J.2 Set Hyperparameters"
   ]
  },
  {
   "cell_type": "code",
   "execution_count": 237,
   "metadata": {
    "id": "crG_Bm72HfL-"
   },
   "outputs": [],
   "source": [
    "hyperparameters_selection_explanations = \"\"\"No hyperparameter tuning is performed for the Dummy Regressor since it serves solely as a baseline model.\n",
    "\"\"\""
   ]
  },
  {
   "cell_type": "code",
   "execution_count": 238,
   "metadata": {
    "id": "k0uqlRCVHfQI"
   },
   "outputs": [
    {
     "data": {
      "text/html": [
       "<p style=\"color:grey\">hyperparameters_selection_explanations</p><h3 font-size: 3em>No hyperparameter tuning is performed for the Dummy Regressor since it serves solely as a baseline model.\n",
       "</h3>"
      ],
      "text/plain": [
       "<IPython.core.display.HTML object>"
      ]
     },
     "metadata": {},
     "output_type": "display_data"
    }
   ],
   "source": [
    "# Do not modify this code\n",
    "print_tile(size=\"h3\", key='hyperparameters_selection_explanations', value=hyperparameters_selection_explanations)"
   ]
  },
  {
   "cell_type": "markdown",
   "metadata": {
    "id": "VDjdjQjFmkLe"
   },
   "source": [
    "### J.3 Fit Model"
   ]
  },
  {
   "cell_type": "code",
   "execution_count": 239,
   "metadata": {},
   "outputs": [
    {
     "data": {
      "text/html": [
       "<style>#sk-container-id-2 {\n",
       "  /* Definition of color scheme common for light and dark mode */\n",
       "  --sklearn-color-text: black;\n",
       "  --sklearn-color-line: gray;\n",
       "  /* Definition of color scheme for unfitted estimators */\n",
       "  --sklearn-color-unfitted-level-0: #fff5e6;\n",
       "  --sklearn-color-unfitted-level-1: #f6e4d2;\n",
       "  --sklearn-color-unfitted-level-2: #ffe0b3;\n",
       "  --sklearn-color-unfitted-level-3: chocolate;\n",
       "  /* Definition of color scheme for fitted estimators */\n",
       "  --sklearn-color-fitted-level-0: #f0f8ff;\n",
       "  --sklearn-color-fitted-level-1: #d4ebff;\n",
       "  --sklearn-color-fitted-level-2: #b3dbfd;\n",
       "  --sklearn-color-fitted-level-3: cornflowerblue;\n",
       "\n",
       "  /* Specific color for light theme */\n",
       "  --sklearn-color-text-on-default-background: var(--sg-text-color, var(--theme-code-foreground, var(--jp-content-font-color1, black)));\n",
       "  --sklearn-color-background: var(--sg-background-color, var(--theme-background, var(--jp-layout-color0, white)));\n",
       "  --sklearn-color-border-box: var(--sg-text-color, var(--theme-code-foreground, var(--jp-content-font-color1, black)));\n",
       "  --sklearn-color-icon: #696969;\n",
       "\n",
       "  @media (prefers-color-scheme: dark) {\n",
       "    /* Redefinition of color scheme for dark theme */\n",
       "    --sklearn-color-text-on-default-background: var(--sg-text-color, var(--theme-code-foreground, var(--jp-content-font-color1, white)));\n",
       "    --sklearn-color-background: var(--sg-background-color, var(--theme-background, var(--jp-layout-color0, #111)));\n",
       "    --sklearn-color-border-box: var(--sg-text-color, var(--theme-code-foreground, var(--jp-content-font-color1, white)));\n",
       "    --sklearn-color-icon: #878787;\n",
       "  }\n",
       "}\n",
       "\n",
       "#sk-container-id-2 {\n",
       "  color: var(--sklearn-color-text);\n",
       "}\n",
       "\n",
       "#sk-container-id-2 pre {\n",
       "  padding: 0;\n",
       "}\n",
       "\n",
       "#sk-container-id-2 input.sk-hidden--visually {\n",
       "  border: 0;\n",
       "  clip: rect(1px 1px 1px 1px);\n",
       "  clip: rect(1px, 1px, 1px, 1px);\n",
       "  height: 1px;\n",
       "  margin: -1px;\n",
       "  overflow: hidden;\n",
       "  padding: 0;\n",
       "  position: absolute;\n",
       "  width: 1px;\n",
       "}\n",
       "\n",
       "#sk-container-id-2 div.sk-dashed-wrapped {\n",
       "  border: 1px dashed var(--sklearn-color-line);\n",
       "  margin: 0 0.4em 0.5em 0.4em;\n",
       "  box-sizing: border-box;\n",
       "  padding-bottom: 0.4em;\n",
       "  background-color: var(--sklearn-color-background);\n",
       "}\n",
       "\n",
       "#sk-container-id-2 div.sk-container {\n",
       "  /* jupyter's `normalize.less` sets `[hidden] { display: none; }`\n",
       "     but bootstrap.min.css set `[hidden] { display: none !important; }`\n",
       "     so we also need the `!important` here to be able to override the\n",
       "     default hidden behavior on the sphinx rendered scikit-learn.org.\n",
       "     See: https://github.com/scikit-learn/scikit-learn/issues/21755 */\n",
       "  display: inline-block !important;\n",
       "  position: relative;\n",
       "}\n",
       "\n",
       "#sk-container-id-2 div.sk-text-repr-fallback {\n",
       "  display: none;\n",
       "}\n",
       "\n",
       "div.sk-parallel-item,\n",
       "div.sk-serial,\n",
       "div.sk-item {\n",
       "  /* draw centered vertical line to link estimators */\n",
       "  background-image: linear-gradient(var(--sklearn-color-text-on-default-background), var(--sklearn-color-text-on-default-background));\n",
       "  background-size: 2px 100%;\n",
       "  background-repeat: no-repeat;\n",
       "  background-position: center center;\n",
       "}\n",
       "\n",
       "/* Parallel-specific style estimator block */\n",
       "\n",
       "#sk-container-id-2 div.sk-parallel-item::after {\n",
       "  content: \"\";\n",
       "  width: 100%;\n",
       "  border-bottom: 2px solid var(--sklearn-color-text-on-default-background);\n",
       "  flex-grow: 1;\n",
       "}\n",
       "\n",
       "#sk-container-id-2 div.sk-parallel {\n",
       "  display: flex;\n",
       "  align-items: stretch;\n",
       "  justify-content: center;\n",
       "  background-color: var(--sklearn-color-background);\n",
       "  position: relative;\n",
       "}\n",
       "\n",
       "#sk-container-id-2 div.sk-parallel-item {\n",
       "  display: flex;\n",
       "  flex-direction: column;\n",
       "}\n",
       "\n",
       "#sk-container-id-2 div.sk-parallel-item:first-child::after {\n",
       "  align-self: flex-end;\n",
       "  width: 50%;\n",
       "}\n",
       "\n",
       "#sk-container-id-2 div.sk-parallel-item:last-child::after {\n",
       "  align-self: flex-start;\n",
       "  width: 50%;\n",
       "}\n",
       "\n",
       "#sk-container-id-2 div.sk-parallel-item:only-child::after {\n",
       "  width: 0;\n",
       "}\n",
       "\n",
       "/* Serial-specific style estimator block */\n",
       "\n",
       "#sk-container-id-2 div.sk-serial {\n",
       "  display: flex;\n",
       "  flex-direction: column;\n",
       "  align-items: center;\n",
       "  background-color: var(--sklearn-color-background);\n",
       "  padding-right: 1em;\n",
       "  padding-left: 1em;\n",
       "}\n",
       "\n",
       "\n",
       "/* Toggleable style: style used for estimator/Pipeline/ColumnTransformer box that is\n",
       "clickable and can be expanded/collapsed.\n",
       "- Pipeline and ColumnTransformer use this feature and define the default style\n",
       "- Estimators will overwrite some part of the style using the `sk-estimator` class\n",
       "*/\n",
       "\n",
       "/* Pipeline and ColumnTransformer style (default) */\n",
       "\n",
       "#sk-container-id-2 div.sk-toggleable {\n",
       "  /* Default theme specific background. It is overwritten whether we have a\n",
       "  specific estimator or a Pipeline/ColumnTransformer */\n",
       "  background-color: var(--sklearn-color-background);\n",
       "}\n",
       "\n",
       "/* Toggleable label */\n",
       "#sk-container-id-2 label.sk-toggleable__label {\n",
       "  cursor: pointer;\n",
       "  display: block;\n",
       "  width: 100%;\n",
       "  margin-bottom: 0;\n",
       "  padding: 0.5em;\n",
       "  box-sizing: border-box;\n",
       "  text-align: center;\n",
       "}\n",
       "\n",
       "#sk-container-id-2 label.sk-toggleable__label-arrow:before {\n",
       "  /* Arrow on the left of the label */\n",
       "  content: \"▸\";\n",
       "  float: left;\n",
       "  margin-right: 0.25em;\n",
       "  color: var(--sklearn-color-icon);\n",
       "}\n",
       "\n",
       "#sk-container-id-2 label.sk-toggleable__label-arrow:hover:before {\n",
       "  color: var(--sklearn-color-text);\n",
       "}\n",
       "\n",
       "/* Toggleable content - dropdown */\n",
       "\n",
       "#sk-container-id-2 div.sk-toggleable__content {\n",
       "  max-height: 0;\n",
       "  max-width: 0;\n",
       "  overflow: hidden;\n",
       "  text-align: left;\n",
       "  /* unfitted */\n",
       "  background-color: var(--sklearn-color-unfitted-level-0);\n",
       "}\n",
       "\n",
       "#sk-container-id-2 div.sk-toggleable__content.fitted {\n",
       "  /* fitted */\n",
       "  background-color: var(--sklearn-color-fitted-level-0);\n",
       "}\n",
       "\n",
       "#sk-container-id-2 div.sk-toggleable__content pre {\n",
       "  margin: 0.2em;\n",
       "  border-radius: 0.25em;\n",
       "  color: var(--sklearn-color-text);\n",
       "  /* unfitted */\n",
       "  background-color: var(--sklearn-color-unfitted-level-0);\n",
       "}\n",
       "\n",
       "#sk-container-id-2 div.sk-toggleable__content.fitted pre {\n",
       "  /* unfitted */\n",
       "  background-color: var(--sklearn-color-fitted-level-0);\n",
       "}\n",
       "\n",
       "#sk-container-id-2 input.sk-toggleable__control:checked~div.sk-toggleable__content {\n",
       "  /* Expand drop-down */\n",
       "  max-height: 200px;\n",
       "  max-width: 100%;\n",
       "  overflow: auto;\n",
       "}\n",
       "\n",
       "#sk-container-id-2 input.sk-toggleable__control:checked~label.sk-toggleable__label-arrow:before {\n",
       "  content: \"▾\";\n",
       "}\n",
       "\n",
       "/* Pipeline/ColumnTransformer-specific style */\n",
       "\n",
       "#sk-container-id-2 div.sk-label input.sk-toggleable__control:checked~label.sk-toggleable__label {\n",
       "  color: var(--sklearn-color-text);\n",
       "  background-color: var(--sklearn-color-unfitted-level-2);\n",
       "}\n",
       "\n",
       "#sk-container-id-2 div.sk-label.fitted input.sk-toggleable__control:checked~label.sk-toggleable__label {\n",
       "  background-color: var(--sklearn-color-fitted-level-2);\n",
       "}\n",
       "\n",
       "/* Estimator-specific style */\n",
       "\n",
       "/* Colorize estimator box */\n",
       "#sk-container-id-2 div.sk-estimator input.sk-toggleable__control:checked~label.sk-toggleable__label {\n",
       "  /* unfitted */\n",
       "  background-color: var(--sklearn-color-unfitted-level-2);\n",
       "}\n",
       "\n",
       "#sk-container-id-2 div.sk-estimator.fitted input.sk-toggleable__control:checked~label.sk-toggleable__label {\n",
       "  /* fitted */\n",
       "  background-color: var(--sklearn-color-fitted-level-2);\n",
       "}\n",
       "\n",
       "#sk-container-id-2 div.sk-label label.sk-toggleable__label,\n",
       "#sk-container-id-2 div.sk-label label {\n",
       "  /* The background is the default theme color */\n",
       "  color: var(--sklearn-color-text-on-default-background);\n",
       "}\n",
       "\n",
       "/* On hover, darken the color of the background */\n",
       "#sk-container-id-2 div.sk-label:hover label.sk-toggleable__label {\n",
       "  color: var(--sklearn-color-text);\n",
       "  background-color: var(--sklearn-color-unfitted-level-2);\n",
       "}\n",
       "\n",
       "/* Label box, darken color on hover, fitted */\n",
       "#sk-container-id-2 div.sk-label.fitted:hover label.sk-toggleable__label.fitted {\n",
       "  color: var(--sklearn-color-text);\n",
       "  background-color: var(--sklearn-color-fitted-level-2);\n",
       "}\n",
       "\n",
       "/* Estimator label */\n",
       "\n",
       "#sk-container-id-2 div.sk-label label {\n",
       "  font-family: monospace;\n",
       "  font-weight: bold;\n",
       "  display: inline-block;\n",
       "  line-height: 1.2em;\n",
       "}\n",
       "\n",
       "#sk-container-id-2 div.sk-label-container {\n",
       "  text-align: center;\n",
       "}\n",
       "\n",
       "/* Estimator-specific */\n",
       "#sk-container-id-2 div.sk-estimator {\n",
       "  font-family: monospace;\n",
       "  border: 1px dotted var(--sklearn-color-border-box);\n",
       "  border-radius: 0.25em;\n",
       "  box-sizing: border-box;\n",
       "  margin-bottom: 0.5em;\n",
       "  /* unfitted */\n",
       "  background-color: var(--sklearn-color-unfitted-level-0);\n",
       "}\n",
       "\n",
       "#sk-container-id-2 div.sk-estimator.fitted {\n",
       "  /* fitted */\n",
       "  background-color: var(--sklearn-color-fitted-level-0);\n",
       "}\n",
       "\n",
       "/* on hover */\n",
       "#sk-container-id-2 div.sk-estimator:hover {\n",
       "  /* unfitted */\n",
       "  background-color: var(--sklearn-color-unfitted-level-2);\n",
       "}\n",
       "\n",
       "#sk-container-id-2 div.sk-estimator.fitted:hover {\n",
       "  /* fitted */\n",
       "  background-color: var(--sklearn-color-fitted-level-2);\n",
       "}\n",
       "\n",
       "/* Specification for estimator info (e.g. \"i\" and \"?\") */\n",
       "\n",
       "/* Common style for \"i\" and \"?\" */\n",
       "\n",
       ".sk-estimator-doc-link,\n",
       "a:link.sk-estimator-doc-link,\n",
       "a:visited.sk-estimator-doc-link {\n",
       "  float: right;\n",
       "  font-size: smaller;\n",
       "  line-height: 1em;\n",
       "  font-family: monospace;\n",
       "  background-color: var(--sklearn-color-background);\n",
       "  border-radius: 1em;\n",
       "  height: 1em;\n",
       "  width: 1em;\n",
       "  text-decoration: none !important;\n",
       "  margin-left: 1ex;\n",
       "  /* unfitted */\n",
       "  border: var(--sklearn-color-unfitted-level-1) 1pt solid;\n",
       "  color: var(--sklearn-color-unfitted-level-1);\n",
       "}\n",
       "\n",
       ".sk-estimator-doc-link.fitted,\n",
       "a:link.sk-estimator-doc-link.fitted,\n",
       "a:visited.sk-estimator-doc-link.fitted {\n",
       "  /* fitted */\n",
       "  border: var(--sklearn-color-fitted-level-1) 1pt solid;\n",
       "  color: var(--sklearn-color-fitted-level-1);\n",
       "}\n",
       "\n",
       "/* On hover */\n",
       "div.sk-estimator:hover .sk-estimator-doc-link:hover,\n",
       ".sk-estimator-doc-link:hover,\n",
       "div.sk-label-container:hover .sk-estimator-doc-link:hover,\n",
       ".sk-estimator-doc-link:hover {\n",
       "  /* unfitted */\n",
       "  background-color: var(--sklearn-color-unfitted-level-3);\n",
       "  color: var(--sklearn-color-background);\n",
       "  text-decoration: none;\n",
       "}\n",
       "\n",
       "div.sk-estimator.fitted:hover .sk-estimator-doc-link.fitted:hover,\n",
       ".sk-estimator-doc-link.fitted:hover,\n",
       "div.sk-label-container:hover .sk-estimator-doc-link.fitted:hover,\n",
       ".sk-estimator-doc-link.fitted:hover {\n",
       "  /* fitted */\n",
       "  background-color: var(--sklearn-color-fitted-level-3);\n",
       "  color: var(--sklearn-color-background);\n",
       "  text-decoration: none;\n",
       "}\n",
       "\n",
       "/* Span, style for the box shown on hovering the info icon */\n",
       ".sk-estimator-doc-link span {\n",
       "  display: none;\n",
       "  z-index: 9999;\n",
       "  position: relative;\n",
       "  font-weight: normal;\n",
       "  right: .2ex;\n",
       "  padding: .5ex;\n",
       "  margin: .5ex;\n",
       "  width: min-content;\n",
       "  min-width: 20ex;\n",
       "  max-width: 50ex;\n",
       "  color: var(--sklearn-color-text);\n",
       "  box-shadow: 2pt 2pt 4pt #999;\n",
       "  /* unfitted */\n",
       "  background: var(--sklearn-color-unfitted-level-0);\n",
       "  border: .5pt solid var(--sklearn-color-unfitted-level-3);\n",
       "}\n",
       "\n",
       ".sk-estimator-doc-link.fitted span {\n",
       "  /* fitted */\n",
       "  background: var(--sklearn-color-fitted-level-0);\n",
       "  border: var(--sklearn-color-fitted-level-3);\n",
       "}\n",
       "\n",
       ".sk-estimator-doc-link:hover span {\n",
       "  display: block;\n",
       "}\n",
       "\n",
       "/* \"?\"-specific style due to the `<a>` HTML tag */\n",
       "\n",
       "#sk-container-id-2 a.estimator_doc_link {\n",
       "  float: right;\n",
       "  font-size: 1rem;\n",
       "  line-height: 1em;\n",
       "  font-family: monospace;\n",
       "  background-color: var(--sklearn-color-background);\n",
       "  border-radius: 1rem;\n",
       "  height: 1rem;\n",
       "  width: 1rem;\n",
       "  text-decoration: none;\n",
       "  /* unfitted */\n",
       "  color: var(--sklearn-color-unfitted-level-1);\n",
       "  border: var(--sklearn-color-unfitted-level-1) 1pt solid;\n",
       "}\n",
       "\n",
       "#sk-container-id-2 a.estimator_doc_link.fitted {\n",
       "  /* fitted */\n",
       "  border: var(--sklearn-color-fitted-level-1) 1pt solid;\n",
       "  color: var(--sklearn-color-fitted-level-1);\n",
       "}\n",
       "\n",
       "/* On hover */\n",
       "#sk-container-id-2 a.estimator_doc_link:hover {\n",
       "  /* unfitted */\n",
       "  background-color: var(--sklearn-color-unfitted-level-3);\n",
       "  color: var(--sklearn-color-background);\n",
       "  text-decoration: none;\n",
       "}\n",
       "\n",
       "#sk-container-id-2 a.estimator_doc_link.fitted:hover {\n",
       "  /* fitted */\n",
       "  background-color: var(--sklearn-color-fitted-level-3);\n",
       "}\n",
       "</style><div id=\"sk-container-id-2\" class=\"sk-top-container\"><div class=\"sk-text-repr-fallback\"><pre>DummyRegressor()</pre><b>In a Jupyter environment, please rerun this cell to show the HTML representation or trust the notebook. <br />On GitHub, the HTML representation is unable to render, please try loading this page with nbviewer.org.</b></div><div class=\"sk-container\" hidden><div class=\"sk-item\"><div class=\"sk-estimator fitted sk-toggleable\"><input class=\"sk-toggleable__control sk-hidden--visually\" id=\"sk-estimator-id-2\" type=\"checkbox\" checked><label for=\"sk-estimator-id-2\" class=\"sk-toggleable__label fitted sk-toggleable__label-arrow fitted\">&nbsp;&nbsp;DummyRegressor<a class=\"sk-estimator-doc-link fitted\" rel=\"noreferrer\" target=\"_blank\" href=\"https://scikit-learn.org/1.5/modules/generated/sklearn.dummy.DummyRegressor.html\">?<span>Documentation for DummyRegressor</span></a><span class=\"sk-estimator-doc-link fitted\">i<span>Fitted</span></span></label><div class=\"sk-toggleable__content fitted\"><pre>DummyRegressor()</pre></div> </div></div></div></div>"
      ],
      "text/plain": [
       "DummyRegressor()"
      ]
     },
     "execution_count": 239,
     "metadata": {},
     "output_type": "execute_result"
    }
   ],
   "source": [
    "# Fit the model on the training dataset\n",
    "dummy.fit(X_train, y_train)"
   ]
  },
  {
   "cell_type": "markdown",
   "metadata": {
    "id": "q43YtqpdeniY"
   },
   "source": [
    "### J.4 Model Technical Performance\n",
    "\n",
    "> Provide some explanations on model performance\n"
   ]
  },
  {
   "cell_type": "code",
   "execution_count": 240,
   "metadata": {
    "id": "x1Q3oxoNhez5"
   },
   "outputs": [],
   "source": [
    "# Predictions on validation dataset\n",
    "y_val_pred = dummy.predict(X_val)"
   ]
  },
  {
   "cell_type": "code",
   "execution_count": 241,
   "metadata": {},
   "outputs": [
    {
     "name": "stdout",
     "output_type": "stream",
     "text": [
      "RMSE: 11.07\n",
      "R2: -0.00\n"
     ]
    }
   ],
   "source": [
    "rmse = mean_squared_error(y_val, y_val_pred, squared=False)\n",
    "r2 = r2_score(y_val, y_val_pred)\n",
    "\n",
    "print(f\"RMSE: {rmse:.2f}\")\n",
    "print(f\"R2: {r2:.2f}\")"
   ]
  },
  {
   "cell_type": "code",
   "execution_count": 242,
   "metadata": {},
   "outputs": [],
   "source": [
    "# Predictions on testing dataset\n",
    "y_test_pred = dummy.predict(X_test)"
   ]
  },
  {
   "cell_type": "code",
   "execution_count": 243,
   "metadata": {},
   "outputs": [
    {
     "name": "stdout",
     "output_type": "stream",
     "text": [
      "RMSE: 14.83\n",
      "R2: -0.01\n"
     ]
    }
   ],
   "source": [
    "rmse = mean_squared_error(y_test, y_test_pred, squared=False)\n",
    "r2 = r2_score(y_test, y_test_pred)\n",
    "\n",
    "print(f\"RMSE: {rmse:.2f}\")\n",
    "print(f\"R2: {r2:.2f}\")"
   ]
  },
  {
   "cell_type": "code",
   "execution_count": 244,
   "metadata": {
    "id": "_YbQldshHk_3"
   },
   "outputs": [],
   "source": [
    "model_performance_explanations = \"\"\"Since this is a baseline model, the RMSE serves as a benchmark that more advanced models must surpass to demonstrate predictive value. An observed negative R² score indicates that the baseline model explains the variance in the data worse than a simple mean prediction, highlighting its limited contribution. Therefore, any model that achieves a positive R² and a lower RMSE than the baseline can be considered to provide meaningful improvements.\n",
    "\"\"\""
   ]
  },
  {
   "cell_type": "code",
   "execution_count": 245,
   "metadata": {
    "id": "-MkLnLzVHlDO"
   },
   "outputs": [
    {
     "data": {
      "text/html": [
       "<p style=\"color:grey\">model_performance_explanations</p><h3 font-size: 3em>Since this is a baseline model, the RMSE serves as a benchmark that more advanced models must surpass to demonstrate predictive value. An observed negative R² score indicates that the baseline model explains the variance in the data worse than a simple mean prediction, highlighting its limited contribution. Therefore, any model that achieves a positive R² and a lower RMSE than the baseline can be considered to provide meaningful improvements.\n",
       "</h3>"
      ],
      "text/plain": [
       "<IPython.core.display.HTML object>"
      ]
     },
     "metadata": {},
     "output_type": "display_data"
    }
   ],
   "source": [
    "# Do not modify this code\n",
    "print_tile(size=\"h3\", key='model_performance_explanations', value=model_performance_explanations)"
   ]
  },
  {
   "cell_type": "markdown",
   "metadata": {
    "id": "W1HgZMPcmtu7"
   },
   "source": [
    "### J.5 Business Impact from Current Model Performance\n",
    "\n",
    "> Provide some analysis on the model impacts from the business point of view\n"
   ]
  },
  {
   "cell_type": "code",
   "execution_count": 246,
   "metadata": {
    "id": "7bcCHiP-Hozj"
   },
   "outputs": [],
   "source": [
    "business_impacts_explanations = \"\"\"This baseline model demonstrates negligible predictive capability, and its use in operational decision-making could result in substantial adverse consequences from a business standpoint due to its insufficient forecasting accuracy.\n",
    "\"\"\""
   ]
  },
  {
   "cell_type": "code",
   "execution_count": 247,
   "metadata": {
    "id": "RQ3lJGAnHo3O"
   },
   "outputs": [
    {
     "data": {
      "text/html": [
       "<p style=\"color:grey\">business_impacts_explanations</p><h3 font-size: 3em>This baseline model demonstrates negligible predictive capability, and its use in operational decision-making could result in substantial adverse consequences from a business standpoint due to its insufficient forecasting accuracy.\n",
       "</h3>"
      ],
      "text/plain": [
       "<IPython.core.display.HTML object>"
      ]
     },
     "metadata": {},
     "output_type": "display_data"
    }
   ],
   "source": [
    "# Do not modify this code\n",
    "print_tile(size=\"h3\", key='business_impacts_explanations', value=business_impacts_explanations)"
   ]
  },
  {
   "cell_type": "markdown",
   "metadata": {
    "id": "mp1Ie9o8nDl1"
   },
   "source": [
    "## H. Project Outcomes"
   ]
  },
  {
   "cell_type": "code",
   "execution_count": 248,
   "metadata": {
    "id": "iFF8wsz6HteA"
   },
   "outputs": [],
   "source": [
    "experiment_results_explanations = \"\"\"In subsequent experiments, models such as Linear Regression, Random Forest and ensemble-based methods will be explored. These models are selected for their ability to capture complex relationships and manage multicollinearity more effectively than the baseline. Where applicable, feature importance techniques will also be employed to assess and potentially enhance model performance through feature selection. These models are expected to outperform the baseline model, providing more accurate and reliable predictions of cumulative precipitation.\n",
    "\"\"\""
   ]
  },
  {
   "cell_type": "code",
   "execution_count": 249,
   "metadata": {
    "id": "QpWzEhX2HthW"
   },
   "outputs": [
    {
     "data": {
      "text/html": [
       "<p style=\"color:grey\">experiment_results_explanations</p><h2 font-size: 3em>In subsequent experiments, models such as Linear Regression, Random Forest and ensemble-based methods will be explored. These models are selected for their ability to capture complex relationships and manage multicollinearity more effectively than the baseline. Where applicable, feature importance techniques will also be employed to assess and potentially enhance model performance through feature selection. These models are expected to outperform the baseline model, providing more accurate and reliable predictions of cumulative precipitation.\n",
       "</h2>"
      ],
      "text/plain": [
       "<IPython.core.display.HTML object>"
      ]
     },
     "metadata": {},
     "output_type": "display_data"
    }
   ],
   "source": [
    "# Do not modify this code\n",
    "print_tile(size=\"h2\", key='experiment_results_explanations', value=experiment_results_explanations)"
   ]
  }
 ],
 "metadata": {
  "colab": {
   "provenance": [
    {
     "file_id": "13MHsQlFmfLuY1rWjvW73WSaDUaRPENW4",
     "timestamp": 1680399055727
    }
   ],
   "toc_visible": true
  },
  "kernelspec": {
   "display_name": "Python 3 (ipykernel)",
   "language": "python",
   "name": "python3"
  },
  "language_info": {
   "codemirror_mode": {
    "name": "ipython",
    "version": 3
   },
   "file_extension": ".py",
   "mimetype": "text/x-python",
   "name": "python",
   "nbconvert_exporter": "python",
   "pygments_lexer": "ipython3",
   "version": "3.12.4"
  }
 },
 "nbformat": 4,
 "nbformat_minor": 4
}
